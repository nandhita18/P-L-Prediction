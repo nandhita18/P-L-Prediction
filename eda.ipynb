{
 "cells": [
  {
   "cell_type": "code",
   "execution_count": 5,
   "id": "35855f81",
   "metadata": {},
   "outputs": [],
   "source": [
    "%run preprocessing.py"
   ]
  },
  {
   "cell_type": "markdown",
   "id": "6545dfe8",
   "metadata": {},
   "source": [
    "## EDA"
   ]
  },
  {
   "cell_type": "code",
   "execution_count": 6,
   "id": "0accca2e",
   "metadata": {},
   "outputs": [
    {
     "data": {
      "application/vnd.plotly.v1+json": {
       "config": {
        "plotlyServerURL": "https://plot.ly"
       },
       "data": [
        {
         "domain": {
          "x": [
           0,
           1
          ],
          "y": [
           0,
           1
          ]
         },
         "hole": 0.5,
         "hovertemplate": "BUSINESS GROUP=%{label}<br>C_Revenue=%{value}<extra></extra>",
         "labels": [
          "ASP",
          "ASD",
          "NET",
          "SWB",
          "SNS",
          "CPB",
          "PHW",
          "CET",
          "COB",
          "AMD",
          "SEC",
          "IDC",
          "SBG",
          "DPG",
          "HME"
         ],
         "legendgroup": "",
         "name": "",
         "showlegend": true,
         "type": "pie",
         "values": [
          2350948580363.99,
          1376007030418.71,
          1254059844386.48,
          1136912444587.19,
          1024974584962.8501,
          948909540469.74,
          862296500823.02,
          838239219317.78,
          796277785550.3201,
          761574715732.03,
          753798441279.3201,
          506665462544.61,
          427627845893.9,
          366230231521.64,
          185757533434.32
         ]
        }
       ],
       "layout": {
        "legend": {
         "tracegroupgap": 0
        },
        "piecolorway": [
         "rgb(103,0,31)",
         "rgb(178,24,43)",
         "rgb(214,96,77)",
         "rgb(244,165,130)",
         "rgb(253,219,199)",
         "rgb(247,247,247)",
         "rgb(209,229,240)",
         "rgb(146,197,222)",
         "rgb(67,147,195)",
         "rgb(33,102,172)",
         "rgb(5,48,97)"
        ],
        "template": {
         "data": {
          "bar": [
           {
            "error_x": {
             "color": "#2a3f5f"
            },
            "error_y": {
             "color": "#2a3f5f"
            },
            "marker": {
             "line": {
              "color": "#E5ECF6",
              "width": 0.5
             },
             "pattern": {
              "fillmode": "overlay",
              "size": 10,
              "solidity": 0.2
             }
            },
            "type": "bar"
           }
          ],
          "barpolar": [
           {
            "marker": {
             "line": {
              "color": "#E5ECF6",
              "width": 0.5
             },
             "pattern": {
              "fillmode": "overlay",
              "size": 10,
              "solidity": 0.2
             }
            },
            "type": "barpolar"
           }
          ],
          "carpet": [
           {
            "aaxis": {
             "endlinecolor": "#2a3f5f",
             "gridcolor": "white",
             "linecolor": "white",
             "minorgridcolor": "white",
             "startlinecolor": "#2a3f5f"
            },
            "baxis": {
             "endlinecolor": "#2a3f5f",
             "gridcolor": "white",
             "linecolor": "white",
             "minorgridcolor": "white",
             "startlinecolor": "#2a3f5f"
            },
            "type": "carpet"
           }
          ],
          "choropleth": [
           {
            "colorbar": {
             "outlinewidth": 0,
             "ticks": ""
            },
            "type": "choropleth"
           }
          ],
          "contour": [
           {
            "colorbar": {
             "outlinewidth": 0,
             "ticks": ""
            },
            "colorscale": [
             [
              0,
              "#0d0887"
             ],
             [
              0.1111111111111111,
              "#46039f"
             ],
             [
              0.2222222222222222,
              "#7201a8"
             ],
             [
              0.3333333333333333,
              "#9c179e"
             ],
             [
              0.4444444444444444,
              "#bd3786"
             ],
             [
              0.5555555555555556,
              "#d8576b"
             ],
             [
              0.6666666666666666,
              "#ed7953"
             ],
             [
              0.7777777777777778,
              "#fb9f3a"
             ],
             [
              0.8888888888888888,
              "#fdca26"
             ],
             [
              1,
              "#f0f921"
             ]
            ],
            "type": "contour"
           }
          ],
          "contourcarpet": [
           {
            "colorbar": {
             "outlinewidth": 0,
             "ticks": ""
            },
            "type": "contourcarpet"
           }
          ],
          "heatmap": [
           {
            "colorbar": {
             "outlinewidth": 0,
             "ticks": ""
            },
            "colorscale": [
             [
              0,
              "#0d0887"
             ],
             [
              0.1111111111111111,
              "#46039f"
             ],
             [
              0.2222222222222222,
              "#7201a8"
             ],
             [
              0.3333333333333333,
              "#9c179e"
             ],
             [
              0.4444444444444444,
              "#bd3786"
             ],
             [
              0.5555555555555556,
              "#d8576b"
             ],
             [
              0.6666666666666666,
              "#ed7953"
             ],
             [
              0.7777777777777778,
              "#fb9f3a"
             ],
             [
              0.8888888888888888,
              "#fdca26"
             ],
             [
              1,
              "#f0f921"
             ]
            ],
            "type": "heatmap"
           }
          ],
          "heatmapgl": [
           {
            "colorbar": {
             "outlinewidth": 0,
             "ticks": ""
            },
            "colorscale": [
             [
              0,
              "#0d0887"
             ],
             [
              0.1111111111111111,
              "#46039f"
             ],
             [
              0.2222222222222222,
              "#7201a8"
             ],
             [
              0.3333333333333333,
              "#9c179e"
             ],
             [
              0.4444444444444444,
              "#bd3786"
             ],
             [
              0.5555555555555556,
              "#d8576b"
             ],
             [
              0.6666666666666666,
              "#ed7953"
             ],
             [
              0.7777777777777778,
              "#fb9f3a"
             ],
             [
              0.8888888888888888,
              "#fdca26"
             ],
             [
              1,
              "#f0f921"
             ]
            ],
            "type": "heatmapgl"
           }
          ],
          "histogram": [
           {
            "marker": {
             "pattern": {
              "fillmode": "overlay",
              "size": 10,
              "solidity": 0.2
             }
            },
            "type": "histogram"
           }
          ],
          "histogram2d": [
           {
            "colorbar": {
             "outlinewidth": 0,
             "ticks": ""
            },
            "colorscale": [
             [
              0,
              "#0d0887"
             ],
             [
              0.1111111111111111,
              "#46039f"
             ],
             [
              0.2222222222222222,
              "#7201a8"
             ],
             [
              0.3333333333333333,
              "#9c179e"
             ],
             [
              0.4444444444444444,
              "#bd3786"
             ],
             [
              0.5555555555555556,
              "#d8576b"
             ],
             [
              0.6666666666666666,
              "#ed7953"
             ],
             [
              0.7777777777777778,
              "#fb9f3a"
             ],
             [
              0.8888888888888888,
              "#fdca26"
             ],
             [
              1,
              "#f0f921"
             ]
            ],
            "type": "histogram2d"
           }
          ],
          "histogram2dcontour": [
           {
            "colorbar": {
             "outlinewidth": 0,
             "ticks": ""
            },
            "colorscale": [
             [
              0,
              "#0d0887"
             ],
             [
              0.1111111111111111,
              "#46039f"
             ],
             [
              0.2222222222222222,
              "#7201a8"
             ],
             [
              0.3333333333333333,
              "#9c179e"
             ],
             [
              0.4444444444444444,
              "#bd3786"
             ],
             [
              0.5555555555555556,
              "#d8576b"
             ],
             [
              0.6666666666666666,
              "#ed7953"
             ],
             [
              0.7777777777777778,
              "#fb9f3a"
             ],
             [
              0.8888888888888888,
              "#fdca26"
             ],
             [
              1,
              "#f0f921"
             ]
            ],
            "type": "histogram2dcontour"
           }
          ],
          "mesh3d": [
           {
            "colorbar": {
             "outlinewidth": 0,
             "ticks": ""
            },
            "type": "mesh3d"
           }
          ],
          "parcoords": [
           {
            "line": {
             "colorbar": {
              "outlinewidth": 0,
              "ticks": ""
             }
            },
            "type": "parcoords"
           }
          ],
          "pie": [
           {
            "automargin": true,
            "type": "pie"
           }
          ],
          "scatter": [
           {
            "fillpattern": {
             "fillmode": "overlay",
             "size": 10,
             "solidity": 0.2
            },
            "type": "scatter"
           }
          ],
          "scatter3d": [
           {
            "line": {
             "colorbar": {
              "outlinewidth": 0,
              "ticks": ""
             }
            },
            "marker": {
             "colorbar": {
              "outlinewidth": 0,
              "ticks": ""
             }
            },
            "type": "scatter3d"
           }
          ],
          "scattercarpet": [
           {
            "marker": {
             "colorbar": {
              "outlinewidth": 0,
              "ticks": ""
             }
            },
            "type": "scattercarpet"
           }
          ],
          "scattergeo": [
           {
            "marker": {
             "colorbar": {
              "outlinewidth": 0,
              "ticks": ""
             }
            },
            "type": "scattergeo"
           }
          ],
          "scattergl": [
           {
            "marker": {
             "colorbar": {
              "outlinewidth": 0,
              "ticks": ""
             }
            },
            "type": "scattergl"
           }
          ],
          "scattermapbox": [
           {
            "marker": {
             "colorbar": {
              "outlinewidth": 0,
              "ticks": ""
             }
            },
            "type": "scattermapbox"
           }
          ],
          "scatterpolar": [
           {
            "marker": {
             "colorbar": {
              "outlinewidth": 0,
              "ticks": ""
             }
            },
            "type": "scatterpolar"
           }
          ],
          "scatterpolargl": [
           {
            "marker": {
             "colorbar": {
              "outlinewidth": 0,
              "ticks": ""
             }
            },
            "type": "scatterpolargl"
           }
          ],
          "scatterternary": [
           {
            "marker": {
             "colorbar": {
              "outlinewidth": 0,
              "ticks": ""
             }
            },
            "type": "scatterternary"
           }
          ],
          "surface": [
           {
            "colorbar": {
             "outlinewidth": 0,
             "ticks": ""
            },
            "colorscale": [
             [
              0,
              "#0d0887"
             ],
             [
              0.1111111111111111,
              "#46039f"
             ],
             [
              0.2222222222222222,
              "#7201a8"
             ],
             [
              0.3333333333333333,
              "#9c179e"
             ],
             [
              0.4444444444444444,
              "#bd3786"
             ],
             [
              0.5555555555555556,
              "#d8576b"
             ],
             [
              0.6666666666666666,
              "#ed7953"
             ],
             [
              0.7777777777777778,
              "#fb9f3a"
             ],
             [
              0.8888888888888888,
              "#fdca26"
             ],
             [
              1,
              "#f0f921"
             ]
            ],
            "type": "surface"
           }
          ],
          "table": [
           {
            "cells": {
             "fill": {
              "color": "#EBF0F8"
             },
             "line": {
              "color": "white"
             }
            },
            "header": {
             "fill": {
              "color": "#C8D4E3"
             },
             "line": {
              "color": "white"
             }
            },
            "type": "table"
           }
          ]
         },
         "layout": {
          "annotationdefaults": {
           "arrowcolor": "#2a3f5f",
           "arrowhead": 0,
           "arrowwidth": 1
          },
          "autotypenumbers": "strict",
          "coloraxis": {
           "colorbar": {
            "outlinewidth": 0,
            "ticks": ""
           }
          },
          "colorscale": {
           "diverging": [
            [
             0,
             "#8e0152"
            ],
            [
             0.1,
             "#c51b7d"
            ],
            [
             0.2,
             "#de77ae"
            ],
            [
             0.3,
             "#f1b6da"
            ],
            [
             0.4,
             "#fde0ef"
            ],
            [
             0.5,
             "#f7f7f7"
            ],
            [
             0.6,
             "#e6f5d0"
            ],
            [
             0.7,
             "#b8e186"
            ],
            [
             0.8,
             "#7fbc41"
            ],
            [
             0.9,
             "#4d9221"
            ],
            [
             1,
             "#276419"
            ]
           ],
           "sequential": [
            [
             0,
             "#0d0887"
            ],
            [
             0.1111111111111111,
             "#46039f"
            ],
            [
             0.2222222222222222,
             "#7201a8"
            ],
            [
             0.3333333333333333,
             "#9c179e"
            ],
            [
             0.4444444444444444,
             "#bd3786"
            ],
            [
             0.5555555555555556,
             "#d8576b"
            ],
            [
             0.6666666666666666,
             "#ed7953"
            ],
            [
             0.7777777777777778,
             "#fb9f3a"
            ],
            [
             0.8888888888888888,
             "#fdca26"
            ],
            [
             1,
             "#f0f921"
            ]
           ],
           "sequentialminus": [
            [
             0,
             "#0d0887"
            ],
            [
             0.1111111111111111,
             "#46039f"
            ],
            [
             0.2222222222222222,
             "#7201a8"
            ],
            [
             0.3333333333333333,
             "#9c179e"
            ],
            [
             0.4444444444444444,
             "#bd3786"
            ],
            [
             0.5555555555555556,
             "#d8576b"
            ],
            [
             0.6666666666666666,
             "#ed7953"
            ],
            [
             0.7777777777777778,
             "#fb9f3a"
            ],
            [
             0.8888888888888888,
             "#fdca26"
            ],
            [
             1,
             "#f0f921"
            ]
           ]
          },
          "colorway": [
           "#636efa",
           "#EF553B",
           "#00cc96",
           "#ab63fa",
           "#FFA15A",
           "#19d3f3",
           "#FF6692",
           "#B6E880",
           "#FF97FF",
           "#FECB52"
          ],
          "font": {
           "color": "#2a3f5f"
          },
          "geo": {
           "bgcolor": "white",
           "lakecolor": "white",
           "landcolor": "#E5ECF6",
           "showlakes": true,
           "showland": true,
           "subunitcolor": "white"
          },
          "hoverlabel": {
           "align": "left"
          },
          "hovermode": "closest",
          "mapbox": {
           "style": "light"
          },
          "paper_bgcolor": "white",
          "plot_bgcolor": "#E5ECF6",
          "polar": {
           "angularaxis": {
            "gridcolor": "white",
            "linecolor": "white",
            "ticks": ""
           },
           "bgcolor": "#E5ECF6",
           "radialaxis": {
            "gridcolor": "white",
            "linecolor": "white",
            "ticks": ""
           }
          },
          "scene": {
           "xaxis": {
            "backgroundcolor": "#E5ECF6",
            "gridcolor": "white",
            "gridwidth": 2,
            "linecolor": "white",
            "showbackground": true,
            "ticks": "",
            "zerolinecolor": "white"
           },
           "yaxis": {
            "backgroundcolor": "#E5ECF6",
            "gridcolor": "white",
            "gridwidth": 2,
            "linecolor": "white",
            "showbackground": true,
            "ticks": "",
            "zerolinecolor": "white"
           },
           "zaxis": {
            "backgroundcolor": "#E5ECF6",
            "gridcolor": "white",
            "gridwidth": 2,
            "linecolor": "white",
            "showbackground": true,
            "ticks": "",
            "zerolinecolor": "white"
           }
          },
          "shapedefaults": {
           "line": {
            "color": "#2a3f5f"
           }
          },
          "ternary": {
           "aaxis": {
            "gridcolor": "white",
            "linecolor": "white",
            "ticks": ""
           },
           "baxis": {
            "gridcolor": "white",
            "linecolor": "white",
            "ticks": ""
           },
           "bgcolor": "#E5ECF6",
           "caxis": {
            "gridcolor": "white",
            "linecolor": "white",
            "ticks": ""
           }
          },
          "title": {
           "x": 0.05
          },
          "xaxis": {
           "automargin": true,
           "gridcolor": "white",
           "linecolor": "white",
           "ticks": "",
           "title": {
            "standoff": 15
           },
           "zerolinecolor": "white",
           "zerolinewidth": 2
          },
          "yaxis": {
           "automargin": true,
           "gridcolor": "white",
           "linecolor": "white",
           "ticks": "",
           "title": {
            "standoff": 15
           },
           "zerolinecolor": "white",
           "zerolinewidth": 2
          }
         }
        },
        "title": {
         "text": "Top 15 Businesses by Revenue"
        }
       }
      }
     },
     "metadata": {},
     "output_type": "display_data"
    }
   ],
   "source": [
    "#Top 15 business with high revenue yeild\n",
    "\n",
    "business_revenue = df.groupby('BUSINESS GROUP')['C_Revenue'].sum().reset_index()\n",
    "\n",
    "#sort by revenue in descending order and select top 15 businesses\n",
    "top_15_businesses = business_revenue.sort_values(by='C_Revenue', ascending=False).head(15)\n",
    "\n",
    "#plotting as a pie chart\n",
    "pio.renderers.default = \"vscode\"\n",
    "fig = px.pie(\n",
    "    top_15_businesses,\n",
    "    values='C_Revenue',\n",
    "    names='BUSINESS GROUP',\n",
    "    title='Top 15 Businesses by Revenue',\n",
    "    hole=0.5,  \n",
    "    color_discrete_sequence=px.colors.sequential.RdBu  \n",
    ")\n",
    "fig.show()"
   ]
  },
  {
   "cell_type": "markdown",
   "id": "10468052",
   "metadata": {},
   "source": [
    "**Insight:** ASP is the major contributor by a large margin and is followed by ASD and NET businesses. "
   ]
  },
  {
   "cell_type": "code",
   "execution_count": 7,
   "id": "3d7facdb",
   "metadata": {},
   "outputs": [
    {
     "data": {
      "application/vnd.plotly.v1+json": {
       "config": {
        "plotlyServerURL": "https://plot.ly"
       },
       "data": [
        {
         "domain": {
          "x": [
           0,
           1
          ],
          "y": [
           0,
           1
          ]
         },
         "hovertemplate": "BUSINESS GROUP=%{label}<br>C_Revenue=%{value}<extra></extra>",
         "labels": [
          "ASP",
          "ASD",
          "NET",
          "SWB",
          "SNS",
          "CPB",
          "PHW",
          "CET",
          "COB"
         ],
         "legendgroup": "",
         "name": "",
         "showlegend": true,
         "type": "pie",
         "values": [
          2350948580363.99,
          1376007030418.71,
          1254059844386.48,
          1136912444587.19,
          1024974584962.8501,
          948909540469.74,
          862296500823.02,
          838239219317.78,
          796277785550.3201
         ]
        }
       ],
       "layout": {
        "legend": {
         "tracegroupgap": 0
        },
        "piecolorway": [
         "rgb(103,0,31)",
         "rgb(178,24,43)",
         "rgb(214,96,77)",
         "rgb(244,165,130)",
         "rgb(253,219,199)",
         "rgb(247,247,247)",
         "rgb(209,229,240)",
         "rgb(146,197,222)",
         "rgb(67,147,195)",
         "rgb(33,102,172)",
         "rgb(5,48,97)"
        ],
        "template": {
         "data": {
          "bar": [
           {
            "error_x": {
             "color": "#2a3f5f"
            },
            "error_y": {
             "color": "#2a3f5f"
            },
            "marker": {
             "line": {
              "color": "#E5ECF6",
              "width": 0.5
             },
             "pattern": {
              "fillmode": "overlay",
              "size": 10,
              "solidity": 0.2
             }
            },
            "type": "bar"
           }
          ],
          "barpolar": [
           {
            "marker": {
             "line": {
              "color": "#E5ECF6",
              "width": 0.5
             },
             "pattern": {
              "fillmode": "overlay",
              "size": 10,
              "solidity": 0.2
             }
            },
            "type": "barpolar"
           }
          ],
          "carpet": [
           {
            "aaxis": {
             "endlinecolor": "#2a3f5f",
             "gridcolor": "white",
             "linecolor": "white",
             "minorgridcolor": "white",
             "startlinecolor": "#2a3f5f"
            },
            "baxis": {
             "endlinecolor": "#2a3f5f",
             "gridcolor": "white",
             "linecolor": "white",
             "minorgridcolor": "white",
             "startlinecolor": "#2a3f5f"
            },
            "type": "carpet"
           }
          ],
          "choropleth": [
           {
            "colorbar": {
             "outlinewidth": 0,
             "ticks": ""
            },
            "type": "choropleth"
           }
          ],
          "contour": [
           {
            "colorbar": {
             "outlinewidth": 0,
             "ticks": ""
            },
            "colorscale": [
             [
              0,
              "#0d0887"
             ],
             [
              0.1111111111111111,
              "#46039f"
             ],
             [
              0.2222222222222222,
              "#7201a8"
             ],
             [
              0.3333333333333333,
              "#9c179e"
             ],
             [
              0.4444444444444444,
              "#bd3786"
             ],
             [
              0.5555555555555556,
              "#d8576b"
             ],
             [
              0.6666666666666666,
              "#ed7953"
             ],
             [
              0.7777777777777778,
              "#fb9f3a"
             ],
             [
              0.8888888888888888,
              "#fdca26"
             ],
             [
              1,
              "#f0f921"
             ]
            ],
            "type": "contour"
           }
          ],
          "contourcarpet": [
           {
            "colorbar": {
             "outlinewidth": 0,
             "ticks": ""
            },
            "type": "contourcarpet"
           }
          ],
          "heatmap": [
           {
            "colorbar": {
             "outlinewidth": 0,
             "ticks": ""
            },
            "colorscale": [
             [
              0,
              "#0d0887"
             ],
             [
              0.1111111111111111,
              "#46039f"
             ],
             [
              0.2222222222222222,
              "#7201a8"
             ],
             [
              0.3333333333333333,
              "#9c179e"
             ],
             [
              0.4444444444444444,
              "#bd3786"
             ],
             [
              0.5555555555555556,
              "#d8576b"
             ],
             [
              0.6666666666666666,
              "#ed7953"
             ],
             [
              0.7777777777777778,
              "#fb9f3a"
             ],
             [
              0.8888888888888888,
              "#fdca26"
             ],
             [
              1,
              "#f0f921"
             ]
            ],
            "type": "heatmap"
           }
          ],
          "heatmapgl": [
           {
            "colorbar": {
             "outlinewidth": 0,
             "ticks": ""
            },
            "colorscale": [
             [
              0,
              "#0d0887"
             ],
             [
              0.1111111111111111,
              "#46039f"
             ],
             [
              0.2222222222222222,
              "#7201a8"
             ],
             [
              0.3333333333333333,
              "#9c179e"
             ],
             [
              0.4444444444444444,
              "#bd3786"
             ],
             [
              0.5555555555555556,
              "#d8576b"
             ],
             [
              0.6666666666666666,
              "#ed7953"
             ],
             [
              0.7777777777777778,
              "#fb9f3a"
             ],
             [
              0.8888888888888888,
              "#fdca26"
             ],
             [
              1,
              "#f0f921"
             ]
            ],
            "type": "heatmapgl"
           }
          ],
          "histogram": [
           {
            "marker": {
             "pattern": {
              "fillmode": "overlay",
              "size": 10,
              "solidity": 0.2
             }
            },
            "type": "histogram"
           }
          ],
          "histogram2d": [
           {
            "colorbar": {
             "outlinewidth": 0,
             "ticks": ""
            },
            "colorscale": [
             [
              0,
              "#0d0887"
             ],
             [
              0.1111111111111111,
              "#46039f"
             ],
             [
              0.2222222222222222,
              "#7201a8"
             ],
             [
              0.3333333333333333,
              "#9c179e"
             ],
             [
              0.4444444444444444,
              "#bd3786"
             ],
             [
              0.5555555555555556,
              "#d8576b"
             ],
             [
              0.6666666666666666,
              "#ed7953"
             ],
             [
              0.7777777777777778,
              "#fb9f3a"
             ],
             [
              0.8888888888888888,
              "#fdca26"
             ],
             [
              1,
              "#f0f921"
             ]
            ],
            "type": "histogram2d"
           }
          ],
          "histogram2dcontour": [
           {
            "colorbar": {
             "outlinewidth": 0,
             "ticks": ""
            },
            "colorscale": [
             [
              0,
              "#0d0887"
             ],
             [
              0.1111111111111111,
              "#46039f"
             ],
             [
              0.2222222222222222,
              "#7201a8"
             ],
             [
              0.3333333333333333,
              "#9c179e"
             ],
             [
              0.4444444444444444,
              "#bd3786"
             ],
             [
              0.5555555555555556,
              "#d8576b"
             ],
             [
              0.6666666666666666,
              "#ed7953"
             ],
             [
              0.7777777777777778,
              "#fb9f3a"
             ],
             [
              0.8888888888888888,
              "#fdca26"
             ],
             [
              1,
              "#f0f921"
             ]
            ],
            "type": "histogram2dcontour"
           }
          ],
          "mesh3d": [
           {
            "colorbar": {
             "outlinewidth": 0,
             "ticks": ""
            },
            "type": "mesh3d"
           }
          ],
          "parcoords": [
           {
            "line": {
             "colorbar": {
              "outlinewidth": 0,
              "ticks": ""
             }
            },
            "type": "parcoords"
           }
          ],
          "pie": [
           {
            "automargin": true,
            "type": "pie"
           }
          ],
          "scatter": [
           {
            "fillpattern": {
             "fillmode": "overlay",
             "size": 10,
             "solidity": 0.2
            },
            "type": "scatter"
           }
          ],
          "scatter3d": [
           {
            "line": {
             "colorbar": {
              "outlinewidth": 0,
              "ticks": ""
             }
            },
            "marker": {
             "colorbar": {
              "outlinewidth": 0,
              "ticks": ""
             }
            },
            "type": "scatter3d"
           }
          ],
          "scattercarpet": [
           {
            "marker": {
             "colorbar": {
              "outlinewidth": 0,
              "ticks": ""
             }
            },
            "type": "scattercarpet"
           }
          ],
          "scattergeo": [
           {
            "marker": {
             "colorbar": {
              "outlinewidth": 0,
              "ticks": ""
             }
            },
            "type": "scattergeo"
           }
          ],
          "scattergl": [
           {
            "marker": {
             "colorbar": {
              "outlinewidth": 0,
              "ticks": ""
             }
            },
            "type": "scattergl"
           }
          ],
          "scattermapbox": [
           {
            "marker": {
             "colorbar": {
              "outlinewidth": 0,
              "ticks": ""
             }
            },
            "type": "scattermapbox"
           }
          ],
          "scatterpolar": [
           {
            "marker": {
             "colorbar": {
              "outlinewidth": 0,
              "ticks": ""
             }
            },
            "type": "scatterpolar"
           }
          ],
          "scatterpolargl": [
           {
            "marker": {
             "colorbar": {
              "outlinewidth": 0,
              "ticks": ""
             }
            },
            "type": "scatterpolargl"
           }
          ],
          "scatterternary": [
           {
            "marker": {
             "colorbar": {
              "outlinewidth": 0,
              "ticks": ""
             }
            },
            "type": "scatterternary"
           }
          ],
          "surface": [
           {
            "colorbar": {
             "outlinewidth": 0,
             "ticks": ""
            },
            "colorscale": [
             [
              0,
              "#0d0887"
             ],
             [
              0.1111111111111111,
              "#46039f"
             ],
             [
              0.2222222222222222,
              "#7201a8"
             ],
             [
              0.3333333333333333,
              "#9c179e"
             ],
             [
              0.4444444444444444,
              "#bd3786"
             ],
             [
              0.5555555555555556,
              "#d8576b"
             ],
             [
              0.6666666666666666,
              "#ed7953"
             ],
             [
              0.7777777777777778,
              "#fb9f3a"
             ],
             [
              0.8888888888888888,
              "#fdca26"
             ],
             [
              1,
              "#f0f921"
             ]
            ],
            "type": "surface"
           }
          ],
          "table": [
           {
            "cells": {
             "fill": {
              "color": "#EBF0F8"
             },
             "line": {
              "color": "white"
             }
            },
            "header": {
             "fill": {
              "color": "#C8D4E3"
             },
             "line": {
              "color": "white"
             }
            },
            "type": "table"
           }
          ]
         },
         "layout": {
          "annotationdefaults": {
           "arrowcolor": "#2a3f5f",
           "arrowhead": 0,
           "arrowwidth": 1
          },
          "autotypenumbers": "strict",
          "coloraxis": {
           "colorbar": {
            "outlinewidth": 0,
            "ticks": ""
           }
          },
          "colorscale": {
           "diverging": [
            [
             0,
             "#8e0152"
            ],
            [
             0.1,
             "#c51b7d"
            ],
            [
             0.2,
             "#de77ae"
            ],
            [
             0.3,
             "#f1b6da"
            ],
            [
             0.4,
             "#fde0ef"
            ],
            [
             0.5,
             "#f7f7f7"
            ],
            [
             0.6,
             "#e6f5d0"
            ],
            [
             0.7,
             "#b8e186"
            ],
            [
             0.8,
             "#7fbc41"
            ],
            [
             0.9,
             "#4d9221"
            ],
            [
             1,
             "#276419"
            ]
           ],
           "sequential": [
            [
             0,
             "#0d0887"
            ],
            [
             0.1111111111111111,
             "#46039f"
            ],
            [
             0.2222222222222222,
             "#7201a8"
            ],
            [
             0.3333333333333333,
             "#9c179e"
            ],
            [
             0.4444444444444444,
             "#bd3786"
            ],
            [
             0.5555555555555556,
             "#d8576b"
            ],
            [
             0.6666666666666666,
             "#ed7953"
            ],
            [
             0.7777777777777778,
             "#fb9f3a"
            ],
            [
             0.8888888888888888,
             "#fdca26"
            ],
            [
             1,
             "#f0f921"
            ]
           ],
           "sequentialminus": [
            [
             0,
             "#0d0887"
            ],
            [
             0.1111111111111111,
             "#46039f"
            ],
            [
             0.2222222222222222,
             "#7201a8"
            ],
            [
             0.3333333333333333,
             "#9c179e"
            ],
            [
             0.4444444444444444,
             "#bd3786"
            ],
            [
             0.5555555555555556,
             "#d8576b"
            ],
            [
             0.6666666666666666,
             "#ed7953"
            ],
            [
             0.7777777777777778,
             "#fb9f3a"
            ],
            [
             0.8888888888888888,
             "#fdca26"
            ],
            [
             1,
             "#f0f921"
            ]
           ]
          },
          "colorway": [
           "#636efa",
           "#EF553B",
           "#00cc96",
           "#ab63fa",
           "#FFA15A",
           "#19d3f3",
           "#FF6692",
           "#B6E880",
           "#FF97FF",
           "#FECB52"
          ],
          "font": {
           "color": "#2a3f5f"
          },
          "geo": {
           "bgcolor": "white",
           "lakecolor": "white",
           "landcolor": "#E5ECF6",
           "showlakes": true,
           "showland": true,
           "subunitcolor": "white"
          },
          "hoverlabel": {
           "align": "left"
          },
          "hovermode": "closest",
          "mapbox": {
           "style": "light"
          },
          "paper_bgcolor": "white",
          "plot_bgcolor": "#E5ECF6",
          "polar": {
           "angularaxis": {
            "gridcolor": "white",
            "linecolor": "white",
            "ticks": ""
           },
           "bgcolor": "#E5ECF6",
           "radialaxis": {
            "gridcolor": "white",
            "linecolor": "white",
            "ticks": ""
           }
          },
          "scene": {
           "xaxis": {
            "backgroundcolor": "#E5ECF6",
            "gridcolor": "white",
            "gridwidth": 2,
            "linecolor": "white",
            "showbackground": true,
            "ticks": "",
            "zerolinecolor": "white"
           },
           "yaxis": {
            "backgroundcolor": "#E5ECF6",
            "gridcolor": "white",
            "gridwidth": 2,
            "linecolor": "white",
            "showbackground": true,
            "ticks": "",
            "zerolinecolor": "white"
           },
           "zaxis": {
            "backgroundcolor": "#E5ECF6",
            "gridcolor": "white",
            "gridwidth": 2,
            "linecolor": "white",
            "showbackground": true,
            "ticks": "",
            "zerolinecolor": "white"
           }
          },
          "shapedefaults": {
           "line": {
            "color": "#2a3f5f"
           }
          },
          "ternary": {
           "aaxis": {
            "gridcolor": "white",
            "linecolor": "white",
            "ticks": ""
           },
           "baxis": {
            "gridcolor": "white",
            "linecolor": "white",
            "ticks": ""
           },
           "bgcolor": "#E5ECF6",
           "caxis": {
            "gridcolor": "white",
            "linecolor": "white",
            "ticks": ""
           }
          },
          "title": {
           "x": 0.05
          },
          "xaxis": {
           "automargin": true,
           "gridcolor": "white",
           "linecolor": "white",
           "ticks": "",
           "title": {
            "standoff": 15
           },
           "zerolinecolor": "white",
           "zerolinewidth": 2
          },
          "yaxis": {
           "automargin": true,
           "gridcolor": "white",
           "linecolor": "white",
           "ticks": "",
           "title": {
            "standoff": 15
           },
           "zerolinecolor": "white",
           "zerolinewidth": 2
          }
         }
        },
        "title": {
         "text": "Businesses Contributing to 80% of Revenue"
        }
       }
      }
     },
     "metadata": {},
     "output_type": "display_data"
    }
   ],
   "source": [
    "# Group by BUSINESS GROUP and calculate total revenue\n",
    "business_revenue = df.groupby('BUSINESS GROUP')['C_Revenue'].sum().reset_index()\n",
    "business_revenue = business_revenue.sort_values(by='C_Revenue', ascending=False)\n",
    "\n",
    "# Calculate cumulative revenue and percentage\n",
    "business_revenue['Cumulative_Revenue'] = business_revenue['C_Revenue'].cumsum()\n",
    "business_revenue['Cumulative_Percentage'] = business_revenue['Cumulative_Revenue'] / business_revenue['C_Revenue'].sum() * 100\n",
    "\n",
    "# Filter businesses contributing to 80% of revenue\n",
    "top_contributors = business_revenue[business_revenue['Cumulative_Percentage'] <= 80]\n",
    "\n",
    "# Plot as a pie chart\n",
    "fig = px.pie(\n",
    "    top_contributors,\n",
    "    values='C_Revenue',\n",
    "    names='BUSINESS GROUP',\n",
    "    title='Businesses Contributing to 80% of Revenue',  \n",
    "    color_discrete_sequence=px.colors.sequential.RdBu  \n",
    ")\n",
    "fig.show()\n"
   ]
  },
  {
   "cell_type": "code",
   "execution_count": 8,
   "id": "3373dc09",
   "metadata": {},
   "outputs": [
    {
     "data": {
      "application/vnd.plotly.v1+json": {
       "config": {
        "plotlyServerURL": "https://plot.ly"
       },
       "data": [
        {
         "domain": {
          "x": [
           0,
           1
          ],
          "y": [
           0,
           1
          ]
         },
         "hole": 0.5,
         "hovertemplate": "BUSINESS GROUP=%{label}<br>C_Revenue=%{value}<extra></extra>",
         "labels": [
          "CET",
          "COB",
          "AMD",
          "SEC",
          "IDC",
          "SBG",
          "DPG",
          "HME",
          "LSB",
          "ZDB",
          "CMS",
          "WRH",
          "COR",
          "ECM",
          "COH"
         ],
         "legendgroup": "",
         "name": "",
         "showlegend": true,
         "type": "pie",
         "values": [
          838239219317.78,
          796277785550.3201,
          761574715732.03,
          753798441279.3201,
          506665462544.61,
          427627845893.9,
          366230231521.64,
          185757533434.32,
          146859072973.43,
          135537765459.18001,
          124853356663.96,
          48898612720.14,
          46684511147.17,
          8204465221.5,
          3281786088.6000004
         ]
        }
       ],
       "layout": {
        "legend": {
         "tracegroupgap": 0
        },
        "piecolorway": [
         "rgb(103,0,31)",
         "rgb(178,24,43)",
         "rgb(214,96,77)",
         "rgb(244,165,130)",
         "rgb(253,219,199)",
         "rgb(247,247,247)",
         "rgb(209,229,240)",
         "rgb(146,197,222)",
         "rgb(67,147,195)",
         "rgb(33,102,172)",
         "rgb(5,48,97)"
        ],
        "template": {
         "data": {
          "bar": [
           {
            "error_x": {
             "color": "#2a3f5f"
            },
            "error_y": {
             "color": "#2a3f5f"
            },
            "marker": {
             "line": {
              "color": "#E5ECF6",
              "width": 0.5
             },
             "pattern": {
              "fillmode": "overlay",
              "size": 10,
              "solidity": 0.2
             }
            },
            "type": "bar"
           }
          ],
          "barpolar": [
           {
            "marker": {
             "line": {
              "color": "#E5ECF6",
              "width": 0.5
             },
             "pattern": {
              "fillmode": "overlay",
              "size": 10,
              "solidity": 0.2
             }
            },
            "type": "barpolar"
           }
          ],
          "carpet": [
           {
            "aaxis": {
             "endlinecolor": "#2a3f5f",
             "gridcolor": "white",
             "linecolor": "white",
             "minorgridcolor": "white",
             "startlinecolor": "#2a3f5f"
            },
            "baxis": {
             "endlinecolor": "#2a3f5f",
             "gridcolor": "white",
             "linecolor": "white",
             "minorgridcolor": "white",
             "startlinecolor": "#2a3f5f"
            },
            "type": "carpet"
           }
          ],
          "choropleth": [
           {
            "colorbar": {
             "outlinewidth": 0,
             "ticks": ""
            },
            "type": "choropleth"
           }
          ],
          "contour": [
           {
            "colorbar": {
             "outlinewidth": 0,
             "ticks": ""
            },
            "colorscale": [
             [
              0,
              "#0d0887"
             ],
             [
              0.1111111111111111,
              "#46039f"
             ],
             [
              0.2222222222222222,
              "#7201a8"
             ],
             [
              0.3333333333333333,
              "#9c179e"
             ],
             [
              0.4444444444444444,
              "#bd3786"
             ],
             [
              0.5555555555555556,
              "#d8576b"
             ],
             [
              0.6666666666666666,
              "#ed7953"
             ],
             [
              0.7777777777777778,
              "#fb9f3a"
             ],
             [
              0.8888888888888888,
              "#fdca26"
             ],
             [
              1,
              "#f0f921"
             ]
            ],
            "type": "contour"
           }
          ],
          "contourcarpet": [
           {
            "colorbar": {
             "outlinewidth": 0,
             "ticks": ""
            },
            "type": "contourcarpet"
           }
          ],
          "heatmap": [
           {
            "colorbar": {
             "outlinewidth": 0,
             "ticks": ""
            },
            "colorscale": [
             [
              0,
              "#0d0887"
             ],
             [
              0.1111111111111111,
              "#46039f"
             ],
             [
              0.2222222222222222,
              "#7201a8"
             ],
             [
              0.3333333333333333,
              "#9c179e"
             ],
             [
              0.4444444444444444,
              "#bd3786"
             ],
             [
              0.5555555555555556,
              "#d8576b"
             ],
             [
              0.6666666666666666,
              "#ed7953"
             ],
             [
              0.7777777777777778,
              "#fb9f3a"
             ],
             [
              0.8888888888888888,
              "#fdca26"
             ],
             [
              1,
              "#f0f921"
             ]
            ],
            "type": "heatmap"
           }
          ],
          "heatmapgl": [
           {
            "colorbar": {
             "outlinewidth": 0,
             "ticks": ""
            },
            "colorscale": [
             [
              0,
              "#0d0887"
             ],
             [
              0.1111111111111111,
              "#46039f"
             ],
             [
              0.2222222222222222,
              "#7201a8"
             ],
             [
              0.3333333333333333,
              "#9c179e"
             ],
             [
              0.4444444444444444,
              "#bd3786"
             ],
             [
              0.5555555555555556,
              "#d8576b"
             ],
             [
              0.6666666666666666,
              "#ed7953"
             ],
             [
              0.7777777777777778,
              "#fb9f3a"
             ],
             [
              0.8888888888888888,
              "#fdca26"
             ],
             [
              1,
              "#f0f921"
             ]
            ],
            "type": "heatmapgl"
           }
          ],
          "histogram": [
           {
            "marker": {
             "pattern": {
              "fillmode": "overlay",
              "size": 10,
              "solidity": 0.2
             }
            },
            "type": "histogram"
           }
          ],
          "histogram2d": [
           {
            "colorbar": {
             "outlinewidth": 0,
             "ticks": ""
            },
            "colorscale": [
             [
              0,
              "#0d0887"
             ],
             [
              0.1111111111111111,
              "#46039f"
             ],
             [
              0.2222222222222222,
              "#7201a8"
             ],
             [
              0.3333333333333333,
              "#9c179e"
             ],
             [
              0.4444444444444444,
              "#bd3786"
             ],
             [
              0.5555555555555556,
              "#d8576b"
             ],
             [
              0.6666666666666666,
              "#ed7953"
             ],
             [
              0.7777777777777778,
              "#fb9f3a"
             ],
             [
              0.8888888888888888,
              "#fdca26"
             ],
             [
              1,
              "#f0f921"
             ]
            ],
            "type": "histogram2d"
           }
          ],
          "histogram2dcontour": [
           {
            "colorbar": {
             "outlinewidth": 0,
             "ticks": ""
            },
            "colorscale": [
             [
              0,
              "#0d0887"
             ],
             [
              0.1111111111111111,
              "#46039f"
             ],
             [
              0.2222222222222222,
              "#7201a8"
             ],
             [
              0.3333333333333333,
              "#9c179e"
             ],
             [
              0.4444444444444444,
              "#bd3786"
             ],
             [
              0.5555555555555556,
              "#d8576b"
             ],
             [
              0.6666666666666666,
              "#ed7953"
             ],
             [
              0.7777777777777778,
              "#fb9f3a"
             ],
             [
              0.8888888888888888,
              "#fdca26"
             ],
             [
              1,
              "#f0f921"
             ]
            ],
            "type": "histogram2dcontour"
           }
          ],
          "mesh3d": [
           {
            "colorbar": {
             "outlinewidth": 0,
             "ticks": ""
            },
            "type": "mesh3d"
           }
          ],
          "parcoords": [
           {
            "line": {
             "colorbar": {
              "outlinewidth": 0,
              "ticks": ""
             }
            },
            "type": "parcoords"
           }
          ],
          "pie": [
           {
            "automargin": true,
            "type": "pie"
           }
          ],
          "scatter": [
           {
            "fillpattern": {
             "fillmode": "overlay",
             "size": 10,
             "solidity": 0.2
            },
            "type": "scatter"
           }
          ],
          "scatter3d": [
           {
            "line": {
             "colorbar": {
              "outlinewidth": 0,
              "ticks": ""
             }
            },
            "marker": {
             "colorbar": {
              "outlinewidth": 0,
              "ticks": ""
             }
            },
            "type": "scatter3d"
           }
          ],
          "scattercarpet": [
           {
            "marker": {
             "colorbar": {
              "outlinewidth": 0,
              "ticks": ""
             }
            },
            "type": "scattercarpet"
           }
          ],
          "scattergeo": [
           {
            "marker": {
             "colorbar": {
              "outlinewidth": 0,
              "ticks": ""
             }
            },
            "type": "scattergeo"
           }
          ],
          "scattergl": [
           {
            "marker": {
             "colorbar": {
              "outlinewidth": 0,
              "ticks": ""
             }
            },
            "type": "scattergl"
           }
          ],
          "scattermapbox": [
           {
            "marker": {
             "colorbar": {
              "outlinewidth": 0,
              "ticks": ""
             }
            },
            "type": "scattermapbox"
           }
          ],
          "scatterpolar": [
           {
            "marker": {
             "colorbar": {
              "outlinewidth": 0,
              "ticks": ""
             }
            },
            "type": "scatterpolar"
           }
          ],
          "scatterpolargl": [
           {
            "marker": {
             "colorbar": {
              "outlinewidth": 0,
              "ticks": ""
             }
            },
            "type": "scatterpolargl"
           }
          ],
          "scatterternary": [
           {
            "marker": {
             "colorbar": {
              "outlinewidth": 0,
              "ticks": ""
             }
            },
            "type": "scatterternary"
           }
          ],
          "surface": [
           {
            "colorbar": {
             "outlinewidth": 0,
             "ticks": ""
            },
            "colorscale": [
             [
              0,
              "#0d0887"
             ],
             [
              0.1111111111111111,
              "#46039f"
             ],
             [
              0.2222222222222222,
              "#7201a8"
             ],
             [
              0.3333333333333333,
              "#9c179e"
             ],
             [
              0.4444444444444444,
              "#bd3786"
             ],
             [
              0.5555555555555556,
              "#d8576b"
             ],
             [
              0.6666666666666666,
              "#ed7953"
             ],
             [
              0.7777777777777778,
              "#fb9f3a"
             ],
             [
              0.8888888888888888,
              "#fdca26"
             ],
             [
              1,
              "#f0f921"
             ]
            ],
            "type": "surface"
           }
          ],
          "table": [
           {
            "cells": {
             "fill": {
              "color": "#EBF0F8"
             },
             "line": {
              "color": "white"
             }
            },
            "header": {
             "fill": {
              "color": "#C8D4E3"
             },
             "line": {
              "color": "white"
             }
            },
            "type": "table"
           }
          ]
         },
         "layout": {
          "annotationdefaults": {
           "arrowcolor": "#2a3f5f",
           "arrowhead": 0,
           "arrowwidth": 1
          },
          "autotypenumbers": "strict",
          "coloraxis": {
           "colorbar": {
            "outlinewidth": 0,
            "ticks": ""
           }
          },
          "colorscale": {
           "diverging": [
            [
             0,
             "#8e0152"
            ],
            [
             0.1,
             "#c51b7d"
            ],
            [
             0.2,
             "#de77ae"
            ],
            [
             0.3,
             "#f1b6da"
            ],
            [
             0.4,
             "#fde0ef"
            ],
            [
             0.5,
             "#f7f7f7"
            ],
            [
             0.6,
             "#e6f5d0"
            ],
            [
             0.7,
             "#b8e186"
            ],
            [
             0.8,
             "#7fbc41"
            ],
            [
             0.9,
             "#4d9221"
            ],
            [
             1,
             "#276419"
            ]
           ],
           "sequential": [
            [
             0,
             "#0d0887"
            ],
            [
             0.1111111111111111,
             "#46039f"
            ],
            [
             0.2222222222222222,
             "#7201a8"
            ],
            [
             0.3333333333333333,
             "#9c179e"
            ],
            [
             0.4444444444444444,
             "#bd3786"
            ],
            [
             0.5555555555555556,
             "#d8576b"
            ],
            [
             0.6666666666666666,
             "#ed7953"
            ],
            [
             0.7777777777777778,
             "#fb9f3a"
            ],
            [
             0.8888888888888888,
             "#fdca26"
            ],
            [
             1,
             "#f0f921"
            ]
           ],
           "sequentialminus": [
            [
             0,
             "#0d0887"
            ],
            [
             0.1111111111111111,
             "#46039f"
            ],
            [
             0.2222222222222222,
             "#7201a8"
            ],
            [
             0.3333333333333333,
             "#9c179e"
            ],
            [
             0.4444444444444444,
             "#bd3786"
            ],
            [
             0.5555555555555556,
             "#d8576b"
            ],
            [
             0.6666666666666666,
             "#ed7953"
            ],
            [
             0.7777777777777778,
             "#fb9f3a"
            ],
            [
             0.8888888888888888,
             "#fdca26"
            ],
            [
             1,
             "#f0f921"
            ]
           ]
          },
          "colorway": [
           "#636efa",
           "#EF553B",
           "#00cc96",
           "#ab63fa",
           "#FFA15A",
           "#19d3f3",
           "#FF6692",
           "#B6E880",
           "#FF97FF",
           "#FECB52"
          ],
          "font": {
           "color": "#2a3f5f"
          },
          "geo": {
           "bgcolor": "white",
           "lakecolor": "white",
           "landcolor": "#E5ECF6",
           "showlakes": true,
           "showland": true,
           "subunitcolor": "white"
          },
          "hoverlabel": {
           "align": "left"
          },
          "hovermode": "closest",
          "mapbox": {
           "style": "light"
          },
          "paper_bgcolor": "white",
          "plot_bgcolor": "#E5ECF6",
          "polar": {
           "angularaxis": {
            "gridcolor": "white",
            "linecolor": "white",
            "ticks": ""
           },
           "bgcolor": "#E5ECF6",
           "radialaxis": {
            "gridcolor": "white",
            "linecolor": "white",
            "ticks": ""
           }
          },
          "scene": {
           "xaxis": {
            "backgroundcolor": "#E5ECF6",
            "gridcolor": "white",
            "gridwidth": 2,
            "linecolor": "white",
            "showbackground": true,
            "ticks": "",
            "zerolinecolor": "white"
           },
           "yaxis": {
            "backgroundcolor": "#E5ECF6",
            "gridcolor": "white",
            "gridwidth": 2,
            "linecolor": "white",
            "showbackground": true,
            "ticks": "",
            "zerolinecolor": "white"
           },
           "zaxis": {
            "backgroundcolor": "#E5ECF6",
            "gridcolor": "white",
            "gridwidth": 2,
            "linecolor": "white",
            "showbackground": true,
            "ticks": "",
            "zerolinecolor": "white"
           }
          },
          "shapedefaults": {
           "line": {
            "color": "#2a3f5f"
           }
          },
          "ternary": {
           "aaxis": {
            "gridcolor": "white",
            "linecolor": "white",
            "ticks": ""
           },
           "baxis": {
            "gridcolor": "white",
            "linecolor": "white",
            "ticks": ""
           },
           "bgcolor": "#E5ECF6",
           "caxis": {
            "gridcolor": "white",
            "linecolor": "white",
            "ticks": ""
           }
          },
          "title": {
           "x": 0.05
          },
          "xaxis": {
           "automargin": true,
           "gridcolor": "white",
           "linecolor": "white",
           "ticks": "",
           "title": {
            "standoff": 15
           },
           "zerolinecolor": "white",
           "zerolinewidth": 2
          },
          "yaxis": {
           "automargin": true,
           "gridcolor": "white",
           "linecolor": "white",
           "ticks": "",
           "title": {
            "standoff": 15
           },
           "zerolinecolor": "white",
           "zerolinewidth": 2
          }
         }
        },
        "title": {
         "text": "Top 15 Businesses by least Revenue"
        }
       }
      }
     },
     "metadata": {},
     "output_type": "display_data"
    }
   ],
   "source": [
    "#Top 15 business with least revenue \n",
    "least_15_businesses = business_revenue.sort_values(by='C_Revenue', ascending=False).tail(15)\n",
    "\n",
    "#plotting as a pie chart\n",
    "pio.renderers.default = \"vscode\"\n",
    "fig = px.pie(\n",
    "    least_15_businesses,\n",
    "    values='C_Revenue',\n",
    "    names='BUSINESS GROUP',\n",
    "    title='Top 15 Businesses by least Revenue',\n",
    "    hole=0.5,  \n",
    "    color_discrete_sequence=px.colors.sequential.RdBu  \n",
    ")\n",
    "fig.show()"
   ]
  },
  {
   "cell_type": "code",
   "execution_count": 9,
   "id": "c85d95a2",
   "metadata": {},
   "outputs": [
    {
     "data": {
      "text/plain": [
       "Index(['BUSINESS GROUP', 'MATERIAL GROUP', 'YEAR', 'MONTH', ' SALES SERVICE ',\n",
       "       ' LESS ORC ', ' NET SALES ', ' COST OF GOODS SOLD ',\n",
       "       ' TRANSACTION MARGIN ', ' BACKEND INCOME ', ' ESTIMATE INCOME ',\n",
       "       ' TOTAL BACKEND INCOME ', ' DEPRECIATION INVENTORY ',\n",
       "       ' SALES COMMISSION ', ' GROSS MARGIN ', ' CASH DISCOUNT ',\n",
       "       ' GROSS MARGIN CD ', ' OTHER INCOME ', ' FREIGHT ', ' INSURANCE ',\n",
       "       ' COMMERCIAL TAX ', ' DRIECT EXPENSES ', ' COMPENSATION ',\n",
       "       ' STAFF WELFATE ', ' OUTSOURCED RESOURCE ', ' TRAVEL ', ' CONVEYANCE ',\n",
       "       ' COMMUNICATION ', ' UTILITIES ', ' REPAIRS MAINTENANCE ',\n",
       "       ' PRINTING STATIONERY ', ' RENT ', ' RENT WAREHOUSE ',\n",
       "       ' WAREHOUSE EXPENSES ', ' ENTERTAINMENT ', ' TRAINING ',\n",
       "       ' ADVERTISMENT EXPENSES ', ' BAD DEBTS ', ' BANK CHARGES ',\n",
       "       ' RATE TAXES ', ' CONSULTANCY BROKER ', ' AUDIT FEE ',\n",
       "       ' FALSE GAIN OR LOSS ', ' EXCHANGE GAIN OR LOSS ',\n",
       "       ' DIRECT SITTING FEE ', ' CSR ', ' FACTORING ', ' OTHER EXPENSES ',\n",
       "       ' TOTAL TRADING EXPENSES ', ' EBITDA ', ' WORKING CAPITAL INTEREST ',\n",
       "       ' DEPRECIATION ON ASSET ', ' PROFIT BEFORE TAX ', ' TAX EXPENSES ',\n",
       "       ' PROFIT AFTER TAX ', ' EBIT ', ' NON CASH ITEM ', ' INTEREST COVER ',\n",
       "       ' OPEN_WC ', ' CLOSE_WC ', ' AVG_WC ', ' ROCE ', ' WCTURNS ',\n",
       "       ' WCDAYS ', 'DATE', 'C_Revenue', 'C_Gross_Margin', 'Man_power_cost',\n",
       "       'Biz_trading_cost', 'A', 'B', 'Other_opex', 'C_EBITDA', 'C_EBIT',\n",
       "       'Intrest_cost', 'C_PBT', 'C_PAT'],\n",
       "      dtype='object')"
      ]
     },
     "execution_count": 9,
     "metadata": {},
     "output_type": "execute_result"
    }
   ],
   "source": [
    "df.columns"
   ]
  },
  {
   "cell_type": "code",
   "execution_count": 12,
   "id": "436e8967",
   "metadata": {},
   "outputs": [
    {
     "data": {
      "application/vnd.plotly.v1+json": {
       "config": {
        "plotlyServerURL": "https://plot.ly"
       },
       "data": [
        {
         "domain": {
          "x": [
           0,
           1
          ],
          "y": [
           0,
           1
          ]
         },
         "hovertemplate": "Cost Component=%{label}<br>Amount=%{value}<extra></extra>",
         "labels": [
          " COST OF GOODS SOLD ",
          " DRIECT EXPENSES ",
          " TOTAL TRADING EXPENSES "
         ],
         "legendgroup": "",
         "name": "",
         "showlegend": true,
         "type": "pie",
         "values": [
          11885261227146.074,
          21598833632.379997,
          153470108432.335
         ]
        }
       ],
       "layout": {
        "legend": {
         "tracegroupgap": 0
        },
        "template": {
         "data": {
          "bar": [
           {
            "error_x": {
             "color": "#2a3f5f"
            },
            "error_y": {
             "color": "#2a3f5f"
            },
            "marker": {
             "line": {
              "color": "#E5ECF6",
              "width": 0.5
             },
             "pattern": {
              "fillmode": "overlay",
              "size": 10,
              "solidity": 0.2
             }
            },
            "type": "bar"
           }
          ],
          "barpolar": [
           {
            "marker": {
             "line": {
              "color": "#E5ECF6",
              "width": 0.5
             },
             "pattern": {
              "fillmode": "overlay",
              "size": 10,
              "solidity": 0.2
             }
            },
            "type": "barpolar"
           }
          ],
          "carpet": [
           {
            "aaxis": {
             "endlinecolor": "#2a3f5f",
             "gridcolor": "white",
             "linecolor": "white",
             "minorgridcolor": "white",
             "startlinecolor": "#2a3f5f"
            },
            "baxis": {
             "endlinecolor": "#2a3f5f",
             "gridcolor": "white",
             "linecolor": "white",
             "minorgridcolor": "white",
             "startlinecolor": "#2a3f5f"
            },
            "type": "carpet"
           }
          ],
          "choropleth": [
           {
            "colorbar": {
             "outlinewidth": 0,
             "ticks": ""
            },
            "type": "choropleth"
           }
          ],
          "contour": [
           {
            "colorbar": {
             "outlinewidth": 0,
             "ticks": ""
            },
            "colorscale": [
             [
              0,
              "#0d0887"
             ],
             [
              0.1111111111111111,
              "#46039f"
             ],
             [
              0.2222222222222222,
              "#7201a8"
             ],
             [
              0.3333333333333333,
              "#9c179e"
             ],
             [
              0.4444444444444444,
              "#bd3786"
             ],
             [
              0.5555555555555556,
              "#d8576b"
             ],
             [
              0.6666666666666666,
              "#ed7953"
             ],
             [
              0.7777777777777778,
              "#fb9f3a"
             ],
             [
              0.8888888888888888,
              "#fdca26"
             ],
             [
              1,
              "#f0f921"
             ]
            ],
            "type": "contour"
           }
          ],
          "contourcarpet": [
           {
            "colorbar": {
             "outlinewidth": 0,
             "ticks": ""
            },
            "type": "contourcarpet"
           }
          ],
          "heatmap": [
           {
            "colorbar": {
             "outlinewidth": 0,
             "ticks": ""
            },
            "colorscale": [
             [
              0,
              "#0d0887"
             ],
             [
              0.1111111111111111,
              "#46039f"
             ],
             [
              0.2222222222222222,
              "#7201a8"
             ],
             [
              0.3333333333333333,
              "#9c179e"
             ],
             [
              0.4444444444444444,
              "#bd3786"
             ],
             [
              0.5555555555555556,
              "#d8576b"
             ],
             [
              0.6666666666666666,
              "#ed7953"
             ],
             [
              0.7777777777777778,
              "#fb9f3a"
             ],
             [
              0.8888888888888888,
              "#fdca26"
             ],
             [
              1,
              "#f0f921"
             ]
            ],
            "type": "heatmap"
           }
          ],
          "heatmapgl": [
           {
            "colorbar": {
             "outlinewidth": 0,
             "ticks": ""
            },
            "colorscale": [
             [
              0,
              "#0d0887"
             ],
             [
              0.1111111111111111,
              "#46039f"
             ],
             [
              0.2222222222222222,
              "#7201a8"
             ],
             [
              0.3333333333333333,
              "#9c179e"
             ],
             [
              0.4444444444444444,
              "#bd3786"
             ],
             [
              0.5555555555555556,
              "#d8576b"
             ],
             [
              0.6666666666666666,
              "#ed7953"
             ],
             [
              0.7777777777777778,
              "#fb9f3a"
             ],
             [
              0.8888888888888888,
              "#fdca26"
             ],
             [
              1,
              "#f0f921"
             ]
            ],
            "type": "heatmapgl"
           }
          ],
          "histogram": [
           {
            "marker": {
             "pattern": {
              "fillmode": "overlay",
              "size": 10,
              "solidity": 0.2
             }
            },
            "type": "histogram"
           }
          ],
          "histogram2d": [
           {
            "colorbar": {
             "outlinewidth": 0,
             "ticks": ""
            },
            "colorscale": [
             [
              0,
              "#0d0887"
             ],
             [
              0.1111111111111111,
              "#46039f"
             ],
             [
              0.2222222222222222,
              "#7201a8"
             ],
             [
              0.3333333333333333,
              "#9c179e"
             ],
             [
              0.4444444444444444,
              "#bd3786"
             ],
             [
              0.5555555555555556,
              "#d8576b"
             ],
             [
              0.6666666666666666,
              "#ed7953"
             ],
             [
              0.7777777777777778,
              "#fb9f3a"
             ],
             [
              0.8888888888888888,
              "#fdca26"
             ],
             [
              1,
              "#f0f921"
             ]
            ],
            "type": "histogram2d"
           }
          ],
          "histogram2dcontour": [
           {
            "colorbar": {
             "outlinewidth": 0,
             "ticks": ""
            },
            "colorscale": [
             [
              0,
              "#0d0887"
             ],
             [
              0.1111111111111111,
              "#46039f"
             ],
             [
              0.2222222222222222,
              "#7201a8"
             ],
             [
              0.3333333333333333,
              "#9c179e"
             ],
             [
              0.4444444444444444,
              "#bd3786"
             ],
             [
              0.5555555555555556,
              "#d8576b"
             ],
             [
              0.6666666666666666,
              "#ed7953"
             ],
             [
              0.7777777777777778,
              "#fb9f3a"
             ],
             [
              0.8888888888888888,
              "#fdca26"
             ],
             [
              1,
              "#f0f921"
             ]
            ],
            "type": "histogram2dcontour"
           }
          ],
          "mesh3d": [
           {
            "colorbar": {
             "outlinewidth": 0,
             "ticks": ""
            },
            "type": "mesh3d"
           }
          ],
          "parcoords": [
           {
            "line": {
             "colorbar": {
              "outlinewidth": 0,
              "ticks": ""
             }
            },
            "type": "parcoords"
           }
          ],
          "pie": [
           {
            "automargin": true,
            "type": "pie"
           }
          ],
          "scatter": [
           {
            "fillpattern": {
             "fillmode": "overlay",
             "size": 10,
             "solidity": 0.2
            },
            "type": "scatter"
           }
          ],
          "scatter3d": [
           {
            "line": {
             "colorbar": {
              "outlinewidth": 0,
              "ticks": ""
             }
            },
            "marker": {
             "colorbar": {
              "outlinewidth": 0,
              "ticks": ""
             }
            },
            "type": "scatter3d"
           }
          ],
          "scattercarpet": [
           {
            "marker": {
             "colorbar": {
              "outlinewidth": 0,
              "ticks": ""
             }
            },
            "type": "scattercarpet"
           }
          ],
          "scattergeo": [
           {
            "marker": {
             "colorbar": {
              "outlinewidth": 0,
              "ticks": ""
             }
            },
            "type": "scattergeo"
           }
          ],
          "scattergl": [
           {
            "marker": {
             "colorbar": {
              "outlinewidth": 0,
              "ticks": ""
             }
            },
            "type": "scattergl"
           }
          ],
          "scattermapbox": [
           {
            "marker": {
             "colorbar": {
              "outlinewidth": 0,
              "ticks": ""
             }
            },
            "type": "scattermapbox"
           }
          ],
          "scatterpolar": [
           {
            "marker": {
             "colorbar": {
              "outlinewidth": 0,
              "ticks": ""
             }
            },
            "type": "scatterpolar"
           }
          ],
          "scatterpolargl": [
           {
            "marker": {
             "colorbar": {
              "outlinewidth": 0,
              "ticks": ""
             }
            },
            "type": "scatterpolargl"
           }
          ],
          "scatterternary": [
           {
            "marker": {
             "colorbar": {
              "outlinewidth": 0,
              "ticks": ""
             }
            },
            "type": "scatterternary"
           }
          ],
          "surface": [
           {
            "colorbar": {
             "outlinewidth": 0,
             "ticks": ""
            },
            "colorscale": [
             [
              0,
              "#0d0887"
             ],
             [
              0.1111111111111111,
              "#46039f"
             ],
             [
              0.2222222222222222,
              "#7201a8"
             ],
             [
              0.3333333333333333,
              "#9c179e"
             ],
             [
              0.4444444444444444,
              "#bd3786"
             ],
             [
              0.5555555555555556,
              "#d8576b"
             ],
             [
              0.6666666666666666,
              "#ed7953"
             ],
             [
              0.7777777777777778,
              "#fb9f3a"
             ],
             [
              0.8888888888888888,
              "#fdca26"
             ],
             [
              1,
              "#f0f921"
             ]
            ],
            "type": "surface"
           }
          ],
          "table": [
           {
            "cells": {
             "fill": {
              "color": "#EBF0F8"
             },
             "line": {
              "color": "white"
             }
            },
            "header": {
             "fill": {
              "color": "#C8D4E3"
             },
             "line": {
              "color": "white"
             }
            },
            "type": "table"
           }
          ]
         },
         "layout": {
          "annotationdefaults": {
           "arrowcolor": "#2a3f5f",
           "arrowhead": 0,
           "arrowwidth": 1
          },
          "autotypenumbers": "strict",
          "coloraxis": {
           "colorbar": {
            "outlinewidth": 0,
            "ticks": ""
           }
          },
          "colorscale": {
           "diverging": [
            [
             0,
             "#8e0152"
            ],
            [
             0.1,
             "#c51b7d"
            ],
            [
             0.2,
             "#de77ae"
            ],
            [
             0.3,
             "#f1b6da"
            ],
            [
             0.4,
             "#fde0ef"
            ],
            [
             0.5,
             "#f7f7f7"
            ],
            [
             0.6,
             "#e6f5d0"
            ],
            [
             0.7,
             "#b8e186"
            ],
            [
             0.8,
             "#7fbc41"
            ],
            [
             0.9,
             "#4d9221"
            ],
            [
             1,
             "#276419"
            ]
           ],
           "sequential": [
            [
             0,
             "#0d0887"
            ],
            [
             0.1111111111111111,
             "#46039f"
            ],
            [
             0.2222222222222222,
             "#7201a8"
            ],
            [
             0.3333333333333333,
             "#9c179e"
            ],
            [
             0.4444444444444444,
             "#bd3786"
            ],
            [
             0.5555555555555556,
             "#d8576b"
            ],
            [
             0.6666666666666666,
             "#ed7953"
            ],
            [
             0.7777777777777778,
             "#fb9f3a"
            ],
            [
             0.8888888888888888,
             "#fdca26"
            ],
            [
             1,
             "#f0f921"
            ]
           ],
           "sequentialminus": [
            [
             0,
             "#0d0887"
            ],
            [
             0.1111111111111111,
             "#46039f"
            ],
            [
             0.2222222222222222,
             "#7201a8"
            ],
            [
             0.3333333333333333,
             "#9c179e"
            ],
            [
             0.4444444444444444,
             "#bd3786"
            ],
            [
             0.5555555555555556,
             "#d8576b"
            ],
            [
             0.6666666666666666,
             "#ed7953"
            ],
            [
             0.7777777777777778,
             "#fb9f3a"
            ],
            [
             0.8888888888888888,
             "#fdca26"
            ],
            [
             1,
             "#f0f921"
            ]
           ]
          },
          "colorway": [
           "#636efa",
           "#EF553B",
           "#00cc96",
           "#ab63fa",
           "#FFA15A",
           "#19d3f3",
           "#FF6692",
           "#B6E880",
           "#FF97FF",
           "#FECB52"
          ],
          "font": {
           "color": "#2a3f5f"
          },
          "geo": {
           "bgcolor": "white",
           "lakecolor": "white",
           "landcolor": "#E5ECF6",
           "showlakes": true,
           "showland": true,
           "subunitcolor": "white"
          },
          "hoverlabel": {
           "align": "left"
          },
          "hovermode": "closest",
          "mapbox": {
           "style": "light"
          },
          "paper_bgcolor": "white",
          "plot_bgcolor": "#E5ECF6",
          "polar": {
           "angularaxis": {
            "gridcolor": "white",
            "linecolor": "white",
            "ticks": ""
           },
           "bgcolor": "#E5ECF6",
           "radialaxis": {
            "gridcolor": "white",
            "linecolor": "white",
            "ticks": ""
           }
          },
          "scene": {
           "xaxis": {
            "backgroundcolor": "#E5ECF6",
            "gridcolor": "white",
            "gridwidth": 2,
            "linecolor": "white",
            "showbackground": true,
            "ticks": "",
            "zerolinecolor": "white"
           },
           "yaxis": {
            "backgroundcolor": "#E5ECF6",
            "gridcolor": "white",
            "gridwidth": 2,
            "linecolor": "white",
            "showbackground": true,
            "ticks": "",
            "zerolinecolor": "white"
           },
           "zaxis": {
            "backgroundcolor": "#E5ECF6",
            "gridcolor": "white",
            "gridwidth": 2,
            "linecolor": "white",
            "showbackground": true,
            "ticks": "",
            "zerolinecolor": "white"
           }
          },
          "shapedefaults": {
           "line": {
            "color": "#2a3f5f"
           }
          },
          "ternary": {
           "aaxis": {
            "gridcolor": "white",
            "linecolor": "white",
            "ticks": ""
           },
           "baxis": {
            "gridcolor": "white",
            "linecolor": "white",
            "ticks": ""
           },
           "bgcolor": "#E5ECF6",
           "caxis": {
            "gridcolor": "white",
            "linecolor": "white",
            "ticks": ""
           }
          },
          "title": {
           "x": 0.05
          },
          "xaxis": {
           "automargin": true,
           "gridcolor": "white",
           "linecolor": "white",
           "ticks": "",
           "title": {
            "standoff": 15
           },
           "zerolinecolor": "white",
           "zerolinewidth": 2
          },
          "yaxis": {
           "automargin": true,
           "gridcolor": "white",
           "linecolor": "white",
           "ticks": "",
           "title": {
            "standoff": 15
           },
           "zerolinecolor": "white",
           "zerolinewidth": 2
          }
         }
        },
        "title": {
         "text": "Cost Components Breakdown"
        }
       }
      }
     },
     "metadata": {},
     "output_type": "display_data"
    }
   ],
   "source": [
    "# Cost Components Analysis\n",
    "cost_components = df[[' COST OF GOODS SOLD ', ' DRIECT EXPENSES ', ' TOTAL TRADING EXPENSES ']].sum()\n",
    "cost_components = cost_components.reset_index()\n",
    "cost_components.columns = ['Cost Component', 'Amount']\n",
    "\n",
    "# Pie Chart\n",
    "fig = px.pie(\n",
    "    cost_components,\n",
    "    values='Amount',\n",
    "    names='Cost Component',\n",
    "    title='Cost Components Breakdown'\n",
    ")\n",
    "fig.show()"
   ]
  },
  {
   "cell_type": "code",
   "execution_count": 13,
   "id": "9b9ab26c",
   "metadata": {},
   "outputs": [
    {
     "name": "stderr",
     "output_type": "stream",
     "text": [
      "C:\\Users\\91882\\AppData\\Local\\Temp\\ipykernel_11832\\3700680039.py:2: UserWarning:\n",
      "\n",
      "Could not infer format, so each element will be parsed individually, falling back to `dateutil`. To ensure parsing is consistent and as-expected, please specify a format.\n",
      "\n"
     ]
    },
    {
     "data": {
      "application/vnd.plotly.v1+json": {
       "config": {
        "plotlyServerURL": "https://plot.ly"
       },
       "data": [
        {
         "alignmentgroup": "True",
         "hovertemplate": "Depreciation Type= DEPRECIATION INVENTORY <br>Month-Year=%{x}<br>₹=%{y}<extra></extra>",
         "legendgroup": " DEPRECIATION INVENTORY ",
         "marker": {
          "color": "rgb(103,0,31)",
          "pattern": {
           "shape": ""
          }
         },
         "name": " DEPRECIATION INVENTORY ",
         "offsetgroup": " DEPRECIATION INVENTORY ",
         "orientation": "v",
         "showlegend": true,
         "textposition": "auto",
         "type": "bar",
         "x": [
          "2019-04",
          "2019-05",
          "2019-06",
          "2019-07",
          "2019-08",
          "2019-09",
          "2019-10",
          "2019-11",
          "2019-12",
          "2020-01",
          "2020-02",
          "2020-03",
          "2020-04",
          "2020-05",
          "2020-06",
          "2020-07",
          "2020-08",
          "2020-09",
          "2020-10",
          "2020-11",
          "2020-12",
          "2021-01",
          "2021-02",
          "2021-03",
          "2021-04",
          "2021-05",
          "2021-06",
          "2021-07",
          "2021-08",
          "2021-09",
          "2021-10",
          "2021-11",
          "2021-12",
          "2022-01",
          "2022-02",
          "2022-03",
          "2022-04",
          "2022-05",
          "2022-06",
          "2022-07",
          "2022-08",
          "2022-09",
          "2022-10",
          "2022-11",
          "2022-12",
          "2023-01",
          "2023-02",
          "2023-03",
          "2023-04",
          "2023-05",
          "2023-06",
          "2023-07",
          "2023-08",
          "2023-09",
          "2023-10",
          "2023-11",
          "2023-12",
          "2024-01",
          "2024-02",
          "2024-03",
          "2024-04",
          "2024-05",
          "2024-06"
         ],
         "xaxis": "x",
         "y": [
          5147068420.41,
          1308617660.7450001,
          -5514484603.32,
          5546280248.62,
          -1089439483.79,
          -4996118497.9,
          4769472769.12,
          888077708.29,
          -5009685643.99,
          4376320328.7,
          -901076679.8449999,
          -4219696053.7549996,
          2111414836.375,
          692465514.3199999,
          -2638619870.625,
          1890247362.375,
          -45699544.50999999,
          -1378585282.235,
          1176328546.445,
          -85547775.94999997,
          -1857788527.53,
          410036455.15,
          156532787.055,
          -1152158730.62,
          763591466.5600001,
          553462058.01,
          -533882984.315,
          3603888.4150000047,
          536387318.885,
          -102374810.09499994,
          444581096.69,
          666658800.655,
          -2021886709.9350002,
          1090989153.37,
          748496572.055,
          -369195989.495,
          646228924.1999999,
          875402556.93,
          -489690697.41499996,
          1139535762.6,
          1175639183.195,
          -1004554975.1500001,
          2049355354.965,
          2111955045.0249999,
          -1623001262.5049999,
          4628739331.31,
          195640948.35999998,
          -4508558305.975,
          939615998.1250001,
          233641112.125,
          -2357842723.725,
          341275430.645,
          1121585778.025,
          -2186640859.82,
          2548546172.27,
          2188817183.135,
          -2560180961.38,
          4177546452.39,
          -403194997.49,
          -7591503224.53,
          1808632889.775,
          348566121.79999995,
          -2669962691.945
         ],
         "yaxis": "y"
        },
        {
         "alignmentgroup": "True",
         "hovertemplate": "Depreciation Type= DEPRECIATION ON ASSET <br>Month-Year=%{x}<br>₹=%{y}<extra></extra>",
         "legendgroup": " DEPRECIATION ON ASSET ",
         "marker": {
          "color": "rgb(178,24,43)",
          "pattern": {
           "shape": ""
          }
         },
         "name": " DEPRECIATION ON ASSET ",
         "offsetgroup": " DEPRECIATION ON ASSET ",
         "orientation": "v",
         "showlegend": true,
         "textposition": "auto",
         "type": "bar",
         "x": [
          "2019-04",
          "2019-05",
          "2019-06",
          "2019-07",
          "2019-08",
          "2019-09",
          "2019-10",
          "2019-11",
          "2019-12",
          "2020-01",
          "2020-02",
          "2020-03",
          "2020-04",
          "2020-05",
          "2020-06",
          "2020-07",
          "2020-08",
          "2020-09",
          "2020-10",
          "2020-11",
          "2020-12",
          "2021-01",
          "2021-02",
          "2021-03",
          "2021-04",
          "2021-05",
          "2021-06",
          "2021-07",
          "2021-08",
          "2021-09",
          "2021-10",
          "2021-11",
          "2021-12",
          "2022-01",
          "2022-02",
          "2022-03",
          "2022-04",
          "2022-05",
          "2022-06",
          "2022-07",
          "2022-08",
          "2022-09",
          "2022-10",
          "2022-11",
          "2022-12",
          "2023-01",
          "2023-02",
          "2023-03",
          "2023-04",
          "2023-05",
          "2023-06",
          "2023-07",
          "2023-08",
          "2023-09",
          "2023-10",
          "2023-11",
          "2023-12",
          "2024-01",
          "2024-02",
          "2024-03",
          "2024-04",
          "2024-05",
          "2024-06"
         ],
         "xaxis": "x",
         "y": [
          182589229.04,
          110264988.89,
          150122859.7,
          104543438.85,
          104428973.11000001,
          246589959.39,
          150875178.82,
          149061622.07,
          147577935.9,
          141498593.56,
          147820567.51,
          166835116.18,
          171792196.95,
          174709707.01,
          153062434.67,
          160723520.13,
          161795586.99,
          159186183.62,
          146371314.52,
          159036217.29,
          158370991.89,
          151922513.43,
          150027196.14,
          160312452.83,
          150682962.99,
          150857606.57,
          308387533.08,
          215889076.5,
          202760860.46,
          196963181.44,
          151508087.04,
          125172131.6,
          153589794.52,
          168432707.81,
          170731678.09,
          124109938.83,
          147846506.31,
          149177233.67,
          149850299.96,
          136433711.24,
          164471481.73,
          158754162.5,
          156235059.12,
          132124584.51,
          236630398.26,
          196696346.62,
          315234497.77,
          -11920007.97,
          194330186.16,
          216148919.9,
          191743349.21,
          187392741.79,
          190594503.63,
          202757935.19,
          202743438.39,
          242769378.12,
          229667048.88,
          224493570.85999998,
          228136521.14,
          216579536.9,
          172649610.81,
          193963093.71,
          327771755.11
         ],
         "yaxis": "y"
        }
       ],
       "layout": {
        "barmode": "group",
        "legend": {
         "title": {
          "text": "Depreciation Type"
         },
         "tracegroupgap": 0
        },
        "template": {
         "data": {
          "bar": [
           {
            "error_x": {
             "color": "#2a3f5f"
            },
            "error_y": {
             "color": "#2a3f5f"
            },
            "marker": {
             "line": {
              "color": "#E5ECF6",
              "width": 0.5
             },
             "pattern": {
              "fillmode": "overlay",
              "size": 10,
              "solidity": 0.2
             }
            },
            "type": "bar"
           }
          ],
          "barpolar": [
           {
            "marker": {
             "line": {
              "color": "#E5ECF6",
              "width": 0.5
             },
             "pattern": {
              "fillmode": "overlay",
              "size": 10,
              "solidity": 0.2
             }
            },
            "type": "barpolar"
           }
          ],
          "carpet": [
           {
            "aaxis": {
             "endlinecolor": "#2a3f5f",
             "gridcolor": "white",
             "linecolor": "white",
             "minorgridcolor": "white",
             "startlinecolor": "#2a3f5f"
            },
            "baxis": {
             "endlinecolor": "#2a3f5f",
             "gridcolor": "white",
             "linecolor": "white",
             "minorgridcolor": "white",
             "startlinecolor": "#2a3f5f"
            },
            "type": "carpet"
           }
          ],
          "choropleth": [
           {
            "colorbar": {
             "outlinewidth": 0,
             "ticks": ""
            },
            "type": "choropleth"
           }
          ],
          "contour": [
           {
            "colorbar": {
             "outlinewidth": 0,
             "ticks": ""
            },
            "colorscale": [
             [
              0,
              "#0d0887"
             ],
             [
              0.1111111111111111,
              "#46039f"
             ],
             [
              0.2222222222222222,
              "#7201a8"
             ],
             [
              0.3333333333333333,
              "#9c179e"
             ],
             [
              0.4444444444444444,
              "#bd3786"
             ],
             [
              0.5555555555555556,
              "#d8576b"
             ],
             [
              0.6666666666666666,
              "#ed7953"
             ],
             [
              0.7777777777777778,
              "#fb9f3a"
             ],
             [
              0.8888888888888888,
              "#fdca26"
             ],
             [
              1,
              "#f0f921"
             ]
            ],
            "type": "contour"
           }
          ],
          "contourcarpet": [
           {
            "colorbar": {
             "outlinewidth": 0,
             "ticks": ""
            },
            "type": "contourcarpet"
           }
          ],
          "heatmap": [
           {
            "colorbar": {
             "outlinewidth": 0,
             "ticks": ""
            },
            "colorscale": [
             [
              0,
              "#0d0887"
             ],
             [
              0.1111111111111111,
              "#46039f"
             ],
             [
              0.2222222222222222,
              "#7201a8"
             ],
             [
              0.3333333333333333,
              "#9c179e"
             ],
             [
              0.4444444444444444,
              "#bd3786"
             ],
             [
              0.5555555555555556,
              "#d8576b"
             ],
             [
              0.6666666666666666,
              "#ed7953"
             ],
             [
              0.7777777777777778,
              "#fb9f3a"
             ],
             [
              0.8888888888888888,
              "#fdca26"
             ],
             [
              1,
              "#f0f921"
             ]
            ],
            "type": "heatmap"
           }
          ],
          "heatmapgl": [
           {
            "colorbar": {
             "outlinewidth": 0,
             "ticks": ""
            },
            "colorscale": [
             [
              0,
              "#0d0887"
             ],
             [
              0.1111111111111111,
              "#46039f"
             ],
             [
              0.2222222222222222,
              "#7201a8"
             ],
             [
              0.3333333333333333,
              "#9c179e"
             ],
             [
              0.4444444444444444,
              "#bd3786"
             ],
             [
              0.5555555555555556,
              "#d8576b"
             ],
             [
              0.6666666666666666,
              "#ed7953"
             ],
             [
              0.7777777777777778,
              "#fb9f3a"
             ],
             [
              0.8888888888888888,
              "#fdca26"
             ],
             [
              1,
              "#f0f921"
             ]
            ],
            "type": "heatmapgl"
           }
          ],
          "histogram": [
           {
            "marker": {
             "pattern": {
              "fillmode": "overlay",
              "size": 10,
              "solidity": 0.2
             }
            },
            "type": "histogram"
           }
          ],
          "histogram2d": [
           {
            "colorbar": {
             "outlinewidth": 0,
             "ticks": ""
            },
            "colorscale": [
             [
              0,
              "#0d0887"
             ],
             [
              0.1111111111111111,
              "#46039f"
             ],
             [
              0.2222222222222222,
              "#7201a8"
             ],
             [
              0.3333333333333333,
              "#9c179e"
             ],
             [
              0.4444444444444444,
              "#bd3786"
             ],
             [
              0.5555555555555556,
              "#d8576b"
             ],
             [
              0.6666666666666666,
              "#ed7953"
             ],
             [
              0.7777777777777778,
              "#fb9f3a"
             ],
             [
              0.8888888888888888,
              "#fdca26"
             ],
             [
              1,
              "#f0f921"
             ]
            ],
            "type": "histogram2d"
           }
          ],
          "histogram2dcontour": [
           {
            "colorbar": {
             "outlinewidth": 0,
             "ticks": ""
            },
            "colorscale": [
             [
              0,
              "#0d0887"
             ],
             [
              0.1111111111111111,
              "#46039f"
             ],
             [
              0.2222222222222222,
              "#7201a8"
             ],
             [
              0.3333333333333333,
              "#9c179e"
             ],
             [
              0.4444444444444444,
              "#bd3786"
             ],
             [
              0.5555555555555556,
              "#d8576b"
             ],
             [
              0.6666666666666666,
              "#ed7953"
             ],
             [
              0.7777777777777778,
              "#fb9f3a"
             ],
             [
              0.8888888888888888,
              "#fdca26"
             ],
             [
              1,
              "#f0f921"
             ]
            ],
            "type": "histogram2dcontour"
           }
          ],
          "mesh3d": [
           {
            "colorbar": {
             "outlinewidth": 0,
             "ticks": ""
            },
            "type": "mesh3d"
           }
          ],
          "parcoords": [
           {
            "line": {
             "colorbar": {
              "outlinewidth": 0,
              "ticks": ""
             }
            },
            "type": "parcoords"
           }
          ],
          "pie": [
           {
            "automargin": true,
            "type": "pie"
           }
          ],
          "scatter": [
           {
            "fillpattern": {
             "fillmode": "overlay",
             "size": 10,
             "solidity": 0.2
            },
            "type": "scatter"
           }
          ],
          "scatter3d": [
           {
            "line": {
             "colorbar": {
              "outlinewidth": 0,
              "ticks": ""
             }
            },
            "marker": {
             "colorbar": {
              "outlinewidth": 0,
              "ticks": ""
             }
            },
            "type": "scatter3d"
           }
          ],
          "scattercarpet": [
           {
            "marker": {
             "colorbar": {
              "outlinewidth": 0,
              "ticks": ""
             }
            },
            "type": "scattercarpet"
           }
          ],
          "scattergeo": [
           {
            "marker": {
             "colorbar": {
              "outlinewidth": 0,
              "ticks": ""
             }
            },
            "type": "scattergeo"
           }
          ],
          "scattergl": [
           {
            "marker": {
             "colorbar": {
              "outlinewidth": 0,
              "ticks": ""
             }
            },
            "type": "scattergl"
           }
          ],
          "scattermapbox": [
           {
            "marker": {
             "colorbar": {
              "outlinewidth": 0,
              "ticks": ""
             }
            },
            "type": "scattermapbox"
           }
          ],
          "scatterpolar": [
           {
            "marker": {
             "colorbar": {
              "outlinewidth": 0,
              "ticks": ""
             }
            },
            "type": "scatterpolar"
           }
          ],
          "scatterpolargl": [
           {
            "marker": {
             "colorbar": {
              "outlinewidth": 0,
              "ticks": ""
             }
            },
            "type": "scatterpolargl"
           }
          ],
          "scatterternary": [
           {
            "marker": {
             "colorbar": {
              "outlinewidth": 0,
              "ticks": ""
             }
            },
            "type": "scatterternary"
           }
          ],
          "surface": [
           {
            "colorbar": {
             "outlinewidth": 0,
             "ticks": ""
            },
            "colorscale": [
             [
              0,
              "#0d0887"
             ],
             [
              0.1111111111111111,
              "#46039f"
             ],
             [
              0.2222222222222222,
              "#7201a8"
             ],
             [
              0.3333333333333333,
              "#9c179e"
             ],
             [
              0.4444444444444444,
              "#bd3786"
             ],
             [
              0.5555555555555556,
              "#d8576b"
             ],
             [
              0.6666666666666666,
              "#ed7953"
             ],
             [
              0.7777777777777778,
              "#fb9f3a"
             ],
             [
              0.8888888888888888,
              "#fdca26"
             ],
             [
              1,
              "#f0f921"
             ]
            ],
            "type": "surface"
           }
          ],
          "table": [
           {
            "cells": {
             "fill": {
              "color": "#EBF0F8"
             },
             "line": {
              "color": "white"
             }
            },
            "header": {
             "fill": {
              "color": "#C8D4E3"
             },
             "line": {
              "color": "white"
             }
            },
            "type": "table"
           }
          ]
         },
         "layout": {
          "annotationdefaults": {
           "arrowcolor": "#2a3f5f",
           "arrowhead": 0,
           "arrowwidth": 1
          },
          "autotypenumbers": "strict",
          "coloraxis": {
           "colorbar": {
            "outlinewidth": 0,
            "ticks": ""
           }
          },
          "colorscale": {
           "diverging": [
            [
             0,
             "#8e0152"
            ],
            [
             0.1,
             "#c51b7d"
            ],
            [
             0.2,
             "#de77ae"
            ],
            [
             0.3,
             "#f1b6da"
            ],
            [
             0.4,
             "#fde0ef"
            ],
            [
             0.5,
             "#f7f7f7"
            ],
            [
             0.6,
             "#e6f5d0"
            ],
            [
             0.7,
             "#b8e186"
            ],
            [
             0.8,
             "#7fbc41"
            ],
            [
             0.9,
             "#4d9221"
            ],
            [
             1,
             "#276419"
            ]
           ],
           "sequential": [
            [
             0,
             "#0d0887"
            ],
            [
             0.1111111111111111,
             "#46039f"
            ],
            [
             0.2222222222222222,
             "#7201a8"
            ],
            [
             0.3333333333333333,
             "#9c179e"
            ],
            [
             0.4444444444444444,
             "#bd3786"
            ],
            [
             0.5555555555555556,
             "#d8576b"
            ],
            [
             0.6666666666666666,
             "#ed7953"
            ],
            [
             0.7777777777777778,
             "#fb9f3a"
            ],
            [
             0.8888888888888888,
             "#fdca26"
            ],
            [
             1,
             "#f0f921"
            ]
           ],
           "sequentialminus": [
            [
             0,
             "#0d0887"
            ],
            [
             0.1111111111111111,
             "#46039f"
            ],
            [
             0.2222222222222222,
             "#7201a8"
            ],
            [
             0.3333333333333333,
             "#9c179e"
            ],
            [
             0.4444444444444444,
             "#bd3786"
            ],
            [
             0.5555555555555556,
             "#d8576b"
            ],
            [
             0.6666666666666666,
             "#ed7953"
            ],
            [
             0.7777777777777778,
             "#fb9f3a"
            ],
            [
             0.8888888888888888,
             "#fdca26"
            ],
            [
             1,
             "#f0f921"
            ]
           ]
          },
          "colorway": [
           "#636efa",
           "#EF553B",
           "#00cc96",
           "#ab63fa",
           "#FFA15A",
           "#19d3f3",
           "#FF6692",
           "#B6E880",
           "#FF97FF",
           "#FECB52"
          ],
          "font": {
           "color": "#2a3f5f"
          },
          "geo": {
           "bgcolor": "white",
           "lakecolor": "white",
           "landcolor": "#E5ECF6",
           "showlakes": true,
           "showland": true,
           "subunitcolor": "white"
          },
          "hoverlabel": {
           "align": "left"
          },
          "hovermode": "closest",
          "mapbox": {
           "style": "light"
          },
          "paper_bgcolor": "white",
          "plot_bgcolor": "#E5ECF6",
          "polar": {
           "angularaxis": {
            "gridcolor": "white",
            "linecolor": "white",
            "ticks": ""
           },
           "bgcolor": "#E5ECF6",
           "radialaxis": {
            "gridcolor": "white",
            "linecolor": "white",
            "ticks": ""
           }
          },
          "scene": {
           "xaxis": {
            "backgroundcolor": "#E5ECF6",
            "gridcolor": "white",
            "gridwidth": 2,
            "linecolor": "white",
            "showbackground": true,
            "ticks": "",
            "zerolinecolor": "white"
           },
           "yaxis": {
            "backgroundcolor": "#E5ECF6",
            "gridcolor": "white",
            "gridwidth": 2,
            "linecolor": "white",
            "showbackground": true,
            "ticks": "",
            "zerolinecolor": "white"
           },
           "zaxis": {
            "backgroundcolor": "#E5ECF6",
            "gridcolor": "white",
            "gridwidth": 2,
            "linecolor": "white",
            "showbackground": true,
            "ticks": "",
            "zerolinecolor": "white"
           }
          },
          "shapedefaults": {
           "line": {
            "color": "#2a3f5f"
           }
          },
          "ternary": {
           "aaxis": {
            "gridcolor": "white",
            "linecolor": "white",
            "ticks": ""
           },
           "baxis": {
            "gridcolor": "white",
            "linecolor": "white",
            "ticks": ""
           },
           "bgcolor": "#E5ECF6",
           "caxis": {
            "gridcolor": "white",
            "linecolor": "white",
            "ticks": ""
           }
          },
          "title": {
           "x": 0.05
          },
          "xaxis": {
           "automargin": true,
           "gridcolor": "white",
           "linecolor": "white",
           "ticks": "",
           "title": {
            "standoff": 15
           },
           "zerolinecolor": "white",
           "zerolinewidth": 2
          },
          "yaxis": {
           "automargin": true,
           "gridcolor": "white",
           "linecolor": "white",
           "ticks": "",
           "title": {
            "standoff": 15
           },
           "zerolinecolor": "white",
           "zerolinewidth": 2
          }
         }
        },
        "title": {
         "text": "Depreciation Trends (Month-Year)"
        },
        "xaxis": {
         "anchor": "y",
         "domain": [
          0,
          1
         ],
         "title": {
          "text": "Month-Year"
         },
         "type": "category"
        },
        "yaxis": {
         "anchor": "x",
         "domain": [
          0,
          1
         ],
         "title": {
          "text": "₹"
         }
        }
       }
      }
     },
     "metadata": {},
     "output_type": "display_data"
    }
   ],
   "source": [
    "# Create Month-Year column in the desired format\n",
    "df['Month-Year'] = pd.to_datetime(df['YEAR'].astype(str) + '-' + df['MONTH'].astype(str))\n",
    "df['Month-Year'] = df['Month-Year'].dt.strftime('%Y-%m')  # Format as \"Month-Year\"\n",
    "\n",
    "# Group by Month-Year for combined depreciation trends\n",
    "depreciation_trend_month_year = df.groupby('Month-Year')[[' DEPRECIATION INVENTORY ', ' DEPRECIATION ON ASSET ']].sum().reset_index()\n",
    "\n",
    "# Bar Chart\n",
    "fig = px.bar(\n",
    "    depreciation_trend_month_year,\n",
    "    x='Month-Year',\n",
    "    y=[' DEPRECIATION INVENTORY ', ' DEPRECIATION ON ASSET '],\n",
    "    title='Depreciation Trends (Month-Year)',\n",
    "    labels={'value': '₹', 'variable': 'Depreciation Type', 'Month-Year': 'Month-Year'},\n",
    "    barmode='group',  \n",
    "    color_discrete_sequence=px.colors.sequential.RdBu\n",
    ")\n",
    "fig.update_xaxes(type='category')  \n",
    "fig.show()\n"
   ]
  },
  {
   "cell_type": "code",
   "execution_count": 14,
   "id": "d4258a60",
   "metadata": {},
   "outputs": [
    {
     "data": {
      "application/vnd.plotly.v1+json": {
       "config": {
        "plotlyServerURL": "https://plot.ly"
       },
       "data": [
        {
         "alignmentgroup": "True",
         "hovertemplate": " PROFIT AFTER TAX =%{x}<br>BUSINESS GROUP=%{y}<extra></extra>",
         "legendgroup": "",
         "marker": {
          "color": "rgb(103,0,31)",
          "pattern": {
           "shape": ""
          }
         },
         "name": "",
         "offsetgroup": "",
         "orientation": "h",
         "showlegend": false,
         "textposition": "auto",
         "type": "bar",
         "x": [
          119014926577.43001,
          39479660417.14,
          26583483208.13,
          17441935482.08,
          14253010202.91,
          11473043133.300001,
          7944102888.34,
          7771640659.33,
          6917113205.77,
          6653104022.15,
          4936563154.93,
          3779762351.43,
          1903335156.52,
          1055547673.6699998,
          -2265158.9499999997
         ],
         "xaxis": "x",
         "y": [
          "COR",
          "ASP",
          "ASD",
          "COB",
          "CPB",
          "PHW",
          "SNS",
          "LSB",
          "SWB",
          "NET",
          "SEC",
          "AMD",
          "IDC",
          "DPG",
          "ECM"
         ],
         "yaxis": "y"
        }
       ],
       "layout": {
        "barmode": "relative",
        "legend": {
         "tracegroupgap": 0
        },
        "template": {
         "data": {
          "bar": [
           {
            "error_x": {
             "color": "#2a3f5f"
            },
            "error_y": {
             "color": "#2a3f5f"
            },
            "marker": {
             "line": {
              "color": "#E5ECF6",
              "width": 0.5
             },
             "pattern": {
              "fillmode": "overlay",
              "size": 10,
              "solidity": 0.2
             }
            },
            "type": "bar"
           }
          ],
          "barpolar": [
           {
            "marker": {
             "line": {
              "color": "#E5ECF6",
              "width": 0.5
             },
             "pattern": {
              "fillmode": "overlay",
              "size": 10,
              "solidity": 0.2
             }
            },
            "type": "barpolar"
           }
          ],
          "carpet": [
           {
            "aaxis": {
             "endlinecolor": "#2a3f5f",
             "gridcolor": "white",
             "linecolor": "white",
             "minorgridcolor": "white",
             "startlinecolor": "#2a3f5f"
            },
            "baxis": {
             "endlinecolor": "#2a3f5f",
             "gridcolor": "white",
             "linecolor": "white",
             "minorgridcolor": "white",
             "startlinecolor": "#2a3f5f"
            },
            "type": "carpet"
           }
          ],
          "choropleth": [
           {
            "colorbar": {
             "outlinewidth": 0,
             "ticks": ""
            },
            "type": "choropleth"
           }
          ],
          "contour": [
           {
            "colorbar": {
             "outlinewidth": 0,
             "ticks": ""
            },
            "colorscale": [
             [
              0,
              "#0d0887"
             ],
             [
              0.1111111111111111,
              "#46039f"
             ],
             [
              0.2222222222222222,
              "#7201a8"
             ],
             [
              0.3333333333333333,
              "#9c179e"
             ],
             [
              0.4444444444444444,
              "#bd3786"
             ],
             [
              0.5555555555555556,
              "#d8576b"
             ],
             [
              0.6666666666666666,
              "#ed7953"
             ],
             [
              0.7777777777777778,
              "#fb9f3a"
             ],
             [
              0.8888888888888888,
              "#fdca26"
             ],
             [
              1,
              "#f0f921"
             ]
            ],
            "type": "contour"
           }
          ],
          "contourcarpet": [
           {
            "colorbar": {
             "outlinewidth": 0,
             "ticks": ""
            },
            "type": "contourcarpet"
           }
          ],
          "heatmap": [
           {
            "colorbar": {
             "outlinewidth": 0,
             "ticks": ""
            },
            "colorscale": [
             [
              0,
              "#0d0887"
             ],
             [
              0.1111111111111111,
              "#46039f"
             ],
             [
              0.2222222222222222,
              "#7201a8"
             ],
             [
              0.3333333333333333,
              "#9c179e"
             ],
             [
              0.4444444444444444,
              "#bd3786"
             ],
             [
              0.5555555555555556,
              "#d8576b"
             ],
             [
              0.6666666666666666,
              "#ed7953"
             ],
             [
              0.7777777777777778,
              "#fb9f3a"
             ],
             [
              0.8888888888888888,
              "#fdca26"
             ],
             [
              1,
              "#f0f921"
             ]
            ],
            "type": "heatmap"
           }
          ],
          "heatmapgl": [
           {
            "colorbar": {
             "outlinewidth": 0,
             "ticks": ""
            },
            "colorscale": [
             [
              0,
              "#0d0887"
             ],
             [
              0.1111111111111111,
              "#46039f"
             ],
             [
              0.2222222222222222,
              "#7201a8"
             ],
             [
              0.3333333333333333,
              "#9c179e"
             ],
             [
              0.4444444444444444,
              "#bd3786"
             ],
             [
              0.5555555555555556,
              "#d8576b"
             ],
             [
              0.6666666666666666,
              "#ed7953"
             ],
             [
              0.7777777777777778,
              "#fb9f3a"
             ],
             [
              0.8888888888888888,
              "#fdca26"
             ],
             [
              1,
              "#f0f921"
             ]
            ],
            "type": "heatmapgl"
           }
          ],
          "histogram": [
           {
            "marker": {
             "pattern": {
              "fillmode": "overlay",
              "size": 10,
              "solidity": 0.2
             }
            },
            "type": "histogram"
           }
          ],
          "histogram2d": [
           {
            "colorbar": {
             "outlinewidth": 0,
             "ticks": ""
            },
            "colorscale": [
             [
              0,
              "#0d0887"
             ],
             [
              0.1111111111111111,
              "#46039f"
             ],
             [
              0.2222222222222222,
              "#7201a8"
             ],
             [
              0.3333333333333333,
              "#9c179e"
             ],
             [
              0.4444444444444444,
              "#bd3786"
             ],
             [
              0.5555555555555556,
              "#d8576b"
             ],
             [
              0.6666666666666666,
              "#ed7953"
             ],
             [
              0.7777777777777778,
              "#fb9f3a"
             ],
             [
              0.8888888888888888,
              "#fdca26"
             ],
             [
              1,
              "#f0f921"
             ]
            ],
            "type": "histogram2d"
           }
          ],
          "histogram2dcontour": [
           {
            "colorbar": {
             "outlinewidth": 0,
             "ticks": ""
            },
            "colorscale": [
             [
              0,
              "#0d0887"
             ],
             [
              0.1111111111111111,
              "#46039f"
             ],
             [
              0.2222222222222222,
              "#7201a8"
             ],
             [
              0.3333333333333333,
              "#9c179e"
             ],
             [
              0.4444444444444444,
              "#bd3786"
             ],
             [
              0.5555555555555556,
              "#d8576b"
             ],
             [
              0.6666666666666666,
              "#ed7953"
             ],
             [
              0.7777777777777778,
              "#fb9f3a"
             ],
             [
              0.8888888888888888,
              "#fdca26"
             ],
             [
              1,
              "#f0f921"
             ]
            ],
            "type": "histogram2dcontour"
           }
          ],
          "mesh3d": [
           {
            "colorbar": {
             "outlinewidth": 0,
             "ticks": ""
            },
            "type": "mesh3d"
           }
          ],
          "parcoords": [
           {
            "line": {
             "colorbar": {
              "outlinewidth": 0,
              "ticks": ""
             }
            },
            "type": "parcoords"
           }
          ],
          "pie": [
           {
            "automargin": true,
            "type": "pie"
           }
          ],
          "scatter": [
           {
            "fillpattern": {
             "fillmode": "overlay",
             "size": 10,
             "solidity": 0.2
            },
            "type": "scatter"
           }
          ],
          "scatter3d": [
           {
            "line": {
             "colorbar": {
              "outlinewidth": 0,
              "ticks": ""
             }
            },
            "marker": {
             "colorbar": {
              "outlinewidth": 0,
              "ticks": ""
             }
            },
            "type": "scatter3d"
           }
          ],
          "scattercarpet": [
           {
            "marker": {
             "colorbar": {
              "outlinewidth": 0,
              "ticks": ""
             }
            },
            "type": "scattercarpet"
           }
          ],
          "scattergeo": [
           {
            "marker": {
             "colorbar": {
              "outlinewidth": 0,
              "ticks": ""
             }
            },
            "type": "scattergeo"
           }
          ],
          "scattergl": [
           {
            "marker": {
             "colorbar": {
              "outlinewidth": 0,
              "ticks": ""
             }
            },
            "type": "scattergl"
           }
          ],
          "scattermapbox": [
           {
            "marker": {
             "colorbar": {
              "outlinewidth": 0,
              "ticks": ""
             }
            },
            "type": "scattermapbox"
           }
          ],
          "scatterpolar": [
           {
            "marker": {
             "colorbar": {
              "outlinewidth": 0,
              "ticks": ""
             }
            },
            "type": "scatterpolar"
           }
          ],
          "scatterpolargl": [
           {
            "marker": {
             "colorbar": {
              "outlinewidth": 0,
              "ticks": ""
             }
            },
            "type": "scatterpolargl"
           }
          ],
          "scatterternary": [
           {
            "marker": {
             "colorbar": {
              "outlinewidth": 0,
              "ticks": ""
             }
            },
            "type": "scatterternary"
           }
          ],
          "surface": [
           {
            "colorbar": {
             "outlinewidth": 0,
             "ticks": ""
            },
            "colorscale": [
             [
              0,
              "#0d0887"
             ],
             [
              0.1111111111111111,
              "#46039f"
             ],
             [
              0.2222222222222222,
              "#7201a8"
             ],
             [
              0.3333333333333333,
              "#9c179e"
             ],
             [
              0.4444444444444444,
              "#bd3786"
             ],
             [
              0.5555555555555556,
              "#d8576b"
             ],
             [
              0.6666666666666666,
              "#ed7953"
             ],
             [
              0.7777777777777778,
              "#fb9f3a"
             ],
             [
              0.8888888888888888,
              "#fdca26"
             ],
             [
              1,
              "#f0f921"
             ]
            ],
            "type": "surface"
           }
          ],
          "table": [
           {
            "cells": {
             "fill": {
              "color": "#EBF0F8"
             },
             "line": {
              "color": "white"
             }
            },
            "header": {
             "fill": {
              "color": "#C8D4E3"
             },
             "line": {
              "color": "white"
             }
            },
            "type": "table"
           }
          ]
         },
         "layout": {
          "annotationdefaults": {
           "arrowcolor": "#2a3f5f",
           "arrowhead": 0,
           "arrowwidth": 1
          },
          "autotypenumbers": "strict",
          "coloraxis": {
           "colorbar": {
            "outlinewidth": 0,
            "ticks": ""
           }
          },
          "colorscale": {
           "diverging": [
            [
             0,
             "#8e0152"
            ],
            [
             0.1,
             "#c51b7d"
            ],
            [
             0.2,
             "#de77ae"
            ],
            [
             0.3,
             "#f1b6da"
            ],
            [
             0.4,
             "#fde0ef"
            ],
            [
             0.5,
             "#f7f7f7"
            ],
            [
             0.6,
             "#e6f5d0"
            ],
            [
             0.7,
             "#b8e186"
            ],
            [
             0.8,
             "#7fbc41"
            ],
            [
             0.9,
             "#4d9221"
            ],
            [
             1,
             "#276419"
            ]
           ],
           "sequential": [
            [
             0,
             "#0d0887"
            ],
            [
             0.1111111111111111,
             "#46039f"
            ],
            [
             0.2222222222222222,
             "#7201a8"
            ],
            [
             0.3333333333333333,
             "#9c179e"
            ],
            [
             0.4444444444444444,
             "#bd3786"
            ],
            [
             0.5555555555555556,
             "#d8576b"
            ],
            [
             0.6666666666666666,
             "#ed7953"
            ],
            [
             0.7777777777777778,
             "#fb9f3a"
            ],
            [
             0.8888888888888888,
             "#fdca26"
            ],
            [
             1,
             "#f0f921"
            ]
           ],
           "sequentialminus": [
            [
             0,
             "#0d0887"
            ],
            [
             0.1111111111111111,
             "#46039f"
            ],
            [
             0.2222222222222222,
             "#7201a8"
            ],
            [
             0.3333333333333333,
             "#9c179e"
            ],
            [
             0.4444444444444444,
             "#bd3786"
            ],
            [
             0.5555555555555556,
             "#d8576b"
            ],
            [
             0.6666666666666666,
             "#ed7953"
            ],
            [
             0.7777777777777778,
             "#fb9f3a"
            ],
            [
             0.8888888888888888,
             "#fdca26"
            ],
            [
             1,
             "#f0f921"
            ]
           ]
          },
          "colorway": [
           "#636efa",
           "#EF553B",
           "#00cc96",
           "#ab63fa",
           "#FFA15A",
           "#19d3f3",
           "#FF6692",
           "#B6E880",
           "#FF97FF",
           "#FECB52"
          ],
          "font": {
           "color": "#2a3f5f"
          },
          "geo": {
           "bgcolor": "white",
           "lakecolor": "white",
           "landcolor": "#E5ECF6",
           "showlakes": true,
           "showland": true,
           "subunitcolor": "white"
          },
          "hoverlabel": {
           "align": "left"
          },
          "hovermode": "closest",
          "mapbox": {
           "style": "light"
          },
          "paper_bgcolor": "white",
          "plot_bgcolor": "#E5ECF6",
          "polar": {
           "angularaxis": {
            "gridcolor": "white",
            "linecolor": "white",
            "ticks": ""
           },
           "bgcolor": "#E5ECF6",
           "radialaxis": {
            "gridcolor": "white",
            "linecolor": "white",
            "ticks": ""
           }
          },
          "scene": {
           "xaxis": {
            "backgroundcolor": "#E5ECF6",
            "gridcolor": "white",
            "gridwidth": 2,
            "linecolor": "white",
            "showbackground": true,
            "ticks": "",
            "zerolinecolor": "white"
           },
           "yaxis": {
            "backgroundcolor": "#E5ECF6",
            "gridcolor": "white",
            "gridwidth": 2,
            "linecolor": "white",
            "showbackground": true,
            "ticks": "",
            "zerolinecolor": "white"
           },
           "zaxis": {
            "backgroundcolor": "#E5ECF6",
            "gridcolor": "white",
            "gridwidth": 2,
            "linecolor": "white",
            "showbackground": true,
            "ticks": "",
            "zerolinecolor": "white"
           }
          },
          "shapedefaults": {
           "line": {
            "color": "#2a3f5f"
           }
          },
          "ternary": {
           "aaxis": {
            "gridcolor": "white",
            "linecolor": "white",
            "ticks": ""
           },
           "baxis": {
            "gridcolor": "white",
            "linecolor": "white",
            "ticks": ""
           },
           "bgcolor": "#E5ECF6",
           "caxis": {
            "gridcolor": "white",
            "linecolor": "white",
            "ticks": ""
           }
          },
          "title": {
           "x": 0.05
          },
          "xaxis": {
           "automargin": true,
           "gridcolor": "white",
           "linecolor": "white",
           "ticks": "",
           "title": {
            "standoff": 15
           },
           "zerolinecolor": "white",
           "zerolinewidth": 2
          },
          "yaxis": {
           "automargin": true,
           "gridcolor": "white",
           "linecolor": "white",
           "ticks": "",
           "title": {
            "standoff": 15
           },
           "zerolinecolor": "white",
           "zerolinewidth": 2
          }
         }
        },
        "title": {
         "text": "Top 15 Businesses by PAT"
        },
        "xaxis": {
         "anchor": "y",
         "domain": [
          0,
          1
         ],
         "title": {
          "text": " PROFIT AFTER TAX "
         }
        },
        "yaxis": {
         "anchor": "x",
         "domain": [
          0,
          1
         ],
         "title": {
          "text": "BUSINESS GROUP"
         }
        }
       }
      }
     },
     "metadata": {},
     "output_type": "display_data"
    }
   ],
   "source": [
    "#Top 15 businesses with highest PAT amount\n",
    "business_pat = df.groupby('BUSINESS GROUP')[\" PROFIT AFTER TAX \"].sum().reset_index()\n",
    "\n",
    "#sort by revenue in descending order and select top 15 businesses\n",
    "top_15_pat = business_pat.sort_values(by=' PROFIT AFTER TAX ', ascending=False).head(15)\n",
    "#plotting as a pie chart\n",
    "pio.renderers.default = \"vscode\"\n",
    "fig = px.bar(\n",
    "    top_15_pat,\n",
    "    x = ' PROFIT AFTER TAX ',\n",
    "    y ='BUSINESS GROUP',\n",
    "    title='Top 15 Businesses by PAT',\n",
    "    orientation='h',\n",
    "    color_discrete_sequence=px.colors.sequential.RdBu  \n",
    ")\n",
    "fig.show()"
   ]
  },
  {
   "cell_type": "markdown",
   "id": "d26edc26",
   "metadata": {},
   "source": [
    "**Insight:** Eventhough ASP was the major revenue contributor, its PAT yield is comparitively lesser. COR generates the maximum PAT amount."
   ]
  },
  {
   "cell_type": "code",
   "execution_count": 15,
   "id": "511a1b33",
   "metadata": {},
   "outputs": [
    {
     "data": {
      "application/vnd.plotly.v1+json": {
       "config": {
        "plotlyServerURL": "https://plot.ly"
       },
       "data": [
        {
         "mode": "lines+markers",
         "name": "AMD",
         "type": "scatter",
         "x": [
          "2019-04-01T00:00:00",
          "2019-05-01T00:00:00",
          "2019-06-01T00:00:00",
          "2019-07-01T00:00:00",
          "2019-08-01T00:00:00",
          "2019-09-01T00:00:00",
          "2019-10-01T00:00:00",
          "2019-11-01T00:00:00",
          "2019-12-01T00:00:00",
          "2020-01-01T00:00:00",
          "2020-02-01T00:00:00",
          "2020-03-01T00:00:00",
          "2020-04-01T00:00:00",
          "2020-05-01T00:00:00",
          "2020-06-01T00:00:00",
          "2020-07-01T00:00:00",
          "2020-08-01T00:00:00",
          "2020-09-01T00:00:00",
          "2020-10-01T00:00:00",
          "2020-11-01T00:00:00",
          "2020-12-01T00:00:00",
          "2021-01-01T00:00:00",
          "2021-02-01T00:00:00",
          "2021-03-01T00:00:00",
          "2021-04-01T00:00:00",
          "2021-05-01T00:00:00",
          "2021-06-01T00:00:00",
          "2021-07-01T00:00:00",
          "2021-08-01T00:00:00",
          "2021-09-01T00:00:00",
          "2021-10-01T00:00:00",
          "2021-11-01T00:00:00",
          "2021-12-01T00:00:00",
          "2022-01-01T00:00:00",
          "2022-02-01T00:00:00",
          "2022-03-01T00:00:00",
          "2022-04-01T00:00:00",
          "2022-05-01T00:00:00",
          "2022-06-01T00:00:00",
          "2022-07-01T00:00:00",
          "2022-08-01T00:00:00",
          "2022-09-01T00:00:00",
          "2022-10-01T00:00:00",
          "2022-11-01T00:00:00",
          "2022-12-01T00:00:00",
          "2023-01-01T00:00:00",
          "2023-02-01T00:00:00",
          "2023-03-01T00:00:00",
          "2023-04-01T00:00:00",
          "2023-05-01T00:00:00",
          "2023-06-01T00:00:00",
          "2023-07-01T00:00:00",
          "2023-08-01T00:00:00",
          "2023-09-01T00:00:00",
          "2023-10-01T00:00:00",
          "2023-11-01T00:00:00",
          "2023-12-01T00:00:00",
          "2024-01-01T00:00:00",
          "2024-02-01T00:00:00",
          "2024-03-01T00:00:00",
          "2024-04-01T00:00:00",
          "2024-05-01T00:00:00",
          "2024-06-01T00:00:00"
         ],
         "y": [
          14657408842.35,
          14244403535.050001,
          12361373959.960001,
          8748705974.51,
          8396736987.31,
          9673120704.84,
          8174070716.05,
          7699295681.570001,
          8858935650.75,
          9105442441.04,
          9918111402.44,
          7311987906.440001,
          7876291435.950001,
          7356060367.650001,
          7611912539.65,
          8004277450.72,
          8190391675.360001,
          9530940476.11,
          10050631274.26,
          8903669482.130001,
          10510774755.7,
          6907478031.58,
          9407489432.07,
          7612215120.76,
          8542662237.280001,
          8229037537.27,
          7360442449.690001,
          7975755427.24,
          9310081992.91,
          14213623667.55,
          8352951084.54,
          6884879730.4800005,
          6289798375.780001,
          6710862010.490001,
          6370467996.21,
          7829461711.820001,
          7444486766.47,
          7097199071.12,
          4567225683.89,
          18456112967.57,
          8474417131.830001,
          20550831102.11,
          16202833715.570002,
          18789833362.99,
          20017910447.9,
          15096216007.560001,
          14853941682.85,
          20313198228.7,
          20424370808.780003,
          29115840224.43,
          22071714115.89,
          25028597592.12,
          21294401709.030003,
          21477187116.08,
          41252893027.42,
          5634467850.84,
          10150165481.09,
          10985634624.87,
          9535980624.36,
          7185273895.07,
          8741480889.99,
          21007930461.170002,
          16622821076.82
         ]
        },
        {
         "mode": "lines+markers",
         "name": "ASD",
         "type": "scatter",
         "x": [
          "2019-04-01T00:00:00",
          "2019-05-01T00:00:00",
          "2019-06-01T00:00:00",
          "2019-07-01T00:00:00",
          "2019-08-01T00:00:00",
          "2019-09-01T00:00:00",
          "2019-10-01T00:00:00",
          "2019-11-01T00:00:00",
          "2019-12-01T00:00:00",
          "2020-01-01T00:00:00",
          "2020-02-01T00:00:00",
          "2020-03-01T00:00:00",
          "2020-04-01T00:00:00",
          "2020-05-01T00:00:00",
          "2020-06-01T00:00:00",
          "2020-07-01T00:00:00",
          "2020-08-01T00:00:00",
          "2020-09-01T00:00:00",
          "2020-10-01T00:00:00",
          "2020-11-01T00:00:00",
          "2020-12-01T00:00:00",
          "2021-01-01T00:00:00",
          "2021-02-01T00:00:00",
          "2021-03-01T00:00:00",
          "2021-04-01T00:00:00",
          "2021-05-01T00:00:00",
          "2021-06-01T00:00:00",
          "2021-07-01T00:00:00",
          "2021-08-01T00:00:00",
          "2021-09-01T00:00:00",
          "2021-10-01T00:00:00",
          "2021-11-01T00:00:00",
          "2021-12-01T00:00:00",
          "2022-01-01T00:00:00",
          "2022-02-01T00:00:00",
          "2022-03-01T00:00:00",
          "2022-04-01T00:00:00",
          "2022-05-01T00:00:00",
          "2022-06-01T00:00:00",
          "2022-07-01T00:00:00",
          "2022-08-01T00:00:00",
          "2022-09-01T00:00:00",
          "2022-10-01T00:00:00",
          "2022-11-01T00:00:00",
          "2022-12-01T00:00:00",
          "2023-01-01T00:00:00",
          "2023-02-01T00:00:00",
          "2023-03-01T00:00:00",
          "2023-04-01T00:00:00",
          "2023-05-01T00:00:00",
          "2023-06-01T00:00:00",
          "2023-07-01T00:00:00",
          "2023-08-01T00:00:00",
          "2023-09-01T00:00:00",
          "2023-10-01T00:00:00",
          "2023-11-01T00:00:00",
          "2023-12-01T00:00:00",
          "2024-01-01T00:00:00",
          "2024-02-01T00:00:00",
          "2024-03-01T00:00:00",
          "2024-04-01T00:00:00",
          "2024-05-01T00:00:00",
          "2024-06-01T00:00:00"
         ],
         "y": [
          5250857741.76,
          16026976187.079998,
          12905958843.789999,
          18855377064.46,
          15575937611.33,
          16980183808.689999,
          14836710276.3,
          14728964401.23,
          13194940880.81,
          14164727284.58,
          14366205062.89,
          10131990512.09,
          4776995301.55,
          13036258086.36,
          19990906488.9,
          22458722085.93,
          24453865166.45,
          15127454586.35,
          39840555928.700005,
          16782377648.17,
          23491325904.85,
          15091940302.16,
          29409954629.18,
          21558326961.210003,
          27374583704.18,
          21922416076.260002,
          28536160230.41,
          36967014840.600006,
          32624111334.02,
          18610680901.61,
          26229375889.42,
          36245083558.689995,
          25806442884.37,
          11615872175.61,
          22782230339,
          36021160744.75,
          6303034572.74,
          4283821979.3700004,
          33213453818.689995,
          5907214959.4800005,
          40447724624.33,
          27806330547.16,
          8451996409.52,
          27449551026.239998,
          27282062895.2,
          17957421418.01,
          15061329078.380001,
          28206310725.86,
          30720536153.870003,
          26856915146.270004,
          24853534253.01,
          26823834797.9,
          26400231764.97,
          22637810905.809998,
          21707192061.92,
          22961844813.73,
          23775433295.379997,
          24480966475.420002,
          24739319377.300003,
          26234187377.010002,
          30794561708.550003,
          33054398486.75,
          29823366302.1
         ]
        },
        {
         "mode": "lines+markers",
         "name": "ASP",
         "type": "scatter",
         "x": [
          "2019-04-01T00:00:00",
          "2019-05-01T00:00:00",
          "2019-06-01T00:00:00",
          "2019-07-01T00:00:00",
          "2019-08-01T00:00:00",
          "2019-09-01T00:00:00",
          "2019-10-01T00:00:00",
          "2019-11-01T00:00:00",
          "2019-12-01T00:00:00",
          "2020-01-01T00:00:00",
          "2020-02-01T00:00:00",
          "2020-03-01T00:00:00",
          "2020-04-01T00:00:00",
          "2020-05-01T00:00:00",
          "2020-06-01T00:00:00",
          "2020-07-01T00:00:00",
          "2020-08-01T00:00:00",
          "2020-09-01T00:00:00",
          "2020-10-01T00:00:00",
          "2020-11-01T00:00:00",
          "2020-12-01T00:00:00",
          "2021-01-01T00:00:00",
          "2021-02-01T00:00:00",
          "2021-03-01T00:00:00",
          "2021-04-01T00:00:00",
          "2021-05-01T00:00:00",
          "2021-06-01T00:00:00",
          "2021-07-01T00:00:00",
          "2021-08-01T00:00:00",
          "2021-09-01T00:00:00",
          "2021-10-01T00:00:00",
          "2021-11-01T00:00:00",
          "2021-12-01T00:00:00",
          "2022-01-01T00:00:00",
          "2022-02-01T00:00:00",
          "2022-03-01T00:00:00",
          "2022-04-01T00:00:00",
          "2022-05-01T00:00:00",
          "2022-06-01T00:00:00",
          "2022-07-01T00:00:00",
          "2022-08-01T00:00:00",
          "2022-09-01T00:00:00",
          "2022-10-01T00:00:00",
          "2022-11-01T00:00:00",
          "2022-12-01T00:00:00",
          "2023-01-01T00:00:00",
          "2023-02-01T00:00:00",
          "2023-03-01T00:00:00",
          "2023-04-01T00:00:00",
          "2023-05-01T00:00:00",
          "2023-06-01T00:00:00",
          "2023-07-01T00:00:00",
          "2023-08-01T00:00:00",
          "2023-09-01T00:00:00",
          "2023-10-01T00:00:00",
          "2023-11-01T00:00:00",
          "2023-12-01T00:00:00",
          "2024-01-01T00:00:00",
          "2024-02-01T00:00:00",
          "2024-03-01T00:00:00",
          "2024-04-01T00:00:00",
          "2024-05-01T00:00:00",
          "2024-06-01T00:00:00"
         ],
         "y": [
          984535826.58,
          14144641617.29,
          12264002735.25,
          14138802539.500002,
          11585805768.01,
          43758106756.159996,
          52471088767.43,
          907725851.47,
          22235999599.43,
          34024539964.18,
          15613030226.45,
          16529940591.09,
          472130638.12,
          15554650944.480001,
          33730457353.36,
          34574607236.2,
          24058972398.59,
          14719127350.949999,
          87657680426.62001,
          64516747783.259995,
          49686351640.82,
          57723890268.05001,
          33511728135.129997,
          22645069051.48,
          25208301222.72,
          8505321023.01,
          18470120197.2,
          27127949520.47,
          21911966633.36,
          28331863194.88,
          32483805458.73,
          41012591738.06999,
          56072036959.38,
          29332992823.570004,
          37081282514.490005,
          35019500664.47,
          43968251585.03001,
          46259295451.23,
          31734285493.57,
          30075170708.53,
          19429320296.130005,
          38515874297.35999,
          72295564425.14,
          46262377888.22,
          36375201141.48,
          984535826.58,
          984535826.58,
          44604006840.67,
          63607454443.619995,
          54453522368.78,
          39499864355.22,
          50905759794.200005,
          34278432663.350002,
          68892993884.11,
          120969587310.36,
          82844770871.72,
          28720194964.699997,
          83943589592.65999,
          54673764490.270004,
          52016710847.01,
          69237340048.95,
          46164989544.83,
          51183819983.44
         ]
        },
        {
         "mode": "lines+markers",
         "name": "CET",
         "type": "scatter",
         "x": [
          "2019-04-01T00:00:00",
          "2019-05-01T00:00:00",
          "2019-06-01T00:00:00",
          "2019-07-01T00:00:00",
          "2019-08-01T00:00:00",
          "2019-09-01T00:00:00",
          "2019-10-01T00:00:00",
          "2019-11-01T00:00:00",
          "2019-12-01T00:00:00",
          "2020-01-01T00:00:00",
          "2020-02-01T00:00:00",
          "2020-03-01T00:00:00",
          "2020-04-01T00:00:00",
          "2020-05-01T00:00:00",
          "2020-06-01T00:00:00",
          "2020-07-01T00:00:00",
          "2020-08-01T00:00:00",
          "2020-09-01T00:00:00",
          "2020-10-01T00:00:00",
          "2020-11-01T00:00:00",
          "2020-12-01T00:00:00",
          "2021-01-01T00:00:00",
          "2021-02-01T00:00:00",
          "2021-03-01T00:00:00",
          "2021-04-01T00:00:00",
          "2021-05-01T00:00:00",
          "2021-06-01T00:00:00",
          "2021-07-01T00:00:00",
          "2021-08-01T00:00:00",
          "2021-09-01T00:00:00",
          "2021-10-01T00:00:00",
          "2021-11-01T00:00:00",
          "2021-12-01T00:00:00",
          "2022-01-01T00:00:00",
          "2022-02-01T00:00:00",
          "2022-03-01T00:00:00",
          "2022-04-01T00:00:00",
          "2022-05-01T00:00:00",
          "2022-06-01T00:00:00",
          "2022-07-01T00:00:00",
          "2022-08-01T00:00:00",
          "2022-09-01T00:00:00",
          "2022-10-01T00:00:00",
          "2022-11-01T00:00:00",
          "2022-12-01T00:00:00",
          "2023-01-01T00:00:00",
          "2023-02-01T00:00:00",
          "2023-03-01T00:00:00",
          "2023-04-01T00:00:00",
          "2023-05-01T00:00:00",
          "2023-06-01T00:00:00",
          "2023-07-01T00:00:00",
          "2023-08-01T00:00:00",
          "2023-09-01T00:00:00",
          "2023-10-01T00:00:00",
          "2023-11-01T00:00:00",
          "2023-12-01T00:00:00",
          "2024-01-01T00:00:00",
          "2024-02-01T00:00:00",
          "2024-03-01T00:00:00",
          "2024-04-01T00:00:00",
          "2024-05-01T00:00:00",
          "2024-06-01T00:00:00"
         ],
         "y": [
          11184993173.2,
          11860215435.11,
          8518330739.370001,
          12137522560.09,
          8653968887.83,
          5387035514.66,
          7564971221.12,
          8569186077.820001,
          6138471839.51,
          8413681138.98,
          8372327976.360001,
          6675889178.08,
          6997130576.17,
          8683317138.65,
          9154980226.09,
          8234035461.940001,
          8427248608.05,
          6547906863.14,
          8452295596.42,
          8567244665.4800005,
          11654461976.68,
          11889873544.36,
          11874355847.45,
          12322117043.400002,
          10688748848,
          12340734802.49,
          12946534399.880001,
          13025608102.85,
          13169949717.66,
          13133299165.470001,
          13260941966.810001,
          14151165635.68,
          14478031436.09,
          14522260062.11,
          14571897732.470001,
          14950493639.470001,
          14911465825.640001,
          15719943705.78,
          14956785177.99,
          16876690548.27,
          15755042576.54,
          15982172813.800001,
          18074196605.9,
          18047981029.420002,
          18318815041.920002,
          18491367826.100002,
          18319218012.5,
          18961336620.86,
          18839892241.02,
          18914465150.36,
          19091125186.960003,
          19137125410.24,
          19237987180.12,
          19047545708.33,
          21028886755.510002,
          14756795208.43,
          22899582824.010002,
          14880821600.12,
          10247587914.9,
          14723119050.27,
          15308288988.670002,
          14105057386,
          14084696129.18
         ]
        },
        {
         "mode": "lines+markers",
         "name": "CMS",
         "type": "scatter",
         "x": [
          "2019-04-01T00:00:00",
          "2019-05-01T00:00:00",
          "2019-06-01T00:00:00",
          "2019-07-01T00:00:00",
          "2019-08-01T00:00:00",
          "2019-09-01T00:00:00",
          "2019-10-01T00:00:00",
          "2019-11-01T00:00:00",
          "2019-12-01T00:00:00",
          "2020-01-01T00:00:00",
          "2020-02-01T00:00:00",
          "2020-03-01T00:00:00",
          "2020-04-01T00:00:00",
          "2020-05-01T00:00:00",
          "2020-06-01T00:00:00",
          "2020-07-01T00:00:00",
          "2020-08-01T00:00:00",
          "2020-09-01T00:00:00",
          "2020-10-01T00:00:00",
          "2020-11-01T00:00:00",
          "2020-12-01T00:00:00",
          "2021-01-01T00:00:00",
          "2021-02-01T00:00:00",
          "2021-03-01T00:00:00",
          "2021-04-01T00:00:00",
          "2021-05-01T00:00:00",
          "2021-06-01T00:00:00",
          "2021-07-01T00:00:00",
          "2021-08-01T00:00:00",
          "2021-09-01T00:00:00",
          "2021-10-01T00:00:00",
          "2021-11-01T00:00:00",
          "2021-12-01T00:00:00",
          "2022-01-01T00:00:00",
          "2022-02-01T00:00:00",
          "2022-03-01T00:00:00",
          "2022-04-01T00:00:00",
          "2022-05-01T00:00:00",
          "2022-06-01T00:00:00",
          "2022-07-01T00:00:00",
          "2022-08-01T00:00:00",
          "2022-09-01T00:00:00",
          "2022-10-01T00:00:00",
          "2022-11-01T00:00:00",
          "2022-12-01T00:00:00",
          "2023-01-01T00:00:00",
          "2023-02-01T00:00:00",
          "2023-03-01T00:00:00",
          "2023-04-01T00:00:00",
          "2023-05-01T00:00:00",
          "2023-06-01T00:00:00",
          "2023-07-01T00:00:00",
          "2023-08-01T00:00:00",
          "2023-09-01T00:00:00",
          "2023-10-01T00:00:00",
          "2023-11-01T00:00:00",
          "2023-12-01T00:00:00",
          "2024-01-01T00:00:00",
          "2024-02-01T00:00:00",
          "2024-03-01T00:00:00",
          "2024-04-01T00:00:00",
          "2024-05-01T00:00:00",
          "2024-06-01T00:00:00"
         ],
         "y": [
          1312714435.44,
          1312714435.44,
          331633884.41,
          1312714435.44,
          1312714435.44,
          336638581.54,
          1312714435.44,
          1312714435.44,
          343600711.21000004,
          1312714435.44,
          1312714435.44,
          337500957.41,
          336733728.87,
          1312714435.44,
          1312714435.44,
          1312714435.44,
          1312714435.44,
          346687989.08000004,
          1312714435.44,
          1312714435.44,
          1312714435.44,
          1312714435.44,
          984535826.58,
          984535826.58,
          984535826.58,
          984535826.58,
          984535826.58,
          984535826.58,
          984535826.58,
          984535826.58,
          984535826.58,
          984535826.58,
          984535826.58,
          984535826.58,
          984535826.58,
          984535826.58,
          984535826.58,
          984535826.58,
          984535826.58,
          1312714435.44,
          984535826.58,
          1312714435.44,
          3609964697.46,
          3938143306.32,
          3938143306.32,
          3938143306.32,
          3938143306.32,
          3938143306.32,
          3938143306.32,
          4266321915.1800003,
          4266321915.1800003,
          4266321915.1800003,
          4266321915.1800003,
          4266321915.1800003,
          3941169236.26,
          3281786088.6000004,
          4266321915.1800003,
          2956120181.71,
          3281786088.6000004,
          3680380404.7000003,
          3938143306.32,
          3615771456.11,
          3938143306.32
         ]
        },
        {
         "mode": "lines+markers",
         "name": "COB",
         "type": "scatter",
         "x": [
          "2019-04-01T00:00:00",
          "2019-05-01T00:00:00",
          "2019-06-01T00:00:00",
          "2019-07-01T00:00:00",
          "2019-08-01T00:00:00",
          "2019-09-01T00:00:00",
          "2019-10-01T00:00:00",
          "2019-11-01T00:00:00",
          "2019-12-01T00:00:00",
          "2020-01-01T00:00:00",
          "2020-02-01T00:00:00",
          "2020-03-01T00:00:00",
          "2020-04-01T00:00:00",
          "2020-05-01T00:00:00",
          "2020-06-01T00:00:00",
          "2020-07-01T00:00:00",
          "2020-08-01T00:00:00",
          "2020-09-01T00:00:00",
          "2020-10-01T00:00:00",
          "2020-11-01T00:00:00",
          "2020-12-01T00:00:00",
          "2021-01-01T00:00:00",
          "2021-02-01T00:00:00",
          "2021-03-01T00:00:00",
          "2021-04-01T00:00:00",
          "2021-05-01T00:00:00",
          "2021-06-01T00:00:00",
          "2021-07-01T00:00:00",
          "2021-08-01T00:00:00",
          "2021-09-01T00:00:00",
          "2021-10-01T00:00:00",
          "2021-11-01T00:00:00",
          "2021-12-01T00:00:00",
          "2022-01-01T00:00:00",
          "2022-02-01T00:00:00",
          "2022-03-01T00:00:00",
          "2022-04-01T00:00:00",
          "2022-05-01T00:00:00",
          "2022-06-01T00:00:00",
          "2022-07-01T00:00:00",
          "2022-08-01T00:00:00",
          "2022-09-01T00:00:00",
          "2022-10-01T00:00:00",
          "2022-11-01T00:00:00",
          "2022-12-01T00:00:00",
          "2023-01-01T00:00:00",
          "2023-02-01T00:00:00",
          "2023-03-01T00:00:00",
          "2023-04-01T00:00:00",
          "2023-05-01T00:00:00",
          "2023-06-01T00:00:00",
          "2023-07-01T00:00:00",
          "2023-08-01T00:00:00",
          "2023-09-01T00:00:00",
          "2023-10-01T00:00:00",
          "2023-11-01T00:00:00",
          "2023-12-01T00:00:00",
          "2024-01-01T00:00:00",
          "2024-02-01T00:00:00",
          "2024-03-01T00:00:00",
          "2024-04-01T00:00:00",
          "2024-05-01T00:00:00",
          "2024-06-01T00:00:00"
         ],
         "y": [
          13662547346.11,
          10829894092.380001,
          11896450213.88,
          11814429918.960001,
          11715266992.460001,
          11056641903.03,
          9845358265.800001,
          9845358265.800001,
          11193199335.300001,
          10510483728.66,
          9728521010.66,
          10361688498.97,
          6182127330.22,
          8204465221.5,
          13008017366.54,
          8371041548.97,
          9780118081.130001,
          13083608280.98,
          9000730632.380001,
          8532643830.360001,
          8889569494.6,
          8428774073.77,
          8293859482.52,
          11895714773.33,
          6891750786.06,
          8757174843.460001,
          9297492095.87,
          8199468649.240001,
          8372140892.97,
          11812492764.74,
          8204465221.5,
          8251090198.54,
          11515339122.08,
          8204465221.5,
          8204465221.5,
          14200618824.98,
          8532643830.360001,
          8860822439.220001,
          6891750786.06,
          17393466269.58,
          8532643830.360001,
          8798181308.57,
          8532643830.360001,
          17721644878.440002,
          17623970440.95,
          17721644878.440002,
          17721644878.440002,
          17721644878.440002,
          17721644878.440002,
          17721644878.440002,
          8860822439.220001,
          8532643830.360001,
          8860822439.220001,
          8860822439.220001,
          23803079977.4,
          15672527462.619999,
          25573566244.010002,
          17582809723.61,
          22563877861.280003,
          34519014551.82,
          24869958628.4,
          31219821177.9,
          15820553238.41
         ]
        },
        {
         "mode": "lines+markers",
         "name": "COH",
         "type": "scatter",
         "x": [
          "2019-04-01T00:00:00",
          "2019-05-01T00:00:00",
          "2019-06-01T00:00:00",
          "2019-07-01T00:00:00",
          "2019-08-01T00:00:00",
          "2019-09-01T00:00:00",
          "2019-10-01T00:00:00",
          "2019-11-01T00:00:00",
          "2019-12-01T00:00:00",
          "2020-01-01T00:00:00",
          "2020-02-01T00:00:00",
          "2020-03-01T00:00:00",
          "2020-04-01T00:00:00",
          "2020-05-01T00:00:00",
          "2020-06-01T00:00:00",
          "2020-07-01T00:00:00",
          "2020-08-01T00:00:00",
          "2020-09-01T00:00:00",
          "2020-10-01T00:00:00",
          "2020-11-01T00:00:00",
          "2020-12-01T00:00:00",
          "2021-01-01T00:00:00",
          "2021-02-01T00:00:00",
          "2021-03-01T00:00:00",
          "2021-04-01T00:00:00",
          "2021-05-01T00:00:00",
          "2021-06-01T00:00:00",
          "2021-07-01T00:00:00",
          "2021-08-01T00:00:00",
          "2021-09-01T00:00:00",
          "2021-10-01T00:00:00",
          "2021-11-01T00:00:00",
          "2021-12-01T00:00:00",
          "2022-01-01T00:00:00",
          "2022-02-01T00:00:00",
          "2022-03-01T00:00:00",
          "2022-04-01T00:00:00",
          "2022-05-01T00:00:00",
          "2022-06-01T00:00:00",
          "2022-07-01T00:00:00",
          "2022-08-01T00:00:00",
          "2022-09-01T00:00:00",
          "2022-10-01T00:00:00",
          "2022-11-01T00:00:00",
          "2022-12-01T00:00:00",
          "2023-01-01T00:00:00",
          "2023-02-01T00:00:00",
          "2023-03-01T00:00:00",
          "2023-04-01T00:00:00",
          "2023-05-01T00:00:00",
          "2023-06-01T00:00:00",
          "2023-07-01T00:00:00",
          "2023-08-01T00:00:00",
          "2023-09-01T00:00:00",
          "2023-10-01T00:00:00",
          "2023-11-01T00:00:00",
          "2023-12-01T00:00:00",
          "2024-01-01T00:00:00",
          "2024-02-01T00:00:00",
          "2024-03-01T00:00:00",
          "2024-04-01T00:00:00",
          "2024-05-01T00:00:00",
          "2024-06-01T00:00:00"
         ],
         "y": [
          null,
          null,
          null,
          null,
          null,
          null,
          null,
          null,
          null,
          null,
          null,
          null,
          null,
          null,
          null,
          null,
          null,
          null,
          null,
          null,
          null,
          null,
          null,
          null,
          null,
          null,
          null,
          null,
          null,
          null,
          null,
          null,
          null,
          null,
          null,
          null,
          null,
          null,
          328178608.86,
          328178608.86,
          328178608.86,
          328178608.86,
          328178608.86,
          328178608.86,
          328178608.86,
          328178608.86,
          328178608.86,
          328178608.86,
          null,
          null,
          null,
          null,
          null,
          null,
          null,
          null,
          null,
          null,
          null,
          null,
          null,
          null,
          null
         ]
        },
        {
         "mode": "lines+markers",
         "name": "COR",
         "type": "scatter",
         "x": [
          "2019-04-01T00:00:00",
          "2019-05-01T00:00:00",
          "2019-06-01T00:00:00",
          "2019-07-01T00:00:00",
          "2019-08-01T00:00:00",
          "2019-09-01T00:00:00",
          "2019-10-01T00:00:00",
          "2019-11-01T00:00:00",
          "2019-12-01T00:00:00",
          "2020-01-01T00:00:00",
          "2020-02-01T00:00:00",
          "2020-03-01T00:00:00",
          "2020-04-01T00:00:00",
          "2020-05-01T00:00:00",
          "2020-06-01T00:00:00",
          "2020-07-01T00:00:00",
          "2020-08-01T00:00:00",
          "2020-09-01T00:00:00",
          "2020-10-01T00:00:00",
          "2020-11-01T00:00:00",
          "2020-12-01T00:00:00",
          "2021-01-01T00:00:00",
          "2021-02-01T00:00:00",
          "2021-03-01T00:00:00",
          "2021-04-01T00:00:00",
          "2021-05-01T00:00:00",
          "2021-06-01T00:00:00",
          "2021-07-01T00:00:00",
          "2021-08-01T00:00:00",
          "2021-09-01T00:00:00",
          "2021-10-01T00:00:00",
          "2021-11-01T00:00:00",
          "2021-12-01T00:00:00",
          "2022-01-01T00:00:00",
          "2022-02-01T00:00:00",
          "2022-03-01T00:00:00",
          "2022-04-01T00:00:00",
          "2022-05-01T00:00:00",
          "2022-06-01T00:00:00",
          "2022-07-01T00:00:00",
          "2022-08-01T00:00:00",
          "2022-09-01T00:00:00",
          "2022-10-01T00:00:00",
          "2022-11-01T00:00:00",
          "2022-12-01T00:00:00",
          "2023-01-01T00:00:00",
          "2023-02-01T00:00:00",
          "2023-03-01T00:00:00",
          "2023-04-01T00:00:00",
          "2023-05-01T00:00:00",
          "2023-06-01T00:00:00",
          "2023-07-01T00:00:00",
          "2023-08-01T00:00:00",
          "2023-09-01T00:00:00",
          "2023-10-01T00:00:00",
          "2023-11-01T00:00:00",
          "2023-12-01T00:00:00",
          "2024-01-01T00:00:00",
          "2024-02-01T00:00:00",
          "2024-03-01T00:00:00",
          "2024-04-01T00:00:00",
          "2024-05-01T00:00:00",
          "2024-06-01T00:00:00"
         ],
         "y": [
          null,
          null,
          328178608.86,
          null,
          328178608.86,
          328178608.86,
          328178608.86,
          328178608.86,
          328178608.86,
          null,
          328178608.86,
          328178608.86,
          null,
          328178608.86,
          null,
          null,
          null,
          328178608.86,
          null,
          null,
          null,
          null,
          328178608.86,
          328178608.86,
          null,
          null,
          null,
          null,
          328178608.86,
          null,
          null,
          null,
          328178608.86,
          328178608.86,
          null,
          328178608.86,
          null,
          null,
          328178608.86,
          29619223486.45,
          328178608.86,
          328178608.86,
          656357217.72,
          656357217.72,
          656357217.72,
          328178608.86,
          328178608.86,
          328178608.86,
          328178608.86,
          328178608.86,
          656357217.72,
          328178608.86,
          328178608.86,
          656357217.72,
          328178608.86,
          656357217.72,
          656357217.72,
          656357217.72,
          656357217.72,
          656357217.72,
          328178608.86,
          656357217.72,
          656357217.72
         ]
        },
        {
         "mode": "lines+markers",
         "name": "CPB",
         "type": "scatter",
         "x": [
          "2019-04-01T00:00:00",
          "2019-05-01T00:00:00",
          "2019-06-01T00:00:00",
          "2019-07-01T00:00:00",
          "2019-08-01T00:00:00",
          "2019-09-01T00:00:00",
          "2019-10-01T00:00:00",
          "2019-11-01T00:00:00",
          "2019-12-01T00:00:00",
          "2020-01-01T00:00:00",
          "2020-02-01T00:00:00",
          "2020-03-01T00:00:00",
          "2020-04-01T00:00:00",
          "2020-05-01T00:00:00",
          "2020-06-01T00:00:00",
          "2020-07-01T00:00:00",
          "2020-08-01T00:00:00",
          "2020-09-01T00:00:00",
          "2020-10-01T00:00:00",
          "2020-11-01T00:00:00",
          "2020-12-01T00:00:00",
          "2021-01-01T00:00:00",
          "2021-02-01T00:00:00",
          "2021-03-01T00:00:00",
          "2021-04-01T00:00:00",
          "2021-05-01T00:00:00",
          "2021-06-01T00:00:00",
          "2021-07-01T00:00:00",
          "2021-08-01T00:00:00",
          "2021-09-01T00:00:00",
          "2021-10-01T00:00:00",
          "2021-11-01T00:00:00",
          "2021-12-01T00:00:00",
          "2022-01-01T00:00:00",
          "2022-02-01T00:00:00",
          "2022-03-01T00:00:00",
          "2022-04-01T00:00:00",
          "2022-05-01T00:00:00",
          "2022-06-01T00:00:00",
          "2022-07-01T00:00:00",
          "2022-08-01T00:00:00",
          "2022-09-01T00:00:00",
          "2022-10-01T00:00:00",
          "2022-11-01T00:00:00",
          "2022-12-01T00:00:00",
          "2023-01-01T00:00:00",
          "2023-02-01T00:00:00",
          "2023-03-01T00:00:00",
          "2023-04-01T00:00:00",
          "2023-05-01T00:00:00",
          "2023-06-01T00:00:00",
          "2023-07-01T00:00:00",
          "2023-08-01T00:00:00",
          "2023-09-01T00:00:00",
          "2023-10-01T00:00:00",
          "2023-11-01T00:00:00",
          "2023-12-01T00:00:00",
          "2024-01-01T00:00:00",
          "2024-02-01T00:00:00",
          "2024-03-01T00:00:00",
          "2024-04-01T00:00:00",
          "2024-05-01T00:00:00",
          "2024-06-01T00:00:00"
         ],
         "y": [
          6891750786.06,
          8606750167.18,
          11410531047.19,
          9763096581.34,
          9736342763.74,
          22651386797.260002,
          11693112813.369999,
          7846793752.54,
          9202806967.31,
          9459747084.51,
          9289469632.45,
          9083156282.48,
          5285788741.85,
          8033582162.82,
          14396134863.640001,
          14232753820.57,
          10431699008.39,
          28091695802.280003,
          19380008478.53,
          12510180410.78,
          12659024521.59,
          11163935899.23,
          10303547203.400002,
          12003358697.32,
          11705157931.349998,
          11799584605.68,
          20130165192.699997,
          17568331961.620003,
          23197141769.94,
          31793541235.38,
          16788638068.36,
          10740451927.21,
          12412688382.570002,
          15026742910.98,
          16375175985.800001,
          14923117614.179998,
          9386521077.54,
          14513112804.75,
          12163377884.630001,
          22422206917.85,
          18333636445.809998,
          27694069545.04,
          17524241362.120003,
          10173536874.66,
          12470787136.68,
          15823051986.060001,
          16537518423.12,
          22935876859.58,
          21553967735.74,
          17961801805.56,
          12142608527.82,
          12142608527.82,
          12142608527.82,
          19689375641.54,
          27270592881.050003,
          21274286143.920002,
          18788576377.94,
          19310044547.88,
          14004834100.33,
          18154227830.97,
          21724832438.059998,
          11541584540.69,
          14642261653.160002
         ]
        },
        {
         "mode": "lines+markers",
         "name": "DPG",
         "type": "scatter",
         "x": [
          "2019-04-01T00:00:00",
          "2019-05-01T00:00:00",
          "2019-06-01T00:00:00",
          "2019-07-01T00:00:00",
          "2019-08-01T00:00:00",
          "2019-09-01T00:00:00",
          "2019-10-01T00:00:00",
          "2019-11-01T00:00:00",
          "2019-12-01T00:00:00",
          "2020-01-01T00:00:00",
          "2020-02-01T00:00:00",
          "2020-03-01T00:00:00",
          "2020-04-01T00:00:00",
          "2020-05-01T00:00:00",
          "2020-06-01T00:00:00",
          "2020-07-01T00:00:00",
          "2020-08-01T00:00:00",
          "2020-09-01T00:00:00",
          "2020-10-01T00:00:00",
          "2020-11-01T00:00:00",
          "2020-12-01T00:00:00",
          "2021-01-01T00:00:00",
          "2021-02-01T00:00:00",
          "2021-03-01T00:00:00",
          "2021-04-01T00:00:00",
          "2021-05-01T00:00:00",
          "2021-06-01T00:00:00",
          "2021-07-01T00:00:00",
          "2021-08-01T00:00:00",
          "2021-09-01T00:00:00",
          "2021-10-01T00:00:00",
          "2021-11-01T00:00:00",
          "2021-12-01T00:00:00",
          "2022-01-01T00:00:00",
          "2022-02-01T00:00:00",
          "2022-03-01T00:00:00",
          "2022-04-01T00:00:00",
          "2022-05-01T00:00:00",
          "2022-06-01T00:00:00",
          "2022-07-01T00:00:00",
          "2022-08-01T00:00:00",
          "2022-09-01T00:00:00",
          "2022-10-01T00:00:00",
          "2022-11-01T00:00:00",
          "2022-12-01T00:00:00",
          "2023-01-01T00:00:00",
          "2023-02-01T00:00:00",
          "2023-03-01T00:00:00",
          "2023-04-01T00:00:00",
          "2023-05-01T00:00:00",
          "2023-06-01T00:00:00",
          "2023-07-01T00:00:00",
          "2023-08-01T00:00:00",
          "2023-09-01T00:00:00",
          "2023-10-01T00:00:00",
          "2023-11-01T00:00:00",
          "2023-12-01T00:00:00",
          "2024-01-01T00:00:00",
          "2024-02-01T00:00:00",
          "2024-03-01T00:00:00",
          "2024-04-01T00:00:00",
          "2024-05-01T00:00:00",
          "2024-06-01T00:00:00"
         ],
         "y": [
          5863980511.690001,
          6385494517.51,
          3959659847.6,
          4594500524.04,
          4594500524.04,
          3890505555.14,
          4594500524.04,
          6089105681.400001,
          4465015048.28,
          4922679132.900001,
          4922679132.900001,
          4842405671.86,
          3451019888.2200003,
          4594500524.04,
          5152854986.85,
          4594500524.04,
          4922679132.900001,
          4681737666.26,
          3938143306.32,
          4594500524.04,
          5072627368.610001,
          4774999584.75,
          5115811195.82,
          4842179433.25,
          3799317281.07,
          3815236425.81,
          4733818570.45,
          4698207461.17,
          4156396452.7200003,
          4572301434.85,
          4542734943.21,
          4542200932.150001,
          5563136765.5,
          5125968480.48,
          5375309731.52,
          4767200450.21,
          5529008355.54,
          5121463638.51,
          5548793779.89,
          6476535172.22,
          5323156247.150001,
          5166298320.88,
          5792190674.150001,
          5907214959.4800005,
          6926521556.46,
          7098433505.59,
          7519941403.39,
          7627715710.28,
          7876851462.76,
          7758443043.8,
          8445986750.17,
          8184492932.96,
          7986604920.440001,
          8091462566.76,
          8016962038.74,
          7601879097.82,
          8610460502.82,
          8126922708.35,
          8056990503.32,
          8073747771.49,
          8101924905.56,
          8121218198.790001,
          8586601058.68
         ]
        },
        {
         "mode": "lines+markers",
         "name": "ECM",
         "type": "scatter",
         "x": [
          "2019-04-01T00:00:00",
          "2019-05-01T00:00:00",
          "2019-06-01T00:00:00",
          "2019-07-01T00:00:00",
          "2019-08-01T00:00:00",
          "2019-09-01T00:00:00",
          "2019-10-01T00:00:00",
          "2019-11-01T00:00:00",
          "2019-12-01T00:00:00",
          "2020-01-01T00:00:00",
          "2020-02-01T00:00:00",
          "2020-03-01T00:00:00",
          "2020-04-01T00:00:00",
          "2020-05-01T00:00:00",
          "2020-06-01T00:00:00",
          "2020-07-01T00:00:00",
          "2020-08-01T00:00:00",
          "2020-09-01T00:00:00",
          "2020-10-01T00:00:00",
          "2020-11-01T00:00:00",
          "2020-12-01T00:00:00",
          "2021-01-01T00:00:00",
          "2021-02-01T00:00:00",
          "2021-03-01T00:00:00",
          "2021-04-01T00:00:00",
          "2021-05-01T00:00:00",
          "2021-06-01T00:00:00",
          "2021-07-01T00:00:00",
          "2021-08-01T00:00:00",
          "2021-09-01T00:00:00",
          "2021-10-01T00:00:00",
          "2021-11-01T00:00:00",
          "2021-12-01T00:00:00",
          "2022-01-01T00:00:00",
          "2022-02-01T00:00:00",
          "2022-03-01T00:00:00",
          "2022-04-01T00:00:00",
          "2022-05-01T00:00:00",
          "2022-06-01T00:00:00",
          "2022-07-01T00:00:00",
          "2022-08-01T00:00:00",
          "2022-09-01T00:00:00",
          "2022-10-01T00:00:00",
          "2022-11-01T00:00:00",
          "2022-12-01T00:00:00",
          "2023-01-01T00:00:00",
          "2023-02-01T00:00:00",
          "2023-03-01T00:00:00",
          "2023-04-01T00:00:00",
          "2023-05-01T00:00:00",
          "2023-06-01T00:00:00",
          "2023-07-01T00:00:00",
          "2023-08-01T00:00:00",
          "2023-09-01T00:00:00",
          "2023-10-01T00:00:00",
          "2023-11-01T00:00:00",
          "2023-12-01T00:00:00",
          "2024-01-01T00:00:00",
          "2024-02-01T00:00:00",
          "2024-03-01T00:00:00",
          "2024-04-01T00:00:00",
          "2024-05-01T00:00:00",
          "2024-06-01T00:00:00"
         ],
         "y": [
          null,
          null,
          null,
          null,
          null,
          null,
          null,
          null,
          null,
          null,
          null,
          null,
          null,
          null,
          null,
          null,
          null,
          null,
          null,
          null,
          null,
          null,
          null,
          null,
          null,
          null,
          null,
          null,
          null,
          null,
          null,
          null,
          null,
          null,
          null,
          null,
          null,
          null,
          null,
          null,
          null,
          null,
          null,
          null,
          null,
          null,
          null,
          null,
          null,
          null,
          null,
          null,
          null,
          null,
          null,
          null,
          null,
          null,
          null,
          null,
          328178608.86,
          3938143306.32,
          3938143306.32
         ]
        },
        {
         "mode": "lines+markers",
         "name": "HME",
         "type": "scatter",
         "x": [
          "2019-04-01T00:00:00",
          "2019-05-01T00:00:00",
          "2019-06-01T00:00:00",
          "2019-07-01T00:00:00",
          "2019-08-01T00:00:00",
          "2019-09-01T00:00:00",
          "2019-10-01T00:00:00",
          "2019-11-01T00:00:00",
          "2019-12-01T00:00:00",
          "2020-01-01T00:00:00",
          "2020-02-01T00:00:00",
          "2020-03-01T00:00:00",
          "2020-04-01T00:00:00",
          "2020-05-01T00:00:00",
          "2020-06-01T00:00:00",
          "2020-07-01T00:00:00",
          "2020-08-01T00:00:00",
          "2020-09-01T00:00:00",
          "2020-10-01T00:00:00",
          "2020-11-01T00:00:00",
          "2020-12-01T00:00:00",
          "2021-01-01T00:00:00",
          "2021-02-01T00:00:00",
          "2021-03-01T00:00:00",
          "2021-04-01T00:00:00",
          "2021-05-01T00:00:00",
          "2021-06-01T00:00:00",
          "2021-07-01T00:00:00",
          "2021-08-01T00:00:00",
          "2021-09-01T00:00:00",
          "2021-10-01T00:00:00",
          "2021-11-01T00:00:00",
          "2021-12-01T00:00:00",
          "2022-01-01T00:00:00",
          "2022-02-01T00:00:00",
          "2022-03-01T00:00:00",
          "2022-04-01T00:00:00",
          "2022-05-01T00:00:00",
          "2022-06-01T00:00:00",
          "2022-07-01T00:00:00",
          "2022-08-01T00:00:00",
          "2022-09-01T00:00:00",
          "2022-10-01T00:00:00",
          "2022-11-01T00:00:00",
          "2022-12-01T00:00:00",
          "2023-01-01T00:00:00",
          "2023-02-01T00:00:00",
          "2023-03-01T00:00:00",
          "2023-04-01T00:00:00",
          "2023-05-01T00:00:00",
          "2023-06-01T00:00:00",
          "2023-07-01T00:00:00",
          "2023-08-01T00:00:00",
          "2023-09-01T00:00:00",
          "2023-10-01T00:00:00",
          "2023-11-01T00:00:00",
          "2023-12-01T00:00:00",
          "2024-01-01T00:00:00",
          "2024-02-01T00:00:00",
          "2024-03-01T00:00:00",
          "2024-04-01T00:00:00",
          "2024-05-01T00:00:00",
          "2024-06-01T00:00:00"
         ],
         "y": [
          2965450919.9,
          3281786088.6000004,
          1701883216.51,
          3281786088.6000004,
          3281786088.6000004,
          1804536866.79,
          3281786088.6000004,
          3281786088.6000004,
          2287452189.01,
          3281786088.6000004,
          3027658197.36,
          2171911447.9300003,
          2127538452.7,
          3609964697.46,
          3369908777.79,
          3609964697.46,
          3609964697.46,
          2211888936.33,
          3609964697.46,
          3609964697.46,
          3609964697.46,
          3609964697.46,
          3609964697.46,
          3609964697.46,
          2953607479.7400002,
          3281786088.6000004,
          3281786088.6000004,
          3281786088.6000004,
          3281786088.6000004,
          3281786088.6000004,
          3281786088.6000004,
          3281786088.6000004,
          3281786088.6000004,
          2953607479.7400002,
          2953607479.7400002,
          3281786088.6000004,
          3281786088.6000004,
          3281786088.6000004,
          2297250262.02,
          3609964697.46,
          3281786088.6000004,
          3609964697.46,
          3281786088.6000004,
          2953607479.7400002,
          2953607479.7400002,
          2953607479.7400002,
          1969071653.16,
          3281786088.6000004,
          2953607479.7400002,
          3281786088.6000004,
          3281786088.6000004,
          3281786088.6000004,
          3281786088.6000004,
          3281786088.6000004,
          1640893044.3000002,
          1640893044.3000002,
          2625428870.88,
          2297250262.02,
          2625428870.88,
          2297250262.02,
          984535826.58,
          984535826.58,
          2297250262.02
         ]
        },
        {
         "mode": "lines+markers",
         "name": "IDC",
         "type": "scatter",
         "x": [
          "2019-04-01T00:00:00",
          "2019-05-01T00:00:00",
          "2019-06-01T00:00:00",
          "2019-07-01T00:00:00",
          "2019-08-01T00:00:00",
          "2019-09-01T00:00:00",
          "2019-10-01T00:00:00",
          "2019-11-01T00:00:00",
          "2019-12-01T00:00:00",
          "2020-01-01T00:00:00",
          "2020-02-01T00:00:00",
          "2020-03-01T00:00:00",
          "2020-04-01T00:00:00",
          "2020-05-01T00:00:00",
          "2020-06-01T00:00:00",
          "2020-07-01T00:00:00",
          "2020-08-01T00:00:00",
          "2020-09-01T00:00:00",
          "2020-10-01T00:00:00",
          "2020-11-01T00:00:00",
          "2020-12-01T00:00:00",
          "2021-01-01T00:00:00",
          "2021-02-01T00:00:00",
          "2021-03-01T00:00:00",
          "2021-04-01T00:00:00",
          "2021-05-01T00:00:00",
          "2021-06-01T00:00:00",
          "2021-07-01T00:00:00",
          "2021-08-01T00:00:00",
          "2021-09-01T00:00:00",
          "2021-10-01T00:00:00",
          "2021-11-01T00:00:00",
          "2021-12-01T00:00:00",
          "2022-01-01T00:00:00",
          "2022-02-01T00:00:00",
          "2022-03-01T00:00:00",
          "2022-04-01T00:00:00",
          "2022-05-01T00:00:00",
          "2022-06-01T00:00:00",
          "2022-07-01T00:00:00",
          "2022-08-01T00:00:00",
          "2022-09-01T00:00:00",
          "2022-10-01T00:00:00",
          "2022-11-01T00:00:00",
          "2022-12-01T00:00:00",
          "2023-01-01T00:00:00",
          "2023-02-01T00:00:00",
          "2023-03-01T00:00:00",
          "2023-04-01T00:00:00",
          "2023-05-01T00:00:00",
          "2023-06-01T00:00:00",
          "2023-07-01T00:00:00",
          "2023-08-01T00:00:00",
          "2023-09-01T00:00:00",
          "2023-10-01T00:00:00",
          "2023-11-01T00:00:00",
          "2023-12-01T00:00:00",
          "2024-01-01T00:00:00",
          "2024-02-01T00:00:00",
          "2024-03-01T00:00:00",
          "2024-04-01T00:00:00",
          "2024-05-01T00:00:00",
          "2024-06-01T00:00:00"
         ],
         "y": [
          8876485875.14,
          7561349290.27,
          5980188157.809999,
          6532299929.08,
          6995122538.48,
          9278702692.7,
          6777345614.88,
          7240046282.4800005,
          7139275918.950001,
          8433641469.55,
          4061344376.83,
          14744449441.43,
          2811048626.15,
          4266321915.1800003,
          4564544818.88,
          3950204956.52,
          4147886943.63,
          10323724116.18,
          5909217248.110001,
          4077985027.36,
          14243979457.69,
          6224723765.29,
          4266321915.1800003,
          14559272234.68,
          4266321915.1800003,
          4266321915.1800003,
          5509621247.690001,
          4266321915.1800003,
          12521835967.44,
          8068117850.4,
          8158879487.2,
          6402772150.93,
          7859089633.690001,
          7461466560.1,
          5250857741.76,
          9735884848.050001,
          7782943489.92,
          7380713721.700001,
          8643219821.02,
          13567982167.16,
          7494214862.43,
          7212148500.83,
          5901020127.99,
          6031634087.2,
          16753566162.880001,
          5907214959.4800005,
          6422049720.280001,
          12070427487.300001,
          6235393568.34,
          6235393568.34,
          14972585918.86,
          6235393568.34,
          7547359930.940001,
          14033162558,
          14441120514.42,
          14514029402.29,
          11587210124.42,
          5964125434.62,
          6495549147.14,
          12609613159.9,
          6046015410.18,
          6607997968.76,
          11240403316.62
         ]
        },
        {
         "mode": "lines+markers",
         "name": "LSB",
         "type": "scatter",
         "x": [
          "2019-04-01T00:00:00",
          "2019-05-01T00:00:00",
          "2019-06-01T00:00:00",
          "2019-07-01T00:00:00",
          "2019-08-01T00:00:00",
          "2019-09-01T00:00:00",
          "2019-10-01T00:00:00",
          "2019-11-01T00:00:00",
          "2019-12-01T00:00:00",
          "2020-01-01T00:00:00",
          "2020-02-01T00:00:00",
          "2020-03-01T00:00:00",
          "2020-04-01T00:00:00",
          "2020-05-01T00:00:00",
          "2020-06-01T00:00:00",
          "2020-07-01T00:00:00",
          "2020-08-01T00:00:00",
          "2020-09-01T00:00:00",
          "2020-10-01T00:00:00",
          "2020-11-01T00:00:00",
          "2020-12-01T00:00:00",
          "2021-01-01T00:00:00",
          "2021-02-01T00:00:00",
          "2021-03-01T00:00:00",
          "2021-04-01T00:00:00",
          "2021-05-01T00:00:00",
          "2021-06-01T00:00:00",
          "2021-07-01T00:00:00",
          "2021-08-01T00:00:00",
          "2021-09-01T00:00:00",
          "2021-10-01T00:00:00",
          "2021-11-01T00:00:00",
          "2021-12-01T00:00:00",
          "2022-01-01T00:00:00",
          "2022-02-01T00:00:00",
          "2022-03-01T00:00:00",
          "2022-04-01T00:00:00",
          "2022-05-01T00:00:00",
          "2022-06-01T00:00:00",
          "2022-07-01T00:00:00",
          "2022-08-01T00:00:00",
          "2022-09-01T00:00:00",
          "2022-10-01T00:00:00",
          "2022-11-01T00:00:00",
          "2022-12-01T00:00:00",
          "2023-01-01T00:00:00",
          "2023-02-01T00:00:00",
          "2023-03-01T00:00:00",
          "2023-04-01T00:00:00",
          "2023-05-01T00:00:00",
          "2023-06-01T00:00:00",
          "2023-07-01T00:00:00",
          "2023-08-01T00:00:00",
          "2023-09-01T00:00:00",
          "2023-10-01T00:00:00",
          "2023-11-01T00:00:00",
          "2023-12-01T00:00:00",
          "2024-01-01T00:00:00",
          "2024-02-01T00:00:00",
          "2024-03-01T00:00:00",
          "2024-04-01T00:00:00",
          "2024-05-01T00:00:00",
          "2024-06-01T00:00:00"
         ],
         "y": [
          1640893044.3000002,
          2506647468.38,
          1123243237.24,
          3994918899.6400003,
          1440652479.64,
          1353276702.8,
          3478113044.98,
          2098710027.94,
          1322653251.37,
          3906049942.17,
          1640893044.3000002,
          1858925209.4,
          2068949632.66,
          1640893044.3000002,
          1811219185.3000002,
          1640893044.3000002,
          1640893044.3000002,
          1860236345.7,
          1640893044.3000002,
          1640893044.3000002,
          2365645078.92,
          1640893044.3000002,
          1640893044.3000002,
          1640893044.3000002,
          984535826.58,
          1640893044.3000002,
          1640893044.3000002,
          1640893044.3000002,
          1640893044.3000002,
          1640893044.3000002,
          1640893044.3000002,
          1640893044.3000002,
          1640893044.3000002,
          1640893044.3000002,
          2252027431.21,
          1640893044.3000002,
          1969071653.16,
          2297250262.02,
          2625428870.88,
          2625428870.88,
          2625428870.88,
          2625428870.88,
          2625428870.88,
          2625428870.88,
          2625428870.88,
          2625428870.88,
          2625428870.88,
          2625428870.88,
          2625428870.88,
          2625428870.88,
          2625428870.88,
          2625428870.88,
          2625428870.88,
          2625428870.88,
          2625428870.88,
          5209703830.48,
          2625428870.88,
          5548599013.11,
          2625428870.88,
          4933811626.7300005,
          4522965649.52,
          2625428870.88,
          2625428870.88
         ]
        },
        {
         "mode": "lines+markers",
         "name": "NET",
         "type": "scatter",
         "x": [
          "2019-04-01T00:00:00",
          "2019-05-01T00:00:00",
          "2019-06-01T00:00:00",
          "2019-07-01T00:00:00",
          "2019-08-01T00:00:00",
          "2019-09-01T00:00:00",
          "2019-10-01T00:00:00",
          "2019-11-01T00:00:00",
          "2019-12-01T00:00:00",
          "2020-01-01T00:00:00",
          "2020-02-01T00:00:00",
          "2020-03-01T00:00:00",
          "2020-04-01T00:00:00",
          "2020-05-01T00:00:00",
          "2020-06-01T00:00:00",
          "2020-07-01T00:00:00",
          "2020-08-01T00:00:00",
          "2020-09-01T00:00:00",
          "2020-10-01T00:00:00",
          "2020-11-01T00:00:00",
          "2020-12-01T00:00:00",
          "2021-01-01T00:00:00",
          "2021-02-01T00:00:00",
          "2021-03-01T00:00:00",
          "2021-04-01T00:00:00",
          "2021-05-01T00:00:00",
          "2021-06-01T00:00:00",
          "2021-07-01T00:00:00",
          "2021-08-01T00:00:00",
          "2021-09-01T00:00:00",
          "2021-10-01T00:00:00",
          "2021-11-01T00:00:00",
          "2021-12-01T00:00:00",
          "2022-01-01T00:00:00",
          "2022-02-01T00:00:00",
          "2022-03-01T00:00:00",
          "2022-04-01T00:00:00",
          "2022-05-01T00:00:00",
          "2022-06-01T00:00:00",
          "2022-07-01T00:00:00",
          "2022-08-01T00:00:00",
          "2022-09-01T00:00:00",
          "2022-10-01T00:00:00",
          "2022-11-01T00:00:00",
          "2022-12-01T00:00:00",
          "2023-01-01T00:00:00",
          "2023-02-01T00:00:00",
          "2023-03-01T00:00:00",
          "2023-04-01T00:00:00",
          "2023-05-01T00:00:00",
          "2023-06-01T00:00:00",
          "2023-07-01T00:00:00",
          "2023-08-01T00:00:00",
          "2023-09-01T00:00:00",
          "2023-10-01T00:00:00",
          "2023-11-01T00:00:00",
          "2023-12-01T00:00:00",
          "2024-01-01T00:00:00",
          "2024-02-01T00:00:00",
          "2024-03-01T00:00:00",
          "2024-04-01T00:00:00",
          "2024-05-01T00:00:00",
          "2024-06-01T00:00:00"
         ],
         "y": [
          14902767401.32,
          15211532136.02,
          14620014361.76,
          18156708360.65,
          15574027795.45,
          16023546416.62,
          14739064283.37,
          16263622764.77,
          12232972464.45,
          14271035420.900002,
          14439858789.84,
          10658246656.99,
          11042662065.85,
          14541276090.39,
          17516064490.95,
          14569522680.16,
          16540956499.980001,
          12376619320.81,
          20088326215.13,
          18549033463.55,
          18218947454.670002,
          18389651152.88,
          16080751834.140001,
          19198341520.34,
          15765936607.060001,
          19441212077.64,
          17644669873.68,
          16040418812.650002,
          17937664487.010002,
          16947474670.99,
          17608541962.74,
          19995701176.7,
          21343861839.88,
          20205995582.620003,
          19900115759.280003,
          20413104954.260002,
          18983587509.36,
          19991868205.97,
          21713782968.45,
          24245044773.95,
          20432435860.62,
          23670225587.79,
          19690716531.600002,
          24941574273.36,
          25813124931.74,
          25269752882.22,
          24691393165.010002,
          28054043425.920002,
          25269752882.22,
          25269752882.22,
          27651034813.59,
          20161594580.3,
          20347073749.32,
          26346305111.65,
          27193843478.43,
          24314112025.81,
          27638338175.670002,
          23235642316.940002,
          24412675304.66,
          31540594957.43,
          22247344892.850002,
          27473374855.600002,
          26010606798.300003
         ]
        },
        {
         "mode": "lines+markers",
         "name": "PHW",
         "type": "scatter",
         "x": [
          "2019-04-01T00:00:00",
          "2019-05-01T00:00:00",
          "2019-06-01T00:00:00",
          "2019-07-01T00:00:00",
          "2019-08-01T00:00:00",
          "2019-09-01T00:00:00",
          "2019-10-01T00:00:00",
          "2019-11-01T00:00:00",
          "2019-12-01T00:00:00",
          "2020-01-01T00:00:00",
          "2020-02-01T00:00:00",
          "2020-03-01T00:00:00",
          "2020-04-01T00:00:00",
          "2020-05-01T00:00:00",
          "2020-06-01T00:00:00",
          "2020-07-01T00:00:00",
          "2020-08-01T00:00:00",
          "2020-09-01T00:00:00",
          "2020-10-01T00:00:00",
          "2020-11-01T00:00:00",
          "2020-12-01T00:00:00",
          "2021-01-01T00:00:00",
          "2021-02-01T00:00:00",
          "2021-03-01T00:00:00",
          "2021-04-01T00:00:00",
          "2021-05-01T00:00:00",
          "2021-06-01T00:00:00",
          "2021-07-01T00:00:00",
          "2021-08-01T00:00:00",
          "2021-09-01T00:00:00",
          "2021-10-01T00:00:00",
          "2021-11-01T00:00:00",
          "2021-12-01T00:00:00",
          "2022-01-01T00:00:00",
          "2022-02-01T00:00:00",
          "2022-03-01T00:00:00",
          "2022-04-01T00:00:00",
          "2022-05-01T00:00:00",
          "2022-06-01T00:00:00",
          "2022-07-01T00:00:00",
          "2022-08-01T00:00:00",
          "2022-09-01T00:00:00",
          "2022-10-01T00:00:00",
          "2022-11-01T00:00:00",
          "2022-12-01T00:00:00",
          "2023-01-01T00:00:00",
          "2023-02-01T00:00:00",
          "2023-03-01T00:00:00",
          "2023-04-01T00:00:00",
          "2023-05-01T00:00:00",
          "2023-06-01T00:00:00",
          "2023-07-01T00:00:00",
          "2023-08-01T00:00:00",
          "2023-09-01T00:00:00",
          "2023-10-01T00:00:00",
          "2023-11-01T00:00:00",
          "2023-12-01T00:00:00",
          "2024-01-01T00:00:00",
          "2024-02-01T00:00:00",
          "2024-03-01T00:00:00",
          "2024-04-01T00:00:00",
          "2024-05-01T00:00:00",
          "2024-06-01T00:00:00"
         ],
         "y": [
          19690716531.600002,
          21418491799.9,
          19770457385,
          16236357641.02,
          14495707857.900002,
          14786757795.74,
          13346720235.59,
          13085884844.99,
          13731093287.15,
          13505528316.53,
          13336066344.86,
          13289358020.87,
          10172506458.1,
          11763279366.890001,
          13340101836.12,
          13120820878.220001,
          16112047517.87,
          13665858077.54,
          13001207116.33,
          12570188684.400002,
          14547036842.1,
          11574395671.880001,
          11672231014.83,
          13658346673.5,
          8860822439.220001,
          11814429918.960001,
          11814429918.960001,
          11814429918.960001,
          11181437945.23,
          11486251310.1,
          11486251310.1,
          11486251310.1,
          12955452264.66,
          11486251310.1,
          10877119385.34,
          13358298625.9,
          11486251310.1,
          11486251310.1,
          8860822439.220001,
          28223360361.960003,
          11486251310.1,
          12142608527.82,
          12470787136.68,
          12798965745.54,
          13087986154.69,
          12798965745.54,
          12798965745.54,
          13455322963.26,
          13127144354.400002,
          13127144354.400002,
          11814429918.960001,
          12798965745.54,
          12470787136.68,
          13127144354.400002,
          13910657467.210001,
          17265659723.35,
          14033623066.27,
          17455454033.38,
          14281341546.810001,
          18805336181.13,
          16169153011.62,
          15221913176.41,
          17078622145.35
         ]
        },
        {
         "mode": "lines+markers",
         "name": "SBG",
         "type": "scatter",
         "x": [
          "2019-04-01T00:00:00",
          "2019-05-01T00:00:00",
          "2019-06-01T00:00:00",
          "2019-07-01T00:00:00",
          "2019-08-01T00:00:00",
          "2019-09-01T00:00:00",
          "2019-10-01T00:00:00",
          "2019-11-01T00:00:00",
          "2019-12-01T00:00:00",
          "2020-01-01T00:00:00",
          "2020-02-01T00:00:00",
          "2020-03-01T00:00:00",
          "2020-04-01T00:00:00",
          "2020-05-01T00:00:00",
          "2020-06-01T00:00:00",
          "2020-07-01T00:00:00",
          "2020-08-01T00:00:00",
          "2020-09-01T00:00:00",
          "2020-10-01T00:00:00",
          "2020-11-01T00:00:00",
          "2020-12-01T00:00:00",
          "2021-01-01T00:00:00",
          "2021-02-01T00:00:00",
          "2021-03-01T00:00:00",
          "2021-04-01T00:00:00",
          "2021-05-01T00:00:00",
          "2021-06-01T00:00:00",
          "2021-07-01T00:00:00",
          "2021-08-01T00:00:00",
          "2021-09-01T00:00:00",
          "2021-10-01T00:00:00",
          "2021-11-01T00:00:00",
          "2021-12-01T00:00:00",
          "2022-01-01T00:00:00",
          "2022-02-01T00:00:00",
          "2022-03-01T00:00:00",
          "2022-04-01T00:00:00",
          "2022-05-01T00:00:00",
          "2022-06-01T00:00:00",
          "2022-07-01T00:00:00",
          "2022-08-01T00:00:00",
          "2022-09-01T00:00:00",
          "2022-10-01T00:00:00",
          "2022-11-01T00:00:00",
          "2022-12-01T00:00:00",
          "2023-01-01T00:00:00",
          "2023-02-01T00:00:00",
          "2023-03-01T00:00:00",
          "2023-04-01T00:00:00",
          "2023-05-01T00:00:00",
          "2023-06-01T00:00:00",
          "2023-07-01T00:00:00",
          "2023-08-01T00:00:00",
          "2023-09-01T00:00:00",
          "2023-10-01T00:00:00",
          "2023-11-01T00:00:00",
          "2023-12-01T00:00:00",
          "2024-01-01T00:00:00",
          "2024-02-01T00:00:00",
          "2024-03-01T00:00:00",
          "2024-04-01T00:00:00",
          "2024-05-01T00:00:00",
          "2024-06-01T00:00:00"
         ],
         "y": [
          6891750786.06,
          6891750786.06,
          3058946096.1400003,
          5907214959.4800005,
          5579036350.62,
          2975177935.9500003,
          4922679132.900001,
          4922679132.900001,
          3474127715.7200003,
          3938143306.32,
          5250857741.76,
          4388008189.110001,
          4612690770.71,
          4594500524.04,
          5008161405.05,
          5250857741.76,
          5250857741.76,
          4798289135.09,
          4922679132.900001,
          5250857741.76,
          4963293966.76,
          4922679132.900001,
          5261912548.51,
          5250857741.76,
          4266321915.1800003,
          4594500524.04,
          5884291586.57,
          3609964697.46,
          3609964697.46,
          3609964697.46,
          3609964697.46,
          3609964697.46,
          3938143306.32,
          3334807724.42,
          3609964697.46,
          7995242934.250001,
          3938143306.32,
          5771847334.12,
          2297250262.02,
          7831475562.59,
          4266321915.1800003,
          4266321915.1800003,
          4266321915.1800003,
          8860822439.220001,
          8860822439.220001,
          9845358265.800001,
          14901581081.53,
          10173536874.66,
          6235393568.34,
          6563572177.200001,
          7219929394.92,
          11158072701.24,
          10829894092.380001,
          14062110816,
          11158072701.24,
          11158072701.24,
          12142608527.82,
          12470787136.68,
          13811944453.19,
          13783501572.12,
          13783501572.12,
          13783501572.12,
          14225973704.710001
         ]
        },
        {
         "mode": "lines+markers",
         "name": "SEC",
         "type": "scatter",
         "x": [
          "2019-04-01T00:00:00",
          "2019-05-01T00:00:00",
          "2019-06-01T00:00:00",
          "2019-07-01T00:00:00",
          "2019-08-01T00:00:00",
          "2019-09-01T00:00:00",
          "2019-10-01T00:00:00",
          "2019-11-01T00:00:00",
          "2019-12-01T00:00:00",
          "2020-01-01T00:00:00",
          "2020-02-01T00:00:00",
          "2020-03-01T00:00:00",
          "2020-04-01T00:00:00",
          "2020-05-01T00:00:00",
          "2020-06-01T00:00:00",
          "2020-07-01T00:00:00",
          "2020-08-01T00:00:00",
          "2020-09-01T00:00:00",
          "2020-10-01T00:00:00",
          "2020-11-01T00:00:00",
          "2020-12-01T00:00:00",
          "2021-01-01T00:00:00",
          "2021-02-01T00:00:00",
          "2021-03-01T00:00:00",
          "2021-04-01T00:00:00",
          "2021-05-01T00:00:00",
          "2021-06-01T00:00:00",
          "2021-07-01T00:00:00",
          "2021-08-01T00:00:00",
          "2021-09-01T00:00:00",
          "2021-10-01T00:00:00",
          "2021-11-01T00:00:00",
          "2021-12-01T00:00:00",
          "2022-01-01T00:00:00",
          "2022-02-01T00:00:00",
          "2022-03-01T00:00:00",
          "2022-04-01T00:00:00",
          "2022-05-01T00:00:00",
          "2022-06-01T00:00:00",
          "2022-07-01T00:00:00",
          "2022-08-01T00:00:00",
          "2022-09-01T00:00:00",
          "2022-10-01T00:00:00",
          "2022-11-01T00:00:00",
          "2022-12-01T00:00:00",
          "2023-01-01T00:00:00",
          "2023-02-01T00:00:00",
          "2023-03-01T00:00:00",
          "2023-04-01T00:00:00",
          "2023-05-01T00:00:00",
          "2023-06-01T00:00:00",
          "2023-07-01T00:00:00",
          "2023-08-01T00:00:00",
          "2023-09-01T00:00:00",
          "2023-10-01T00:00:00",
          "2023-11-01T00:00:00",
          "2023-12-01T00:00:00",
          "2024-01-01T00:00:00",
          "2024-02-01T00:00:00",
          "2024-03-01T00:00:00",
          "2024-04-01T00:00:00",
          "2024-05-01T00:00:00",
          "2024-06-01T00:00:00"
         ],
         "y": [
          4177904439.94,
          6367388368.67,
          7190094911.47,
          6923329437.900001,
          6897463086.25,
          6027943990.690001,
          6223525773.34,
          7425445239.110001,
          6679150706.27,
          6880249354.650001,
          7271140480.84,
          6790981121.13,
          3737441271.1800003,
          6235393568.34,
          7675093890.809999,
          8278456896.45,
          6235393568.34,
          6234713590.45,
          6672517646.690001,
          8084714610.650001,
          8202239129.16,
          6972371978.700001,
          6480218063.780001,
          12442037425.29,
          6769916115.66,
          7336259621.940001,
          10106058904.3,
          6556633999.950001,
          7791264095.450001,
          8474114119.27,
          8204465221.5,
          9189001048.08,
          9415836894.98,
          12041569122.08,
          12268997826.45,
          12249559509.29,
          13455322963.26,
          13847311443.74,
          14777792782.65,
          17721644878.440002,
          16737109051.86,
          19560425129.41,
          16408930443,
          17721644878.440002,
          17747697635,
          18049823487.3,
          20224317517.73,
          19947750156.31,
          17721644878.440002,
          17721644878.440002,
          16612608058.16,
          16080751834.140001,
          16408930443,
          19785770705.45,
          16570687309.9,
          18109351461.100002,
          18702294386.54,
          21612347340.83,
          16636081765.92,
          21126064761.99,
          17801707175.15,
          18389300857.65,
          17810600026.420002
         ]
        },
        {
         "mode": "lines+markers",
         "name": "SNS",
         "type": "scatter",
         "x": [
          "2019-04-01T00:00:00",
          "2019-05-01T00:00:00",
          "2019-06-01T00:00:00",
          "2019-07-01T00:00:00",
          "2019-08-01T00:00:00",
          "2019-09-01T00:00:00",
          "2019-10-01T00:00:00",
          "2019-11-01T00:00:00",
          "2019-12-01T00:00:00",
          "2020-01-01T00:00:00",
          "2020-02-01T00:00:00",
          "2020-03-01T00:00:00",
          "2020-04-01T00:00:00",
          "2020-05-01T00:00:00",
          "2020-06-01T00:00:00",
          "2020-07-01T00:00:00",
          "2020-08-01T00:00:00",
          "2020-09-01T00:00:00",
          "2020-10-01T00:00:00",
          "2020-11-01T00:00:00",
          "2020-12-01T00:00:00",
          "2021-01-01T00:00:00",
          "2021-02-01T00:00:00",
          "2021-03-01T00:00:00",
          "2021-04-01T00:00:00",
          "2021-05-01T00:00:00",
          "2021-06-01T00:00:00",
          "2021-07-01T00:00:00",
          "2021-08-01T00:00:00",
          "2021-09-01T00:00:00",
          "2021-10-01T00:00:00",
          "2021-11-01T00:00:00",
          "2021-12-01T00:00:00",
          "2022-01-01T00:00:00",
          "2022-02-01T00:00:00",
          "2022-03-01T00:00:00",
          "2022-04-01T00:00:00",
          "2022-05-01T00:00:00",
          "2022-06-01T00:00:00",
          "2022-07-01T00:00:00",
          "2022-08-01T00:00:00",
          "2022-09-01T00:00:00",
          "2022-10-01T00:00:00",
          "2022-11-01T00:00:00",
          "2022-12-01T00:00:00",
          "2023-01-01T00:00:00",
          "2023-02-01T00:00:00",
          "2023-03-01T00:00:00",
          "2023-04-01T00:00:00",
          "2023-05-01T00:00:00",
          "2023-06-01T00:00:00",
          "2023-07-01T00:00:00",
          "2023-08-01T00:00:00",
          "2023-09-01T00:00:00",
          "2023-10-01T00:00:00",
          "2023-11-01T00:00:00",
          "2023-12-01T00:00:00",
          "2024-01-01T00:00:00",
          "2024-02-01T00:00:00",
          "2024-03-01T00:00:00",
          "2024-04-01T00:00:00",
          "2024-05-01T00:00:00",
          "2024-06-01T00:00:00"
         ],
         "y": [
          13973680813.6,
          14657473221.9,
          12074895934.55,
          15083616221.29,
          13613309381.61,
          11975931231.69,
          12904231006.19,
          17997537440.920002,
          11395149441.16,
          13680748272.890001,
          13500697314.66,
          12185598567.56,
          10876016880.65,
          13783501572.12,
          13841121081.32,
          14076101354.41,
          13843632370.560001,
          13027556620.74,
          13783501572.12,
          15890266061.920002,
          13157565963.61,
          12645564599.880001,
          12798965745.54,
          12277592552.24,
          11486251310.1,
          12798965745.54,
          12798965745.54,
          12470787136.68,
          13455322963.26,
          14111680180.980001,
          13783501572.12,
          13808999869.800001,
          14504269642.28,
          25415284379.04,
          14639706125.980001,
          18740649564.8,
          14768037398.7,
          14891438790.6,
          14972989386.810001,
          21659788184.760002,
          15579708409.300001,
          16355488484.79,
          15424394616.42,
          21003430967.04,
          21331609575.9,
          21659788184.760002,
          21659788184.760002,
          23043953994.58,
          21331609575.9,
          21331609575.9,
          21728278599.99,
          16737109051.86,
          16737109051.86,
          20627913698.170002,
          21212881863.09,
          18914188685.5,
          19486679692.170002,
          18487402992.46,
          24061954648.63,
          23457415603.23,
          18388944159.73,
          20016571593.16,
          19045860533.53
         ]
        },
        {
         "mode": "lines+markers",
         "name": "SWB",
         "type": "scatter",
         "x": [
          "2019-04-01T00:00:00",
          "2019-05-01T00:00:00",
          "2019-06-01T00:00:00",
          "2019-07-01T00:00:00",
          "2019-08-01T00:00:00",
          "2019-09-01T00:00:00",
          "2019-10-01T00:00:00",
          "2019-11-01T00:00:00",
          "2019-12-01T00:00:00",
          "2020-01-01T00:00:00",
          "2020-02-01T00:00:00",
          "2020-03-01T00:00:00",
          "2020-04-01T00:00:00",
          "2020-05-01T00:00:00",
          "2020-06-01T00:00:00",
          "2020-07-01T00:00:00",
          "2020-08-01T00:00:00",
          "2020-09-01T00:00:00",
          "2020-10-01T00:00:00",
          "2020-11-01T00:00:00",
          "2020-12-01T00:00:00",
          "2021-01-01T00:00:00",
          "2021-02-01T00:00:00",
          "2021-03-01T00:00:00",
          "2021-04-01T00:00:00",
          "2021-05-01T00:00:00",
          "2021-06-01T00:00:00",
          "2021-07-01T00:00:00",
          "2021-08-01T00:00:00",
          "2021-09-01T00:00:00",
          "2021-10-01T00:00:00",
          "2021-11-01T00:00:00",
          "2021-12-01T00:00:00",
          "2022-01-01T00:00:00",
          "2022-02-01T00:00:00",
          "2022-03-01T00:00:00",
          "2022-04-01T00:00:00",
          "2022-05-01T00:00:00",
          "2022-06-01T00:00:00",
          "2022-07-01T00:00:00",
          "2022-08-01T00:00:00",
          "2022-09-01T00:00:00",
          "2022-10-01T00:00:00",
          "2022-11-01T00:00:00",
          "2022-12-01T00:00:00",
          "2023-01-01T00:00:00",
          "2023-02-01T00:00:00",
          "2023-03-01T00:00:00",
          "2023-04-01T00:00:00",
          "2023-05-01T00:00:00",
          "2023-06-01T00:00:00",
          "2023-07-01T00:00:00",
          "2023-08-01T00:00:00",
          "2023-09-01T00:00:00",
          "2023-10-01T00:00:00",
          "2023-11-01T00:00:00",
          "2023-12-01T00:00:00",
          "2024-01-01T00:00:00",
          "2024-02-01T00:00:00",
          "2024-03-01T00:00:00",
          "2024-04-01T00:00:00",
          "2024-05-01T00:00:00",
          "2024-06-01T00:00:00"
         ],
         "y": [
          18591116929.39,
          19307602656.96,
          19878113832.9,
          15424394616.42,
          13876991579.7,
          17449946803.41,
          13294710583.890001,
          14267917760.1,
          15971365324.560001,
          14354915056.01,
          14470308914.67,
          19458983149.870003,
          25394965855.7,
          14156156616.070002,
          14996606931.050001,
          14665201698.820002,
          12679091086.92,
          13085194709.04,
          15886933968.62,
          13528861775.84,
          15561044124.470001,
          14021016520.52,
          13783501572.12,
          16624392487.03,
          12707026620.02,
          13596862030.17,
          13325359337.76,
          13127144354.400002,
          14439858789.84,
          15752573225.28,
          16408930443,
          16737109051.86,
          15895460990.41,
          16408930443,
          15779192411.95,
          18831504957.260002,
          18049823487.3,
          18049750742.47,
          19353312734.02,
          25597931491.08,
          18378002096.16,
          21362246815.2,
          18706180705.02,
          25597931491.08,
          25597931491.08,
          25597931491.08,
          25597931491.08,
          25597931491.08,
          25597931491.08,
          25597931491.08,
          20496436351.77,
          20018895140.46,
          19690716531.600002,
          19690716531.600002,
          21003632953.2,
          19157881707.370003,
          19736384127.280003,
          19055395953.920002,
          19241213400.72,
          20499037434.83,
          19911326222.31,
          18114985765.68,
          17873766748.61
         ]
        },
        {
         "mode": "lines+markers",
         "name": "WRH",
         "type": "scatter",
         "x": [
          "2019-04-01T00:00:00",
          "2019-05-01T00:00:00",
          "2019-06-01T00:00:00",
          "2019-07-01T00:00:00",
          "2019-08-01T00:00:00",
          "2019-09-01T00:00:00",
          "2019-10-01T00:00:00",
          "2019-11-01T00:00:00",
          "2019-12-01T00:00:00",
          "2020-01-01T00:00:00",
          "2020-02-01T00:00:00",
          "2020-03-01T00:00:00",
          "2020-04-01T00:00:00",
          "2020-05-01T00:00:00",
          "2020-06-01T00:00:00",
          "2020-07-01T00:00:00",
          "2020-08-01T00:00:00",
          "2020-09-01T00:00:00",
          "2020-10-01T00:00:00",
          "2020-11-01T00:00:00",
          "2020-12-01T00:00:00",
          "2021-01-01T00:00:00",
          "2021-02-01T00:00:00",
          "2021-03-01T00:00:00",
          "2021-04-01T00:00:00",
          "2021-05-01T00:00:00",
          "2021-06-01T00:00:00",
          "2021-07-01T00:00:00",
          "2021-08-01T00:00:00",
          "2021-09-01T00:00:00",
          "2021-10-01T00:00:00",
          "2021-11-01T00:00:00",
          "2021-12-01T00:00:00",
          "2022-01-01T00:00:00",
          "2022-02-01T00:00:00",
          "2022-03-01T00:00:00",
          "2022-04-01T00:00:00",
          "2022-05-01T00:00:00",
          "2022-06-01T00:00:00",
          "2022-07-01T00:00:00",
          "2022-08-01T00:00:00",
          "2022-09-01T00:00:00",
          "2022-10-01T00:00:00",
          "2022-11-01T00:00:00",
          "2022-12-01T00:00:00",
          "2023-01-01T00:00:00",
          "2023-02-01T00:00:00",
          "2023-03-01T00:00:00",
          "2023-04-01T00:00:00",
          "2023-05-01T00:00:00",
          "2023-06-01T00:00:00",
          "2023-07-01T00:00:00",
          "2023-08-01T00:00:00",
          "2023-09-01T00:00:00",
          "2023-10-01T00:00:00",
          "2023-11-01T00:00:00",
          "2023-12-01T00:00:00",
          "2024-01-01T00:00:00",
          "2024-02-01T00:00:00",
          "2024-03-01T00:00:00",
          "2024-04-01T00:00:00",
          "2024-05-01T00:00:00",
          "2024-06-01T00:00:00"
         ],
         "y": [
          328178608.86,
          656357217.72,
          984535826.58,
          984535826.58,
          984535826.58,
          984535826.58,
          984535826.58,
          984535826.58,
          984535826.58,
          984535826.58,
          984535826.58,
          984535826.58,
          984535826.58,
          984535826.58,
          984535826.58,
          984535826.58,
          984535826.58,
          984535826.58,
          984535826.58,
          984535826.58,
          984535826.58,
          984535826.58,
          984535826.58,
          984535826.58,
          984535826.58,
          984535826.58,
          984535826.58,
          984535826.58,
          984535826.58,
          984535826.58,
          984535826.58,
          984535826.58,
          984535826.58,
          984535826.58,
          984535826.58,
          984535826.58,
          984535826.58,
          984535826.58,
          984535826.58,
          984535826.58,
          984535826.58,
          984535826.58,
          984535826.58,
          984535826.58,
          1312714435.44,
          984535826.58,
          984535826.58,
          984535826.58,
          984535826.58,
          328178608.86,
          984535826.58,
          null,
          null,
          null,
          null,
          null,
          null,
          null,
          null,
          null,
          null,
          null,
          null
         ]
        },
        {
         "mode": "lines+markers",
         "name": "ZDB",
         "type": "scatter",
         "x": [
          "2019-04-01T00:00:00",
          "2019-05-01T00:00:00",
          "2019-06-01T00:00:00",
          "2019-07-01T00:00:00",
          "2019-08-01T00:00:00",
          "2019-09-01T00:00:00",
          "2019-10-01T00:00:00",
          "2019-11-01T00:00:00",
          "2019-12-01T00:00:00",
          "2020-01-01T00:00:00",
          "2020-02-01T00:00:00",
          "2020-03-01T00:00:00",
          "2020-04-01T00:00:00",
          "2020-05-01T00:00:00",
          "2020-06-01T00:00:00",
          "2020-07-01T00:00:00",
          "2020-08-01T00:00:00",
          "2020-09-01T00:00:00",
          "2020-10-01T00:00:00",
          "2020-11-01T00:00:00",
          "2020-12-01T00:00:00",
          "2021-01-01T00:00:00",
          "2021-02-01T00:00:00",
          "2021-03-01T00:00:00",
          "2021-04-01T00:00:00",
          "2021-05-01T00:00:00",
          "2021-06-01T00:00:00",
          "2021-07-01T00:00:00",
          "2021-08-01T00:00:00",
          "2021-09-01T00:00:00",
          "2021-10-01T00:00:00",
          "2021-11-01T00:00:00",
          "2021-12-01T00:00:00",
          "2022-01-01T00:00:00",
          "2022-02-01T00:00:00",
          "2022-03-01T00:00:00",
          "2022-04-01T00:00:00",
          "2022-05-01T00:00:00",
          "2022-06-01T00:00:00",
          "2022-07-01T00:00:00",
          "2022-08-01T00:00:00",
          "2022-09-01T00:00:00",
          "2022-10-01T00:00:00",
          "2022-11-01T00:00:00",
          "2022-12-01T00:00:00",
          "2023-01-01T00:00:00",
          "2023-02-01T00:00:00",
          "2023-03-01T00:00:00",
          "2023-04-01T00:00:00",
          "2023-05-01T00:00:00",
          "2023-06-01T00:00:00",
          "2023-07-01T00:00:00",
          "2023-08-01T00:00:00",
          "2023-09-01T00:00:00",
          "2023-10-01T00:00:00",
          "2023-11-01T00:00:00",
          "2023-12-01T00:00:00",
          "2024-01-01T00:00:00",
          "2024-02-01T00:00:00",
          "2024-03-01T00:00:00",
          "2024-04-01T00:00:00",
          "2024-05-01T00:00:00",
          "2024-06-01T00:00:00"
         ],
         "y": [
          1969071653.16,
          2625428870.88,
          2625428870.88,
          2953607479.7400002,
          2953607479.7400002,
          1969071653.16,
          1969071653.16,
          1969071653.16,
          2953607479.7400002,
          1969071653.16,
          1969071653.16,
          1969071653.16,
          1969071653.16,
          1969071653.16,
          2297250262.02,
          1969071653.16,
          1969071653.16,
          1969071653.16,
          1969071653.16,
          1969071653.16,
          1969071653.16,
          1969071653.16,
          1969071653.16,
          1969071653.16,
          1969071653.16,
          1969071653.16,
          1969071653.16,
          1969071653.16,
          1969071653.16,
          1969071653.16,
          1969071653.16,
          1969071653.16,
          1969071653.16,
          1312714435.44,
          984535826.58,
          2297250262.02,
          1640893044.3000002,
          1640893044.3000002,
          1640893044.3000002,
          6891750786.06,
          6891750786.06,
          1640893044.3000002,
          1640893044.3000002,
          1312714435.44,
          3281786088.6000004,
          4594500524.04,
          4922679132.900001,
          4922679132.900001,
          2953607479.7400002,
          2953607479.7400002,
          1312714435.44,
          1312714435.44,
          984535826.58,
          984535826.58,
          984535826.58,
          984535826.58,
          984535826.58,
          656357217.72,
          656357217.72,
          2953607479.7400002,
          656357217.72,
          984535826.58,
          984535826.58
         ]
        }
       ],
       "layout": {
        "template": {
         "data": {
          "bar": [
           {
            "error_x": {
             "color": "#2a3f5f"
            },
            "error_y": {
             "color": "#2a3f5f"
            },
            "marker": {
             "line": {
              "color": "#E5ECF6",
              "width": 0.5
             },
             "pattern": {
              "fillmode": "overlay",
              "size": 10,
              "solidity": 0.2
             }
            },
            "type": "bar"
           }
          ],
          "barpolar": [
           {
            "marker": {
             "line": {
              "color": "#E5ECF6",
              "width": 0.5
             },
             "pattern": {
              "fillmode": "overlay",
              "size": 10,
              "solidity": 0.2
             }
            },
            "type": "barpolar"
           }
          ],
          "carpet": [
           {
            "aaxis": {
             "endlinecolor": "#2a3f5f",
             "gridcolor": "white",
             "linecolor": "white",
             "minorgridcolor": "white",
             "startlinecolor": "#2a3f5f"
            },
            "baxis": {
             "endlinecolor": "#2a3f5f",
             "gridcolor": "white",
             "linecolor": "white",
             "minorgridcolor": "white",
             "startlinecolor": "#2a3f5f"
            },
            "type": "carpet"
           }
          ],
          "choropleth": [
           {
            "colorbar": {
             "outlinewidth": 0,
             "ticks": ""
            },
            "type": "choropleth"
           }
          ],
          "contour": [
           {
            "colorbar": {
             "outlinewidth": 0,
             "ticks": ""
            },
            "colorscale": [
             [
              0,
              "#0d0887"
             ],
             [
              0.1111111111111111,
              "#46039f"
             ],
             [
              0.2222222222222222,
              "#7201a8"
             ],
             [
              0.3333333333333333,
              "#9c179e"
             ],
             [
              0.4444444444444444,
              "#bd3786"
             ],
             [
              0.5555555555555556,
              "#d8576b"
             ],
             [
              0.6666666666666666,
              "#ed7953"
             ],
             [
              0.7777777777777778,
              "#fb9f3a"
             ],
             [
              0.8888888888888888,
              "#fdca26"
             ],
             [
              1,
              "#f0f921"
             ]
            ],
            "type": "contour"
           }
          ],
          "contourcarpet": [
           {
            "colorbar": {
             "outlinewidth": 0,
             "ticks": ""
            },
            "type": "contourcarpet"
           }
          ],
          "heatmap": [
           {
            "colorbar": {
             "outlinewidth": 0,
             "ticks": ""
            },
            "colorscale": [
             [
              0,
              "#0d0887"
             ],
             [
              0.1111111111111111,
              "#46039f"
             ],
             [
              0.2222222222222222,
              "#7201a8"
             ],
             [
              0.3333333333333333,
              "#9c179e"
             ],
             [
              0.4444444444444444,
              "#bd3786"
             ],
             [
              0.5555555555555556,
              "#d8576b"
             ],
             [
              0.6666666666666666,
              "#ed7953"
             ],
             [
              0.7777777777777778,
              "#fb9f3a"
             ],
             [
              0.8888888888888888,
              "#fdca26"
             ],
             [
              1,
              "#f0f921"
             ]
            ],
            "type": "heatmap"
           }
          ],
          "heatmapgl": [
           {
            "colorbar": {
             "outlinewidth": 0,
             "ticks": ""
            },
            "colorscale": [
             [
              0,
              "#0d0887"
             ],
             [
              0.1111111111111111,
              "#46039f"
             ],
             [
              0.2222222222222222,
              "#7201a8"
             ],
             [
              0.3333333333333333,
              "#9c179e"
             ],
             [
              0.4444444444444444,
              "#bd3786"
             ],
             [
              0.5555555555555556,
              "#d8576b"
             ],
             [
              0.6666666666666666,
              "#ed7953"
             ],
             [
              0.7777777777777778,
              "#fb9f3a"
             ],
             [
              0.8888888888888888,
              "#fdca26"
             ],
             [
              1,
              "#f0f921"
             ]
            ],
            "type": "heatmapgl"
           }
          ],
          "histogram": [
           {
            "marker": {
             "pattern": {
              "fillmode": "overlay",
              "size": 10,
              "solidity": 0.2
             }
            },
            "type": "histogram"
           }
          ],
          "histogram2d": [
           {
            "colorbar": {
             "outlinewidth": 0,
             "ticks": ""
            },
            "colorscale": [
             [
              0,
              "#0d0887"
             ],
             [
              0.1111111111111111,
              "#46039f"
             ],
             [
              0.2222222222222222,
              "#7201a8"
             ],
             [
              0.3333333333333333,
              "#9c179e"
             ],
             [
              0.4444444444444444,
              "#bd3786"
             ],
             [
              0.5555555555555556,
              "#d8576b"
             ],
             [
              0.6666666666666666,
              "#ed7953"
             ],
             [
              0.7777777777777778,
              "#fb9f3a"
             ],
             [
              0.8888888888888888,
              "#fdca26"
             ],
             [
              1,
              "#f0f921"
             ]
            ],
            "type": "histogram2d"
           }
          ],
          "histogram2dcontour": [
           {
            "colorbar": {
             "outlinewidth": 0,
             "ticks": ""
            },
            "colorscale": [
             [
              0,
              "#0d0887"
             ],
             [
              0.1111111111111111,
              "#46039f"
             ],
             [
              0.2222222222222222,
              "#7201a8"
             ],
             [
              0.3333333333333333,
              "#9c179e"
             ],
             [
              0.4444444444444444,
              "#bd3786"
             ],
             [
              0.5555555555555556,
              "#d8576b"
             ],
             [
              0.6666666666666666,
              "#ed7953"
             ],
             [
              0.7777777777777778,
              "#fb9f3a"
             ],
             [
              0.8888888888888888,
              "#fdca26"
             ],
             [
              1,
              "#f0f921"
             ]
            ],
            "type": "histogram2dcontour"
           }
          ],
          "mesh3d": [
           {
            "colorbar": {
             "outlinewidth": 0,
             "ticks": ""
            },
            "type": "mesh3d"
           }
          ],
          "parcoords": [
           {
            "line": {
             "colorbar": {
              "outlinewidth": 0,
              "ticks": ""
             }
            },
            "type": "parcoords"
           }
          ],
          "pie": [
           {
            "automargin": true,
            "type": "pie"
           }
          ],
          "scatter": [
           {
            "fillpattern": {
             "fillmode": "overlay",
             "size": 10,
             "solidity": 0.2
            },
            "type": "scatter"
           }
          ],
          "scatter3d": [
           {
            "line": {
             "colorbar": {
              "outlinewidth": 0,
              "ticks": ""
             }
            },
            "marker": {
             "colorbar": {
              "outlinewidth": 0,
              "ticks": ""
             }
            },
            "type": "scatter3d"
           }
          ],
          "scattercarpet": [
           {
            "marker": {
             "colorbar": {
              "outlinewidth": 0,
              "ticks": ""
             }
            },
            "type": "scattercarpet"
           }
          ],
          "scattergeo": [
           {
            "marker": {
             "colorbar": {
              "outlinewidth": 0,
              "ticks": ""
             }
            },
            "type": "scattergeo"
           }
          ],
          "scattergl": [
           {
            "marker": {
             "colorbar": {
              "outlinewidth": 0,
              "ticks": ""
             }
            },
            "type": "scattergl"
           }
          ],
          "scattermapbox": [
           {
            "marker": {
             "colorbar": {
              "outlinewidth": 0,
              "ticks": ""
             }
            },
            "type": "scattermapbox"
           }
          ],
          "scatterpolar": [
           {
            "marker": {
             "colorbar": {
              "outlinewidth": 0,
              "ticks": ""
             }
            },
            "type": "scatterpolar"
           }
          ],
          "scatterpolargl": [
           {
            "marker": {
             "colorbar": {
              "outlinewidth": 0,
              "ticks": ""
             }
            },
            "type": "scatterpolargl"
           }
          ],
          "scatterternary": [
           {
            "marker": {
             "colorbar": {
              "outlinewidth": 0,
              "ticks": ""
             }
            },
            "type": "scatterternary"
           }
          ],
          "surface": [
           {
            "colorbar": {
             "outlinewidth": 0,
             "ticks": ""
            },
            "colorscale": [
             [
              0,
              "#0d0887"
             ],
             [
              0.1111111111111111,
              "#46039f"
             ],
             [
              0.2222222222222222,
              "#7201a8"
             ],
             [
              0.3333333333333333,
              "#9c179e"
             ],
             [
              0.4444444444444444,
              "#bd3786"
             ],
             [
              0.5555555555555556,
              "#d8576b"
             ],
             [
              0.6666666666666666,
              "#ed7953"
             ],
             [
              0.7777777777777778,
              "#fb9f3a"
             ],
             [
              0.8888888888888888,
              "#fdca26"
             ],
             [
              1,
              "#f0f921"
             ]
            ],
            "type": "surface"
           }
          ],
          "table": [
           {
            "cells": {
             "fill": {
              "color": "#EBF0F8"
             },
             "line": {
              "color": "white"
             }
            },
            "header": {
             "fill": {
              "color": "#C8D4E3"
             },
             "line": {
              "color": "white"
             }
            },
            "type": "table"
           }
          ]
         },
         "layout": {
          "annotationdefaults": {
           "arrowcolor": "#2a3f5f",
           "arrowhead": 0,
           "arrowwidth": 1
          },
          "autotypenumbers": "strict",
          "coloraxis": {
           "colorbar": {
            "outlinewidth": 0,
            "ticks": ""
           }
          },
          "colorscale": {
           "diverging": [
            [
             0,
             "#8e0152"
            ],
            [
             0.1,
             "#c51b7d"
            ],
            [
             0.2,
             "#de77ae"
            ],
            [
             0.3,
             "#f1b6da"
            ],
            [
             0.4,
             "#fde0ef"
            ],
            [
             0.5,
             "#f7f7f7"
            ],
            [
             0.6,
             "#e6f5d0"
            ],
            [
             0.7,
             "#b8e186"
            ],
            [
             0.8,
             "#7fbc41"
            ],
            [
             0.9,
             "#4d9221"
            ],
            [
             1,
             "#276419"
            ]
           ],
           "sequential": [
            [
             0,
             "#0d0887"
            ],
            [
             0.1111111111111111,
             "#46039f"
            ],
            [
             0.2222222222222222,
             "#7201a8"
            ],
            [
             0.3333333333333333,
             "#9c179e"
            ],
            [
             0.4444444444444444,
             "#bd3786"
            ],
            [
             0.5555555555555556,
             "#d8576b"
            ],
            [
             0.6666666666666666,
             "#ed7953"
            ],
            [
             0.7777777777777778,
             "#fb9f3a"
            ],
            [
             0.8888888888888888,
             "#fdca26"
            ],
            [
             1,
             "#f0f921"
            ]
           ],
           "sequentialminus": [
            [
             0,
             "#0d0887"
            ],
            [
             0.1111111111111111,
             "#46039f"
            ],
            [
             0.2222222222222222,
             "#7201a8"
            ],
            [
             0.3333333333333333,
             "#9c179e"
            ],
            [
             0.4444444444444444,
             "#bd3786"
            ],
            [
             0.5555555555555556,
             "#d8576b"
            ],
            [
             0.6666666666666666,
             "#ed7953"
            ],
            [
             0.7777777777777778,
             "#fb9f3a"
            ],
            [
             0.8888888888888888,
             "#fdca26"
            ],
            [
             1,
             "#f0f921"
            ]
           ]
          },
          "colorway": [
           "#636efa",
           "#EF553B",
           "#00cc96",
           "#ab63fa",
           "#FFA15A",
           "#19d3f3",
           "#FF6692",
           "#B6E880",
           "#FF97FF",
           "#FECB52"
          ],
          "font": {
           "color": "#2a3f5f"
          },
          "geo": {
           "bgcolor": "white",
           "lakecolor": "white",
           "landcolor": "#E5ECF6",
           "showlakes": true,
           "showland": true,
           "subunitcolor": "white"
          },
          "hoverlabel": {
           "align": "left"
          },
          "hovermode": "closest",
          "mapbox": {
           "style": "light"
          },
          "paper_bgcolor": "white",
          "plot_bgcolor": "#E5ECF6",
          "polar": {
           "angularaxis": {
            "gridcolor": "white",
            "linecolor": "white",
            "ticks": ""
           },
           "bgcolor": "#E5ECF6",
           "radialaxis": {
            "gridcolor": "white",
            "linecolor": "white",
            "ticks": ""
           }
          },
          "scene": {
           "xaxis": {
            "backgroundcolor": "#E5ECF6",
            "gridcolor": "white",
            "gridwidth": 2,
            "linecolor": "white",
            "showbackground": true,
            "ticks": "",
            "zerolinecolor": "white"
           },
           "yaxis": {
            "backgroundcolor": "#E5ECF6",
            "gridcolor": "white",
            "gridwidth": 2,
            "linecolor": "white",
            "showbackground": true,
            "ticks": "",
            "zerolinecolor": "white"
           },
           "zaxis": {
            "backgroundcolor": "#E5ECF6",
            "gridcolor": "white",
            "gridwidth": 2,
            "linecolor": "white",
            "showbackground": true,
            "ticks": "",
            "zerolinecolor": "white"
           }
          },
          "shapedefaults": {
           "line": {
            "color": "#2a3f5f"
           }
          },
          "ternary": {
           "aaxis": {
            "gridcolor": "white",
            "linecolor": "white",
            "ticks": ""
           },
           "baxis": {
            "gridcolor": "white",
            "linecolor": "white",
            "ticks": ""
           },
           "bgcolor": "#E5ECF6",
           "caxis": {
            "gridcolor": "white",
            "linecolor": "white",
            "ticks": ""
           }
          },
          "title": {
           "x": 0.05
          },
          "xaxis": {
           "automargin": true,
           "gridcolor": "white",
           "linecolor": "white",
           "ticks": "",
           "title": {
            "standoff": 15
           },
           "zerolinecolor": "white",
           "zerolinewidth": 2
          },
          "yaxis": {
           "automargin": true,
           "gridcolor": "white",
           "linecolor": "white",
           "ticks": "",
           "title": {
            "standoff": 15
           },
           "zerolinecolor": "white",
           "zerolinewidth": 2
          }
         }
        },
        "title": {
         "text": "Monthly Revenue Distribution for Top 15 Businesses"
        },
        "xaxis": {
         "title": {
          "text": "Year"
         }
        },
        "yaxis": {
         "title": {
          "text": "Revenue"
         }
        }
       }
      }
     },
     "metadata": {},
     "output_type": "display_data"
    }
   ],
   "source": [
    "#Revenue distribution over the years\n",
    "\n",
    "top_15_revenue_data = df[df['BUSINESS GROUP'].isin(top_15_businesses)]\n",
    "\n",
    "#Group by year\n",
    "yearly_revenue = df.groupby(['DATE', 'BUSINESS GROUP'])['C_Revenue'].sum().unstack()\n",
    "\n",
    "fig = go.Figure()\n",
    "\n",
    "# Add a line for each business\n",
    "for business in yearly_revenue.columns:\n",
    "    fig.add_trace(go.Scatter(\n",
    "        x=yearly_revenue.index,\n",
    "        y=yearly_revenue[business],\n",
    "        mode='lines+markers',\n",
    "        name=business\n",
    "    ))\n",
    "\n",
    "fig.update_layout(\n",
    "    title='Monthly Revenue Distribution for Top 15 Businesses',\n",
    "    xaxis_title='Year',\n",
    "    yaxis_title='Revenue',\n",
    ")\n",
    "\n",
    "\n",
    "fig.show()"
   ]
  },
  {
   "cell_type": "markdown",
   "id": "e2a8e3fa",
   "metadata": {},
   "source": [
    "**Insights:** ASP shows a steady upward trend with occasional dips in revenue. Most of the businesses tend to show a constant pace in revenue generation with values not exceeding 20Billion. "
   ]
  },
  {
   "cell_type": "code",
   "execution_count": 16,
   "id": "1d81e9ef",
   "metadata": {},
   "outputs": [
    {
     "data": {
      "application/vnd.plotly.v1+json": {
       "config": {
        "plotlyServerURL": "https://plot.ly"
       },
       "data": [
        {
         "name": "AMD",
         "type": "bar",
         "x": [
          2019,
          2020,
          2021,
          2022,
          2023,
          2024
         ],
         "y": [
          4779567182.170002,
          5610796257.330003,
          5137618637.500002,
          6396237523.9000025,
          10867272550.300005,
          4032352312.2000012
         ]
        },
        {
         "name": "ASD",
         "type": "bar",
         "x": [
          2019,
          2020,
          2021,
          2022,
          2023,
          2024
         ],
         "y": [
          2625928214.710001,
          3324916300.6400013,
          3331654860.240001,
          3494940429.6500015,
          3967229676.9000015,
          1473542451.4200006
         ]
        },
        {
         "name": "ASP",
         "type": "bar",
         "x": [
          2019,
          2020,
          2021,
          2022,
          2023,
          2024
         ],
         "y": [
          510072387.0300002,
          680096516.0400003,
          775937862.3400004,
          680096516.0400003,
          680096516.0400003,
          340048258.02000016
         ]
        },
        {
         "name": "CET",
         "type": "bar",
         "x": [
          2019,
          2020,
          2021,
          2022,
          2023,
          2024
         ],
         "y": [
          4930699741.290002,
          5501813606.240003,
          7972242493.580004,
          9596917504.120005,
          10673736987.850004,
          3543564729.6600013
         ]
        },
        {
         "name": "CMS",
         "type": "bar",
         "x": [
          2019,
          2020,
          2021,
          2022,
          2023,
          2024
         ],
         "y": [
          680096516.0400003,
          1052380996.0100005,
          698988085.9300003,
          1209060472.9600005,
          2814843913.610001,
          1284626752.5200005
         ]
        },
        {
         "name": "COB",
         "type": "bar",
         "x": [
          2019,
          2020,
          2021,
          2022,
          2023,
          2024
         ],
         "y": [
          5459663698.210002,
          6090839601.790003,
          5666188566.6100025,
          7432879962.060003,
          8656330492.140003,
          2909301763.0600014
         ]
        },
        {
         "name": "COH",
         "type": "bar",
         "x": [
          2019,
          2020,
          2021,
          2022,
          2023,
          2024
         ],
         "y": [
          0,
          0,
          0,
          132240989.23000005,
          56674709.670000024,
          0
         ]
        },
        {
         "name": "COR",
         "type": "bar",
         "x": [
          2019,
          2020,
          2021,
          2022,
          2023,
          2024
         ],
         "y": [
          113349419.34000005,
          75566279.56000003,
          75566279.56000003,
          226698838.6800001,
          302265118.2400001,
          207807268.79000008
         ]
        },
        {
         "name": "CPB",
         "type": "bar",
         "x": [
          2019,
          2020,
          2021,
          2022,
          2023,
          2024
         ],
         "y": [
          3627181418.8800015,
          4304578807.510002,
          4190144949.1800017,
          5542064854.320003,
          10732225816.070004,
          5226654662.690001
         ]
        },
        {
         "name": "DPG",
         "type": "bar",
         "x": [
          2019,
          2020,
          2021,
          2022,
          2023,
          2024
         ],
         "y": [
          2380337806.140001,
          3304417893.8200016,
          2833735483.5000014,
          3324916300.6400013,
          4741784042.390002,
          2493687225.480001
         ]
        },
        {
         "name": "ECM",
         "type": "bar",
         "x": [
          2019,
          2020,
          2021,
          2022,
          2023,
          2024
         ],
         "y": [
          0,
          0,
          0,
          0,
          0,
          472289247.2500002
         ]
        },
        {
         "name": "HME",
         "type": "bar",
         "x": [
          2019,
          2020,
          2021,
          2022,
          2023,
          2024
         ],
         "y": [
          1700241290.1000006,
          2448427215.280001,
          2304771526.580001,
          2172530537.350001,
          1926940128.780001,
          661204946.1500003
         ]
        },
        {
         "name": "IDC",
         "type": "bar",
         "x": [
          2019,
          2020,
          2021,
          2022,
          2023,
          2024
         ],
         "y": [
          2040289548.1200008,
          2928413681.5400014,
          3250057170.3200016,
          4052273086.4100018,
          4559267751.270001,
          2113928838.990001
         ]
        },
        {
         "name": "LSB",
         "type": "bar",
         "x": [
          2019,
          2020,
          2021,
          2022,
          2023,
          2024
         ],
         "y": [
          850120645.0500003,
          1133494193.4000006,
          1095711053.6200004,
          1586891870.7600007,
          1813590709.4400008,
          906795354.7200004
         ]
        },
        {
         "name": "NET",
         "type": "bar",
         "x": [
          2019,
          2020,
          2021,
          2022,
          2023,
          2024
         ],
         "y": [
          7651085805.450004,
          10503712858.840004,
          11481633279.620005,
          14677781348.380007,
          16373816832.320005,
          7105818066.160003
         ]
        },
        {
         "name": "PHW",
         "type": "bar",
         "x": [
          2019,
          2020,
          2021,
          2022,
          2023,
          2024
         ],
         "y": [
          8312290751.600003,
          8921587947.080004,
          7961170858.120004,
          9380168322.700005,
          9383095545.500004,
          4746308243.780002
         ]
        },
        {
         "name": "SBG",
         "type": "bar",
         "x": [
          2019,
          2020,
          2021,
          2022,
          2023,
          2024
         ],
         "y": [
          3003759612.510001,
          3476048859.7600017,
          2909301763.0600014,
          3438265719.9800014,
          6763182020.620003,
          4679119980.210002
         ]
        },
        {
         "name": "SEC",
         "type": "bar",
         "x": [
          2019,
          2020,
          2021,
          2022,
          2023,
          2024
         ],
         "y": [
          3211566881.300001,
          4390500277.330002,
          5073534958.030003,
          10462213973.990004,
          11708664431.180004,
          5950620198.120003
         ]
        },
        {
         "name": "SNS",
         "type": "bar",
         "x": [
          2019,
          2020,
          2021,
          2022,
          2023,
          2024
         ],
         "y": [
          7462170106.550003,
          9691819449.370005,
          9009945245.210003,
          11512541386.020004,
          13420756357.750006,
          5865077935.590002
         ]
        },
        {
         "name": "SWB",
         "type": "bar",
         "x": [
          2019,
          2020,
          2021,
          2022,
          2023,
          2024
         ],
         "y": [
          8180049762.370004,
          9325977218.030005,
          9879529169.740004,
          14045442466.610006,
          15731035216.370007,
          6493212458.910003
         ]
        },
        {
         "name": "WRH",
         "type": "bar",
         "x": [
          2019,
          2020,
          2021,
          2022,
          2023,
          2024
         ],
         "y": [
          453397677.3600002,
          680096516.0400003,
          680096516.0400003,
          698988085.9300003,
          302265118.2400001,
          0
         ]
        },
        {
         "name": "ZDB",
         "type": "bar",
         "x": [
          2019,
          2020,
          2021,
          2022,
          2023,
          2024
         ],
         "y": [
          1265735182.6300006,
          1379084601.9700005,
          1360193032.0800006,
          1794699139.5500007,
          1605783440.6500006,
          396722967.6900002
         ]
        }
       ],
       "layout": {
        "template": {
         "data": {
          "bar": [
           {
            "error_x": {
             "color": "#2a3f5f"
            },
            "error_y": {
             "color": "#2a3f5f"
            },
            "marker": {
             "line": {
              "color": "#E5ECF6",
              "width": 0.5
             },
             "pattern": {
              "fillmode": "overlay",
              "size": 10,
              "solidity": 0.2
             }
            },
            "type": "bar"
           }
          ],
          "barpolar": [
           {
            "marker": {
             "line": {
              "color": "#E5ECF6",
              "width": 0.5
             },
             "pattern": {
              "fillmode": "overlay",
              "size": 10,
              "solidity": 0.2
             }
            },
            "type": "barpolar"
           }
          ],
          "carpet": [
           {
            "aaxis": {
             "endlinecolor": "#2a3f5f",
             "gridcolor": "white",
             "linecolor": "white",
             "minorgridcolor": "white",
             "startlinecolor": "#2a3f5f"
            },
            "baxis": {
             "endlinecolor": "#2a3f5f",
             "gridcolor": "white",
             "linecolor": "white",
             "minorgridcolor": "white",
             "startlinecolor": "#2a3f5f"
            },
            "type": "carpet"
           }
          ],
          "choropleth": [
           {
            "colorbar": {
             "outlinewidth": 0,
             "ticks": ""
            },
            "type": "choropleth"
           }
          ],
          "contour": [
           {
            "colorbar": {
             "outlinewidth": 0,
             "ticks": ""
            },
            "colorscale": [
             [
              0,
              "#0d0887"
             ],
             [
              0.1111111111111111,
              "#46039f"
             ],
             [
              0.2222222222222222,
              "#7201a8"
             ],
             [
              0.3333333333333333,
              "#9c179e"
             ],
             [
              0.4444444444444444,
              "#bd3786"
             ],
             [
              0.5555555555555556,
              "#d8576b"
             ],
             [
              0.6666666666666666,
              "#ed7953"
             ],
             [
              0.7777777777777778,
              "#fb9f3a"
             ],
             [
              0.8888888888888888,
              "#fdca26"
             ],
             [
              1,
              "#f0f921"
             ]
            ],
            "type": "contour"
           }
          ],
          "contourcarpet": [
           {
            "colorbar": {
             "outlinewidth": 0,
             "ticks": ""
            },
            "type": "contourcarpet"
           }
          ],
          "heatmap": [
           {
            "colorbar": {
             "outlinewidth": 0,
             "ticks": ""
            },
            "colorscale": [
             [
              0,
              "#0d0887"
             ],
             [
              0.1111111111111111,
              "#46039f"
             ],
             [
              0.2222222222222222,
              "#7201a8"
             ],
             [
              0.3333333333333333,
              "#9c179e"
             ],
             [
              0.4444444444444444,
              "#bd3786"
             ],
             [
              0.5555555555555556,
              "#d8576b"
             ],
             [
              0.6666666666666666,
              "#ed7953"
             ],
             [
              0.7777777777777778,
              "#fb9f3a"
             ],
             [
              0.8888888888888888,
              "#fdca26"
             ],
             [
              1,
              "#f0f921"
             ]
            ],
            "type": "heatmap"
           }
          ],
          "heatmapgl": [
           {
            "colorbar": {
             "outlinewidth": 0,
             "ticks": ""
            },
            "colorscale": [
             [
              0,
              "#0d0887"
             ],
             [
              0.1111111111111111,
              "#46039f"
             ],
             [
              0.2222222222222222,
              "#7201a8"
             ],
             [
              0.3333333333333333,
              "#9c179e"
             ],
             [
              0.4444444444444444,
              "#bd3786"
             ],
             [
              0.5555555555555556,
              "#d8576b"
             ],
             [
              0.6666666666666666,
              "#ed7953"
             ],
             [
              0.7777777777777778,
              "#fb9f3a"
             ],
             [
              0.8888888888888888,
              "#fdca26"
             ],
             [
              1,
              "#f0f921"
             ]
            ],
            "type": "heatmapgl"
           }
          ],
          "histogram": [
           {
            "marker": {
             "pattern": {
              "fillmode": "overlay",
              "size": 10,
              "solidity": 0.2
             }
            },
            "type": "histogram"
           }
          ],
          "histogram2d": [
           {
            "colorbar": {
             "outlinewidth": 0,
             "ticks": ""
            },
            "colorscale": [
             [
              0,
              "#0d0887"
             ],
             [
              0.1111111111111111,
              "#46039f"
             ],
             [
              0.2222222222222222,
              "#7201a8"
             ],
             [
              0.3333333333333333,
              "#9c179e"
             ],
             [
              0.4444444444444444,
              "#bd3786"
             ],
             [
              0.5555555555555556,
              "#d8576b"
             ],
             [
              0.6666666666666666,
              "#ed7953"
             ],
             [
              0.7777777777777778,
              "#fb9f3a"
             ],
             [
              0.8888888888888888,
              "#fdca26"
             ],
             [
              1,
              "#f0f921"
             ]
            ],
            "type": "histogram2d"
           }
          ],
          "histogram2dcontour": [
           {
            "colorbar": {
             "outlinewidth": 0,
             "ticks": ""
            },
            "colorscale": [
             [
              0,
              "#0d0887"
             ],
             [
              0.1111111111111111,
              "#46039f"
             ],
             [
              0.2222222222222222,
              "#7201a8"
             ],
             [
              0.3333333333333333,
              "#9c179e"
             ],
             [
              0.4444444444444444,
              "#bd3786"
             ],
             [
              0.5555555555555556,
              "#d8576b"
             ],
             [
              0.6666666666666666,
              "#ed7953"
             ],
             [
              0.7777777777777778,
              "#fb9f3a"
             ],
             [
              0.8888888888888888,
              "#fdca26"
             ],
             [
              1,
              "#f0f921"
             ]
            ],
            "type": "histogram2dcontour"
           }
          ],
          "mesh3d": [
           {
            "colorbar": {
             "outlinewidth": 0,
             "ticks": ""
            },
            "type": "mesh3d"
           }
          ],
          "parcoords": [
           {
            "line": {
             "colorbar": {
              "outlinewidth": 0,
              "ticks": ""
             }
            },
            "type": "parcoords"
           }
          ],
          "pie": [
           {
            "automargin": true,
            "type": "pie"
           }
          ],
          "scatter": [
           {
            "fillpattern": {
             "fillmode": "overlay",
             "size": 10,
             "solidity": 0.2
            },
            "type": "scatter"
           }
          ],
          "scatter3d": [
           {
            "line": {
             "colorbar": {
              "outlinewidth": 0,
              "ticks": ""
             }
            },
            "marker": {
             "colorbar": {
              "outlinewidth": 0,
              "ticks": ""
             }
            },
            "type": "scatter3d"
           }
          ],
          "scattercarpet": [
           {
            "marker": {
             "colorbar": {
              "outlinewidth": 0,
              "ticks": ""
             }
            },
            "type": "scattercarpet"
           }
          ],
          "scattergeo": [
           {
            "marker": {
             "colorbar": {
              "outlinewidth": 0,
              "ticks": ""
             }
            },
            "type": "scattergeo"
           }
          ],
          "scattergl": [
           {
            "marker": {
             "colorbar": {
              "outlinewidth": 0,
              "ticks": ""
             }
            },
            "type": "scattergl"
           }
          ],
          "scattermapbox": [
           {
            "marker": {
             "colorbar": {
              "outlinewidth": 0,
              "ticks": ""
             }
            },
            "type": "scattermapbox"
           }
          ],
          "scatterpolar": [
           {
            "marker": {
             "colorbar": {
              "outlinewidth": 0,
              "ticks": ""
             }
            },
            "type": "scatterpolar"
           }
          ],
          "scatterpolargl": [
           {
            "marker": {
             "colorbar": {
              "outlinewidth": 0,
              "ticks": ""
             }
            },
            "type": "scatterpolargl"
           }
          ],
          "scatterternary": [
           {
            "marker": {
             "colorbar": {
              "outlinewidth": 0,
              "ticks": ""
             }
            },
            "type": "scatterternary"
           }
          ],
          "surface": [
           {
            "colorbar": {
             "outlinewidth": 0,
             "ticks": ""
            },
            "colorscale": [
             [
              0,
              "#0d0887"
             ],
             [
              0.1111111111111111,
              "#46039f"
             ],
             [
              0.2222222222222222,
              "#7201a8"
             ],
             [
              0.3333333333333333,
              "#9c179e"
             ],
             [
              0.4444444444444444,
              "#bd3786"
             ],
             [
              0.5555555555555556,
              "#d8576b"
             ],
             [
              0.6666666666666666,
              "#ed7953"
             ],
             [
              0.7777777777777778,
              "#fb9f3a"
             ],
             [
              0.8888888888888888,
              "#fdca26"
             ],
             [
              1,
              "#f0f921"
             ]
            ],
            "type": "surface"
           }
          ],
          "table": [
           {
            "cells": {
             "fill": {
              "color": "#EBF0F8"
             },
             "line": {
              "color": "white"
             }
            },
            "header": {
             "fill": {
              "color": "#C8D4E3"
             },
             "line": {
              "color": "white"
             }
            },
            "type": "table"
           }
          ]
         },
         "layout": {
          "annotationdefaults": {
           "arrowcolor": "#2a3f5f",
           "arrowhead": 0,
           "arrowwidth": 1
          },
          "autotypenumbers": "strict",
          "coloraxis": {
           "colorbar": {
            "outlinewidth": 0,
            "ticks": ""
           }
          },
          "colorscale": {
           "diverging": [
            [
             0,
             "#8e0152"
            ],
            [
             0.1,
             "#c51b7d"
            ],
            [
             0.2,
             "#de77ae"
            ],
            [
             0.3,
             "#f1b6da"
            ],
            [
             0.4,
             "#fde0ef"
            ],
            [
             0.5,
             "#f7f7f7"
            ],
            [
             0.6,
             "#e6f5d0"
            ],
            [
             0.7,
             "#b8e186"
            ],
            [
             0.8,
             "#7fbc41"
            ],
            [
             0.9,
             "#4d9221"
            ],
            [
             1,
             "#276419"
            ]
           ],
           "sequential": [
            [
             0,
             "#0d0887"
            ],
            [
             0.1111111111111111,
             "#46039f"
            ],
            [
             0.2222222222222222,
             "#7201a8"
            ],
            [
             0.3333333333333333,
             "#9c179e"
            ],
            [
             0.4444444444444444,
             "#bd3786"
            ],
            [
             0.5555555555555556,
             "#d8576b"
            ],
            [
             0.6666666666666666,
             "#ed7953"
            ],
            [
             0.7777777777777778,
             "#fb9f3a"
            ],
            [
             0.8888888888888888,
             "#fdca26"
            ],
            [
             1,
             "#f0f921"
            ]
           ],
           "sequentialminus": [
            [
             0,
             "#0d0887"
            ],
            [
             0.1111111111111111,
             "#46039f"
            ],
            [
             0.2222222222222222,
             "#7201a8"
            ],
            [
             0.3333333333333333,
             "#9c179e"
            ],
            [
             0.4444444444444444,
             "#bd3786"
            ],
            [
             0.5555555555555556,
             "#d8576b"
            ],
            [
             0.6666666666666666,
             "#ed7953"
            ],
            [
             0.7777777777777778,
             "#fb9f3a"
            ],
            [
             0.8888888888888888,
             "#fdca26"
            ],
            [
             1,
             "#f0f921"
            ]
           ]
          },
          "colorway": [
           "#636efa",
           "#EF553B",
           "#00cc96",
           "#ab63fa",
           "#FFA15A",
           "#19d3f3",
           "#FF6692",
           "#B6E880",
           "#FF97FF",
           "#FECB52"
          ],
          "font": {
           "color": "#2a3f5f"
          },
          "geo": {
           "bgcolor": "white",
           "lakecolor": "white",
           "landcolor": "#E5ECF6",
           "showlakes": true,
           "showland": true,
           "subunitcolor": "white"
          },
          "hoverlabel": {
           "align": "left"
          },
          "hovermode": "closest",
          "mapbox": {
           "style": "light"
          },
          "paper_bgcolor": "white",
          "plot_bgcolor": "#E5ECF6",
          "polar": {
           "angularaxis": {
            "gridcolor": "white",
            "linecolor": "white",
            "ticks": ""
           },
           "bgcolor": "#E5ECF6",
           "radialaxis": {
            "gridcolor": "white",
            "linecolor": "white",
            "ticks": ""
           }
          },
          "scene": {
           "xaxis": {
            "backgroundcolor": "#E5ECF6",
            "gridcolor": "white",
            "gridwidth": 2,
            "linecolor": "white",
            "showbackground": true,
            "ticks": "",
            "zerolinecolor": "white"
           },
           "yaxis": {
            "backgroundcolor": "#E5ECF6",
            "gridcolor": "white",
            "gridwidth": 2,
            "linecolor": "white",
            "showbackground": true,
            "ticks": "",
            "zerolinecolor": "white"
           },
           "zaxis": {
            "backgroundcolor": "#E5ECF6",
            "gridcolor": "white",
            "gridwidth": 2,
            "linecolor": "white",
            "showbackground": true,
            "ticks": "",
            "zerolinecolor": "white"
           }
          },
          "shapedefaults": {
           "line": {
            "color": "#2a3f5f"
           }
          },
          "ternary": {
           "aaxis": {
            "gridcolor": "white",
            "linecolor": "white",
            "ticks": ""
           },
           "baxis": {
            "gridcolor": "white",
            "linecolor": "white",
            "ticks": ""
           },
           "bgcolor": "#E5ECF6",
           "caxis": {
            "gridcolor": "white",
            "linecolor": "white",
            "ticks": ""
           }
          },
          "title": {
           "x": 0.05
          },
          "xaxis": {
           "automargin": true,
           "gridcolor": "white",
           "linecolor": "white",
           "ticks": "",
           "title": {
            "standoff": 15
           },
           "zerolinecolor": "white",
           "zerolinewidth": 2
          },
          "yaxis": {
           "automargin": true,
           "gridcolor": "white",
           "linecolor": "white",
           "ticks": "",
           "title": {
            "standoff": 15
           },
           "zerolinecolor": "white",
           "zerolinewidth": 2
          }
         }
        },
        "title": {
         "text": "PAT Distribution for Top 15 Businesses"
        },
        "xaxis": {
         "title": {
          "text": "Year"
         }
        },
        "yaxis": {
         "title": {
          "text": "PAT"
         }
        }
       }
      }
     },
     "metadata": {},
     "output_type": "display_data"
    }
   ],
   "source": [
    "#yearly pat distribution of the top 15 contributors\n",
    "\n",
    "yearly_pat = df.groupby(['YEAR', 'BUSINESS GROUP'])['C_PAT'].sum().unstack(fill_value=0)\n",
    "\n",
    "#Plotting the Bar Graph\n",
    "fig = go.Figure()\n",
    "\n",
    "#Add a stacked bar for each business\n",
    "for business in yearly_pat.columns:\n",
    "    fig.add_trace(go.Bar(\n",
    "        x=yearly_pat.index,\n",
    "        y=yearly_pat[business],\n",
    "        name=business\n",
    "    ))\n",
    "\n",
    "fig.update_layout(\n",
    "    title='PAT Distribution for Top 15 Businesses',\n",
    "    xaxis_title='Year',\n",
    "    yaxis_title='PAT',\n",
    ")\n",
    "fig.show()"
   ]
  },
  {
   "cell_type": "markdown",
   "id": "cd900d3b",
   "metadata": {},
   "source": [
    "**Insight:** NET is continuously the major PAT yielder except in the year 2019 in which it was marginally surpassed by PHW and SWB, whereas SWB is consitently the 2nd largest contributor since 2021."
   ]
  },
  {
   "cell_type": "code",
   "execution_count": 17,
   "id": "efbc8c55",
   "metadata": {},
   "outputs": [
    {
     "data": {
      "application/vnd.plotly.v1+json": {
       "config": {
        "plotlyServerURL": "https://plot.ly"
       },
       "data": [
        {
         "hovertemplate": "Business Group=AMD<br>YEAR=%{x}<br>Revenue=%{y}<extra></extra>",
         "legendgroup": "AMD",
         "line": {
          "color": "#636efa",
          "dash": "solid"
         },
         "marker": {
          "symbol": "circle"
         },
         "mode": "lines+markers",
         "name": "AMD",
         "orientation": "v",
         "showlegend": true,
         "type": "scatter",
         "x": [
          2019,
          2020,
          2021,
          2022,
          2023,
          2024
         ],
         "xaxis": "x",
         "y": [
          92814052052.39,
          104370491207.45,
          101086415087.15001,
          142511641967.97,
          246712993844.79,
          74079121572.28
         ],
         "yaxis": "y"
        },
        {
         "hovertemplate": "Business Group=ASD<br>YEAR=%{x}<br>Revenue=%{y}<extra></extra>",
         "legendgroup": "ASD",
         "line": {
          "color": "#EF553B",
          "dash": "solid"
         },
         "marker": {
          "symbol": "circle"
         },
         "mode": "lines+markers",
         "name": "ASD",
         "orientation": "v",
         "showlegend": true,
         "type": "scatter",
         "x": [
          2019,
          2020,
          2021,
          2022,
          2023,
          2024
         ],
         "xaxis": "x",
         "y": [
          128355906815.45,
          218621384056.82,
          320376091312.11,
          251564454092.09,
          287962394415.11,
          169126799727.13
         ],
         "yaxis": "y"
        },
        {
         "hovertemplate": "Business Group=ASP<br>YEAR=%{x}<br>Revenue=%{y}<extra></extra>",
         "legendgroup": "ASP",
         "line": {
          "color": "#00cc96",
          "dash": "solid"
         },
         "marker": {
          "symbol": "circle"
         },
         "mode": "lines+markers",
         "name": "ASP",
         "orientation": "v",
         "showlegend": true,
         "type": "scatter",
         "x": [
          2019,
          2020,
          2021,
          2022,
          2023,
          2024
         ],
         "xaxis": "x",
         "y": [
          172490709461.12,
          391138236554.12,
          373004643402.48,
          466349117289.22,
          590745659149.89,
          357220214507.16
         ],
         "yaxis": "y"
        },
        {
         "hovertemplate": "Business Group=CET<br>YEAR=%{x}<br>Revenue=%{y}<extra></extra>",
         "legendgroup": "CET",
         "line": {
          "color": "#ab63fa",
          "dash": "solid"
         },
         "marker": {
          "symbol": "circle"
         },
         "mode": "lines+markers",
         "name": "CET",
         "orientation": "v",
         "showlegend": true,
         "type": "scatter",
         "x": [
          2019,
          2020,
          2021,
          2022,
          2023,
          2024
         ],
         "xaxis": "x",
         "y": [
          80014695448.71,
          100180519406.04001,
          153281360510.14,
          192687744759.31,
          228725328124.44,
          83349571069.14
         ],
         "yaxis": "y"
        },
        {
         "hovertemplate": "Business Group=CMS<br>YEAR=%{x}<br>Revenue=%{y}<extra></extra>",
         "legendgroup": "CMS",
         "line": {
          "color": "#FFA15A",
          "dash": "solid"
         },
         "marker": {
          "symbol": "circle"
         },
         "mode": "lines+markers",
         "name": "CMS",
         "orientation": "v",
         "showlegend": true,
         "type": "scatter",
         "x": [
          2019,
          2020,
          2021,
          2022,
          2023,
          2024
         ],
         "xaxis": "x",
         "y": [
          8888159789.800001,
          12835352594.32,
          12142608527.82,
          21003430967.04,
          48573460041.22,
          21410344743.760002
         ],
         "yaxis": "y"
        },
        {
         "hovertemplate": "Business Group=COB<br>YEAR=%{x}<br>Revenue=%{y}<extra></extra>",
         "legendgroup": "COB",
         "line": {
          "color": "#19d3f3",
          "dash": "solid"
         },
         "marker": {
          "symbol": "circle"
         },
         "mode": "lines+markers",
         "name": "COB",
         "orientation": "v",
         "showlegend": true,
         "type": "scatter",
         "x": [
          2019,
          2020,
          2021,
          2022,
          2023,
          2024
         ],
         "xaxis": "x",
         "y": [
          101859146333.72,
          115653015024.97,
          109919762904.08,
          133497316881.88,
          188772509224.25,
          146576035181.42
         ],
         "yaxis": "y"
        },
        {
         "hovertemplate": "Business Group=COH<br>YEAR=%{x}<br>Revenue=%{y}<extra></extra>",
         "legendgroup": "COH",
         "line": {
          "color": "#FF6692",
          "dash": "solid"
         },
         "marker": {
          "symbol": "circle"
         },
         "mode": "lines+markers",
         "name": "COH",
         "orientation": "v",
         "showlegend": true,
         "type": "scatter",
         "x": [
          2022,
          2023
         ],
         "xaxis": "x",
         "y": [
          2297250262.02,
          984535826.58
         ],
         "yaxis": "y"
        },
        {
         "hovertemplate": "Business Group=COR<br>YEAR=%{x}<br>Revenue=%{y}<extra></extra>",
         "legendgroup": "COR",
         "line": {
          "color": "#B6E880",
          "dash": "solid"
         },
         "marker": {
          "symbol": "circle"
         },
         "mode": "lines+markers",
         "name": "COR",
         "orientation": "v",
         "showlegend": true,
         "type": "scatter",
         "x": [
          2019,
          2020,
          2021,
          2022,
          2023,
          2024
         ],
         "xaxis": "x",
         "y": [
          1969071653.16,
          1312714435.44,
          1312714435.44,
          33229188183.91,
          5250857741.76,
          3609964697.46
         ],
         "yaxis": "y"
        },
        {
         "hovertemplate": "Business Group=CPB<br>YEAR=%{x}<br>Revenue=%{y}<extra></extra>",
         "legendgroup": "CPB",
         "line": {
          "color": "#FF97FF",
          "dash": "solid"
         },
         "marker": {
          "symbol": "circle"
         },
         "mode": "lines+markers",
         "name": "CPB",
         "orientation": "v",
         "showlegend": true,
         "type": "scatter",
         "x": [
          2019,
          2020,
          2021,
          2022,
          2023,
          2024
         ],
         "xaxis": "x",
         "y": [
          97802571675.99,
          152853240809.89,
          189606542874.76,
          191006526560.04,
          218262873437.97,
          99377785111.09
         ],
         "yaxis": "y"
        },
        {
         "hovertemplate": "Business Group=DPG<br>YEAR=%{x}<br>Revenue=%{y}<extra></extra>",
         "legendgroup": "DPG",
         "line": {
          "color": "#FECB52",
          "dash": "solid"
         },
         "marker": {
          "symbol": "circle"
         },
         "mode": "lines+markers",
         "name": "DPG",
         "orientation": "v",
         "showlegend": true,
         "type": "scatter",
         "x": [
          2019,
          2020,
          2021,
          2022,
          2023,
          2024
         ],
         "xaxis": "x",
         "y": [
          44437262733.740005,
          55690327858.94,
          55156340480.75,
          67059661366.490005,
          94819233935.53,
          49067405146.19
         ],
         "yaxis": "y"
        },
        {
         "hovertemplate": "Business Group=ECM<br>YEAR=%{x}<br>Revenue=%{y}<extra></extra>",
         "legendgroup": "ECM",
         "line": {
          "color": "#636efa",
          "dash": "solid"
         },
         "marker": {
          "symbol": "circle"
         },
         "mode": "lines+markers",
         "name": "ECM",
         "orientation": "v",
         "showlegend": true,
         "type": "scatter",
         "x": [
          2024
         ],
         "xaxis": "x",
         "y": [
          8204465221.5
         ],
         "yaxis": "y"
        },
        {
         "hovertemplate": "Business Group=HME<br>YEAR=%{x}<br>Revenue=%{y}<extra></extra>",
         "legendgroup": "HME",
         "line": {
          "color": "#EF553B",
          "dash": "solid"
         },
         "marker": {
          "symbol": "circle"
         },
         "mode": "lines+markers",
         "name": "HME",
         "orientation": "v",
         "showlegend": true,
         "type": "scatter",
         "x": [
          2019,
          2020,
          2021,
          2022,
          2023,
          2024
         ],
         "xaxis": "x",
         "y": [
          25168253635.210003,
          37850480085.47,
          40037790280.92,
          37740540018.9,
          33474218103.72,
          11486251310.1
         ],
         "yaxis": "y"
        },
        {
         "hovertemplate": "Business Group=IDC<br>YEAR=%{x}<br>Revenue=%{y}<extra></extra>",
         "legendgroup": "IDC",
         "line": {
          "color": "#00cc96",
          "dash": "solid"
         },
         "marker": {
          "symbol": "circle"
         },
         "mode": "lines+markers",
         "name": "IDC",
         "orientation": "v",
         "showlegend": true,
         "type": "scatter",
         "x": [
          2019,
          2020,
          2021,
          2022,
          2023,
          2024
         ],
         "xaxis": "x",
         "y": [
          66380816299.79,
          81534348397.51,
          86369599998.04001,
          103215652091.04001,
          120201341321.01001,
          48963704437.22
         ],
         "yaxis": "y"
        },
        {
         "hovertemplate": "Business Group=LSB<br>YEAR=%{x}<br>Revenue=%{y}<extra></extra>",
         "legendgroup": "LSB",
         "line": {
          "color": "#ab63fa",
          "dash": "solid"
         },
         "marker": {
          "symbol": "circle"
         },
         "mode": "lines+markers",
         "name": "LSB",
         "orientation": "v",
         "showlegend": true,
         "type": "scatter",
         "x": [
          2019,
          2020,
          2021,
          2022,
          2023,
          2024
         ],
         "xaxis": "x",
         "y": [
          18959108156.29,
          23716383659.95,
          19034359313.88,
          28178137531.15,
          34089421410.16,
          22881662902
         ],
         "yaxis": "y"
        },
        {
         "hovertemplate": "Business Group=NET<br>YEAR=%{x}<br>Revenue=%{y}<extra></extra>",
         "legendgroup": "NET",
         "line": {
          "color": "#FFA15A",
          "dash": "solid"
         },
         "marker": {
          "symbol": "circle"
         },
         "mode": "lines+markers",
         "name": "NET",
         "orientation": "v",
         "showlegend": true,
         "type": "scatter",
         "x": [
          2019,
          2020,
          2021,
          2022,
          2023,
          2024
         ],
         "xaxis": "x",
         "y": [
          137724255984.41,
          182812549149.22,
          216394226015.71002,
          260001576939,
          302206997172.36,
          154920239125.78
         ],
         "yaxis": "y"
        },
        {
         "hovertemplate": "Business Group=PHW<br>YEAR=%{x}<br>Revenue=%{y}<extra></extra>",
         "legendgroup": "PHW",
         "line": {
          "color": "#19d3f3",
          "dash": "solid"
         },
         "marker": {
          "symbol": "circle"
         },
         "mode": "lines+markers",
         "name": "PHW",
         "orientation": "v",
         "showlegend": true,
         "type": "scatter",
         "x": [
          2019,
          2020,
          2021,
          2022,
          2023,
          2024
         ],
         "xaxis": "x",
         "y": [
          146562187378.89,
          158423999459.83002,
          139804729696.5,
          157764953617.55002,
          160728810575.55002,
          99011820094.7
         ],
         "yaxis": "y"
        },
        {
         "hovertemplate": "Business Group=SBG<br>YEAR=%{x}<br>Revenue=%{y}<extra></extra>",
         "legendgroup": "SBG",
         "line": {
          "color": "#FF6692",
          "dash": "solid"
         },
         "marker": {
          "symbol": "circle"
         },
         "mode": "lines+markers",
         "name": "SBG",
         "orientation": "v",
         "showlegend": true,
         "type": "scatter",
         "x": [
          2019,
          2020,
          2021,
          2022,
          2023,
          2024
         ],
         "xaxis": "x",
         "y": [
          44623362895.83,
          58229197397.020004,
          52168530242.58,
          65299342445.16,
          125448202902.37001,
          81859210010.94
         ],
         "yaxis": "y"
        },
        {
         "hovertemplate": "Business Group=SEC<br>YEAR=%{x}<br>Revenue=%{y}<extra></extra>",
         "legendgroup": "SEC",
         "line": {
          "color": "#B6E880",
          "dash": "solid"
         },
         "marker": {
          "symbol": "circle"
         },
         "mode": "lines+markers",
         "name": "SEC",
         "orientation": "v",
         "showlegend": true,
         "type": "scatter",
         "x": [
          2019,
          2020,
          2021,
          2022,
          2023,
          2024
         ],
         "xaxis": "x",
         "y": [
          57912245953.64,
          82298335128.69,
          99738177488.90001,
          184538005663.62,
          215935575116.51,
          113376101927.96
         ],
         "yaxis": "y"
        },
        {
         "hovertemplate": "Business Group=SNS<br>YEAR=%{x}<br>Revenue=%{y}<extra></extra>",
         "legendgroup": "SNS",
         "line": {
          "color": "#FF97FF",
          "dash": "solid"
         },
         "marker": {
          "symbol": "circle"
         },
         "mode": "lines+markers",
         "name": "SNS",
         "orientation": "v",
         "showlegend": true,
         "type": "scatter",
         "x": [
          2019,
          2020,
          2021,
          2022,
          2023,
          2024
         ],
         "xaxis": "x",
         "y": [
          123675824692.91,
          161646307632.56,
          156940867063.96002,
          214782525884.14,
          244470910158.54,
          123458149530.74
         ],
         "yaxis": "y"
        },
        {
         "hovertemplate": "Business Group=SWB<br>YEAR=%{x}<br>Revenue=%{y}<extra></extra>",
         "legendgroup": "SWB",
         "line": {
          "color": "#FECB52",
          "dash": "solid"
         },
         "marker": {
          "symbol": "circle"
         },
         "mode": "lines+markers",
         "name": "SWB",
         "orientation": "v",
         "showlegend": true,
         "type": "scatter",
         "x": [
          2019,
          2020,
          2021,
          2022,
          2023,
          2024
         ],
         "xaxis": "x",
         "y": [
          148062160087.33002,
          188238263887.08002,
          176419235422.41,
          241712738865.62,
          267784320798.68002,
          114695725526.07
         ],
         "yaxis": "y"
        },
        {
         "hovertemplate": "Business Group=WRH<br>YEAR=%{x}<br>Revenue=%{y}<extra></extra>",
         "legendgroup": "WRH",
         "line": {
          "color": "#636efa",
          "dash": "solid"
         },
         "marker": {
          "symbol": "circle"
         },
         "mode": "lines+markers",
         "name": "WRH",
         "orientation": "v",
         "showlegend": true,
         "type": "scatter",
         "x": [
          2019,
          2020,
          2021,
          2022,
          2023
         ],
         "xaxis": "x",
         "y": [
          7876286612.64,
          11814429918.960001,
          11814429918.960001,
          12142608527.82,
          5250857741.76
         ],
         "yaxis": "y"
        },
        {
         "hovertemplate": "Business Group=ZDB<br>YEAR=%{x}<br>Revenue=%{y}<extra></extra>",
         "legendgroup": "ZDB",
         "line": {
          "color": "#EF553B",
          "dash": "solid"
         },
         "marker": {
          "symbol": "circle"
         },
         "mode": "lines+markers",
         "name": "ZDB",
         "orientation": "v",
         "showlegend": true,
         "type": "scatter",
         "x": [
          2019,
          2020,
          2021,
          2022,
          2023,
          2024
         ],
         "xaxis": "x",
         "y": [
          21987966793.620003,
          23957038446.780003,
          23628859837.920002,
          31176967841.7,
          27895181753.100002,
          6891750786.06
         ],
         "yaxis": "y"
        }
       ],
       "layout": {
        "legend": {
         "title": {
          "text": "Business Group"
         },
         "tracegroupgap": 0
        },
        "template": {
         "data": {
          "bar": [
           {
            "error_x": {
             "color": "#f2f5fa"
            },
            "error_y": {
             "color": "#f2f5fa"
            },
            "marker": {
             "line": {
              "color": "rgb(17,17,17)",
              "width": 0.5
             },
             "pattern": {
              "fillmode": "overlay",
              "size": 10,
              "solidity": 0.2
             }
            },
            "type": "bar"
           }
          ],
          "barpolar": [
           {
            "marker": {
             "line": {
              "color": "rgb(17,17,17)",
              "width": 0.5
             },
             "pattern": {
              "fillmode": "overlay",
              "size": 10,
              "solidity": 0.2
             }
            },
            "type": "barpolar"
           }
          ],
          "carpet": [
           {
            "aaxis": {
             "endlinecolor": "#A2B1C6",
             "gridcolor": "#506784",
             "linecolor": "#506784",
             "minorgridcolor": "#506784",
             "startlinecolor": "#A2B1C6"
            },
            "baxis": {
             "endlinecolor": "#A2B1C6",
             "gridcolor": "#506784",
             "linecolor": "#506784",
             "minorgridcolor": "#506784",
             "startlinecolor": "#A2B1C6"
            },
            "type": "carpet"
           }
          ],
          "choropleth": [
           {
            "colorbar": {
             "outlinewidth": 0,
             "ticks": ""
            },
            "type": "choropleth"
           }
          ],
          "contour": [
           {
            "colorbar": {
             "outlinewidth": 0,
             "ticks": ""
            },
            "colorscale": [
             [
              0,
              "#0d0887"
             ],
             [
              0.1111111111111111,
              "#46039f"
             ],
             [
              0.2222222222222222,
              "#7201a8"
             ],
             [
              0.3333333333333333,
              "#9c179e"
             ],
             [
              0.4444444444444444,
              "#bd3786"
             ],
             [
              0.5555555555555556,
              "#d8576b"
             ],
             [
              0.6666666666666666,
              "#ed7953"
             ],
             [
              0.7777777777777778,
              "#fb9f3a"
             ],
             [
              0.8888888888888888,
              "#fdca26"
             ],
             [
              1,
              "#f0f921"
             ]
            ],
            "type": "contour"
           }
          ],
          "contourcarpet": [
           {
            "colorbar": {
             "outlinewidth": 0,
             "ticks": ""
            },
            "type": "contourcarpet"
           }
          ],
          "heatmap": [
           {
            "colorbar": {
             "outlinewidth": 0,
             "ticks": ""
            },
            "colorscale": [
             [
              0,
              "#0d0887"
             ],
             [
              0.1111111111111111,
              "#46039f"
             ],
             [
              0.2222222222222222,
              "#7201a8"
             ],
             [
              0.3333333333333333,
              "#9c179e"
             ],
             [
              0.4444444444444444,
              "#bd3786"
             ],
             [
              0.5555555555555556,
              "#d8576b"
             ],
             [
              0.6666666666666666,
              "#ed7953"
             ],
             [
              0.7777777777777778,
              "#fb9f3a"
             ],
             [
              0.8888888888888888,
              "#fdca26"
             ],
             [
              1,
              "#f0f921"
             ]
            ],
            "type": "heatmap"
           }
          ],
          "heatmapgl": [
           {
            "colorbar": {
             "outlinewidth": 0,
             "ticks": ""
            },
            "colorscale": [
             [
              0,
              "#0d0887"
             ],
             [
              0.1111111111111111,
              "#46039f"
             ],
             [
              0.2222222222222222,
              "#7201a8"
             ],
             [
              0.3333333333333333,
              "#9c179e"
             ],
             [
              0.4444444444444444,
              "#bd3786"
             ],
             [
              0.5555555555555556,
              "#d8576b"
             ],
             [
              0.6666666666666666,
              "#ed7953"
             ],
             [
              0.7777777777777778,
              "#fb9f3a"
             ],
             [
              0.8888888888888888,
              "#fdca26"
             ],
             [
              1,
              "#f0f921"
             ]
            ],
            "type": "heatmapgl"
           }
          ],
          "histogram": [
           {
            "marker": {
             "pattern": {
              "fillmode": "overlay",
              "size": 10,
              "solidity": 0.2
             }
            },
            "type": "histogram"
           }
          ],
          "histogram2d": [
           {
            "colorbar": {
             "outlinewidth": 0,
             "ticks": ""
            },
            "colorscale": [
             [
              0,
              "#0d0887"
             ],
             [
              0.1111111111111111,
              "#46039f"
             ],
             [
              0.2222222222222222,
              "#7201a8"
             ],
             [
              0.3333333333333333,
              "#9c179e"
             ],
             [
              0.4444444444444444,
              "#bd3786"
             ],
             [
              0.5555555555555556,
              "#d8576b"
             ],
             [
              0.6666666666666666,
              "#ed7953"
             ],
             [
              0.7777777777777778,
              "#fb9f3a"
             ],
             [
              0.8888888888888888,
              "#fdca26"
             ],
             [
              1,
              "#f0f921"
             ]
            ],
            "type": "histogram2d"
           }
          ],
          "histogram2dcontour": [
           {
            "colorbar": {
             "outlinewidth": 0,
             "ticks": ""
            },
            "colorscale": [
             [
              0,
              "#0d0887"
             ],
             [
              0.1111111111111111,
              "#46039f"
             ],
             [
              0.2222222222222222,
              "#7201a8"
             ],
             [
              0.3333333333333333,
              "#9c179e"
             ],
             [
              0.4444444444444444,
              "#bd3786"
             ],
             [
              0.5555555555555556,
              "#d8576b"
             ],
             [
              0.6666666666666666,
              "#ed7953"
             ],
             [
              0.7777777777777778,
              "#fb9f3a"
             ],
             [
              0.8888888888888888,
              "#fdca26"
             ],
             [
              1,
              "#f0f921"
             ]
            ],
            "type": "histogram2dcontour"
           }
          ],
          "mesh3d": [
           {
            "colorbar": {
             "outlinewidth": 0,
             "ticks": ""
            },
            "type": "mesh3d"
           }
          ],
          "parcoords": [
           {
            "line": {
             "colorbar": {
              "outlinewidth": 0,
              "ticks": ""
             }
            },
            "type": "parcoords"
           }
          ],
          "pie": [
           {
            "automargin": true,
            "type": "pie"
           }
          ],
          "scatter": [
           {
            "marker": {
             "line": {
              "color": "#283442"
             }
            },
            "type": "scatter"
           }
          ],
          "scatter3d": [
           {
            "line": {
             "colorbar": {
              "outlinewidth": 0,
              "ticks": ""
             }
            },
            "marker": {
             "colorbar": {
              "outlinewidth": 0,
              "ticks": ""
             }
            },
            "type": "scatter3d"
           }
          ],
          "scattercarpet": [
           {
            "marker": {
             "colorbar": {
              "outlinewidth": 0,
              "ticks": ""
             }
            },
            "type": "scattercarpet"
           }
          ],
          "scattergeo": [
           {
            "marker": {
             "colorbar": {
              "outlinewidth": 0,
              "ticks": ""
             }
            },
            "type": "scattergeo"
           }
          ],
          "scattergl": [
           {
            "marker": {
             "line": {
              "color": "#283442"
             }
            },
            "type": "scattergl"
           }
          ],
          "scattermapbox": [
           {
            "marker": {
             "colorbar": {
              "outlinewidth": 0,
              "ticks": ""
             }
            },
            "type": "scattermapbox"
           }
          ],
          "scatterpolar": [
           {
            "marker": {
             "colorbar": {
              "outlinewidth": 0,
              "ticks": ""
             }
            },
            "type": "scatterpolar"
           }
          ],
          "scatterpolargl": [
           {
            "marker": {
             "colorbar": {
              "outlinewidth": 0,
              "ticks": ""
             }
            },
            "type": "scatterpolargl"
           }
          ],
          "scatterternary": [
           {
            "marker": {
             "colorbar": {
              "outlinewidth": 0,
              "ticks": ""
             }
            },
            "type": "scatterternary"
           }
          ],
          "surface": [
           {
            "colorbar": {
             "outlinewidth": 0,
             "ticks": ""
            },
            "colorscale": [
             [
              0,
              "#0d0887"
             ],
             [
              0.1111111111111111,
              "#46039f"
             ],
             [
              0.2222222222222222,
              "#7201a8"
             ],
             [
              0.3333333333333333,
              "#9c179e"
             ],
             [
              0.4444444444444444,
              "#bd3786"
             ],
             [
              0.5555555555555556,
              "#d8576b"
             ],
             [
              0.6666666666666666,
              "#ed7953"
             ],
             [
              0.7777777777777778,
              "#fb9f3a"
             ],
             [
              0.8888888888888888,
              "#fdca26"
             ],
             [
              1,
              "#f0f921"
             ]
            ],
            "type": "surface"
           }
          ],
          "table": [
           {
            "cells": {
             "fill": {
              "color": "#506784"
             },
             "line": {
              "color": "rgb(17,17,17)"
             }
            },
            "header": {
             "fill": {
              "color": "#2a3f5f"
             },
             "line": {
              "color": "rgb(17,17,17)"
             }
            },
            "type": "table"
           }
          ]
         },
         "layout": {
          "annotationdefaults": {
           "arrowcolor": "#f2f5fa",
           "arrowhead": 0,
           "arrowwidth": 1
          },
          "autotypenumbers": "strict",
          "coloraxis": {
           "colorbar": {
            "outlinewidth": 0,
            "ticks": ""
           }
          },
          "colorscale": {
           "diverging": [
            [
             0,
             "#8e0152"
            ],
            [
             0.1,
             "#c51b7d"
            ],
            [
             0.2,
             "#de77ae"
            ],
            [
             0.3,
             "#f1b6da"
            ],
            [
             0.4,
             "#fde0ef"
            ],
            [
             0.5,
             "#f7f7f7"
            ],
            [
             0.6,
             "#e6f5d0"
            ],
            [
             0.7,
             "#b8e186"
            ],
            [
             0.8,
             "#7fbc41"
            ],
            [
             0.9,
             "#4d9221"
            ],
            [
             1,
             "#276419"
            ]
           ],
           "sequential": [
            [
             0,
             "#0d0887"
            ],
            [
             0.1111111111111111,
             "#46039f"
            ],
            [
             0.2222222222222222,
             "#7201a8"
            ],
            [
             0.3333333333333333,
             "#9c179e"
            ],
            [
             0.4444444444444444,
             "#bd3786"
            ],
            [
             0.5555555555555556,
             "#d8576b"
            ],
            [
             0.6666666666666666,
             "#ed7953"
            ],
            [
             0.7777777777777778,
             "#fb9f3a"
            ],
            [
             0.8888888888888888,
             "#fdca26"
            ],
            [
             1,
             "#f0f921"
            ]
           ],
           "sequentialminus": [
            [
             0,
             "#0d0887"
            ],
            [
             0.1111111111111111,
             "#46039f"
            ],
            [
             0.2222222222222222,
             "#7201a8"
            ],
            [
             0.3333333333333333,
             "#9c179e"
            ],
            [
             0.4444444444444444,
             "#bd3786"
            ],
            [
             0.5555555555555556,
             "#d8576b"
            ],
            [
             0.6666666666666666,
             "#ed7953"
            ],
            [
             0.7777777777777778,
             "#fb9f3a"
            ],
            [
             0.8888888888888888,
             "#fdca26"
            ],
            [
             1,
             "#f0f921"
            ]
           ]
          },
          "colorway": [
           "#636efa",
           "#EF553B",
           "#00cc96",
           "#ab63fa",
           "#FFA15A",
           "#19d3f3",
           "#FF6692",
           "#B6E880",
           "#FF97FF",
           "#FECB52"
          ],
          "font": {
           "color": "#f2f5fa"
          },
          "geo": {
           "bgcolor": "rgb(17,17,17)",
           "lakecolor": "rgb(17,17,17)",
           "landcolor": "rgb(17,17,17)",
           "showlakes": true,
           "showland": true,
           "subunitcolor": "#506784"
          },
          "hoverlabel": {
           "align": "left"
          },
          "hovermode": "closest",
          "mapbox": {
           "style": "dark"
          },
          "paper_bgcolor": "rgb(17,17,17)",
          "plot_bgcolor": "rgb(17,17,17)",
          "polar": {
           "angularaxis": {
            "gridcolor": "#506784",
            "linecolor": "#506784",
            "ticks": ""
           },
           "bgcolor": "rgb(17,17,17)",
           "radialaxis": {
            "gridcolor": "#506784",
            "linecolor": "#506784",
            "ticks": ""
           }
          },
          "scene": {
           "xaxis": {
            "backgroundcolor": "rgb(17,17,17)",
            "gridcolor": "#506784",
            "gridwidth": 2,
            "linecolor": "#506784",
            "showbackground": true,
            "ticks": "",
            "zerolinecolor": "#C8D4E3"
           },
           "yaxis": {
            "backgroundcolor": "rgb(17,17,17)",
            "gridcolor": "#506784",
            "gridwidth": 2,
            "linecolor": "#506784",
            "showbackground": true,
            "ticks": "",
            "zerolinecolor": "#C8D4E3"
           },
           "zaxis": {
            "backgroundcolor": "rgb(17,17,17)",
            "gridcolor": "#506784",
            "gridwidth": 2,
            "linecolor": "#506784",
            "showbackground": true,
            "ticks": "",
            "zerolinecolor": "#C8D4E3"
           }
          },
          "shapedefaults": {
           "line": {
            "color": "#f2f5fa"
           }
          },
          "sliderdefaults": {
           "bgcolor": "#C8D4E3",
           "bordercolor": "rgb(17,17,17)",
           "borderwidth": 1,
           "tickwidth": 0
          },
          "ternary": {
           "aaxis": {
            "gridcolor": "#506784",
            "linecolor": "#506784",
            "ticks": ""
           },
           "baxis": {
            "gridcolor": "#506784",
            "linecolor": "#506784",
            "ticks": ""
           },
           "bgcolor": "rgb(17,17,17)",
           "caxis": {
            "gridcolor": "#506784",
            "linecolor": "#506784",
            "ticks": ""
           }
          },
          "title": {
           "x": 0.05
          },
          "updatemenudefaults": {
           "bgcolor": "#506784",
           "borderwidth": 0
          },
          "xaxis": {
           "automargin": true,
           "gridcolor": "#283442",
           "linecolor": "#506784",
           "ticks": "",
           "title": {
            "standoff": 15
           },
           "zerolinecolor": "#283442",
           "zerolinewidth": 2
          },
          "yaxis": {
           "automargin": true,
           "gridcolor": "#283442",
           "linecolor": "#506784",
           "ticks": "",
           "title": {
            "standoff": 15
           },
           "zerolinecolor": "#283442",
           "zerolinewidth": 2
          }
         }
        },
        "title": {
         "text": "Yearly Revenue Trends of Businesses"
        },
        "xaxis": {
         "anchor": "y",
         "domain": [
          0,
          1
         ],
         "title": {
          "text": "YEAR"
         }
        },
        "yaxis": {
         "anchor": "x",
         "domain": [
          0,
          1
         ],
         "title": {
          "text": "Revenue"
         }
        }
       }
      }
     },
     "metadata": {},
     "output_type": "display_data"
    }
   ],
   "source": [
    "#the revenue distribution of the companies over the years\n",
    "new = df.groupby(['BUSINESS GROUP',\"YEAR\"])['C_Revenue'].sum().reset_index()\n",
    "fig = px.line(\n",
    "    new,\n",
    "    x='YEAR',\n",
    "    y='C_Revenue',\n",
    "    color='BUSINESS GROUP',\n",
    "    title='Yearly Revenue Trends of Businesses',\n",
    "    markers=True,\n",
    "    labels={'C_Revenue': 'Revenue', 'DATE':'date', 'BUSINESS GROUP': 'Business Group'},\n",
    "    template='plotly_dark'\n",
    ")\n",
    "fig.show()"
   ]
  },
  {
   "cell_type": "markdown",
   "id": "3d76f6b0",
   "metadata": {},
   "source": [
    "**Insight :** All the businesses have experienced an upsurge in revenue in the year 2022 and have reached the maximum at 2023 after which they dropped steadily. HME has remained constant througout the years accompanied by ZDB."
   ]
  },
  {
   "cell_type": "code",
   "execution_count": 18,
   "id": "4d8aa2d7",
   "metadata": {},
   "outputs": [
    {
     "data": {
      "application/vnd.plotly.v1+json": {
       "config": {
        "plotlyServerURL": "https://plot.ly"
       },
       "data": [
        {
         "alignmentgroup": "True",
         "hovertemplate": "BUSINESS GROUP=AMD<br>Year=%{x}<br>C_Revenue=%{y}<extra></extra>",
         "legendgroup": "AMD",
         "marker": {
          "color": "#636efa",
          "pattern": {
           "shape": ""
          }
         },
         "name": "AMD",
         "offsetgroup": "AMD",
         "orientation": "v",
         "showlegend": true,
         "textposition": "auto",
         "type": "bar",
         "x": [
          2019,
          2020,
          2021,
          2022,
          2023,
          2024
         ],
         "xaxis": "x",
         "y": [
          92814052052.39,
          104370491207.45,
          101086415087.15001,
          142511641967.97,
          246712993844.79,
          74079121572.28
         ],
         "yaxis": "y"
        },
        {
         "alignmentgroup": "True",
         "hovertemplate": "BUSINESS GROUP=ASD<br>Year=%{x}<br>C_Revenue=%{y}<extra></extra>",
         "legendgroup": "ASD",
         "marker": {
          "color": "#EF553B",
          "pattern": {
           "shape": ""
          }
         },
         "name": "ASD",
         "offsetgroup": "ASD",
         "orientation": "v",
         "showlegend": true,
         "textposition": "auto",
         "type": "bar",
         "x": [
          2019,
          2020,
          2021,
          2022,
          2023,
          2024
         ],
         "xaxis": "x",
         "y": [
          128355906815.45,
          218621384056.82,
          320376091312.11,
          251564454092.09,
          287962394415.11,
          169126799727.13
         ],
         "yaxis": "y"
        },
        {
         "alignmentgroup": "True",
         "hovertemplate": "BUSINESS GROUP=ASP<br>Year=%{x}<br>C_Revenue=%{y}<extra></extra>",
         "legendgroup": "ASP",
         "marker": {
          "color": "#00cc96",
          "pattern": {
           "shape": ""
          }
         },
         "name": "ASP",
         "offsetgroup": "ASP",
         "orientation": "v",
         "showlegend": true,
         "textposition": "auto",
         "type": "bar",
         "x": [
          2019,
          2020,
          2021,
          2022,
          2023,
          2024
         ],
         "xaxis": "x",
         "y": [
          172490709461.12,
          391138236554.12,
          373004643402.48,
          466349117289.22,
          590745659149.89,
          357220214507.16
         ],
         "yaxis": "y"
        },
        {
         "alignmentgroup": "True",
         "hovertemplate": "BUSINESS GROUP=CET<br>Year=%{x}<br>C_Revenue=%{y}<extra></extra>",
         "legendgroup": "CET",
         "marker": {
          "color": "#ab63fa",
          "pattern": {
           "shape": ""
          }
         },
         "name": "CET",
         "offsetgroup": "CET",
         "orientation": "v",
         "showlegend": true,
         "textposition": "auto",
         "type": "bar",
         "x": [
          2019,
          2020,
          2021,
          2022,
          2023,
          2024
         ],
         "xaxis": "x",
         "y": [
          80014695448.71,
          100180519406.04001,
          153281360510.14,
          192687744759.31,
          228725328124.44,
          83349571069.14
         ],
         "yaxis": "y"
        },
        {
         "alignmentgroup": "True",
         "hovertemplate": "BUSINESS GROUP=CMS<br>Year=%{x}<br>C_Revenue=%{y}<extra></extra>",
         "legendgroup": "CMS",
         "marker": {
          "color": "#FFA15A",
          "pattern": {
           "shape": ""
          }
         },
         "name": "CMS",
         "offsetgroup": "CMS",
         "orientation": "v",
         "showlegend": true,
         "textposition": "auto",
         "type": "bar",
         "x": [
          2019,
          2020,
          2021,
          2022,
          2023,
          2024
         ],
         "xaxis": "x",
         "y": [
          8888159789.800001,
          12835352594.32,
          12142608527.82,
          21003430967.04,
          48573460041.22,
          21410344743.760002
         ],
         "yaxis": "y"
        },
        {
         "alignmentgroup": "True",
         "hovertemplate": "BUSINESS GROUP=COB<br>Year=%{x}<br>C_Revenue=%{y}<extra></extra>",
         "legendgroup": "COB",
         "marker": {
          "color": "#19d3f3",
          "pattern": {
           "shape": ""
          }
         },
         "name": "COB",
         "offsetgroup": "COB",
         "orientation": "v",
         "showlegend": true,
         "textposition": "auto",
         "type": "bar",
         "x": [
          2019,
          2020,
          2021,
          2022,
          2023,
          2024
         ],
         "xaxis": "x",
         "y": [
          101859146333.72,
          115653015024.97,
          109919762904.08,
          133497316881.88,
          188772509224.25,
          146576035181.42
         ],
         "yaxis": "y"
        },
        {
         "alignmentgroup": "True",
         "hovertemplate": "BUSINESS GROUP=COR<br>Year=%{x}<br>C_Revenue=%{y}<extra></extra>",
         "legendgroup": "COR",
         "marker": {
          "color": "#FF6692",
          "pattern": {
           "shape": ""
          }
         },
         "name": "COR",
         "offsetgroup": "COR",
         "orientation": "v",
         "showlegend": true,
         "textposition": "auto",
         "type": "bar",
         "x": [
          2019,
          2020,
          2021,
          2022,
          2023,
          2024
         ],
         "xaxis": "x",
         "y": [
          1969071653.16,
          1312714435.44,
          1312714435.44,
          33229188183.91,
          5250857741.76,
          3609964697.46
         ],
         "yaxis": "y"
        },
        {
         "alignmentgroup": "True",
         "hovertemplate": "BUSINESS GROUP=CPB<br>Year=%{x}<br>C_Revenue=%{y}<extra></extra>",
         "legendgroup": "CPB",
         "marker": {
          "color": "#B6E880",
          "pattern": {
           "shape": ""
          }
         },
         "name": "CPB",
         "offsetgroup": "CPB",
         "orientation": "v",
         "showlegend": true,
         "textposition": "auto",
         "type": "bar",
         "x": [
          2019,
          2020,
          2021,
          2022,
          2023,
          2024
         ],
         "xaxis": "x",
         "y": [
          97802571675.99,
          152853240809.89,
          189606542874.76,
          191006526560.04,
          218262873437.97,
          99377785111.09
         ],
         "yaxis": "y"
        },
        {
         "alignmentgroup": "True",
         "hovertemplate": "BUSINESS GROUP=DPG<br>Year=%{x}<br>C_Revenue=%{y}<extra></extra>",
         "legendgroup": "DPG",
         "marker": {
          "color": "#FF97FF",
          "pattern": {
           "shape": ""
          }
         },
         "name": "DPG",
         "offsetgroup": "DPG",
         "orientation": "v",
         "showlegend": true,
         "textposition": "auto",
         "type": "bar",
         "x": [
          2019,
          2020,
          2021,
          2022,
          2023,
          2024
         ],
         "xaxis": "x",
         "y": [
          44437262733.740005,
          55690327858.94,
          55156340480.75,
          67059661366.490005,
          94819233935.53,
          49067405146.19
         ],
         "yaxis": "y"
        },
        {
         "alignmentgroup": "True",
         "hovertemplate": "BUSINESS GROUP=HME<br>Year=%{x}<br>C_Revenue=%{y}<extra></extra>",
         "legendgroup": "HME",
         "marker": {
          "color": "#FECB52",
          "pattern": {
           "shape": ""
          }
         },
         "name": "HME",
         "offsetgroup": "HME",
         "orientation": "v",
         "showlegend": true,
         "textposition": "auto",
         "type": "bar",
         "x": [
          2019,
          2020,
          2021,
          2022,
          2023,
          2024
         ],
         "xaxis": "x",
         "y": [
          25168253635.210003,
          37850480085.47,
          40037790280.92,
          37740540018.9,
          33474218103.72,
          11486251310.1
         ],
         "yaxis": "y"
        },
        {
         "alignmentgroup": "True",
         "hovertemplate": "BUSINESS GROUP=IDC<br>Year=%{x}<br>C_Revenue=%{y}<extra></extra>",
         "legendgroup": "IDC",
         "marker": {
          "color": "#636efa",
          "pattern": {
           "shape": ""
          }
         },
         "name": "IDC",
         "offsetgroup": "IDC",
         "orientation": "v",
         "showlegend": true,
         "textposition": "auto",
         "type": "bar",
         "x": [
          2019,
          2020,
          2021,
          2022,
          2023,
          2024
         ],
         "xaxis": "x",
         "y": [
          66380816299.79,
          81534348397.51,
          86369599998.04001,
          103215652091.04001,
          120201341321.01001,
          48963704437.22
         ],
         "yaxis": "y"
        },
        {
         "alignmentgroup": "True",
         "hovertemplate": "BUSINESS GROUP=LSB<br>Year=%{x}<br>C_Revenue=%{y}<extra></extra>",
         "legendgroup": "LSB",
         "marker": {
          "color": "#EF553B",
          "pattern": {
           "shape": ""
          }
         },
         "name": "LSB",
         "offsetgroup": "LSB",
         "orientation": "v",
         "showlegend": true,
         "textposition": "auto",
         "type": "bar",
         "x": [
          2019,
          2020,
          2021,
          2022,
          2023,
          2024
         ],
         "xaxis": "x",
         "y": [
          18959108156.29,
          23716383659.95,
          19034359313.88,
          28178137531.15,
          34089421410.16,
          22881662902
         ],
         "yaxis": "y"
        },
        {
         "alignmentgroup": "True",
         "hovertemplate": "BUSINESS GROUP=NET<br>Year=%{x}<br>C_Revenue=%{y}<extra></extra>",
         "legendgroup": "NET",
         "marker": {
          "color": "#00cc96",
          "pattern": {
           "shape": ""
          }
         },
         "name": "NET",
         "offsetgroup": "NET",
         "orientation": "v",
         "showlegend": true,
         "textposition": "auto",
         "type": "bar",
         "x": [
          2019,
          2020,
          2021,
          2022,
          2023,
          2024
         ],
         "xaxis": "x",
         "y": [
          137724255984.41,
          182812549149.22,
          216394226015.71002,
          260001576939,
          302206997172.36,
          154920239125.78
         ],
         "yaxis": "y"
        },
        {
         "alignmentgroup": "True",
         "hovertemplate": "BUSINESS GROUP=PHW<br>Year=%{x}<br>C_Revenue=%{y}<extra></extra>",
         "legendgroup": "PHW",
         "marker": {
          "color": "#ab63fa",
          "pattern": {
           "shape": ""
          }
         },
         "name": "PHW",
         "offsetgroup": "PHW",
         "orientation": "v",
         "showlegend": true,
         "textposition": "auto",
         "type": "bar",
         "x": [
          2019,
          2020,
          2021,
          2022,
          2023,
          2024
         ],
         "xaxis": "x",
         "y": [
          146562187378.89,
          158423999459.83002,
          139804729696.5,
          157764953617.55002,
          160728810575.55002,
          99011820094.7
         ],
         "yaxis": "y"
        },
        {
         "alignmentgroup": "True",
         "hovertemplate": "BUSINESS GROUP=SBG<br>Year=%{x}<br>C_Revenue=%{y}<extra></extra>",
         "legendgroup": "SBG",
         "marker": {
          "color": "#FFA15A",
          "pattern": {
           "shape": ""
          }
         },
         "name": "SBG",
         "offsetgroup": "SBG",
         "orientation": "v",
         "showlegend": true,
         "textposition": "auto",
         "type": "bar",
         "x": [
          2019,
          2020,
          2021,
          2022,
          2023,
          2024
         ],
         "xaxis": "x",
         "y": [
          44623362895.83,
          58229197397.020004,
          52168530242.58,
          65299342445.16,
          125448202902.37001,
          81859210010.94
         ],
         "yaxis": "y"
        },
        {
         "alignmentgroup": "True",
         "hovertemplate": "BUSINESS GROUP=SEC<br>Year=%{x}<br>C_Revenue=%{y}<extra></extra>",
         "legendgroup": "SEC",
         "marker": {
          "color": "#19d3f3",
          "pattern": {
           "shape": ""
          }
         },
         "name": "SEC",
         "offsetgroup": "SEC",
         "orientation": "v",
         "showlegend": true,
         "textposition": "auto",
         "type": "bar",
         "x": [
          2019,
          2020,
          2021,
          2022,
          2023,
          2024
         ],
         "xaxis": "x",
         "y": [
          57912245953.64,
          82298335128.69,
          99738177488.90001,
          184538005663.62,
          215935575116.51,
          113376101927.96
         ],
         "yaxis": "y"
        },
        {
         "alignmentgroup": "True",
         "hovertemplate": "BUSINESS GROUP=SNS<br>Year=%{x}<br>C_Revenue=%{y}<extra></extra>",
         "legendgroup": "SNS",
         "marker": {
          "color": "#FF6692",
          "pattern": {
           "shape": ""
          }
         },
         "name": "SNS",
         "offsetgroup": "SNS",
         "orientation": "v",
         "showlegend": true,
         "textposition": "auto",
         "type": "bar",
         "x": [
          2019,
          2020,
          2021,
          2022,
          2023,
          2024
         ],
         "xaxis": "x",
         "y": [
          123675824692.91,
          161646307632.56,
          156940867063.96002,
          214782525884.14,
          244470910158.54,
          123458149530.74
         ],
         "yaxis": "y"
        },
        {
         "alignmentgroup": "True",
         "hovertemplate": "BUSINESS GROUP=SWB<br>Year=%{x}<br>C_Revenue=%{y}<extra></extra>",
         "legendgroup": "SWB",
         "marker": {
          "color": "#B6E880",
          "pattern": {
           "shape": ""
          }
         },
         "name": "SWB",
         "offsetgroup": "SWB",
         "orientation": "v",
         "showlegend": true,
         "textposition": "auto",
         "type": "bar",
         "x": [
          2019,
          2020,
          2021,
          2022,
          2023,
          2024
         ],
         "xaxis": "x",
         "y": [
          148062160087.33002,
          188238263887.08002,
          176419235422.41,
          241712738865.62,
          267784320798.68002,
          114695725526.07
         ],
         "yaxis": "y"
        },
        {
         "alignmentgroup": "True",
         "hovertemplate": "BUSINESS GROUP=ZDB<br>Year=%{x}<br>C_Revenue=%{y}<extra></extra>",
         "legendgroup": "ZDB",
         "marker": {
          "color": "#FF97FF",
          "pattern": {
           "shape": ""
          }
         },
         "name": "ZDB",
         "offsetgroup": "ZDB",
         "orientation": "v",
         "showlegend": true,
         "textposition": "auto",
         "type": "bar",
         "x": [
          2019,
          2020,
          2021,
          2022,
          2023,
          2024
         ],
         "xaxis": "x",
         "y": [
          21987966793.620003,
          23957038446.780003,
          23628859837.920002,
          31176967841.7,
          27895181753.100002,
          6891750786.06
         ],
         "yaxis": "y"
        }
       ],
       "layout": {
        "barmode": "relative",
        "legend": {
         "title": {
          "text": "BUSINESS GROUP"
         },
         "tracegroupgap": 0
        },
        "template": {
         "data": {
          "bar": [
           {
            "error_x": {
             "color": "#f2f5fa"
            },
            "error_y": {
             "color": "#f2f5fa"
            },
            "marker": {
             "line": {
              "color": "rgb(17,17,17)",
              "width": 0.5
             },
             "pattern": {
              "fillmode": "overlay",
              "size": 10,
              "solidity": 0.2
             }
            },
            "type": "bar"
           }
          ],
          "barpolar": [
           {
            "marker": {
             "line": {
              "color": "rgb(17,17,17)",
              "width": 0.5
             },
             "pattern": {
              "fillmode": "overlay",
              "size": 10,
              "solidity": 0.2
             }
            },
            "type": "barpolar"
           }
          ],
          "carpet": [
           {
            "aaxis": {
             "endlinecolor": "#A2B1C6",
             "gridcolor": "#506784",
             "linecolor": "#506784",
             "minorgridcolor": "#506784",
             "startlinecolor": "#A2B1C6"
            },
            "baxis": {
             "endlinecolor": "#A2B1C6",
             "gridcolor": "#506784",
             "linecolor": "#506784",
             "minorgridcolor": "#506784",
             "startlinecolor": "#A2B1C6"
            },
            "type": "carpet"
           }
          ],
          "choropleth": [
           {
            "colorbar": {
             "outlinewidth": 0,
             "ticks": ""
            },
            "type": "choropleth"
           }
          ],
          "contour": [
           {
            "colorbar": {
             "outlinewidth": 0,
             "ticks": ""
            },
            "colorscale": [
             [
              0,
              "#0d0887"
             ],
             [
              0.1111111111111111,
              "#46039f"
             ],
             [
              0.2222222222222222,
              "#7201a8"
             ],
             [
              0.3333333333333333,
              "#9c179e"
             ],
             [
              0.4444444444444444,
              "#bd3786"
             ],
             [
              0.5555555555555556,
              "#d8576b"
             ],
             [
              0.6666666666666666,
              "#ed7953"
             ],
             [
              0.7777777777777778,
              "#fb9f3a"
             ],
             [
              0.8888888888888888,
              "#fdca26"
             ],
             [
              1,
              "#f0f921"
             ]
            ],
            "type": "contour"
           }
          ],
          "contourcarpet": [
           {
            "colorbar": {
             "outlinewidth": 0,
             "ticks": ""
            },
            "type": "contourcarpet"
           }
          ],
          "heatmap": [
           {
            "colorbar": {
             "outlinewidth": 0,
             "ticks": ""
            },
            "colorscale": [
             [
              0,
              "#0d0887"
             ],
             [
              0.1111111111111111,
              "#46039f"
             ],
             [
              0.2222222222222222,
              "#7201a8"
             ],
             [
              0.3333333333333333,
              "#9c179e"
             ],
             [
              0.4444444444444444,
              "#bd3786"
             ],
             [
              0.5555555555555556,
              "#d8576b"
             ],
             [
              0.6666666666666666,
              "#ed7953"
             ],
             [
              0.7777777777777778,
              "#fb9f3a"
             ],
             [
              0.8888888888888888,
              "#fdca26"
             ],
             [
              1,
              "#f0f921"
             ]
            ],
            "type": "heatmap"
           }
          ],
          "heatmapgl": [
           {
            "colorbar": {
             "outlinewidth": 0,
             "ticks": ""
            },
            "colorscale": [
             [
              0,
              "#0d0887"
             ],
             [
              0.1111111111111111,
              "#46039f"
             ],
             [
              0.2222222222222222,
              "#7201a8"
             ],
             [
              0.3333333333333333,
              "#9c179e"
             ],
             [
              0.4444444444444444,
              "#bd3786"
             ],
             [
              0.5555555555555556,
              "#d8576b"
             ],
             [
              0.6666666666666666,
              "#ed7953"
             ],
             [
              0.7777777777777778,
              "#fb9f3a"
             ],
             [
              0.8888888888888888,
              "#fdca26"
             ],
             [
              1,
              "#f0f921"
             ]
            ],
            "type": "heatmapgl"
           }
          ],
          "histogram": [
           {
            "marker": {
             "pattern": {
              "fillmode": "overlay",
              "size": 10,
              "solidity": 0.2
             }
            },
            "type": "histogram"
           }
          ],
          "histogram2d": [
           {
            "colorbar": {
             "outlinewidth": 0,
             "ticks": ""
            },
            "colorscale": [
             [
              0,
              "#0d0887"
             ],
             [
              0.1111111111111111,
              "#46039f"
             ],
             [
              0.2222222222222222,
              "#7201a8"
             ],
             [
              0.3333333333333333,
              "#9c179e"
             ],
             [
              0.4444444444444444,
              "#bd3786"
             ],
             [
              0.5555555555555556,
              "#d8576b"
             ],
             [
              0.6666666666666666,
              "#ed7953"
             ],
             [
              0.7777777777777778,
              "#fb9f3a"
             ],
             [
              0.8888888888888888,
              "#fdca26"
             ],
             [
              1,
              "#f0f921"
             ]
            ],
            "type": "histogram2d"
           }
          ],
          "histogram2dcontour": [
           {
            "colorbar": {
             "outlinewidth": 0,
             "ticks": ""
            },
            "colorscale": [
             [
              0,
              "#0d0887"
             ],
             [
              0.1111111111111111,
              "#46039f"
             ],
             [
              0.2222222222222222,
              "#7201a8"
             ],
             [
              0.3333333333333333,
              "#9c179e"
             ],
             [
              0.4444444444444444,
              "#bd3786"
             ],
             [
              0.5555555555555556,
              "#d8576b"
             ],
             [
              0.6666666666666666,
              "#ed7953"
             ],
             [
              0.7777777777777778,
              "#fb9f3a"
             ],
             [
              0.8888888888888888,
              "#fdca26"
             ],
             [
              1,
              "#f0f921"
             ]
            ],
            "type": "histogram2dcontour"
           }
          ],
          "mesh3d": [
           {
            "colorbar": {
             "outlinewidth": 0,
             "ticks": ""
            },
            "type": "mesh3d"
           }
          ],
          "parcoords": [
           {
            "line": {
             "colorbar": {
              "outlinewidth": 0,
              "ticks": ""
             }
            },
            "type": "parcoords"
           }
          ],
          "pie": [
           {
            "automargin": true,
            "type": "pie"
           }
          ],
          "scatter": [
           {
            "marker": {
             "line": {
              "color": "#283442"
             }
            },
            "type": "scatter"
           }
          ],
          "scatter3d": [
           {
            "line": {
             "colorbar": {
              "outlinewidth": 0,
              "ticks": ""
             }
            },
            "marker": {
             "colorbar": {
              "outlinewidth": 0,
              "ticks": ""
             }
            },
            "type": "scatter3d"
           }
          ],
          "scattercarpet": [
           {
            "marker": {
             "colorbar": {
              "outlinewidth": 0,
              "ticks": ""
             }
            },
            "type": "scattercarpet"
           }
          ],
          "scattergeo": [
           {
            "marker": {
             "colorbar": {
              "outlinewidth": 0,
              "ticks": ""
             }
            },
            "type": "scattergeo"
           }
          ],
          "scattergl": [
           {
            "marker": {
             "line": {
              "color": "#283442"
             }
            },
            "type": "scattergl"
           }
          ],
          "scattermapbox": [
           {
            "marker": {
             "colorbar": {
              "outlinewidth": 0,
              "ticks": ""
             }
            },
            "type": "scattermapbox"
           }
          ],
          "scatterpolar": [
           {
            "marker": {
             "colorbar": {
              "outlinewidth": 0,
              "ticks": ""
             }
            },
            "type": "scatterpolar"
           }
          ],
          "scatterpolargl": [
           {
            "marker": {
             "colorbar": {
              "outlinewidth": 0,
              "ticks": ""
             }
            },
            "type": "scatterpolargl"
           }
          ],
          "scatterternary": [
           {
            "marker": {
             "colorbar": {
              "outlinewidth": 0,
              "ticks": ""
             }
            },
            "type": "scatterternary"
           }
          ],
          "surface": [
           {
            "colorbar": {
             "outlinewidth": 0,
             "ticks": ""
            },
            "colorscale": [
             [
              0,
              "#0d0887"
             ],
             [
              0.1111111111111111,
              "#46039f"
             ],
             [
              0.2222222222222222,
              "#7201a8"
             ],
             [
              0.3333333333333333,
              "#9c179e"
             ],
             [
              0.4444444444444444,
              "#bd3786"
             ],
             [
              0.5555555555555556,
              "#d8576b"
             ],
             [
              0.6666666666666666,
              "#ed7953"
             ],
             [
              0.7777777777777778,
              "#fb9f3a"
             ],
             [
              0.8888888888888888,
              "#fdca26"
             ],
             [
              1,
              "#f0f921"
             ]
            ],
            "type": "surface"
           }
          ],
          "table": [
           {
            "cells": {
             "fill": {
              "color": "#506784"
             },
             "line": {
              "color": "rgb(17,17,17)"
             }
            },
            "header": {
             "fill": {
              "color": "#2a3f5f"
             },
             "line": {
              "color": "rgb(17,17,17)"
             }
            },
            "type": "table"
           }
          ]
         },
         "layout": {
          "annotationdefaults": {
           "arrowcolor": "#f2f5fa",
           "arrowhead": 0,
           "arrowwidth": 1
          },
          "autotypenumbers": "strict",
          "coloraxis": {
           "colorbar": {
            "outlinewidth": 0,
            "ticks": ""
           }
          },
          "colorscale": {
           "diverging": [
            [
             0,
             "#8e0152"
            ],
            [
             0.1,
             "#c51b7d"
            ],
            [
             0.2,
             "#de77ae"
            ],
            [
             0.3,
             "#f1b6da"
            ],
            [
             0.4,
             "#fde0ef"
            ],
            [
             0.5,
             "#f7f7f7"
            ],
            [
             0.6,
             "#e6f5d0"
            ],
            [
             0.7,
             "#b8e186"
            ],
            [
             0.8,
             "#7fbc41"
            ],
            [
             0.9,
             "#4d9221"
            ],
            [
             1,
             "#276419"
            ]
           ],
           "sequential": [
            [
             0,
             "#0d0887"
            ],
            [
             0.1111111111111111,
             "#46039f"
            ],
            [
             0.2222222222222222,
             "#7201a8"
            ],
            [
             0.3333333333333333,
             "#9c179e"
            ],
            [
             0.4444444444444444,
             "#bd3786"
            ],
            [
             0.5555555555555556,
             "#d8576b"
            ],
            [
             0.6666666666666666,
             "#ed7953"
            ],
            [
             0.7777777777777778,
             "#fb9f3a"
            ],
            [
             0.8888888888888888,
             "#fdca26"
            ],
            [
             1,
             "#f0f921"
            ]
           ],
           "sequentialminus": [
            [
             0,
             "#0d0887"
            ],
            [
             0.1111111111111111,
             "#46039f"
            ],
            [
             0.2222222222222222,
             "#7201a8"
            ],
            [
             0.3333333333333333,
             "#9c179e"
            ],
            [
             0.4444444444444444,
             "#bd3786"
            ],
            [
             0.5555555555555556,
             "#d8576b"
            ],
            [
             0.6666666666666666,
             "#ed7953"
            ],
            [
             0.7777777777777778,
             "#fb9f3a"
            ],
            [
             0.8888888888888888,
             "#fdca26"
            ],
            [
             1,
             "#f0f921"
            ]
           ]
          },
          "colorway": [
           "#636efa",
           "#EF553B",
           "#00cc96",
           "#ab63fa",
           "#FFA15A",
           "#19d3f3",
           "#FF6692",
           "#B6E880",
           "#FF97FF",
           "#FECB52"
          ],
          "font": {
           "color": "#f2f5fa"
          },
          "geo": {
           "bgcolor": "rgb(17,17,17)",
           "lakecolor": "rgb(17,17,17)",
           "landcolor": "rgb(17,17,17)",
           "showlakes": true,
           "showland": true,
           "subunitcolor": "#506784"
          },
          "hoverlabel": {
           "align": "left"
          },
          "hovermode": "closest",
          "mapbox": {
           "style": "dark"
          },
          "paper_bgcolor": "rgb(17,17,17)",
          "plot_bgcolor": "rgb(17,17,17)",
          "polar": {
           "angularaxis": {
            "gridcolor": "#506784",
            "linecolor": "#506784",
            "ticks": ""
           },
           "bgcolor": "rgb(17,17,17)",
           "radialaxis": {
            "gridcolor": "#506784",
            "linecolor": "#506784",
            "ticks": ""
           }
          },
          "scene": {
           "xaxis": {
            "backgroundcolor": "rgb(17,17,17)",
            "gridcolor": "#506784",
            "gridwidth": 2,
            "linecolor": "#506784",
            "showbackground": true,
            "ticks": "",
            "zerolinecolor": "#C8D4E3"
           },
           "yaxis": {
            "backgroundcolor": "rgb(17,17,17)",
            "gridcolor": "#506784",
            "gridwidth": 2,
            "linecolor": "#506784",
            "showbackground": true,
            "ticks": "",
            "zerolinecolor": "#C8D4E3"
           },
           "zaxis": {
            "backgroundcolor": "rgb(17,17,17)",
            "gridcolor": "#506784",
            "gridwidth": 2,
            "linecolor": "#506784",
            "showbackground": true,
            "ticks": "",
            "zerolinecolor": "#C8D4E3"
           }
          },
          "shapedefaults": {
           "line": {
            "color": "#f2f5fa"
           }
          },
          "sliderdefaults": {
           "bgcolor": "#C8D4E3",
           "bordercolor": "rgb(17,17,17)",
           "borderwidth": 1,
           "tickwidth": 0
          },
          "ternary": {
           "aaxis": {
            "gridcolor": "#506784",
            "linecolor": "#506784",
            "ticks": ""
           },
           "baxis": {
            "gridcolor": "#506784",
            "linecolor": "#506784",
            "ticks": ""
           },
           "bgcolor": "rgb(17,17,17)",
           "caxis": {
            "gridcolor": "#506784",
            "linecolor": "#506784",
            "ticks": ""
           }
          },
          "title": {
           "x": 0.05
          },
          "updatemenudefaults": {
           "bgcolor": "#506784",
           "borderwidth": 0
          },
          "xaxis": {
           "automargin": true,
           "gridcolor": "#283442",
           "linecolor": "#506784",
           "ticks": "",
           "title": {
            "standoff": 15
           },
           "zerolinecolor": "#283442",
           "zerolinewidth": 2
          },
          "yaxis": {
           "automargin": true,
           "gridcolor": "#283442",
           "linecolor": "#506784",
           "ticks": "",
           "title": {
            "standoff": 15
           },
           "zerolinecolor": "#283442",
           "zerolinewidth": 2
          }
         }
        },
        "title": {
         "text": "Revenue Contribution of Consistent Businesses (Since 2019)"
        },
        "xaxis": {
         "anchor": "y",
         "domain": [
          0,
          1
         ],
         "title": {
          "text": "Year"
         }
        },
        "yaxis": {
         "anchor": "x",
         "domain": [
          0,
          1
         ],
         "title": {
          "text": "C_Revenue"
         }
        }
       }
      }
     },
     "metadata": {},
     "output_type": "display_data"
    }
   ],
   "source": [
    "years_required = list(range(2019, df['YEAR'].max() + 1))\n",
    "consistent_biz = (\n",
    "    df[df['YEAR'].isin(years_required)]\n",
    "    .groupby('BUSINESS GROUP')['YEAR']\n",
    "    .nunique()\n",
    ")\n",
    "consistent_biz = consistent_biz[consistent_biz == len(years_required)].index\n",
    "\n",
    "#Filter the data for these consistent businesses\n",
    "consistent_data = df[df['BUSINESS GROUP'].isin(consistent_biz)]\n",
    "\n",
    "#aggregate revenue and groupby\n",
    "aggregated_data = consistent_data.groupby(['BUSINESS GROUP', 'YEAR'], as_index=False)['C_Revenue'].sum()\n",
    "\n",
    "#plot\n",
    "fig = px.bar(\n",
    "    aggregated_data,\n",
    "    x='YEAR',\n",
    "    y='C_Revenue',\n",
    "    color='BUSINESS GROUP',\n",
    "    title='Revenue Contribution of Consistent Businesses (Since 2019)',\n",
    "    labels={'REVENUE': 'Total Revenue', 'YEAR': 'Year'},\n",
    "    template='plotly_dark'\n",
    ")\n",
    "fig.show()"
   ]
  },
  {
   "cell_type": "markdown",
   "id": "b18b4ff9",
   "metadata": {},
   "source": [
    "**Insight:** ASP is the constant maximum contributor all the 6 years, followed by ASD. Out of the 23 available businesses, 20 businesses have been constantly contributing to the revenue every year since 2019."
   ]
  },
  {
   "cell_type": "code",
   "execution_count": 19,
   "id": "8569f40d",
   "metadata": {},
   "outputs": [
    {
     "data": {
      "text/plain": [
       "0        3.281786e+08\n",
       "1        3.281786e+08\n",
       "2        3.281786e+08\n",
       "3        3.281786e+08\n",
       "4        3.281786e+08\n",
       "             ...     \n",
       "28448    3.067632e+08\n",
       "28449    3.281786e+08\n",
       "28450    3.281786e+08\n",
       "28451    3.281786e+08\n",
       "28452    1.998541e+09\n",
       "Name: C_Revenue, Length: 28453, dtype: float64"
      ]
     },
     "execution_count": 19,
     "metadata": {},
     "output_type": "execute_result"
    }
   ],
   "source": [
    "df[\"C_Revenue\"]"
   ]
  },
  {
   "cell_type": "code",
   "execution_count": 20,
   "id": "e1cd3c26",
   "metadata": {},
   "outputs": [
    {
     "data": {
      "application/vnd.plotly.v1+json": {
       "config": {
        "plotlyServerURL": "https://plot.ly"
       },
       "data": [
        {
         "alignmentgroup": "True",
         "hovertemplate": "BUSINESS GROUP=COH<br>Year=%{x}<br>Total Revenue=%{y}<extra></extra>",
         "legendgroup": "COH",
         "marker": {
          "color": "#636efa",
          "pattern": {
           "shape": ""
          }
         },
         "name": "COH",
         "offsetgroup": "COH",
         "orientation": "v",
         "showlegend": true,
         "textposition": "auto",
         "type": "bar",
         "x": [
          2022,
          2023
         ],
         "xaxis": "x",
         "y": [
          2297250262.02,
          984535826.58
         ],
         "yaxis": "y"
        },
        {
         "alignmentgroup": "True",
         "hovertemplate": "BUSINESS GROUP=ECM<br>Year=%{x}<br>Total Revenue=%{y}<extra></extra>",
         "legendgroup": "ECM",
         "marker": {
          "color": "#EF553B",
          "pattern": {
           "shape": ""
          }
         },
         "name": "ECM",
         "offsetgroup": "ECM",
         "orientation": "v",
         "showlegend": true,
         "textposition": "auto",
         "type": "bar",
         "x": [
          2024
         ],
         "xaxis": "x",
         "y": [
          8204465221.5
         ],
         "yaxis": "y"
        },
        {
         "alignmentgroup": "True",
         "hovertemplate": "BUSINESS GROUP=WRH<br>Year=%{x}<br>Total Revenue=%{y}<extra></extra>",
         "legendgroup": "WRH",
         "marker": {
          "color": "#00cc96",
          "pattern": {
           "shape": ""
          }
         },
         "name": "WRH",
         "offsetgroup": "WRH",
         "orientation": "v",
         "showlegend": true,
         "textposition": "auto",
         "type": "bar",
         "x": [
          2019,
          2020,
          2021,
          2022,
          2023
         ],
         "xaxis": "x",
         "y": [
          7876286612.64,
          11814429918.960001,
          11814429918.960001,
          12142608527.82,
          5250857741.76
         ],
         "yaxis": "y"
        }
       ],
       "layout": {
        "barmode": "relative",
        "legend": {
         "title": {
          "text": "BUSINESS GROUP"
         },
         "tracegroupgap": 0
        },
        "template": {
         "data": {
          "bar": [
           {
            "error_x": {
             "color": "#f2f5fa"
            },
            "error_y": {
             "color": "#f2f5fa"
            },
            "marker": {
             "line": {
              "color": "rgb(17,17,17)",
              "width": 0.5
             },
             "pattern": {
              "fillmode": "overlay",
              "size": 10,
              "solidity": 0.2
             }
            },
            "type": "bar"
           }
          ],
          "barpolar": [
           {
            "marker": {
             "line": {
              "color": "rgb(17,17,17)",
              "width": 0.5
             },
             "pattern": {
              "fillmode": "overlay",
              "size": 10,
              "solidity": 0.2
             }
            },
            "type": "barpolar"
           }
          ],
          "carpet": [
           {
            "aaxis": {
             "endlinecolor": "#A2B1C6",
             "gridcolor": "#506784",
             "linecolor": "#506784",
             "minorgridcolor": "#506784",
             "startlinecolor": "#A2B1C6"
            },
            "baxis": {
             "endlinecolor": "#A2B1C6",
             "gridcolor": "#506784",
             "linecolor": "#506784",
             "minorgridcolor": "#506784",
             "startlinecolor": "#A2B1C6"
            },
            "type": "carpet"
           }
          ],
          "choropleth": [
           {
            "colorbar": {
             "outlinewidth": 0,
             "ticks": ""
            },
            "type": "choropleth"
           }
          ],
          "contour": [
           {
            "colorbar": {
             "outlinewidth": 0,
             "ticks": ""
            },
            "colorscale": [
             [
              0,
              "#0d0887"
             ],
             [
              0.1111111111111111,
              "#46039f"
             ],
             [
              0.2222222222222222,
              "#7201a8"
             ],
             [
              0.3333333333333333,
              "#9c179e"
             ],
             [
              0.4444444444444444,
              "#bd3786"
             ],
             [
              0.5555555555555556,
              "#d8576b"
             ],
             [
              0.6666666666666666,
              "#ed7953"
             ],
             [
              0.7777777777777778,
              "#fb9f3a"
             ],
             [
              0.8888888888888888,
              "#fdca26"
             ],
             [
              1,
              "#f0f921"
             ]
            ],
            "type": "contour"
           }
          ],
          "contourcarpet": [
           {
            "colorbar": {
             "outlinewidth": 0,
             "ticks": ""
            },
            "type": "contourcarpet"
           }
          ],
          "heatmap": [
           {
            "colorbar": {
             "outlinewidth": 0,
             "ticks": ""
            },
            "colorscale": [
             [
              0,
              "#0d0887"
             ],
             [
              0.1111111111111111,
              "#46039f"
             ],
             [
              0.2222222222222222,
              "#7201a8"
             ],
             [
              0.3333333333333333,
              "#9c179e"
             ],
             [
              0.4444444444444444,
              "#bd3786"
             ],
             [
              0.5555555555555556,
              "#d8576b"
             ],
             [
              0.6666666666666666,
              "#ed7953"
             ],
             [
              0.7777777777777778,
              "#fb9f3a"
             ],
             [
              0.8888888888888888,
              "#fdca26"
             ],
             [
              1,
              "#f0f921"
             ]
            ],
            "type": "heatmap"
           }
          ],
          "heatmapgl": [
           {
            "colorbar": {
             "outlinewidth": 0,
             "ticks": ""
            },
            "colorscale": [
             [
              0,
              "#0d0887"
             ],
             [
              0.1111111111111111,
              "#46039f"
             ],
             [
              0.2222222222222222,
              "#7201a8"
             ],
             [
              0.3333333333333333,
              "#9c179e"
             ],
             [
              0.4444444444444444,
              "#bd3786"
             ],
             [
              0.5555555555555556,
              "#d8576b"
             ],
             [
              0.6666666666666666,
              "#ed7953"
             ],
             [
              0.7777777777777778,
              "#fb9f3a"
             ],
             [
              0.8888888888888888,
              "#fdca26"
             ],
             [
              1,
              "#f0f921"
             ]
            ],
            "type": "heatmapgl"
           }
          ],
          "histogram": [
           {
            "marker": {
             "pattern": {
              "fillmode": "overlay",
              "size": 10,
              "solidity": 0.2
             }
            },
            "type": "histogram"
           }
          ],
          "histogram2d": [
           {
            "colorbar": {
             "outlinewidth": 0,
             "ticks": ""
            },
            "colorscale": [
             [
              0,
              "#0d0887"
             ],
             [
              0.1111111111111111,
              "#46039f"
             ],
             [
              0.2222222222222222,
              "#7201a8"
             ],
             [
              0.3333333333333333,
              "#9c179e"
             ],
             [
              0.4444444444444444,
              "#bd3786"
             ],
             [
              0.5555555555555556,
              "#d8576b"
             ],
             [
              0.6666666666666666,
              "#ed7953"
             ],
             [
              0.7777777777777778,
              "#fb9f3a"
             ],
             [
              0.8888888888888888,
              "#fdca26"
             ],
             [
              1,
              "#f0f921"
             ]
            ],
            "type": "histogram2d"
           }
          ],
          "histogram2dcontour": [
           {
            "colorbar": {
             "outlinewidth": 0,
             "ticks": ""
            },
            "colorscale": [
             [
              0,
              "#0d0887"
             ],
             [
              0.1111111111111111,
              "#46039f"
             ],
             [
              0.2222222222222222,
              "#7201a8"
             ],
             [
              0.3333333333333333,
              "#9c179e"
             ],
             [
              0.4444444444444444,
              "#bd3786"
             ],
             [
              0.5555555555555556,
              "#d8576b"
             ],
             [
              0.6666666666666666,
              "#ed7953"
             ],
             [
              0.7777777777777778,
              "#fb9f3a"
             ],
             [
              0.8888888888888888,
              "#fdca26"
             ],
             [
              1,
              "#f0f921"
             ]
            ],
            "type": "histogram2dcontour"
           }
          ],
          "mesh3d": [
           {
            "colorbar": {
             "outlinewidth": 0,
             "ticks": ""
            },
            "type": "mesh3d"
           }
          ],
          "parcoords": [
           {
            "line": {
             "colorbar": {
              "outlinewidth": 0,
              "ticks": ""
             }
            },
            "type": "parcoords"
           }
          ],
          "pie": [
           {
            "automargin": true,
            "type": "pie"
           }
          ],
          "scatter": [
           {
            "marker": {
             "line": {
              "color": "#283442"
             }
            },
            "type": "scatter"
           }
          ],
          "scatter3d": [
           {
            "line": {
             "colorbar": {
              "outlinewidth": 0,
              "ticks": ""
             }
            },
            "marker": {
             "colorbar": {
              "outlinewidth": 0,
              "ticks": ""
             }
            },
            "type": "scatter3d"
           }
          ],
          "scattercarpet": [
           {
            "marker": {
             "colorbar": {
              "outlinewidth": 0,
              "ticks": ""
             }
            },
            "type": "scattercarpet"
           }
          ],
          "scattergeo": [
           {
            "marker": {
             "colorbar": {
              "outlinewidth": 0,
              "ticks": ""
             }
            },
            "type": "scattergeo"
           }
          ],
          "scattergl": [
           {
            "marker": {
             "line": {
              "color": "#283442"
             }
            },
            "type": "scattergl"
           }
          ],
          "scattermapbox": [
           {
            "marker": {
             "colorbar": {
              "outlinewidth": 0,
              "ticks": ""
             }
            },
            "type": "scattermapbox"
           }
          ],
          "scatterpolar": [
           {
            "marker": {
             "colorbar": {
              "outlinewidth": 0,
              "ticks": ""
             }
            },
            "type": "scatterpolar"
           }
          ],
          "scatterpolargl": [
           {
            "marker": {
             "colorbar": {
              "outlinewidth": 0,
              "ticks": ""
             }
            },
            "type": "scatterpolargl"
           }
          ],
          "scatterternary": [
           {
            "marker": {
             "colorbar": {
              "outlinewidth": 0,
              "ticks": ""
             }
            },
            "type": "scatterternary"
           }
          ],
          "surface": [
           {
            "colorbar": {
             "outlinewidth": 0,
             "ticks": ""
            },
            "colorscale": [
             [
              0,
              "#0d0887"
             ],
             [
              0.1111111111111111,
              "#46039f"
             ],
             [
              0.2222222222222222,
              "#7201a8"
             ],
             [
              0.3333333333333333,
              "#9c179e"
             ],
             [
              0.4444444444444444,
              "#bd3786"
             ],
             [
              0.5555555555555556,
              "#d8576b"
             ],
             [
              0.6666666666666666,
              "#ed7953"
             ],
             [
              0.7777777777777778,
              "#fb9f3a"
             ],
             [
              0.8888888888888888,
              "#fdca26"
             ],
             [
              1,
              "#f0f921"
             ]
            ],
            "type": "surface"
           }
          ],
          "table": [
           {
            "cells": {
             "fill": {
              "color": "#506784"
             },
             "line": {
              "color": "rgb(17,17,17)"
             }
            },
            "header": {
             "fill": {
              "color": "#2a3f5f"
             },
             "line": {
              "color": "rgb(17,17,17)"
             }
            },
            "type": "table"
           }
          ]
         },
         "layout": {
          "annotationdefaults": {
           "arrowcolor": "#f2f5fa",
           "arrowhead": 0,
           "arrowwidth": 1
          },
          "autotypenumbers": "strict",
          "coloraxis": {
           "colorbar": {
            "outlinewidth": 0,
            "ticks": ""
           }
          },
          "colorscale": {
           "diverging": [
            [
             0,
             "#8e0152"
            ],
            [
             0.1,
             "#c51b7d"
            ],
            [
             0.2,
             "#de77ae"
            ],
            [
             0.3,
             "#f1b6da"
            ],
            [
             0.4,
             "#fde0ef"
            ],
            [
             0.5,
             "#f7f7f7"
            ],
            [
             0.6,
             "#e6f5d0"
            ],
            [
             0.7,
             "#b8e186"
            ],
            [
             0.8,
             "#7fbc41"
            ],
            [
             0.9,
             "#4d9221"
            ],
            [
             1,
             "#276419"
            ]
           ],
           "sequential": [
            [
             0,
             "#0d0887"
            ],
            [
             0.1111111111111111,
             "#46039f"
            ],
            [
             0.2222222222222222,
             "#7201a8"
            ],
            [
             0.3333333333333333,
             "#9c179e"
            ],
            [
             0.4444444444444444,
             "#bd3786"
            ],
            [
             0.5555555555555556,
             "#d8576b"
            ],
            [
             0.6666666666666666,
             "#ed7953"
            ],
            [
             0.7777777777777778,
             "#fb9f3a"
            ],
            [
             0.8888888888888888,
             "#fdca26"
            ],
            [
             1,
             "#f0f921"
            ]
           ],
           "sequentialminus": [
            [
             0,
             "#0d0887"
            ],
            [
             0.1111111111111111,
             "#46039f"
            ],
            [
             0.2222222222222222,
             "#7201a8"
            ],
            [
             0.3333333333333333,
             "#9c179e"
            ],
            [
             0.4444444444444444,
             "#bd3786"
            ],
            [
             0.5555555555555556,
             "#d8576b"
            ],
            [
             0.6666666666666666,
             "#ed7953"
            ],
            [
             0.7777777777777778,
             "#fb9f3a"
            ],
            [
             0.8888888888888888,
             "#fdca26"
            ],
            [
             1,
             "#f0f921"
            ]
           ]
          },
          "colorway": [
           "#636efa",
           "#EF553B",
           "#00cc96",
           "#ab63fa",
           "#FFA15A",
           "#19d3f3",
           "#FF6692",
           "#B6E880",
           "#FF97FF",
           "#FECB52"
          ],
          "font": {
           "color": "#f2f5fa"
          },
          "geo": {
           "bgcolor": "rgb(17,17,17)",
           "lakecolor": "rgb(17,17,17)",
           "landcolor": "rgb(17,17,17)",
           "showlakes": true,
           "showland": true,
           "subunitcolor": "#506784"
          },
          "hoverlabel": {
           "align": "left"
          },
          "hovermode": "closest",
          "mapbox": {
           "style": "dark"
          },
          "paper_bgcolor": "rgb(17,17,17)",
          "plot_bgcolor": "rgb(17,17,17)",
          "polar": {
           "angularaxis": {
            "gridcolor": "#506784",
            "linecolor": "#506784",
            "ticks": ""
           },
           "bgcolor": "rgb(17,17,17)",
           "radialaxis": {
            "gridcolor": "#506784",
            "linecolor": "#506784",
            "ticks": ""
           }
          },
          "scene": {
           "xaxis": {
            "backgroundcolor": "rgb(17,17,17)",
            "gridcolor": "#506784",
            "gridwidth": 2,
            "linecolor": "#506784",
            "showbackground": true,
            "ticks": "",
            "zerolinecolor": "#C8D4E3"
           },
           "yaxis": {
            "backgroundcolor": "rgb(17,17,17)",
            "gridcolor": "#506784",
            "gridwidth": 2,
            "linecolor": "#506784",
            "showbackground": true,
            "ticks": "",
            "zerolinecolor": "#C8D4E3"
           },
           "zaxis": {
            "backgroundcolor": "rgb(17,17,17)",
            "gridcolor": "#506784",
            "gridwidth": 2,
            "linecolor": "#506784",
            "showbackground": true,
            "ticks": "",
            "zerolinecolor": "#C8D4E3"
           }
          },
          "shapedefaults": {
           "line": {
            "color": "#f2f5fa"
           }
          },
          "sliderdefaults": {
           "bgcolor": "#C8D4E3",
           "bordercolor": "rgb(17,17,17)",
           "borderwidth": 1,
           "tickwidth": 0
          },
          "ternary": {
           "aaxis": {
            "gridcolor": "#506784",
            "linecolor": "#506784",
            "ticks": ""
           },
           "baxis": {
            "gridcolor": "#506784",
            "linecolor": "#506784",
            "ticks": ""
           },
           "bgcolor": "rgb(17,17,17)",
           "caxis": {
            "gridcolor": "#506784",
            "linecolor": "#506784",
            "ticks": ""
           }
          },
          "title": {
           "x": 0.05
          },
          "updatemenudefaults": {
           "bgcolor": "#506784",
           "borderwidth": 0
          },
          "xaxis": {
           "automargin": true,
           "gridcolor": "#283442",
           "linecolor": "#506784",
           "ticks": "",
           "title": {
            "standoff": 15
           },
           "zerolinecolor": "#283442",
           "zerolinewidth": 2
          },
          "yaxis": {
           "automargin": true,
           "gridcolor": "#283442",
           "linecolor": "#506784",
           "ticks": "",
           "title": {
            "standoff": 15
           },
           "zerolinecolor": "#283442",
           "zerolinewidth": 2
          }
         }
        },
        "title": {
         "text": "Revenue Contribution of Inconsistent Businesses (Since 2019)"
        },
        "xaxis": {
         "anchor": "y",
         "domain": [
          0,
          1
         ],
         "title": {
          "text": "Year"
         }
        },
        "yaxis": {
         "anchor": "x",
         "domain": [
          0,
          1
         ],
         "title": {
          "text": "Total Revenue"
         }
        }
       }
      }
     },
     "metadata": {},
     "output_type": "display_data"
    }
   ],
   "source": [
    "#Identify inconsistent businesses\n",
    "consistent_biz = (\n",
    "    df[df['YEAR'].isin(years_required)]\n",
    "    .groupby('BUSINESS GROUP')['YEAR']\n",
    "    .nunique()\n",
    ")\n",
    "inconsistent_biz = consistent_biz[consistent_biz < len(years_required)].index\n",
    "\n",
    "#Filter the data for these inconsistent businesses\n",
    "inconsistent_data = df[df['BUSINESS GROUP'].isin(inconsistent_biz)]\n",
    "\n",
    "#aggregate revenue and groupby\n",
    "aggregated_inconsistent_data = inconsistent_data.groupby(['BUSINESS GROUP', 'YEAR'], as_index=False)['C_Revenue'].sum()\n",
    "\n",
    "#plot\n",
    "fig = px.bar(\n",
    "    aggregated_inconsistent_data,\n",
    "    x='YEAR',\n",
    "    y='C_Revenue',\n",
    "    color='BUSINESS GROUP',\n",
    "    title='Revenue Contribution of Inconsistent Businesses (Since 2019)',\n",
    "    labels={'C_Revenue': 'Total Revenue', 'YEAR': 'Year'},\n",
    "    template='plotly_dark'\n",
    ")\n",
    "fig.show()"
   ]
  },
  {
   "cell_type": "markdown",
   "id": "78a1dc44",
   "metadata": {},
   "source": [
    "WRH has contributed to revenue since 2019 till 2023, on the other hand COH has contributed only for 2 years. ECM entered the ground only on 2024."
   ]
  },
  {
   "cell_type": "code",
   "execution_count": 21,
   "id": "cfd4c6e6",
   "metadata": {},
   "outputs": [
    {
     "data": {
      "application/vnd.plotly.v1+json": {
       "config": {
        "plotlyServerURL": "https://plot.ly"
       },
       "data": [
        {
         "hovertemplate": "<b>%{hovertext}</b><br><br>BUSINESS GROUP=COH<br>Year=%{x}<br>Revenue=%{marker.size}<extra></extra>",
         "hovertext": [
          "COH",
          "COH"
         ],
         "legendgroup": "COH",
         "marker": {
          "color": "#636efa",
          "size": [
           2297250262.02,
           984535826.58
          ],
          "sizemode": "area",
          "sizeref": 30356521.31955,
          "symbol": "circle"
         },
         "mode": "markers",
         "name": "COH",
         "orientation": "v",
         "showlegend": true,
         "type": "scatter",
         "x": [
          2022,
          2023
         ],
         "xaxis": "x",
         "y": [
          2297250262.02,
          984535826.58
         ],
         "yaxis": "y"
        },
        {
         "hovertemplate": "<b>%{hovertext}</b><br><br>BUSINESS GROUP=ECM<br>Year=%{x}<br>Revenue=%{marker.size}<extra></extra>",
         "hovertext": [
          "ECM"
         ],
         "legendgroup": "ECM",
         "marker": {
          "color": "#EF553B",
          "size": [
           8204465221.5
          ],
          "sizemode": "area",
          "sizeref": 30356521.31955,
          "symbol": "circle"
         },
         "mode": "markers",
         "name": "ECM",
         "orientation": "v",
         "showlegend": true,
         "type": "scatter",
         "x": [
          2024
         ],
         "xaxis": "x",
         "y": [
          8204465221.5
         ],
         "yaxis": "y"
        },
        {
         "hovertemplate": "<b>%{hovertext}</b><br><br>BUSINESS GROUP=WRH<br>Year=%{x}<br>Revenue=%{marker.size}<extra></extra>",
         "hovertext": [
          "WRH",
          "WRH",
          "WRH",
          "WRH",
          "WRH"
         ],
         "legendgroup": "WRH",
         "marker": {
          "color": "#00cc96",
          "size": [
           7876286612.64,
           11814429918.960001,
           11814429918.960001,
           12142608527.82,
           5250857741.76
          ],
          "sizemode": "area",
          "sizeref": 30356521.31955,
          "symbol": "circle"
         },
         "mode": "markers",
         "name": "WRH",
         "orientation": "v",
         "showlegend": true,
         "type": "scatter",
         "x": [
          2019,
          2020,
          2021,
          2022,
          2023
         ],
         "xaxis": "x",
         "y": [
          7876286612.64,
          11814429918.960001,
          11814429918.960001,
          12142608527.82,
          5250857741.76
         ],
         "yaxis": "y"
        }
       ],
       "layout": {
        "legend": {
         "itemsizing": "constant",
         "title": {
          "text": "BUSINESS GROUP"
         },
         "tracegroupgap": 0
        },
        "template": {
         "data": {
          "bar": [
           {
            "error_x": {
             "color": "#f2f5fa"
            },
            "error_y": {
             "color": "#f2f5fa"
            },
            "marker": {
             "line": {
              "color": "rgb(17,17,17)",
              "width": 0.5
             },
             "pattern": {
              "fillmode": "overlay",
              "size": 10,
              "solidity": 0.2
             }
            },
            "type": "bar"
           }
          ],
          "barpolar": [
           {
            "marker": {
             "line": {
              "color": "rgb(17,17,17)",
              "width": 0.5
             },
             "pattern": {
              "fillmode": "overlay",
              "size": 10,
              "solidity": 0.2
             }
            },
            "type": "barpolar"
           }
          ],
          "carpet": [
           {
            "aaxis": {
             "endlinecolor": "#A2B1C6",
             "gridcolor": "#506784",
             "linecolor": "#506784",
             "minorgridcolor": "#506784",
             "startlinecolor": "#A2B1C6"
            },
            "baxis": {
             "endlinecolor": "#A2B1C6",
             "gridcolor": "#506784",
             "linecolor": "#506784",
             "minorgridcolor": "#506784",
             "startlinecolor": "#A2B1C6"
            },
            "type": "carpet"
           }
          ],
          "choropleth": [
           {
            "colorbar": {
             "outlinewidth": 0,
             "ticks": ""
            },
            "type": "choropleth"
           }
          ],
          "contour": [
           {
            "colorbar": {
             "outlinewidth": 0,
             "ticks": ""
            },
            "colorscale": [
             [
              0,
              "#0d0887"
             ],
             [
              0.1111111111111111,
              "#46039f"
             ],
             [
              0.2222222222222222,
              "#7201a8"
             ],
             [
              0.3333333333333333,
              "#9c179e"
             ],
             [
              0.4444444444444444,
              "#bd3786"
             ],
             [
              0.5555555555555556,
              "#d8576b"
             ],
             [
              0.6666666666666666,
              "#ed7953"
             ],
             [
              0.7777777777777778,
              "#fb9f3a"
             ],
             [
              0.8888888888888888,
              "#fdca26"
             ],
             [
              1,
              "#f0f921"
             ]
            ],
            "type": "contour"
           }
          ],
          "contourcarpet": [
           {
            "colorbar": {
             "outlinewidth": 0,
             "ticks": ""
            },
            "type": "contourcarpet"
           }
          ],
          "heatmap": [
           {
            "colorbar": {
             "outlinewidth": 0,
             "ticks": ""
            },
            "colorscale": [
             [
              0,
              "#0d0887"
             ],
             [
              0.1111111111111111,
              "#46039f"
             ],
             [
              0.2222222222222222,
              "#7201a8"
             ],
             [
              0.3333333333333333,
              "#9c179e"
             ],
             [
              0.4444444444444444,
              "#bd3786"
             ],
             [
              0.5555555555555556,
              "#d8576b"
             ],
             [
              0.6666666666666666,
              "#ed7953"
             ],
             [
              0.7777777777777778,
              "#fb9f3a"
             ],
             [
              0.8888888888888888,
              "#fdca26"
             ],
             [
              1,
              "#f0f921"
             ]
            ],
            "type": "heatmap"
           }
          ],
          "heatmapgl": [
           {
            "colorbar": {
             "outlinewidth": 0,
             "ticks": ""
            },
            "colorscale": [
             [
              0,
              "#0d0887"
             ],
             [
              0.1111111111111111,
              "#46039f"
             ],
             [
              0.2222222222222222,
              "#7201a8"
             ],
             [
              0.3333333333333333,
              "#9c179e"
             ],
             [
              0.4444444444444444,
              "#bd3786"
             ],
             [
              0.5555555555555556,
              "#d8576b"
             ],
             [
              0.6666666666666666,
              "#ed7953"
             ],
             [
              0.7777777777777778,
              "#fb9f3a"
             ],
             [
              0.8888888888888888,
              "#fdca26"
             ],
             [
              1,
              "#f0f921"
             ]
            ],
            "type": "heatmapgl"
           }
          ],
          "histogram": [
           {
            "marker": {
             "pattern": {
              "fillmode": "overlay",
              "size": 10,
              "solidity": 0.2
             }
            },
            "type": "histogram"
           }
          ],
          "histogram2d": [
           {
            "colorbar": {
             "outlinewidth": 0,
             "ticks": ""
            },
            "colorscale": [
             [
              0,
              "#0d0887"
             ],
             [
              0.1111111111111111,
              "#46039f"
             ],
             [
              0.2222222222222222,
              "#7201a8"
             ],
             [
              0.3333333333333333,
              "#9c179e"
             ],
             [
              0.4444444444444444,
              "#bd3786"
             ],
             [
              0.5555555555555556,
              "#d8576b"
             ],
             [
              0.6666666666666666,
              "#ed7953"
             ],
             [
              0.7777777777777778,
              "#fb9f3a"
             ],
             [
              0.8888888888888888,
              "#fdca26"
             ],
             [
              1,
              "#f0f921"
             ]
            ],
            "type": "histogram2d"
           }
          ],
          "histogram2dcontour": [
           {
            "colorbar": {
             "outlinewidth": 0,
             "ticks": ""
            },
            "colorscale": [
             [
              0,
              "#0d0887"
             ],
             [
              0.1111111111111111,
              "#46039f"
             ],
             [
              0.2222222222222222,
              "#7201a8"
             ],
             [
              0.3333333333333333,
              "#9c179e"
             ],
             [
              0.4444444444444444,
              "#bd3786"
             ],
             [
              0.5555555555555556,
              "#d8576b"
             ],
             [
              0.6666666666666666,
              "#ed7953"
             ],
             [
              0.7777777777777778,
              "#fb9f3a"
             ],
             [
              0.8888888888888888,
              "#fdca26"
             ],
             [
              1,
              "#f0f921"
             ]
            ],
            "type": "histogram2dcontour"
           }
          ],
          "mesh3d": [
           {
            "colorbar": {
             "outlinewidth": 0,
             "ticks": ""
            },
            "type": "mesh3d"
           }
          ],
          "parcoords": [
           {
            "line": {
             "colorbar": {
              "outlinewidth": 0,
              "ticks": ""
             }
            },
            "type": "parcoords"
           }
          ],
          "pie": [
           {
            "automargin": true,
            "type": "pie"
           }
          ],
          "scatter": [
           {
            "marker": {
             "line": {
              "color": "#283442"
             }
            },
            "type": "scatter"
           }
          ],
          "scatter3d": [
           {
            "line": {
             "colorbar": {
              "outlinewidth": 0,
              "ticks": ""
             }
            },
            "marker": {
             "colorbar": {
              "outlinewidth": 0,
              "ticks": ""
             }
            },
            "type": "scatter3d"
           }
          ],
          "scattercarpet": [
           {
            "marker": {
             "colorbar": {
              "outlinewidth": 0,
              "ticks": ""
             }
            },
            "type": "scattercarpet"
           }
          ],
          "scattergeo": [
           {
            "marker": {
             "colorbar": {
              "outlinewidth": 0,
              "ticks": ""
             }
            },
            "type": "scattergeo"
           }
          ],
          "scattergl": [
           {
            "marker": {
             "line": {
              "color": "#283442"
             }
            },
            "type": "scattergl"
           }
          ],
          "scattermapbox": [
           {
            "marker": {
             "colorbar": {
              "outlinewidth": 0,
              "ticks": ""
             }
            },
            "type": "scattermapbox"
           }
          ],
          "scatterpolar": [
           {
            "marker": {
             "colorbar": {
              "outlinewidth": 0,
              "ticks": ""
             }
            },
            "type": "scatterpolar"
           }
          ],
          "scatterpolargl": [
           {
            "marker": {
             "colorbar": {
              "outlinewidth": 0,
              "ticks": ""
             }
            },
            "type": "scatterpolargl"
           }
          ],
          "scatterternary": [
           {
            "marker": {
             "colorbar": {
              "outlinewidth": 0,
              "ticks": ""
             }
            },
            "type": "scatterternary"
           }
          ],
          "surface": [
           {
            "colorbar": {
             "outlinewidth": 0,
             "ticks": ""
            },
            "colorscale": [
             [
              0,
              "#0d0887"
             ],
             [
              0.1111111111111111,
              "#46039f"
             ],
             [
              0.2222222222222222,
              "#7201a8"
             ],
             [
              0.3333333333333333,
              "#9c179e"
             ],
             [
              0.4444444444444444,
              "#bd3786"
             ],
             [
              0.5555555555555556,
              "#d8576b"
             ],
             [
              0.6666666666666666,
              "#ed7953"
             ],
             [
              0.7777777777777778,
              "#fb9f3a"
             ],
             [
              0.8888888888888888,
              "#fdca26"
             ],
             [
              1,
              "#f0f921"
             ]
            ],
            "type": "surface"
           }
          ],
          "table": [
           {
            "cells": {
             "fill": {
              "color": "#506784"
             },
             "line": {
              "color": "rgb(17,17,17)"
             }
            },
            "header": {
             "fill": {
              "color": "#2a3f5f"
             },
             "line": {
              "color": "rgb(17,17,17)"
             }
            },
            "type": "table"
           }
          ]
         },
         "layout": {
          "annotationdefaults": {
           "arrowcolor": "#f2f5fa",
           "arrowhead": 0,
           "arrowwidth": 1
          },
          "autotypenumbers": "strict",
          "coloraxis": {
           "colorbar": {
            "outlinewidth": 0,
            "ticks": ""
           }
          },
          "colorscale": {
           "diverging": [
            [
             0,
             "#8e0152"
            ],
            [
             0.1,
             "#c51b7d"
            ],
            [
             0.2,
             "#de77ae"
            ],
            [
             0.3,
             "#f1b6da"
            ],
            [
             0.4,
             "#fde0ef"
            ],
            [
             0.5,
             "#f7f7f7"
            ],
            [
             0.6,
             "#e6f5d0"
            ],
            [
             0.7,
             "#b8e186"
            ],
            [
             0.8,
             "#7fbc41"
            ],
            [
             0.9,
             "#4d9221"
            ],
            [
             1,
             "#276419"
            ]
           ],
           "sequential": [
            [
             0,
             "#0d0887"
            ],
            [
             0.1111111111111111,
             "#46039f"
            ],
            [
             0.2222222222222222,
             "#7201a8"
            ],
            [
             0.3333333333333333,
             "#9c179e"
            ],
            [
             0.4444444444444444,
             "#bd3786"
            ],
            [
             0.5555555555555556,
             "#d8576b"
            ],
            [
             0.6666666666666666,
             "#ed7953"
            ],
            [
             0.7777777777777778,
             "#fb9f3a"
            ],
            [
             0.8888888888888888,
             "#fdca26"
            ],
            [
             1,
             "#f0f921"
            ]
           ],
           "sequentialminus": [
            [
             0,
             "#0d0887"
            ],
            [
             0.1111111111111111,
             "#46039f"
            ],
            [
             0.2222222222222222,
             "#7201a8"
            ],
            [
             0.3333333333333333,
             "#9c179e"
            ],
            [
             0.4444444444444444,
             "#bd3786"
            ],
            [
             0.5555555555555556,
             "#d8576b"
            ],
            [
             0.6666666666666666,
             "#ed7953"
            ],
            [
             0.7777777777777778,
             "#fb9f3a"
            ],
            [
             0.8888888888888888,
             "#fdca26"
            ],
            [
             1,
             "#f0f921"
            ]
           ]
          },
          "colorway": [
           "#636efa",
           "#EF553B",
           "#00cc96",
           "#ab63fa",
           "#FFA15A",
           "#19d3f3",
           "#FF6692",
           "#B6E880",
           "#FF97FF",
           "#FECB52"
          ],
          "font": {
           "color": "#f2f5fa"
          },
          "geo": {
           "bgcolor": "rgb(17,17,17)",
           "lakecolor": "rgb(17,17,17)",
           "landcolor": "rgb(17,17,17)",
           "showlakes": true,
           "showland": true,
           "subunitcolor": "#506784"
          },
          "hoverlabel": {
           "align": "left"
          },
          "hovermode": "closest",
          "mapbox": {
           "style": "dark"
          },
          "paper_bgcolor": "rgb(17,17,17)",
          "plot_bgcolor": "rgb(17,17,17)",
          "polar": {
           "angularaxis": {
            "gridcolor": "#506784",
            "linecolor": "#506784",
            "ticks": ""
           },
           "bgcolor": "rgb(17,17,17)",
           "radialaxis": {
            "gridcolor": "#506784",
            "linecolor": "#506784",
            "ticks": ""
           }
          },
          "scene": {
           "xaxis": {
            "backgroundcolor": "rgb(17,17,17)",
            "gridcolor": "#506784",
            "gridwidth": 2,
            "linecolor": "#506784",
            "showbackground": true,
            "ticks": "",
            "zerolinecolor": "#C8D4E3"
           },
           "yaxis": {
            "backgroundcolor": "rgb(17,17,17)",
            "gridcolor": "#506784",
            "gridwidth": 2,
            "linecolor": "#506784",
            "showbackground": true,
            "ticks": "",
            "zerolinecolor": "#C8D4E3"
           },
           "zaxis": {
            "backgroundcolor": "rgb(17,17,17)",
            "gridcolor": "#506784",
            "gridwidth": 2,
            "linecolor": "#506784",
            "showbackground": true,
            "ticks": "",
            "zerolinecolor": "#C8D4E3"
           }
          },
          "shapedefaults": {
           "line": {
            "color": "#f2f5fa"
           }
          },
          "sliderdefaults": {
           "bgcolor": "#C8D4E3",
           "bordercolor": "rgb(17,17,17)",
           "borderwidth": 1,
           "tickwidth": 0
          },
          "ternary": {
           "aaxis": {
            "gridcolor": "#506784",
            "linecolor": "#506784",
            "ticks": ""
           },
           "baxis": {
            "gridcolor": "#506784",
            "linecolor": "#506784",
            "ticks": ""
           },
           "bgcolor": "rgb(17,17,17)",
           "caxis": {
            "gridcolor": "#506784",
            "linecolor": "#506784",
            "ticks": ""
           }
          },
          "title": {
           "x": 0.05
          },
          "updatemenudefaults": {
           "bgcolor": "#506784",
           "borderwidth": 0
          },
          "xaxis": {
           "automargin": true,
           "gridcolor": "#283442",
           "linecolor": "#506784",
           "ticks": "",
           "title": {
            "standoff": 15
           },
           "zerolinecolor": "#283442",
           "zerolinewidth": 2
          },
          "yaxis": {
           "automargin": true,
           "gridcolor": "#283442",
           "linecolor": "#506784",
           "ticks": "",
           "title": {
            "standoff": 15
           },
           "zerolinecolor": "#283442",
           "zerolinewidth": 2
          }
         }
        },
        "title": {
         "text": "Revenue Distribution of Inconsistent Businesses Over the Years"
        },
        "xaxis": {
         "anchor": "y",
         "domain": [
          0,
          1
         ],
         "title": {
          "text": "Year"
         }
        },
        "yaxis": {
         "anchor": "x",
         "domain": [
          0,
          1
         ],
         "title": {
          "text": "Revenue"
         }
        }
       }
      }
     },
     "metadata": {},
     "output_type": "display_data"
    }
   ],
   "source": [
    "fig = px.scatter(\n",
    "    aggregated_inconsistent_data,\n",
    "    x='YEAR',\n",
    "    y='C_Revenue',\n",
    "    color='BUSINESS GROUP',\n",
    "    size='C_Revenue',\n",
    "    hover_name='BUSINESS GROUP',\n",
    "    title='Revenue Distribution of Inconsistent Businesses Over the Years',\n",
    "    labels={'C_Revenue': 'Revenue', 'YEAR': 'Year'},\n",
    "    template='plotly_dark'\n",
    ")\n",
    "\n",
    "fig.show()"
   ]
  },
  {
   "cell_type": "code",
   "execution_count": 22,
   "id": "64029147",
   "metadata": {},
   "outputs": [
    {
     "data": {
      "application/vnd.plotly.v1+json": {
       "config": {
        "plotlyServerURL": "https://plot.ly"
       },
       "data": [
        {
         "branchvalues": "total",
         "customdata": [
          [
           106473998.07000001
          ],
          [
           87115089.33000001
          ],
          [
           38717817.480000004
          ],
          [
           285543903.915
          ],
          [
           232306904.88000003
          ],
          [
           72595907.775
          ],
          [
           227875501.58000004
          ],
          [
           106473998.07000001
          ],
          [
           261345267.99000004
          ],
          [
           5449804603.39
          ],
          [
           106473998.07000001
          ],
          [
           217178035.11
          ],
          [
           72595907.775
          ],
          [
           296258842.595
          ],
          [
           203268541.77
          ],
          [
           4839727.1850000005
          ],
          [
           203268541.77
          ],
          [
           196060219.97000003
          ],
          [
           18687211.43
          ],
          [
           212947996.14000002
          ],
          [
           304902812.65500003
          ],
          [
           62916453.40500001
          ],
          [
           135512361.18
          ],
          [
           1026966696.22
          ],
          [
           304902812.65500003
          ],
          [
           118535508.44000001
          ],
          [
           923799338.1600001
          ],
          [
           24198635.92500001
          ],
          [
           226611270.34
          ],
          [
           91947150.055
          ],
          [
           111313725.25500003
          ],
          [
           3288310265.2699995
          ],
          [
           4839727.1850000005
          ],
          [
           125832906.81000002
          ],
          [
           67756180.59
          ],
          [
           58076726.220000006
          ],
          [
           282613854.01500005
          ],
          [
           45030302.19500001
          ],
          [
           58076726.220000006
          ],
          [
           1832701491.62
          ],
          [
           298838125.56000006
          ],
          [
           1405921567.55
          ],
          [
           15181750.48999999
          ],
          [
           9679454.370000001
          ],
          [
           19358908.740000002
          ],
          [
           106473998.07000001
          ],
          [
           9679454.370000001
          ],
          [
           24198635.92500001
          ],
          [
           4839727.1850000005
          ],
          [
           14519181.555000002
          ],
          [
           261345267.99000004
          ],
          [
           227467177.695
          ],
          [
           62916453.40500001
          ],
          [
           116153452.44000001
          ],
          [
           53236999.035000004
          ],
          [
           77435634.96000001
          ],
          [
           38717817.480000004
          ],
          [
           1660107296.975
          ],
          [
           1427221423.91
          ],
          [
           20458802023.82
          ],
          [
           2080120409.7699997
          ],
          [
           62916453.40500001
          ],
          [
           290493383.76000005
          ],
          [
           553920681.865
          ],
          [
           285543903.915
          ],
          [
           3136636086.42
          ],
          [
           62916453.40500001
          ],
          [
           275864449.545
          ],
          [
           246826086.43500003
          ],
          [
           91954816.51500002
          ],
          [
           101634270.885
          ],
          [
           251665813.62000003
          ],
          [
           208108268.955
          ],
          [
           290383631.1
          ],
          [
           295223358.285
          ],
          [
           66000620.810000025
          ],
          [
           648710925.6850001
          ],
          [
           167989234.31
          ],
          [
           19358908.740000002
          ],
          [
           261345267.99000004
          ],
          [
           87115089.33000001
          ],
          [
           227467177.695
          ],
          [
           87115089.33000001
          ],
          [
           96169962.61
          ],
          [
           5965797056.61
          ],
          [
           87115089.33000001
          ],
          [
           296434096.03000003
          ],
          [
           48905986.455000006
          ],
          [
           262493294.73000002
          ],
          [
           7227455937.11
          ],
          [
           106473998.07000001
          ],
          [
           144306564.75500003
          ],
          [
           14519181.555000002
          ],
          [
           53236999.035000004
          ],
          [
           229990678.53000003
          ],
          [
           38717817.480000004
          ],
          [
           291146181.55
          ],
          [
           140819509.84
          ],
          [
           102759277.72500002
          ],
          [
           148226370.81
          ],
          [
           245820798.24500006
          ],
          [
           30413636982.84
          ],
          [
           217393852.925
          ],
          [
           87115089.33000001
          ],
          [
           7201686227.88
          ],
          [
           2224680899.605
          ],
          [
           221494292.63
          ],
          [
           58076726.220000006
          ],
          [
           38717817.480000004
          ],
          [
           38717817.480000004
          ],
          [
           53236999.035000004
          ],
          [
           351671426.04
          ],
          [
           2864735801.46
          ],
          [
           1878940671.605
          ],
          [
           91954816.51500002
          ],
          [
           43557544.66500001
          ],
          [
           6968809606
          ],
          [
           154871269.92000002
          ],
          [
           497685153.07
          ],
          [
           38717817.480000004
          ],
          [
           241947253.09000003
          ],
          [
           147836574.13000003
          ],
          [
           44200359.14
          ],
          [
           1279185815.025
          ],
          [
           304902812.65500003
          ],
          [
           3268041364.12
          ],
          [
           6903099931.3
          ],
          [
           143200904.63
          ],
          [
           913094989.58
          ],
          [
           106473998.07000001
          ],
          [
           300007865.72
          ],
          [
           114027109.61500001
          ],
          [
           66380532.73500001
          ],
          [
           202551685.94499996
          ],
          [
           49400452.81
          ],
          [
           79548021.69500001
          ],
          [
           212947996.14000002
          ],
          [
           8213018752.98
          ],
          [
           149172943.82500002
          ],
          [
           395831486.13
          ],
          [
           105606506.80499999
          ],
          [
           2159139450.585
          ],
          [
           121476406.53500001
          ],
          [
           4839727.1850000005
          ],
          [
           232306904.88000003
          ],
          [
           251665813.62000003
          ],
          [
           33878090.295
          ],
          [
           91954816.51500002
          ],
          [
           4839727.1850000005
          ],
          [
           261345267.99000004
          ],
          [
           24198635.92500001
          ],
          [
           4839727.1850000005
          ],
          [
           290383631.1
          ],
          [
           255574981.70999998
          ],
          [
           205794286.89000002
          ],
          [
           67756180.59
          ],
          [
           68709663.865
          ],
          [
           9679454.370000001
          ],
          [
           83085968.86500001
          ],
          [
           59040809.160000004
          ],
          [
           125273050.01
          ],
          [
           188756716.175
          ],
          [
           304902812.65500003
          ],
          [
           120993179.62500001
          ],
          [
           304902812.65500003
          ],
          [
           67756180.59
          ],
          [
           157202650.64
          ],
          [
           271189540.41
          ],
          [
           300063085.47
          ],
          [
           293044652.85
          ],
          [
           72595907.775
          ],
          [
           101634270.885
          ],
          [
           1837229306.54
          ],
          [
           9679454.370000001
          ],
          [
           135512361.18
          ],
          [
           19358908.740000002
          ],
          [
           285543903.915
          ],
          [
           9679454.370000001
          ],
          [
           238790178.845
          ],
          [
           145056422.99
          ],
          [
           28544.9
          ],
          [
           4839727.1850000005
          ],
          [
           300852929.93
          ],
          [
           266663263.97500002
          ],
          [
           88097886.13
          ],
          [
           576781035.805
          ],
          [
           15369339.415000001
          ],
          [
           1396865715.145
          ],
          [
           457648457.58000004
          ],
          [
           304902812.65500003
          ],
          [
           19358908.740000002
          ],
          [
           53236999.035000004
          ],
          [
           24198635.92500001
          ],
          [
           106473998.07000001
          ],
          [
           19358908.740000002
          ],
          [
           304902812.65500003
          ],
          [
           2078888387.625
          ],
          [
           281146467.62
          ],
          [
           79819000.75
          ],
          [
           1022315767.64
          ],
          [
           61022211.290000014
          ],
          [
           70196072.99000001
          ],
          [
           87485131.18
          ],
          [
           116153452.44000001
          ],
          [
           593836464.215
          ],
          [
           4417419885.98
          ],
          [
           116153452.44000001
          ],
          [
           101848811.14500001
          ],
          [
           116729310.04
          ],
          [
           116153452.44000001
          ],
          [
           99033077.83000001
          ],
          [
           101699261.165
          ],
          [
           111308022.62500001
          ],
          [
           116918984.38500002
          ],
          [
           116153452.44000001
          ],
          [
           101634270.885
          ],
          [
           3554731127.88
          ],
          [
           239428226.05
          ],
          [
           53853753.4
          ],
          [
           111313725.25500003
          ],
          [
           208771220.595
          ],
          [
           134850318.43
          ],
          [
           456487297.72
          ],
          [
           169219441.75
          ],
          [
           93441356.75500001
          ],
          [
           112390262.035
          ],
          [
           822621940.98
          ],
          [
           499272179.32
          ],
          [
           246826086.43500003
          ],
          [
           43557544.66500001
          ],
          [
           9679454.370000001
          ],
          [
           9679454.370000001
          ],
          [
           82275362.14500001
          ],
          [
           9679454.370000001
          ],
          [
           304902812.65500003
          ],
          [
           241986359.25000003
          ],
          [
           40714219.04
          ],
          [
           241992428.18
          ],
          [
           274215093.33500004
          ],
          [
           188886144.46
          ],
          [
           30289150.46
          ],
          [
           153990980.59000003
          ],
          [
           48397271.85000002
          ],
          [
           8549719.64
          ],
          [
           24198635.92500001
          ],
          [
           63670075.235
          ],
          [
           106516318.15
          ],
          [
           1333618948.51
          ],
          [
           588737354.865
          ],
          [
           198484037.575
          ],
          [
           290570737.62
          ],
          [
           250490934.20500004
          ],
          [
           2419355615.43
          ],
          [
           237146632.06500003
          ],
          [
           4839727.1850000005
          ],
          [
           903729851.525
          ],
          [
           87115089.33000001
          ],
          [
           227250567.48000002
          ],
          [
           181108.94999999998
          ],
          [
           337283411.68
          ],
          [
           24198635.92500001
          ],
          [
           292529797.19500005
          ],
          [
           653809225.69
          ],
          [
           141878411.455
          ],
          [
           245283537.61
          ],
          [
           531268974.565
          ],
          [
           266184995.17500004
          ],
          [
           193589087.40000007
          ],
          [
           192103628.51499996
          ],
          [
           193589087.40000007
          ],
          [
           95921576.125
          ],
          [
           152183610.35500002
          ],
          [
           241981822.55
          ],
          [
           127108711.35500002
          ],
          [
           232452932.57500002
          ],
          [
           38810202.160000004
          ],
          [
           174978793.58
          ],
          [
           198428814.585
          ],
          [
           193589087.40000007
          ],
          [
           193589087.40000007
          ],
          [
           232855200.02
          ],
          [
           193589087.40000007
          ],
          [
           304902812.65500003
          ],
          [
           232874674.97000003
          ],
          [
           193589087.40000007
          ],
          [
           4839727.1850000005
          ],
          [
           261345267.99000004
          ],
          [
           87115089.33000001
          ],
          [
           41120960.205
          ],
          [
           193589087.40000007
          ],
          [
           72595907.775
          ],
          [
           87115089.33000001
          ],
          [
           258446957.72500002
          ],
          [
           201230350.75
          ],
          [
           3245424657.375
          ],
          [
           1586577334.565
          ],
          [
           108305172.26
          ],
          [
           43557544.66500001
          ],
          [
           304902812.65500003
          ],
          [
           304902812.65500003
          ],
          [
           256505540.80500004
          ],
          [
           18499212.630000003
          ],
          [
           285545685.035
          ],
          [
           216598654.91500002
          ],
          [
           9679454.370000001
          ],
          [
           242324526.32500002
          ],
          [
           4839727.1850000005
          ],
          [
           304902812.65500003
          ],
          [
           854843865.995
          ],
          [
           15673409.73
          ],
          [
           304902812.65500003
          ],
          [
           58076726.220000006
          ],
          [
           101370293.76500003
          ],
          [
           58076726.220000006
          ],
          [
           274606623.64000005
          ],
          [
           58076726.220000006
          ],
          [
           295090739.365
          ],
          [
           43557544.66500001
          ],
          [
           149980790.525
          ],
          [
           263588203.26000002
          ],
          [
           1371108899.69
          ],
          [
           29038363.110000003
          ],
          [
           24198635.92500001
          ],
          [
           551589571.24
          ],
          [
           38717817.480000004
          ],
          [
           271024722.36
          ],
          [
           31744577.405
          ],
          [
           480677937.72
          ],
          [
           183829477.39000005
          ],
          [
           255234746.67500004
          ],
          [
           846341719.4249998
          ],
          [
           295223358.285
          ],
          [
           19358908.740000002
          ],
          [
           3577365300.74
          ],
          [
           106473998.07000001
          ],
          [
           266184995.17500004
          ],
          [
           257181819.715
          ],
          [
           141263900.95000002
          ],
          [
           188873458.71500003
          ],
          [
           4839727.1850000005
          ],
          [
           87115089.33000001
          ],
          [
           616332545.585
          ],
          [
           2497370620.745
          ],
          [
           1134594951.9
          ],
          [
           270645812.24
          ],
          [
           62916453.40500001
          ],
          [
           41016717.95
          ],
          [
           92541787.10000001
          ],
          [
           87115089.33000001
          ],
          [
           304902812.65500003
          ],
          [
           40096086.10000001
          ],
          [
           227467177.695
          ],
          [
           19358908.740000002
          ],
          [
           235756530.73000002
          ],
          [
           4862416.275
          ],
          [
           101956285.26500002
          ],
          [
           18931787.77000002
          ],
          [
           19358908.740000002
          ],
          [
           77435634.96000001
          ],
          [
           970931666.785
          ],
          [
           4859694.515000001
          ],
          [
           1046501296.9899999
          ],
          [
           266184995.17500004
          ],
          [
           33878090.295
          ],
          [
           193589087.40000007
          ],
          [
           64526171.785000004
          ],
          [
           2174771861.57
          ],
          [
           87115089.33000001
          ],
          [
           120993179.62500001
          ],
          [
           680715139.51
          ],
          [
           49700.81
          ],
          [
           14640.82
          ],
          [
           91954816.51500002
          ],
          [
           239235479.98
          ],
          [
           38717817.480000004
          ],
          [
           295223358.285
          ],
          [
           371421280.555
          ],
          [
           198428814.585
          ],
          [
           96794543.70000003
          ],
          [
           290383631.1
          ],
          [
           962583936.535
          ],
          [
           19358908.740000002
          ],
          [
           12342.29
          ],
          [
           241986359.25000003
          ],
          [
           87115089.33000001
          ],
          [
           1948082304.24
          ],
          [
           6078704141.405001
          ],
          [
           427941008.52500004
          ],
          [
           4839727.1850000005
          ],
          [
           38717817.480000004
          ],
          [
           140352088.365
          ],
          [
           3030226273.56
          ],
          [
           2280886766.12
          ],
          [
           142603548.32000002
          ],
          [
           283716534.46500003
          ],
          [
           1732236456.715
          ],
          [
           281152148.87500006
          ],
          [
           87115089.33000001
          ],
          [
           37432626.77
          ],
          [
           785354744.805
          ],
          [
           173262758.72
          ],
          [
           58076726.220000006
          ],
          [
           560413815.8000001
          ],
          [
           798474167.89
          ],
          [
           881829657.3100002
          ],
          [
           273998040.46000004
          ],
          [
           297418435.77500004
          ],
          [
           183909633.03000003
          ],
          [
           38717817.480000004
          ],
          [
           400042797.15
          ],
          [
           994095499.915
          ],
          [
           24198635.92500001
          ],
          [
           297703863.14000005
          ],
          [
           38717817.480000004
          ],
          [
           81678972.69500001
          ],
          [
           183909633.03000003
          ],
          [
           169390451.47500002
          ],
          [
           280704176.73
          ],
          [
           46180102.96
          ],
          [
           9679454.370000001
          ],
          [
           261381925.02000004
          ],
          [
           16283509.045000004
          ],
          [
           87115089.33000001
          ],
          [
           266184995.17500004
          ],
          [
           289501820.8
          ],
          [
           237146632.06500003
          ],
          [
           87115089.33000001
          ],
          [
           87115089.33000001
          ],
          [
           266184995.17500004
          ],
          [
           295223358.285
          ],
          [
           2044127379.6750002
          ],
          [
           96794543.70000003
          ],
          [
           87115089.33000001
          ],
          [
           60839359318.14
          ],
          [
           4839727.1850000005
          ],
          [
           440200630.62
          ],
          [
           279179240.805
          ],
          [
           290383631.1
          ],
          [
           125832906.81000002
          ],
          [
           72595907.775
          ],
          [
           271024722.36
          ],
          [
           304902812.65500003
          ],
          [
           289135406.67
          ],
          [
           53236999.035000004
          ],
          [
           320479331.38
          ],
          [
           831022614.84
          ],
          [
           3025819018.35
          ],
          [
           24198635.92500001
          ],
          [
           275864449.545
          ],
          [
           8347353423.41
          ],
          [
           290383631.1
          ],
          [
           9679454.370000001
          ],
          [
           9673873536.05
          ],
          [
           125836335.30000001
          ],
          [
           47012256.87500001
          ],
          [
           29038363.110000003
          ],
          [
           5158665009.6
          ],
          [
           304902812.65500003
          ],
          [
           4839727.1850000005
          ],
          [
           2901616619.7200003
          ],
          [
           4839727.1850000005
          ],
          [
           304902812.65500003
          ],
          [
           245561199.64000002
          ],
          [
           42203068.615
          ],
          [
           43557544.66500001
          ],
          [
           1573640465.77
          ],
          [
           263674014.875
          ],
          [
           700580095.095
          ],
          [
           14519181.555000002
          ],
          [
           9679454.370000001
          ],
          [
           403548115.09000003
          ],
          [
           154871269.92000002
          ],
          [
           1028415333.6149999
          ],
          [
           290918669.69000006
          ],
          [
           1744163738.08
          ],
          [
           60962947.465
          ],
          [
           1675473485.61
          ],
          [
           101634270.885
          ],
          [
           4897360.775
          ],
          [
           322087605.965
          ],
          [
           13948609
          ],
          [
           752492766.59
          ],
          [
           200246477.63000005
          ],
          [
           48397271.85000002
          ],
          [
           285543903.915
          ],
          [
           290383631.1
          ],
          [
           101634270.885
          ],
          [
           1572051808.3
          ],
          [
           12230606428.55
          ],
          [
           59191142.830000006
          ],
          [
           261345267.99000004
          ],
          [
           4839727.1850000005
          ],
          [
           135000419.78
          ],
          [
           1674037793.92
          ],
          [
           4839727.1850000005
          ],
          [
           4405264530.83
          ],
          [
           4839727.1850000005
          ],
          [
           271766318.675
          ],
          [
           33878090.295
          ],
          [
           24198635.92500001
          ],
          [
           241986359.25000003
          ],
          [
           942671224.4100001
          ],
          [
           651160388.85
          ],
          [
           203268541.77
          ],
          [
           268929625.37
          ],
          [
           622970785.2099999
          ],
          [
           241986359.25000003
          ],
          [
           113012834.12
          ],
          [
           373580728.74
          ],
          [
           120993179.62500001
          ],
          [
           245952605.07000002
          ],
          [
           1246552695.26
          ],
          [
           237797827.00500003
          ],
          [
           288199901.69
          ],
          [
           52467563.29499999
          ],
          [
           43557544.66500001
          ],
          [
           304902812.65500003
          ],
          [
           274431446.84
          ],
          [
           290201880.23
          ],
          [
           13347658072.55
          ],
          [
           248591218.815
          ],
          [
           271024722.36
          ],
          [
           314557379.37
          ],
          [
           77435634.96000001
          ],
          [
           5232685231.42
          ],
          [
           55064627.54
          ],
          [
           61794527.805000044
          ],
          [
           333849639.58
          ],
          [
           30399689.880000003
          ],
          [
           744540383.06
          ],
          [
           87115089.33000001
          ],
          [
           75666055.04
          ],
          [
           72595907.775
          ],
          [
           101634270.885
          ],
          [
           261345267.99000004
          ],
          [
           77435634.96000001
          ],
          [
           340992647.62500006
          ],
          [
           67756180.59
          ],
          [
           62916453.40500001
          ],
          [
           279999584.295
          ],
          [
           28599840.17
          ],
          [
           91954816.51500002
          ],
          [
           154594.21499999892
          ],
          [
           126607168.97000001
          ],
          [
           89281107.23500001
          ],
          [
           285543903.915
          ],
          [
           130672633.99500002
          ],
          [
           460727628.25
          ],
          [
           232032137.67000002
          ],
          [
           20086567.995
          ],
          [
           129823966.99999999
          ],
          [
           1966792655.2
          ],
          [
           169405950.38500002
          ],
          [
           193589087.40000007
          ],
          [
           23962637.685000002
          ],
          [
           246826086.43500003
          ],
          [
           231029077.76500002
          ],
          [
           217787723.32500002
          ],
          [
           397454299.285
          ],
          [
           285607457.815
          ],
          [
           101634270.885
          ],
          [
           153214562.66
          ],
          [
           58076726.220000006
          ],
          [
           43059690.114999995
          ],
          [
           1643558018.435
          ],
          [
           196025360.645
          ],
          [
           19358908.740000002
          ],
          [
           159710997.10500002
          ],
          [
           4840873.1450000005
          ],
          [
           150129476.995
          ],
          [
           99059560.25
          ],
          [
           29067628.54000001
          ],
          [
           135512361.18
          ],
          [
           371840301.985
          ],
          [
           182210592.5
          ],
          [
           53236999.035000004
          ],
          [
           163899866.525
          ],
          [
           457189131.76
          ],
          [
           130672633.99500002
          ],
          [
           27685143.110000003
          ],
          [
           180019203.20000002
          ],
          [
           134666013.32000002
          ],
          [
           9679454.370000001
          ],
          [
           4839727.1850000005
          ],
          [
           304902812.65500003
          ],
          [
           694870035.635
          ],
          [
           105021025.43
          ],
          [
           53157320.33999999
          ],
          [
           230969324.98000002
          ],
          [
           179070037.675
          ],
          [
           67756180.59
          ],
          [
           72595907.775
          ],
          [
           132653804.83500001
          ],
          [
           759647877.3799999
          ],
          [
           99999534.29500002
          ],
          [
           130233396.4
          ],
          [
           26955855.055
          ],
          [
           276044759.725
          ],
          [
           140245524.31
          ],
          [
           268138530.03000003
          ],
          [
           3717425485.155
          ],
          [
           199059591.66500002
          ],
          [
           185669985.405
          ],
          [
           286473255.045
          ],
          [
           120510448.82500002
          ],
          [
           4839727.1850000005
          ],
          [
           4872935.885000001
          ],
          [
           78663.95
          ],
          [
           1023156811.82
          ],
          [
           1888382969.3750002
          ],
          [
           764175063.91
          ],
          [
           33878090.295
          ],
          [
           240109272.32
          ],
          [
           261345267.99000004
          ],
          [
           142496661.195
          ],
          [
           96794543.70000003
          ],
          [
           1125860987.535
          ],
          [
           4000697985.4700007
          ],
          [
           463591344.485
          ],
          [
           246767253.755
          ],
          [
           138935834.245
          ],
          [
           854785359.18
          ],
          [
           202689769.82499996
          ],
          [
           19358908.740000002
          ],
          [
           38717817.480000004
          ],
          [
           24198635.92500001
          ],
          [
           18748224.42
          ],
          [
           33878090.295
          ],
          [
           72595907.775
          ],
          [
           2025926.49
          ],
          [
           261345267.99000004
          ],
          [
           168620817.50500003
          ],
          [
           106473998.07000001
          ],
          [
           207869341.995
          ],
          [
           91954816.51500002
          ],
          [
           4466198869.96
          ],
          [
           116153452.44000001
          ],
          [
           358693428.76
          ],
          [
           956588331.915
          ],
          [
           4050136772.2200003
          ],
          [
           1303372813.92
          ],
          [
           38717817.480000004
          ],
          [
           82159340.035
          ],
          [
           336732997.01
          ],
          [
           96489965.315
          ],
          [
           127873186.38000001
          ],
          [
           201672625.85000002
          ],
          [
           1066110522.86
          ],
          [
           457433506.21999997
          ],
          [
           145191815.55
          ],
          [
           38717817.480000004
          ],
          [
           271057895.98
          ],
          [
           1175456927.78
          ],
          [
           5643506926.55
          ],
          [
           207280642.66999996
          ],
          [
           208301813.835
          ],
          [
           145191815.55
          ],
          [
           290901673.675
          ],
          [
           58076726.220000006
          ],
          [
           346587577.47
          ],
          [
           142835191.48000002
          ],
          [
           1435815812.9299998
          ],
          [
           79416445.00999999
          ],
          [
           2181203699.89
          ],
          [
           3370602266.0949993
          ],
          [
           65558218.980000004
          ],
          [
           67756180.59
          ],
          [
           48062537.79
          ],
          [
           128470505.61000001
          ],
          [
           33322104.404999997
          ],
          [
           9679454.370000001
          ],
          [
           225175338.15000004
          ],
          [
           285557286.76500005
          ],
          [
           87115089.33000001
          ],
          [
           382757541.94
          ],
          [
           295223358.285
          ],
          [
           24198635.92500001
          ],
          [
           58076726.220000006
          ],
          [
           43557544.66500001
          ],
          [
           19358908.740000002
          ],
          [
           72595907.775
          ],
          [
           4839727.1850000005
          ],
          [
           62916453.40500001
          ],
          [
           239380441.14
          ],
          [
           869529947.81
          ],
          [
           127325627.195
          ],
          [
           132196073.11500001
          ],
          [
           447683312.14000005
          ],
          [
           441284975.07
          ],
          [
           5090770021.08
          ],
          [
           193589087.40000007
          ],
          [
           428844321.33
          ],
          [
           285543903.915
          ],
          [
           19358908.740000002
          ],
          [
           178031302.655
          ],
          [
           4110357880.21
          ],
          [
           62916453.40500001
          ],
          [
           9679454.370000001
          ],
          [
           1422006921.01
          ],
          [
           295223358.285
          ],
          [
           174793875.9
          ],
          [
           62916453.40500001
          ],
          [
           473284691.56000006
          ],
          [
           164108840.59
          ],
          [
           58076726.220000006
          ],
          [
           939344170.39
          ],
          [
           87115089.33000001
          ],
          [
           87115089.33000001
          ],
          [
           106473998.07000001
          ],
          [
           2391515675.09
          ],
          [
           43557544.66500001
          ],
          [
           778268590.4849999
          ],
          [
           58076726.220000006
          ],
          [
           719813.06
          ],
          [
           120982777.11
          ],
          [
           86039079.805
          ],
          [
           1696986833.48
          ],
          [
           19358908.740000002
          ],
          [
           235304931.35000002
          ],
          [
           632327754.09
          ],
          [
           33878090.295
          ],
          [
           174230178.66000003
          ],
          [
           304902812.65500003
          ],
          [
           198700504.34500003
          ],
          [
           247957215.31500006
          ],
          [
           294999659.51
          ],
          [
           275126397.70000005
          ],
          [
           396764303.05500007
          ],
          [
           354860344.185
          ],
          [
           2592950205.79
          ],
          [
           193589087.40000007
          ],
          [
           279476686.045
          ],
          [
           208134779.575
          ],
          [
           194240223.145
          ],
          [
           19358908.740000002
          ],
          [
           101634270.885
          ],
          [
           4839727.1850000005
          ],
          [
           111323709.96000002
          ],
          [
           33878090.295
          ],
          [
           4166639150.4
          ],
          [
           295223358.285
          ],
          [
           266184995.17500004
          ],
          [
           75015613.96000001
          ],
          [
           975219138.64
          ],
          [
           304902812.65500003
          ],
          [
           246826086.43500003
          ],
          [
           890986345.115
          ],
          [
           38717817.480000004
          ],
          [
           186267021.115
          ],
          [
           3824067096.0747976
          ],
          [
           20927260528.16809
          ],
          [
           59767430213.48082
          ],
          [
           3039842513.6237416
          ],
          [
           1182950372.3511913
          ],
          [
           4264766328.654486
          ],
          [
           48397271.85000002
          ],
          [
           161537309.25028306
          ],
          [
           11130843524.03766
          ],
          [
           8988641563.684067
          ],
          [
           8396073.151778053
          ],
          [
           306604247.62890726
          ],
          [
           2633553637.0611296
          ],
          [
           4926100748.512204
          ],
          [
           2526772111.1136136
          ],
          [
           6173022212.925692
          ],
          [
           1378237163.3667147
          ],
          [
           2279683496.582845
          ],
          [
           2050660322.6215177
          ],
          [
           1723269310.4627173
          ],
          [
           237276557.62701344
          ],
          [
           196118217.0756455
          ]
         ],
         "domain": {
          "x": [
           0,
           1
          ],
          "y": [
           0,
           1
          ]
         },
         "hovertemplate": "labels=%{label}<br>C_Gross_Margin_sum=%{value}<br>parent=%{parent}<br>id=%{id}<br>C_Gross_Margin=%{color}<extra></extra>",
         "ids": [
          "CPB/RI-170R",
          "AMD/RI-221R",
          "COB/RI-222X",
          "CPB/RI-270R",
          "WRH/RI-2CDA",
          "CET/RI-563D",
          "CET/RI-563O",
          "CPB/RI-751R",
          "CPB/RI-900R",
          "CPB/RI-951R",
          "AMD/RI-ABLA",
          "NET/RI-ACLA",
          "AMD/RI-ACNS",
          "ASD/RI-ACWO",
          "SNS/RI-AEUB",
          "NET/RI-AGEL",
          "DPG/RI-AGUB",
          "NET/RI-AJET",
          "SBG/RI-AJRU",
          "CET/RI-ALUB",
          "PHW/RI-AMTS",
          "COR/RI-ANOC",
          "PHW/RI-APUB",
          "AMD/RI-ARBJ",
          "SNS/RI-ASRC",
          "SBG/RI-ATIH",
          "SNS/RI-ATUN",
          "SBG/RI-AVER",
          "NET/RI-AYVA",
          "AMD/RI-BATL",
          "COB/RI-BBDM",
          "IDC/RI-BBLD",
          "NET/RI-BBLT",
          "PHW/RI-BBPR",
          "COB/RI-BBPW",
          "COB/RI-BBST",
          "SWB/RI-BCRO",
          "NET/RI-BCYP",
          "COB/RI-BDPW",
          "SWB/RI-BDRO",
          "DPG/RI-BFSI",
          "PHW/RI-BISM",
          "NET/RI-BMAC",
          "PHW/RI-BMBG",
          "PHW/RI-BMBK",
          "AMD/RI-BMCA",
          "ZDB/RI-BMGL",
          "PHW/RI-BMNI",
          "PHW/RI-BMOK",
          "PHW/RI-BMSA",
          "AMD/RI-BMTH",
          "AMD/RI-BMWH",
          "COB/RI-BNBI",
          "COB/RI-BNCA",
          "COB/RI-BNCH",
          "COB/RI-BNEL",
          "COB/RI-BNGL",
          "CPB/RI-BNGM",
          "CPB/RI-BNHA",
          "CPB/RI-BNHC",
          "CPB/RI-BNHL",
          "COB/RI-BNJF",
          "PHW/RI-BNLD",
          "COB/RI-BNMC",
          "CPB/RI-BNMS",
          "CPB/RI-BNSA",
          "COB/RI-BNST",
          "CPB/RI-BNTA",
          "CPB/RI-BNWG",
          "AMD/RI-BPBB",
          "CPB/RI-BTNL",
          "CPB/RI-BTSA",
          "CPB/RI-BTTS",
          "SNS/RI-BURA",
          "COB/RI-BVBI",
          "SWB/RI-BWMS",
          "PHW/RI-BXSM",
          "DPG/RI-C3PH",
          "PHW/RI-CABO",
          "ASD/RI-CADC",
          "AMD/RI-CADV",
          "ASD/RI-CAKB",
          "CPB/RI-CALC",
          "SBG/RI-CANE",
          "ASD/RI-CAPA",
          "AMD/RI-CASH",
          "DPG/RI-CDDD",
          "CET/RI-CDFS",
          "SNS/RI-CDUH",
          "LSB/RI-CEAA",
          "SBG/RI-CEIS",
          "NET/RI-CENC",
          "ECM/RI-CEUB",
          "NET/RI-CFVE",
          "PHW/RI-CGLA",
          "ZDB/RI-CGLD",
          "SWB/RI-CIPE",
          "NET/RI-CLBC",
          "NET/RI-CLPC",
          "CET/RI-CLTG",
          "IDC/RI-CMEC",
          "ASD/RI-CMPA",
          "ASD/RI-CMSM",
          "CPB/RI-CNXL",
          "COB/RI-CPBI",
          "COB/RI-CPCA",
          "CET/RI-CPCG",
          "COB/RI-CPCH",
          "COB/RI-CPCP",
          "COB/RI-CPGN",
          "COB/RI-CPJF",
          "COB/RI-CPLA",
          "CPB/RI-CPLD",
          "COB/RI-CPMC",
          "CPB/RI-CPNL",
          "COB/RI-CPNZ",
          "COB/RI-CPPH",
          "COB/RI-CPPW",
          "COB/RI-CPSA",
          "COB/RI-CPSV",
          "NET/RI-CSES",
          "NET/RI-CSIV",
          "COB/RI-CSSM",
          "CMS/RI-CSSP",
          "AMD/RI-CSUB",
          "NET/RI-CSVA",
          "CET/RI-CSWA",
          "CET/RI-CSWG",
          "COB/RI-CTLM",
          "CPB/RI-CTMS",
          "NET/RI-CVSC",
          "NET/RI-CVSL",
          "DPG/RI-D3AM",
          "DPG/RI-D3MD",
          "DPG/RI-D3PW",
          "DPG/RI-D3TE",
          "DPG/RI-D3UB",
          "ASD/RI-DAPA",
          "CMS/RI-DARC",
          "SNS/RI-DBXO",
          "IDC/RI-DCLD",
          "COB/RI-DCLM",
          "IDC/RI-DCME",
          "PHW/RI-DCMS",
          "NET/RI-DCRB",
          "PHW/RI-DEDW",
          "PHW/RI-DEES",
          "SWB/RI-DERO",
          "PHW/RI-DFEN",
          "PHW/RI-DHDW",
          "PHW/RI-DHES",
          "PHW/RI-DHIH",
          "PHW/RI-DHMS",
          "SWB/RI-DISM",
          "PHW/RI-DLMS",
          "CMS/RI-DMBI",
          "CMS/RI-DMCA",
          "ZDB/RI-DMCE",
          "CMS/RI-DMCI",
          "CMS/RI-DMCM",
          "PHW/RI-DMSL",
          "PHW/RI-DMST",
          "PHW/RI-DOMS",
          "ASD/RI-DPIA",
          "ZDB/RI-DPMC",
          "CMS/RI-DSCM",
          "SWB/RI-DSEM",
          "ZDB/RI-DSGD",
          "ASD/RI-DSUB",
          "SEC/RI-DUCB",
          "AMD/RI-DVDP",
          "CMS/RI-DZAM",
          "LSB/RI-EAMA",
          "ZDB/RI-ECGL",
          "SNS/RI-EHUB",
          "PHW/RI-EMCA",
          "SNS/RI-EMOI",
          "ZDB/RI-ENIP",
          "SWB/RI-EOSM",
          "SWB/RI-ESUS",
          "ECM/RI-ETGE",
          "PHW/RI-ETNI",
          "DPG/RI-ETSC",
          "SWB/RI-EWMS",
          "SBG/RI-EXOF",
          "SWB/RI-FISM",
          "NET/RI-FLOP",
          "PHW/RI-FLPH",
          "PHW/RI-FMMS",
          "CET/RI-FOSM",
          "PHW/RI-FOSS",
          "CPB/RI-FTEA",
          "PHW/RI-FTEB",
          "CPB/RI-FTGL",
          "PHW/RI-FTHP",
          "PHW/RI-FTMS",
          "DPG/RI-GDNI",
          "COB/RI-GDPH",
          "SEC/RI-GEAP",
          "IDC/RI-GEBI",
          "SEC/RI-GECB",
          "SEC/RI-GECM",
          "SEC/RI-GEHC",
          "SEC/RI-GEIE",
          "IDC/RI-GELD",
          "SNS/RI-GEMC",
          "SEC/RI-GENI",
          "SEC/RI-GEOF",
          "SEC/RI-GEOS",
          "SEC/RI-GERA",
          "SEC/RI-GERT",
          "SWB/RI-GERV",
          "SEC/RI-GESR",
          "SEC/RI-GEUQ",
          "SEC/RI-GEWS",
          "SEC/RI-GEXC",
          "LSB/RI-GFMA",
          "HME/RI-GMIS",
          "AMD/RI-GNTN",
          "SBG/RI-GNUS",
          "SNS/RI-GSAH",
          "IDC/RI-GSBI",
          "SNS/RI-GSIN",
          "SNS/RI-GSSN",
          "SNS/RI-GSSP",
          "SNS/RI-GSTH",
          "SNS/RI-GSTN",
          "SNS/RI-GSUN",
          "NET/RI-GTEN",
          "ZDB/RI-GWGL",
          "ZDB/RI-GWJG",
          "ZDB/RI-GWPW",
          "ZDB/RI-GWSP",
          "ZDB/RI-GWTV",
          "ZDB/RI-GZUB",
          "WRH/RI-HCDA",
          "SEC/RI-HCRA",
          "SEC/RI-HPHO",
          "SBG/RI-HPNE",
          "HME/RI-HSOB",
          "SBG/RI-HSUS",
          "IDC/RI-ICME",
          "NET/RI-IEWH",
          "NET/RI-IGID",
          "PHW/RI-IGOL",
          "SNS/RI-IJUF",
          "AMD/RI-IMIX",
          "NET/RI-INUJ",
          "SWB/RI-IRSE",
          "SBG/RI-IVIL",
          "DPG/RI-JBOC",
          "SNS/RI-JIRP",
          "PHW/RI-JLPH",
          "SNS/RI-JPMO",
          "NET/RI-JPSV",
          "NET/RI-KAET",
          "CPB/RI-KAKH",
          "SBG/RI-KAOP",
          "ECM/RI-KBMP",
          "SWB/RI-KBUR",
          "SBG/RI-KCOR",
          "SBG/RI-KIHC",
          "SWB/RI-KLPS",
          "NET/RI-KLPT",
          "NET/RI-KNLD",
          "LSB/RI-KSDA",
          "AMD/RI-KTNS",
          "CET/RI-LCAC",
          "CET/RI-LCCM",
          "CET/RI-LCEN",
          "SWB/RI-LCEV",
          "CET/RI-LCFK",
          "CET/RI-LCLV",
          "CET/RI-LCRD",
          "CET/RI-LCRT",
          "CET/RI-LCSG",
          "CET/RI-LCSL",
          "CET/RI-LCSM",
          "CET/RI-LCSP",
          "CET/RI-LCSV",
          "CET/RI-LCTC",
          "CET/RI-LCTH",
          "CET/RI-LCUB",
          "CET/RI-LCVM",
          "CET/RI-LCVN",
          "WRH/RI-LDDA",
          "IDC/RI-LDUB",
          "AMD/RI-LFWN",
          "SNS/RI-LGPH",
          "NET/RI-LIXA",
          "PHW/RI-LLED",
          "CPB/RI-LLRP",
          "NET/RI-LOPC",
          "SWB/RI-LPCM",
          "SNS/RI-LPMC",
          "PHW/RI-LPPH",
          "CET/RI-LSBI",
          "ZDB/RI-LSIV",
          "SBG/RI-LSUB",
          "PHW/RI-LTNI",
          "NET/RI-LTRN",
          "COB/RI-LTSW",
          "CET/RI-LVSM",
          "NET/RI-LXYZ",
          "AMD/RI-MAEN",
          "NET/RI-MCPI",
          "PHW/RI-MCQB",
          "COB/RI-MCUB",
          "DPG/RI-MDDP",
          "PHW/RI-MDMM",
          "HME/RI-MHUB",
          "SNS/RI-MIPH",
          "NET/RI-MLCX",
          "SWB/RI-MNGL",
          "SNS/RI-MNPH",
          "NET/RI-MOC3",
          "NET/RI-MOCA",
          "NET/RI-MOCJ",
          "NET/RI-MOCL",
          "SWB/RI-MPRO",
          "SEC/RI-MRBC",
          "PHW/RI-MRTS",
          "PHW/RI-MSPH",
          "SNS/RI-MSUN",
          "NET/RI-MTNQ",
          "AMD/RI-MTRS",
          "SBG/RI-MYOH",
          "HME/RI-NAKS",
          "HME/RI-NALP",
          "NET/RI-NAPC",
          "COB/RI-NBLM",
          "COB/RI-NCLM",
          "PHW/RI-NCMS",
          "SNS/RI-NCPH",
          "CPB/RI-NCUT",
          "CET/RI-NDSM",
          "CET/RI-NEGN",
          "NET/RI-NELC",
          "SBG/RI-NIOR",
          "SNS/RI-NIPA",
          "CPB/RI-NIPM",
          "SBG/RI-NIRG",
          "SBG/RI-NIRT",
          "SWB/RI-NISM",
          "NET/RI-NLDC",
          "NET/RI-NLED",
          "HME/RI-NLOM",
          "SEC/RI-NLOV",
          "CPB/RI-NMHP",
          "PHW/RI-NMMS",
          "AMD/RI-NMRG",
          "PHW/RI-NMSV",
          "PHW/RI-NOTN",
          "HME/RI-NRMO",
          "ECM/RI-NSBI",
          "NET/RI-NSDP",
          "AMD/RI-NTIT",
          "PHW/RI-NTMI",
          "COB/RI-NVDM",
          "PHW/RI-NZMA",
          "ECM/RI-OBNW",
          "NET/RI-OBOC",
          "AMD/RI-OCEL",
          "ZDB/RI-OCIR",
          "COR/RI-OCOC",
          "PHW/RI-OCRB",
          "NET/RI-OCSC",
          "AMD/RI-OCSE",
          "SEC/RI-OCSV",
          "NET/RI-OCYT",
          "ECM/RI-OCZW",
          "ECM/RI-ODKI",
          "AMD/RI-OFDV",
          "SEC/RI-OFNI",
          "COB/RI-OHBI",
          "CPB/RI-OHCA",
          "HME/RI-OHCE",
          "COB/RI-OHCH",
          "CPB/RI-OHMC",
          "CPB/RI-OHNL",
          "CPB/RI-OHPH",
          "PHW/RI-OIAI",
          "ECM/RI-OIDO",
          "WRH/RI-OKDA",
          "ASD/RI-OLOX",
          "IDC/RI-OMLD",
          "COB/RI-OMMC",
          "AMD/RI-OMMS",
          "PHW/RI-OMNI",
          "COB/RI-OPBI",
          "SNS/RI-OPST",
          "SNS/RI-ORPH",
          "SBG/RI-OSAJ",
          "SBG/RI-OSNI",
          "SNS/RI-OSPH",
          "AMD/RI-OTOM",
          "AMD/RI-OTOV",
          "AMD/RI-OVRI",
          "SBG/RI-OXIP",
          "DPG/RI-P3PH",
          "SWB/RI-PABI",
          "SWB/RI-PAEN",
          "SEC/RI-PAOS",
          "ASP/RI-PAPA",
          "NET/RI-PARA",
          "SWB/RI-PARO",
          "SEC/RI-PAXC",
          "ZDB/RI-PBGD",
          "SNS/RI-PCME",
          "COB/RI-PCPH",
          "COB/RI-PCST",
          "PHW/RI-PCTI",
          "DPG/RI-PDDD",
          "NET/RI-PDPE",
          "PHW/RI-PFIV",
          "AMD/RI-PFSA",
          "CET/RI-PFSM",
          "CPB/RI-PHMC",
          "ASD/RI-PHPA",
          "ZDB/RI-PIGD",
          "CET/RI-PINS",
          "ASD/RI-PIPA",
          "NET/RI-PISC",
          "AMD/RI-PMAL",
          "AMD/RI-PMBB",
          "AMD/RI-PMBK",
          "ASD/RI-PMBO",
          "AMD/RI-PMGL",
          "AMD/RI-PMHP",
          "AMD/RI-PMIX",
          "AMD/RI-PMLG",
          "AMD/RI-PMMI",
          "AMD/RI-PMNL",
          "ASP/RI-PMPA",
          "PHW/RI-PMPE",
          "AMD/RI-PMPO",
          "AMD/RI-PMSA",
          "AMD/RI-PMSP",
          "AMD/RI-PMTM",
          "AMD/RI-PMTO",
          "AMD/RI-PMWH",
          "NET/RI-PNUB",
          "SWB/RI-POBI",
          "COB/RI-PREW",
          "HME/RI-PRHP",
          "PHW/RI-PSAC",
          "CET/RI-PSCM",
          "PHW/RI-PSGD",
          "AMD/RI-PSLD",
          "AMD/RI-PSLG",
          "PHW/RI-PSNC",
          "PHW/RI-PSPE",
          "PHW/RI-PSPH",
          "PHW/RI-PSPR",
          "PHW/RI-PSPW",
          "PHW/RI-PSRX",
          "COB/RI-PSSM",
          "ASP/RI-PSUB",
          "PHW/RI-PSVT",
          "COB/RI-PTLM",
          "SNS/RI-PUCS",
          "SNS/RI-PUGM",
          "SNS/RI-PUPA",
          "SNS/RI-PUPB",
          "SNS/RI-PUPC",
          "SNS/RI-PUPE",
          "SNS/RI-PUPL",
          "COB/RI-PVPH",
          "SNS/RI-PWPA",
          "ZDB/RI-PXAM",
          "CET/RI-PZAM",
          "SNS/RI-QNEB",
          "SEC/RI-RASR",
          "PHW/RI-RBSM",
          "IDC/RI-RCME",
          "SBG/RI-RENE",
          "NET/RI-RESC",
          "SBG/RI-RKIV",
          "ECM/RI-RMAH",
          "PHW/RI-RPAC",
          "DPG/RI-RPAP",
          "IDC/RI-RPBI",
          "PHW/RI-RPDK",
          "COH/RI-RPLG",
          "PHW/RI-RPMS",
          "PHW/RI-RPNC",
          "SWB/RI-RPNI",
          "PHW/RI-RPPE",
          "PHW/RI-RPPH",
          "PHW/RI-RPPO",
          "PHW/RI-RPUB",
          "PHW/RI-RPVT",
          "SNS/RI-RPVV",
          "SBG/RI-RREL",
          "SBG/RI-RROC",
          "NET/RI-RRSC",
          "PHW/RI-RSNI",
          "NET/RI-RSON",
          "ZDB/RI-RSPA",
          "ZDB/RI-RSPH",
          "SEC/RI-RSSM",
          "PHW/RI-RTMS",
          "SNS/RI-RTPA",
          "DPG/RI-S3PH",
          "PHW/RI-SANW",
          "SNS/RI-SASR",
          "SWB/RI-SBM3",
          "SWB/RI-SBUR",
          "CET/RI-SCDF",
          "CET/RI-SCDI",
          "SBG/RI-SCER",
          "IDC/RI-SCME",
          "SNS/RI-SCPA",
          "SNS/RI-SCPH",
          "CET/RI-SCRO",
          "COB/RI-SCST",
          "CPB/RI-SCUB",
          "NET/RI-SCUC",
          "NET/RI-SCWN",
          "DPG/RI-SDNI",
          "SWB/RI-SDRO",
          "AMD/RI-SEBB",
          "SNS/RI-SEIN",
          "SNS/RI-SEJF",
          "IDC/RI-SELD",
          "LSB/RI-SEMA",
          "SNS/RI-SEPH",
          "SNS/RI-SETN",
          "CET/RI-SFDI",
          "PHW/RI-SFDS",
          "SEC/RI-SFOS",
          "SWB/RI-SFRO",
          "SEC/RI-SGYC",
          "DPG/RI-SHCN",
          "SNS/RI-SHUB",
          "SWB/RI-SIBI",
          "DPG/RI-SIEZ",
          "SWB/RI-SIGD",
          "SWB/RI-SIGS",
          "SNS/RI-SIJF",
          "SEC/RI-SJAG",
          "DPG/RI-SJBO",
          "SBG/RI-SKAJ",
          "SWB/RI-SKPS",
          "NET/RI-SLOP",
          "NET/RI-SLSC",
          "LSB/RI-SLUB",
          "CMS/RI-SMCA",
          "CET/RI-SMCC",
          "CMS/RI-SMCG",
          "CMS/RI-SMCI",
          "CMS/RI-SMCM",
          "SEC/RI-SMIE",
          "CET/RI-SMIS",
          "SBG/RI-SMIV",
          "COB/RI-SMRM",
          "ASD/RI-SMRP",
          "CMS/RI-SMUB",
          "CMS/RI-SMWM",
          "SNS/RI-SNDD",
          "SBG/RI-SNOC",
          "NET/RI-SNUJ",
          "SWB/RI-SNUS",
          "COB/RI-SOCG",
          "SWB/RI-SPBI",
          "SEC/RI-SPOS",
          "PHW/RI-SPSG",
          "PHW/RI-SPUB",
          "ECM/RI-SPUS",
          "SWB/RI-SRSE",
          "SWB/RI-SRTP",
          "SWB/RI-SSBI",
          "NET/RI-SSCC",
          "LSB/RI-SSDA",
          "SWB/RI-SSEV",
          "SWB/RI-SSFM",
          "SWB/RI-SSHR",
          "IDC/RI-SSLD",
          "SWB/RI-SSNE",
          "SEC/RI-SSOF",
          "SWB/RI-SSPH",
          "SWB/RI-SSPI",
          "PHW/RI-SSPR",
          "NET/RI-SSPT",
          "SEC/RI-SSTS",
          "SNS/RI-SSUH",
          "SWB/RI-SSUS",
          "NET/RI-SSYP",
          "CET/RI-STBI",
          "ZDB/RI-STGC",
          "CET/RI-STKM",
          "CET/RI-STLQ",
          "SWB/RI-STNE",
          "SWB/RI-STRV",
          "SWB/RI-STSI",
          "CET/RI-STYK",
          "SEC/RI-SUCP",
          "HME/RI-SUMS",
          "IDC/RI-SVBI",
          "COB/RI-SWJF",
          "COB/RI-SWPH",
          "SBG/RI-SYEG",
          "SBG/RI-SYER",
          "NET/RI-SYTC",
          "NET/RI-SYVA",
          "PHW/RI-TBAL",
          "ECM/RI-TBFO",
          "ECM/RI-TBPS",
          "NET/RI-TBSC",
          "NET/RI-TDBC",
          "COB/RI-TDCA",
          "ZDB/RI-TDNI",
          "NET/RI-TDPC",
          "DPG/RI-TDUB",
          "IDC/RI-TELD",
          "SNS/RI-TFAH",
          "NET/RI-TFBC",
          "NET/RI-TFHC",
          "NET/RI-TFLC",
          "NET/RI-TFNC",
          "NET/RI-TFPC",
          "SNS/RI-TFPH",
          "NET/RI-TFSC",
          "PHW/RI-TFTG",
          "NET/RI-TICE",
          "PHW/RI-TILD",
          "SBG/RI-TIMV",
          "ZDB/RI-TJBO",
          "COB/RI-TLDM",
          "AMD/RI-TLOB",
          "CPB/RI-TMPH",
          "NET/RI-TNBU",
          "SBG/RI-TNIG",
          "SEC/RI-TPHC",
          "AMD/RI-TRLD",
          "SEC/RI-TROF",
          "CPB/RI-TRTI",
          "NET/RI-TSAC",
          "SEC/RI-TSAP",
          "NET/RI-TSBC",
          "SWB/RI-TSBI",
          "COB/RI-TSBT",
          "SEC/RI-TSCB",
          "SEC/RI-TSCM",
          "SEC/RI-TSHC",
          "SEC/RI-TSIE",
          "NET/RI-TSIM",
          "IDC/RI-TSLD",
          "IDC/RI-TSME",
          "SEC/RI-TSNI",
          "SNS/RI-TSNQ",
          "SWB/RI-TSNS",
          "SEC/RI-TSOF",
          "NET/RI-TSPC",
          "SNS/RI-TSPH",
          "ZDB/RI-TSPR",
          "SEC/RI-TSRA",
          "NET/RI-TSRC",
          "SWB/RI-TSRP",
          "SEC/RI-TSRT",
          "SWB/RI-TSRV",
          "SNS/RI-TSSP",
          "SEC/RI-TSSR",
          "SNS/RI-TSTH",
          "SNS/RI-TSTN",
          "SEC/RI-TSUQ",
          "SNS/RI-TSVI",
          "SEC/RI-TSWS",
          "SEC/RI-TSXC",
          "SBG/RI-TUAG",
          "ZDB/RI-UBLA",
          "SNS/RI-UCYH",
          "SBG/RI-UFER",
          "SBG/RI-UHEK",
          "NET/RI-UKRC",
          "SWB/RI-UORO",
          "SBG/RI-UQSA",
          "SNS/RI-URAC",
          "SEC/RI-URCS",
          "PHW/RI-VDAR",
          "SNS/RI-VEPH",
          "PHW/RI-VMNS",
          "SWB/RI-VSBI",
          "SNS/RI-VSPH",
          "SNS/RI-VSTH",
          "ASD/RI-VTPA",
          "SNS/RI-VUPH",
          "SWB/RI-WFRO",
          "SNS/RI-WHCN",
          "SEC/RI-WNAP",
          "CET/RI-WONS",
          "PHW/RI-WOSM",
          "SEC/RI-WSAC",
          "PHW/RI-WSAE",
          "SWB/RI-WSAS",
          "SWB/RI-WSBI",
          "SWB/RI-WSBS",
          "SWB/RI-WSBW",
          "SEC/RI-WSCM",
          "CET/RI-WSDA",
          "SWB/RI-WSDT",
          "SWB/RI-WSEB",
          "SWB/RI-WSEV",
          "SWB/RI-WSFM",
          "SWB/RI-WSGA",
          "SWB/RI-WSHR",
          "AMD/RI-WSHT",
          "CPB/RI-WSKT",
          "SWB/RI-WSMS",
          "SWB/RI-WSMV",
          "SWB/RI-WSNO",
          "SWB/RI-WSNS",
          "SWB/RI-WSOS",
          "SWB/RI-WSOZ",
          "SWB/RI-WSPH",
          "SEC/RI-WSRA",
          "SEC/RI-WSRT",
          "PHW/RI-WSSR",
          "SWB/RI-WSTA",
          "SWB/RI-WSTP",
          "ZDB/RI-WSTZ",
          "CET/RI-WSUA",
          "SWB/RI-WSUB",
          "SEC/RI-WSUC",
          "LSB/RI-WSUN",
          "SEC/RI-WSUQ",
          "SWB/RI-WSVN",
          "SEC/RI-WSXC",
          "SEC/RI-WSYS",
          "ASD/RI-WWPA",
          "CET/RI-XCLC",
          "SWB/RI-XIGD",
          "NET/RI-XLOM",
          "SBG/RI-XLOS",
          "PHW/RI-XMGK",
          "SWB/RI-XNUS",
          "PHW/RI-XORX",
          "SBG/RI-XPLA",
          "ZDB/RI-XTCS",
          "SWB/RI-XUNS",
          "SNS/RI-XUPH",
          "ASD/RI-YAPA",
          "SWB/RI-YBCV",
          "NET/RI-YLOP",
          "SEC/RI-YSUB",
          "HME/RI-YXMS",
          "CET/RI-ZAMA",
          "COB/RI-ZECH",
          "SNS/RI-ZFIN",
          "AMD",
          "ASD",
          "ASP",
          "CET",
          "CMS",
          "COB",
          "COH",
          "COR",
          "CPB",
          "DPG",
          "ECM",
          "HME",
          "IDC",
          "LSB",
          "NET",
          "PHW",
          "SBG",
          "SEC",
          "SNS",
          "SWB",
          "WRH",
          "ZDB"
         ],
         "labels": [
          "RI-170R",
          "RI-221R",
          "RI-222X",
          "RI-270R",
          "RI-2CDA",
          "RI-563D",
          "RI-563O",
          "RI-751R",
          "RI-900R",
          "RI-951R",
          "RI-ABLA",
          "RI-ACLA",
          "RI-ACNS",
          "RI-ACWO",
          "RI-AEUB",
          "RI-AGEL",
          "RI-AGUB",
          "RI-AJET",
          "RI-AJRU",
          "RI-ALUB",
          "RI-AMTS",
          "RI-ANOC",
          "RI-APUB",
          "RI-ARBJ",
          "RI-ASRC",
          "RI-ATIH",
          "RI-ATUN",
          "RI-AVER",
          "RI-AYVA",
          "RI-BATL",
          "RI-BBDM",
          "RI-BBLD",
          "RI-BBLT",
          "RI-BBPR",
          "RI-BBPW",
          "RI-BBST",
          "RI-BCRO",
          "RI-BCYP",
          "RI-BDPW",
          "RI-BDRO",
          "RI-BFSI",
          "RI-BISM",
          "RI-BMAC",
          "RI-BMBG",
          "RI-BMBK",
          "RI-BMCA",
          "RI-BMGL",
          "RI-BMNI",
          "RI-BMOK",
          "RI-BMSA",
          "RI-BMTH",
          "RI-BMWH",
          "RI-BNBI",
          "RI-BNCA",
          "RI-BNCH",
          "RI-BNEL",
          "RI-BNGL",
          "RI-BNGM",
          "RI-BNHA",
          "RI-BNHC",
          "RI-BNHL",
          "RI-BNJF",
          "RI-BNLD",
          "RI-BNMC",
          "RI-BNMS",
          "RI-BNSA",
          "RI-BNST",
          "RI-BNTA",
          "RI-BNWG",
          "RI-BPBB",
          "RI-BTNL",
          "RI-BTSA",
          "RI-BTTS",
          "RI-BURA",
          "RI-BVBI",
          "RI-BWMS",
          "RI-BXSM",
          "RI-C3PH",
          "RI-CABO",
          "RI-CADC",
          "RI-CADV",
          "RI-CAKB",
          "RI-CALC",
          "RI-CANE",
          "RI-CAPA",
          "RI-CASH",
          "RI-CDDD",
          "RI-CDFS",
          "RI-CDUH",
          "RI-CEAA",
          "RI-CEIS",
          "RI-CENC",
          "RI-CEUB",
          "RI-CFVE",
          "RI-CGLA",
          "RI-CGLD",
          "RI-CIPE",
          "RI-CLBC",
          "RI-CLPC",
          "RI-CLTG",
          "RI-CMEC",
          "RI-CMPA",
          "RI-CMSM",
          "RI-CNXL",
          "RI-CPBI",
          "RI-CPCA",
          "RI-CPCG",
          "RI-CPCH",
          "RI-CPCP",
          "RI-CPGN",
          "RI-CPJF",
          "RI-CPLA",
          "RI-CPLD",
          "RI-CPMC",
          "RI-CPNL",
          "RI-CPNZ",
          "RI-CPPH",
          "RI-CPPW",
          "RI-CPSA",
          "RI-CPSV",
          "RI-CSES",
          "RI-CSIV",
          "RI-CSSM",
          "RI-CSSP",
          "RI-CSUB",
          "RI-CSVA",
          "RI-CSWA",
          "RI-CSWG",
          "RI-CTLM",
          "RI-CTMS",
          "RI-CVSC",
          "RI-CVSL",
          "RI-D3AM",
          "RI-D3MD",
          "RI-D3PW",
          "RI-D3TE",
          "RI-D3UB",
          "RI-DAPA",
          "RI-DARC",
          "RI-DBXO",
          "RI-DCLD",
          "RI-DCLM",
          "RI-DCME",
          "RI-DCMS",
          "RI-DCRB",
          "RI-DEDW",
          "RI-DEES",
          "RI-DERO",
          "RI-DFEN",
          "RI-DHDW",
          "RI-DHES",
          "RI-DHIH",
          "RI-DHMS",
          "RI-DISM",
          "RI-DLMS",
          "RI-DMBI",
          "RI-DMCA",
          "RI-DMCE",
          "RI-DMCI",
          "RI-DMCM",
          "RI-DMSL",
          "RI-DMST",
          "RI-DOMS",
          "RI-DPIA",
          "RI-DPMC",
          "RI-DSCM",
          "RI-DSEM",
          "RI-DSGD",
          "RI-DSUB",
          "RI-DUCB",
          "RI-DVDP",
          "RI-DZAM",
          "RI-EAMA",
          "RI-ECGL",
          "RI-EHUB",
          "RI-EMCA",
          "RI-EMOI",
          "RI-ENIP",
          "RI-EOSM",
          "RI-ESUS",
          "RI-ETGE",
          "RI-ETNI",
          "RI-ETSC",
          "RI-EWMS",
          "RI-EXOF",
          "RI-FISM",
          "RI-FLOP",
          "RI-FLPH",
          "RI-FMMS",
          "RI-FOSM",
          "RI-FOSS",
          "RI-FTEA",
          "RI-FTEB",
          "RI-FTGL",
          "RI-FTHP",
          "RI-FTMS",
          "RI-GDNI",
          "RI-GDPH",
          "RI-GEAP",
          "RI-GEBI",
          "RI-GECB",
          "RI-GECM",
          "RI-GEHC",
          "RI-GEIE",
          "RI-GELD",
          "RI-GEMC",
          "RI-GENI",
          "RI-GEOF",
          "RI-GEOS",
          "RI-GERA",
          "RI-GERT",
          "RI-GERV",
          "RI-GESR",
          "RI-GEUQ",
          "RI-GEWS",
          "RI-GEXC",
          "RI-GFMA",
          "RI-GMIS",
          "RI-GNTN",
          "RI-GNUS",
          "RI-GSAH",
          "RI-GSBI",
          "RI-GSIN",
          "RI-GSSN",
          "RI-GSSP",
          "RI-GSTH",
          "RI-GSTN",
          "RI-GSUN",
          "RI-GTEN",
          "RI-GWGL",
          "RI-GWJG",
          "RI-GWPW",
          "RI-GWSP",
          "RI-GWTV",
          "RI-GZUB",
          "RI-HCDA",
          "RI-HCRA",
          "RI-HPHO",
          "RI-HPNE",
          "RI-HSOB",
          "RI-HSUS",
          "RI-ICME",
          "RI-IEWH",
          "RI-IGID",
          "RI-IGOL",
          "RI-IJUF",
          "RI-IMIX",
          "RI-INUJ",
          "RI-IRSE",
          "RI-IVIL",
          "RI-JBOC",
          "RI-JIRP",
          "RI-JLPH",
          "RI-JPMO",
          "RI-JPSV",
          "RI-KAET",
          "RI-KAKH",
          "RI-KAOP",
          "RI-KBMP",
          "RI-KBUR",
          "RI-KCOR",
          "RI-KIHC",
          "RI-KLPS",
          "RI-KLPT",
          "RI-KNLD",
          "RI-KSDA",
          "RI-KTNS",
          "RI-LCAC",
          "RI-LCCM",
          "RI-LCEN",
          "RI-LCEV",
          "RI-LCFK",
          "RI-LCLV",
          "RI-LCRD",
          "RI-LCRT",
          "RI-LCSG",
          "RI-LCSL",
          "RI-LCSM",
          "RI-LCSP",
          "RI-LCSV",
          "RI-LCTC",
          "RI-LCTH",
          "RI-LCUB",
          "RI-LCVM",
          "RI-LCVN",
          "RI-LDDA",
          "RI-LDUB",
          "RI-LFWN",
          "RI-LGPH",
          "RI-LIXA",
          "RI-LLED",
          "RI-LLRP",
          "RI-LOPC",
          "RI-LPCM",
          "RI-LPMC",
          "RI-LPPH",
          "RI-LSBI",
          "RI-LSIV",
          "RI-LSUB",
          "RI-LTNI",
          "RI-LTRN",
          "RI-LTSW",
          "RI-LVSM",
          "RI-LXYZ",
          "RI-MAEN",
          "RI-MCPI",
          "RI-MCQB",
          "RI-MCUB",
          "RI-MDDP",
          "RI-MDMM",
          "RI-MHUB",
          "RI-MIPH",
          "RI-MLCX",
          "RI-MNGL",
          "RI-MNPH",
          "RI-MOC3",
          "RI-MOCA",
          "RI-MOCJ",
          "RI-MOCL",
          "RI-MPRO",
          "RI-MRBC",
          "RI-MRTS",
          "RI-MSPH",
          "RI-MSUN",
          "RI-MTNQ",
          "RI-MTRS",
          "RI-MYOH",
          "RI-NAKS",
          "RI-NALP",
          "RI-NAPC",
          "RI-NBLM",
          "RI-NCLM",
          "RI-NCMS",
          "RI-NCPH",
          "RI-NCUT",
          "RI-NDSM",
          "RI-NEGN",
          "RI-NELC",
          "RI-NIOR",
          "RI-NIPA",
          "RI-NIPM",
          "RI-NIRG",
          "RI-NIRT",
          "RI-NISM",
          "RI-NLDC",
          "RI-NLED",
          "RI-NLOM",
          "RI-NLOV",
          "RI-NMHP",
          "RI-NMMS",
          "RI-NMRG",
          "RI-NMSV",
          "RI-NOTN",
          "RI-NRMO",
          "RI-NSBI",
          "RI-NSDP",
          "RI-NTIT",
          "RI-NTMI",
          "RI-NVDM",
          "RI-NZMA",
          "RI-OBNW",
          "RI-OBOC",
          "RI-OCEL",
          "RI-OCIR",
          "RI-OCOC",
          "RI-OCRB",
          "RI-OCSC",
          "RI-OCSE",
          "RI-OCSV",
          "RI-OCYT",
          "RI-OCZW",
          "RI-ODKI",
          "RI-OFDV",
          "RI-OFNI",
          "RI-OHBI",
          "RI-OHCA",
          "RI-OHCE",
          "RI-OHCH",
          "RI-OHMC",
          "RI-OHNL",
          "RI-OHPH",
          "RI-OIAI",
          "RI-OIDO",
          "RI-OKDA",
          "RI-OLOX",
          "RI-OMLD",
          "RI-OMMC",
          "RI-OMMS",
          "RI-OMNI",
          "RI-OPBI",
          "RI-OPST",
          "RI-ORPH",
          "RI-OSAJ",
          "RI-OSNI",
          "RI-OSPH",
          "RI-OTOM",
          "RI-OTOV",
          "RI-OVRI",
          "RI-OXIP",
          "RI-P3PH",
          "RI-PABI",
          "RI-PAEN",
          "RI-PAOS",
          "RI-PAPA",
          "RI-PARA",
          "RI-PARO",
          "RI-PAXC",
          "RI-PBGD",
          "RI-PCME",
          "RI-PCPH",
          "RI-PCST",
          "RI-PCTI",
          "RI-PDDD",
          "RI-PDPE",
          "RI-PFIV",
          "RI-PFSA",
          "RI-PFSM",
          "RI-PHMC",
          "RI-PHPA",
          "RI-PIGD",
          "RI-PINS",
          "RI-PIPA",
          "RI-PISC",
          "RI-PMAL",
          "RI-PMBB",
          "RI-PMBK",
          "RI-PMBO",
          "RI-PMGL",
          "RI-PMHP",
          "RI-PMIX",
          "RI-PMLG",
          "RI-PMMI",
          "RI-PMNL",
          "RI-PMPA",
          "RI-PMPE",
          "RI-PMPO",
          "RI-PMSA",
          "RI-PMSP",
          "RI-PMTM",
          "RI-PMTO",
          "RI-PMWH",
          "RI-PNUB",
          "RI-POBI",
          "RI-PREW",
          "RI-PRHP",
          "RI-PSAC",
          "RI-PSCM",
          "RI-PSGD",
          "RI-PSLD",
          "RI-PSLG",
          "RI-PSNC",
          "RI-PSPE",
          "RI-PSPH",
          "RI-PSPR",
          "RI-PSPW",
          "RI-PSRX",
          "RI-PSSM",
          "RI-PSUB",
          "RI-PSVT",
          "RI-PTLM",
          "RI-PUCS",
          "RI-PUGM",
          "RI-PUPA",
          "RI-PUPB",
          "RI-PUPC",
          "RI-PUPE",
          "RI-PUPL",
          "RI-PVPH",
          "RI-PWPA",
          "RI-PXAM",
          "RI-PZAM",
          "RI-QNEB",
          "RI-RASR",
          "RI-RBSM",
          "RI-RCME",
          "RI-RENE",
          "RI-RESC",
          "RI-RKIV",
          "RI-RMAH",
          "RI-RPAC",
          "RI-RPAP",
          "RI-RPBI",
          "RI-RPDK",
          "RI-RPLG",
          "RI-RPMS",
          "RI-RPNC",
          "RI-RPNI",
          "RI-RPPE",
          "RI-RPPH",
          "RI-RPPO",
          "RI-RPUB",
          "RI-RPVT",
          "RI-RPVV",
          "RI-RREL",
          "RI-RROC",
          "RI-RRSC",
          "RI-RSNI",
          "RI-RSON",
          "RI-RSPA",
          "RI-RSPH",
          "RI-RSSM",
          "RI-RTMS",
          "RI-RTPA",
          "RI-S3PH",
          "RI-SANW",
          "RI-SASR",
          "RI-SBM3",
          "RI-SBUR",
          "RI-SCDF",
          "RI-SCDI",
          "RI-SCER",
          "RI-SCME",
          "RI-SCPA",
          "RI-SCPH",
          "RI-SCRO",
          "RI-SCST",
          "RI-SCUB",
          "RI-SCUC",
          "RI-SCWN",
          "RI-SDNI",
          "RI-SDRO",
          "RI-SEBB",
          "RI-SEIN",
          "RI-SEJF",
          "RI-SELD",
          "RI-SEMA",
          "RI-SEPH",
          "RI-SETN",
          "RI-SFDI",
          "RI-SFDS",
          "RI-SFOS",
          "RI-SFRO",
          "RI-SGYC",
          "RI-SHCN",
          "RI-SHUB",
          "RI-SIBI",
          "RI-SIEZ",
          "RI-SIGD",
          "RI-SIGS",
          "RI-SIJF",
          "RI-SJAG",
          "RI-SJBO",
          "RI-SKAJ",
          "RI-SKPS",
          "RI-SLOP",
          "RI-SLSC",
          "RI-SLUB",
          "RI-SMCA",
          "RI-SMCC",
          "RI-SMCG",
          "RI-SMCI",
          "RI-SMCM",
          "RI-SMIE",
          "RI-SMIS",
          "RI-SMIV",
          "RI-SMRM",
          "RI-SMRP",
          "RI-SMUB",
          "RI-SMWM",
          "RI-SNDD",
          "RI-SNOC",
          "RI-SNUJ",
          "RI-SNUS",
          "RI-SOCG",
          "RI-SPBI",
          "RI-SPOS",
          "RI-SPSG",
          "RI-SPUB",
          "RI-SPUS",
          "RI-SRSE",
          "RI-SRTP",
          "RI-SSBI",
          "RI-SSCC",
          "RI-SSDA",
          "RI-SSEV",
          "RI-SSFM",
          "RI-SSHR",
          "RI-SSLD",
          "RI-SSNE",
          "RI-SSOF",
          "RI-SSPH",
          "RI-SSPI",
          "RI-SSPR",
          "RI-SSPT",
          "RI-SSTS",
          "RI-SSUH",
          "RI-SSUS",
          "RI-SSYP",
          "RI-STBI",
          "RI-STGC",
          "RI-STKM",
          "RI-STLQ",
          "RI-STNE",
          "RI-STRV",
          "RI-STSI",
          "RI-STYK",
          "RI-SUCP",
          "RI-SUMS",
          "RI-SVBI",
          "RI-SWJF",
          "RI-SWPH",
          "RI-SYEG",
          "RI-SYER",
          "RI-SYTC",
          "RI-SYVA",
          "RI-TBAL",
          "RI-TBFO",
          "RI-TBPS",
          "RI-TBSC",
          "RI-TDBC",
          "RI-TDCA",
          "RI-TDNI",
          "RI-TDPC",
          "RI-TDUB",
          "RI-TELD",
          "RI-TFAH",
          "RI-TFBC",
          "RI-TFHC",
          "RI-TFLC",
          "RI-TFNC",
          "RI-TFPC",
          "RI-TFPH",
          "RI-TFSC",
          "RI-TFTG",
          "RI-TICE",
          "RI-TILD",
          "RI-TIMV",
          "RI-TJBO",
          "RI-TLDM",
          "RI-TLOB",
          "RI-TMPH",
          "RI-TNBU",
          "RI-TNIG",
          "RI-TPHC",
          "RI-TRLD",
          "RI-TROF",
          "RI-TRTI",
          "RI-TSAC",
          "RI-TSAP",
          "RI-TSBC",
          "RI-TSBI",
          "RI-TSBT",
          "RI-TSCB",
          "RI-TSCM",
          "RI-TSHC",
          "RI-TSIE",
          "RI-TSIM",
          "RI-TSLD",
          "RI-TSME",
          "RI-TSNI",
          "RI-TSNQ",
          "RI-TSNS",
          "RI-TSOF",
          "RI-TSPC",
          "RI-TSPH",
          "RI-TSPR",
          "RI-TSRA",
          "RI-TSRC",
          "RI-TSRP",
          "RI-TSRT",
          "RI-TSRV",
          "RI-TSSP",
          "RI-TSSR",
          "RI-TSTH",
          "RI-TSTN",
          "RI-TSUQ",
          "RI-TSVI",
          "RI-TSWS",
          "RI-TSXC",
          "RI-TUAG",
          "RI-UBLA",
          "RI-UCYH",
          "RI-UFER",
          "RI-UHEK",
          "RI-UKRC",
          "RI-UORO",
          "RI-UQSA",
          "RI-URAC",
          "RI-URCS",
          "RI-VDAR",
          "RI-VEPH",
          "RI-VMNS",
          "RI-VSBI",
          "RI-VSPH",
          "RI-VSTH",
          "RI-VTPA",
          "RI-VUPH",
          "RI-WFRO",
          "RI-WHCN",
          "RI-WNAP",
          "RI-WONS",
          "RI-WOSM",
          "RI-WSAC",
          "RI-WSAE",
          "RI-WSAS",
          "RI-WSBI",
          "RI-WSBS",
          "RI-WSBW",
          "RI-WSCM",
          "RI-WSDA",
          "RI-WSDT",
          "RI-WSEB",
          "RI-WSEV",
          "RI-WSFM",
          "RI-WSGA",
          "RI-WSHR",
          "RI-WSHT",
          "RI-WSKT",
          "RI-WSMS",
          "RI-WSMV",
          "RI-WSNO",
          "RI-WSNS",
          "RI-WSOS",
          "RI-WSOZ",
          "RI-WSPH",
          "RI-WSRA",
          "RI-WSRT",
          "RI-WSSR",
          "RI-WSTA",
          "RI-WSTP",
          "RI-WSTZ",
          "RI-WSUA",
          "RI-WSUB",
          "RI-WSUC",
          "RI-WSUN",
          "RI-WSUQ",
          "RI-WSVN",
          "RI-WSXC",
          "RI-WSYS",
          "RI-WWPA",
          "RI-XCLC",
          "RI-XIGD",
          "RI-XLOM",
          "RI-XLOS",
          "RI-XMGK",
          "RI-XNUS",
          "RI-XORX",
          "RI-XPLA",
          "RI-XTCS",
          "RI-XUNS",
          "RI-XUPH",
          "RI-YAPA",
          "RI-YBCV",
          "RI-YLOP",
          "RI-YSUB",
          "RI-YXMS",
          "RI-ZAMA",
          "RI-ZECH",
          "RI-ZFIN",
          "AMD",
          "ASD",
          "ASP",
          "CET",
          "CMS",
          "COB",
          "COH",
          "COR",
          "CPB",
          "DPG",
          "ECM",
          "HME",
          "IDC",
          "LSB",
          "NET",
          "PHW",
          "SBG",
          "SEC",
          "SNS",
          "SWB",
          "WRH",
          "ZDB"
         ],
         "marker": {
          "coloraxis": "coloraxis",
          "colors": [
           106473998.07000001,
           87115089.33000001,
           38717817.480000004,
           285543903.915,
           232306904.88000003,
           72595907.775,
           227875501.58000004,
           106473998.07000001,
           261345267.99000004,
           5449804603.39,
           106473998.07000001,
           217178035.11,
           72595907.775,
           296258842.595,
           203268541.77,
           4839727.1850000005,
           203268541.77,
           196060219.97000003,
           18687211.43,
           212947996.14000002,
           304902812.65500003,
           62916453.40500001,
           135512361.18,
           1026966696.22,
           304902812.65500003,
           118535508.44000001,
           923799338.1600001,
           24198635.92500001,
           226611270.34,
           91947150.055,
           111313725.25500003,
           3288310265.2699995,
           4839727.1850000005,
           125832906.81000002,
           67756180.59,
           58076726.220000006,
           282613854.01500005,
           45030302.19500001,
           58076726.220000006,
           1832701491.62,
           298838125.56000006,
           1405921567.55,
           15181750.48999999,
           9679454.370000001,
           19358908.740000002,
           106473998.07000001,
           9679454.370000001,
           24198635.92500001,
           4839727.1850000005,
           14519181.555000002,
           261345267.99000004,
           227467177.695,
           62916453.40500001,
           116153452.44000001,
           53236999.035000004,
           77435634.96000001,
           38717817.480000004,
           1660107296.975,
           1427221423.91,
           20458802023.82,
           2080120409.7699997,
           62916453.40500001,
           290493383.76000005,
           553920681.865,
           285543903.915,
           3136636086.42,
           62916453.40500001,
           275864449.545,
           246826086.43500003,
           91954816.51500002,
           101634270.885,
           251665813.62000003,
           208108268.955,
           290383631.1,
           295223358.285,
           66000620.810000025,
           648710925.6850001,
           167989234.31,
           19358908.740000002,
           261345267.99000004,
           87115089.33000001,
           227467177.695,
           87115089.33000001,
           96169962.61,
           5965797056.61,
           87115089.33000001,
           296434096.03000003,
           48905986.455000006,
           262493294.73000002,
           7227455937.11,
           106473998.07000001,
           144306564.75500003,
           14519181.555000002,
           53236999.035000004,
           229990678.53000003,
           38717817.480000004,
           291146181.55,
           140819509.84,
           102759277.72500002,
           148226370.81,
           245820798.24500006,
           30413636982.84,
           217393852.925,
           87115089.33000001,
           7201686227.88,
           2224680899.605,
           221494292.63,
           58076726.220000006,
           38717817.480000004,
           38717817.480000004,
           53236999.035000004,
           351671426.04,
           2864735801.46,
           1878940671.605,
           91954816.51500002,
           43557544.66500001,
           6968809606,
           154871269.92000002,
           497685153.07,
           38717817.480000004,
           241947253.09000003,
           147836574.13000003,
           44200359.14,
           1279185815.025,
           304902812.65500003,
           3268041364.12,
           6903099931.3,
           143200904.63,
           913094989.58,
           106473998.07000001,
           300007865.72,
           114027109.61500001,
           66380532.73500001,
           202551685.94499996,
           49400452.81,
           79548021.69500001,
           212947996.14000002,
           8213018752.98,
           149172943.82500002,
           395831486.13,
           105606506.80499999,
           2159139450.585,
           121476406.53500001,
           4839727.1850000005,
           232306904.88000003,
           251665813.62000003,
           33878090.295,
           91954816.51500002,
           4839727.1850000005,
           261345267.99000004,
           24198635.92500001,
           4839727.1850000005,
           290383631.1,
           255574981.70999998,
           205794286.89000002,
           67756180.59,
           68709663.865,
           9679454.370000001,
           83085968.86500001,
           59040809.160000004,
           125273050.01,
           188756716.175,
           304902812.65500003,
           120993179.62500001,
           304902812.65500003,
           67756180.59,
           157202650.64,
           271189540.41,
           300063085.47,
           293044652.85,
           72595907.775,
           101634270.885,
           1837229306.54,
           9679454.370000001,
           135512361.18,
           19358908.740000002,
           285543903.915,
           9679454.370000001,
           238790178.845,
           145056422.99,
           28544.9,
           4839727.1850000005,
           300852929.93,
           266663263.97500002,
           88097886.13,
           576781035.805,
           15369339.415000001,
           1396865715.145,
           457648457.58000004,
           304902812.65500003,
           19358908.740000002,
           53236999.035000004,
           24198635.92500001,
           106473998.07000001,
           19358908.740000002,
           304902812.65500003,
           2078888387.625,
           281146467.62,
           79819000.75,
           1022315767.64,
           61022211.290000014,
           70196072.99000001,
           87485131.18,
           116153452.44000001,
           593836464.215,
           4417419885.98,
           116153452.44000001,
           101848811.14500001,
           116729310.04,
           116153452.44000001,
           99033077.83000001,
           101699261.165,
           111308022.62500001,
           116918984.38500002,
           116153452.44000001,
           101634270.885,
           3554731127.88,
           239428226.05,
           53853753.4,
           111313725.25500003,
           208771220.595,
           134850318.43,
           456487297.72,
           169219441.75,
           93441356.75500001,
           112390262.035,
           822621940.98,
           499272179.32,
           246826086.43500003,
           43557544.66500001,
           9679454.370000001,
           9679454.370000001,
           82275362.14500001,
           9679454.370000001,
           304902812.65500003,
           241986359.25000003,
           40714219.04,
           241992428.18,
           274215093.33500004,
           188886144.46,
           30289150.46,
           153990980.59000003,
           48397271.85000002,
           8549719.64,
           24198635.92500001,
           63670075.235,
           106516318.15,
           1333618948.51,
           588737354.865,
           198484037.575,
           290570737.62,
           250490934.20500004,
           2419355615.43,
           237146632.06500003,
           4839727.1850000005,
           903729851.525,
           87115089.33000001,
           227250567.48000002,
           181108.94999999998,
           337283411.68,
           24198635.92500001,
           292529797.19500005,
           653809225.69,
           141878411.455,
           245283537.61,
           531268974.565,
           266184995.17500004,
           193589087.40000007,
           192103628.51499996,
           193589087.40000007,
           95921576.125,
           152183610.35500002,
           241981822.55,
           127108711.35500002,
           232452932.57500002,
           38810202.160000004,
           174978793.58,
           198428814.585,
           193589087.40000007,
           193589087.40000007,
           232855200.02,
           193589087.40000007,
           304902812.65500003,
           232874674.97000003,
           193589087.40000007,
           4839727.1850000005,
           261345267.99000004,
           87115089.33000001,
           41120960.205,
           193589087.40000007,
           72595907.775,
           87115089.33000001,
           258446957.72500002,
           201230350.75,
           3245424657.375,
           1586577334.565,
           108305172.26,
           43557544.66500001,
           304902812.65500003,
           304902812.65500003,
           256505540.80500004,
           18499212.630000003,
           285545685.035,
           216598654.91500002,
           9679454.370000001,
           242324526.32500002,
           4839727.1850000005,
           304902812.65500003,
           854843865.995,
           15673409.73,
           304902812.65500003,
           58076726.220000006,
           101370293.76500003,
           58076726.220000006,
           274606623.64000005,
           58076726.220000006,
           295090739.365,
           43557544.66500001,
           149980790.525,
           263588203.26000002,
           1371108899.69,
           29038363.110000003,
           24198635.92500001,
           551589571.24,
           38717817.480000004,
           271024722.36,
           31744577.405,
           480677937.72,
           183829477.39000005,
           255234746.67500004,
           846341719.4249998,
           295223358.285,
           19358908.740000002,
           3577365300.74,
           106473998.07000001,
           266184995.17500004,
           257181819.715,
           141263900.95000002,
           188873458.71500003,
           4839727.1850000005,
           87115089.33000001,
           616332545.585,
           2497370620.745,
           1134594951.9,
           270645812.24,
           62916453.40500001,
           41016717.95,
           92541787.10000001,
           87115089.33000001,
           304902812.65500003,
           40096086.10000001,
           227467177.695,
           19358908.740000002,
           235756530.73000002,
           4862416.275,
           101956285.26500002,
           18931787.77000002,
           19358908.740000002,
           77435634.96000001,
           970931666.785,
           4859694.515000001,
           1046501296.9899999,
           266184995.17500004,
           33878090.295,
           193589087.40000007,
           64526171.785000004,
           2174771861.57,
           87115089.33000001,
           120993179.62500001,
           680715139.51,
           49700.81,
           14640.82,
           91954816.51500002,
           239235479.98,
           38717817.480000004,
           295223358.285,
           371421280.555,
           198428814.585,
           96794543.70000003,
           290383631.1,
           962583936.535,
           19358908.740000002,
           12342.29,
           241986359.25000003,
           87115089.33000001,
           1948082304.24,
           6078704141.405001,
           427941008.52500004,
           4839727.1850000005,
           38717817.480000004,
           140352088.365,
           3030226273.56,
           2280886766.12,
           142603548.32000002,
           283716534.46500003,
           1732236456.715,
           281152148.87500006,
           87115089.33000001,
           37432626.77,
           785354744.805,
           173262758.72,
           58076726.220000006,
           560413815.8000001,
           798474167.89,
           881829657.3100002,
           273998040.46000004,
           297418435.77500004,
           183909633.03000003,
           38717817.480000004,
           400042797.15,
           994095499.915,
           24198635.92500001,
           297703863.14000005,
           38717817.480000004,
           81678972.69500001,
           183909633.03000003,
           169390451.47500002,
           280704176.73,
           46180102.96,
           9679454.370000001,
           261381925.02000004,
           16283509.045000004,
           87115089.33000001,
           266184995.17500004,
           289501820.8,
           237146632.06500003,
           87115089.33000001,
           87115089.33000001,
           266184995.17500004,
           295223358.285,
           2044127379.6750002,
           96794543.70000003,
           87115089.33000001,
           60839359318.14,
           4839727.1850000005,
           440200630.62,
           279179240.805,
           290383631.1,
           125832906.81000002,
           72595907.775,
           271024722.36,
           304902812.65500003,
           289135406.67,
           53236999.035000004,
           320479331.38,
           831022614.84,
           3025819018.35,
           24198635.92500001,
           275864449.545,
           8347353423.41,
           290383631.1,
           9679454.370000001,
           9673873536.05,
           125836335.30000001,
           47012256.87500001,
           29038363.110000003,
           5158665009.6,
           304902812.65500003,
           4839727.1850000005,
           2901616619.7200003,
           4839727.1850000005,
           304902812.65500003,
           245561199.64000002,
           42203068.615,
           43557544.66500001,
           1573640465.77,
           263674014.875,
           700580095.095,
           14519181.555000002,
           9679454.370000001,
           403548115.09000003,
           154871269.92000002,
           1028415333.6149999,
           290918669.69000006,
           1744163738.08,
           60962947.465,
           1675473485.61,
           101634270.885,
           4897360.775,
           322087605.965,
           13948609,
           752492766.59,
           200246477.63000005,
           48397271.85000002,
           285543903.915,
           290383631.1,
           101634270.885,
           1572051808.3,
           12230606428.55,
           59191142.830000006,
           261345267.99000004,
           4839727.1850000005,
           135000419.78,
           1674037793.92,
           4839727.1850000005,
           4405264530.83,
           4839727.1850000005,
           271766318.675,
           33878090.295,
           24198635.92500001,
           241986359.25000003,
           942671224.4100001,
           651160388.85,
           203268541.77,
           268929625.37,
           622970785.2099999,
           241986359.25000003,
           113012834.12,
           373580728.74,
           120993179.62500001,
           245952605.07000002,
           1246552695.26,
           237797827.00500003,
           288199901.69,
           52467563.29499999,
           43557544.66500001,
           304902812.65500003,
           274431446.84,
           290201880.23,
           13347658072.55,
           248591218.815,
           271024722.36,
           314557379.37,
           77435634.96000001,
           5232685231.42,
           55064627.54,
           61794527.805000044,
           333849639.58,
           30399689.880000003,
           744540383.06,
           87115089.33000001,
           75666055.04,
           72595907.775,
           101634270.885,
           261345267.99000004,
           77435634.96000001,
           340992647.62500006,
           67756180.59,
           62916453.40500001,
           279999584.295,
           28599840.17,
           91954816.51500002,
           154594.21499999892,
           126607168.97000001,
           89281107.23500001,
           285543903.915,
           130672633.99500002,
           460727628.25,
           232032137.67000002,
           20086567.995,
           129823966.99999999,
           1966792655.2,
           169405950.38500002,
           193589087.40000007,
           23962637.685000002,
           246826086.43500003,
           231029077.76500002,
           217787723.32500002,
           397454299.285,
           285607457.815,
           101634270.885,
           153214562.66,
           58076726.220000006,
           43059690.114999995,
           1643558018.435,
           196025360.645,
           19358908.740000002,
           159710997.10500002,
           4840873.1450000005,
           150129476.995,
           99059560.25,
           29067628.54000001,
           135512361.18,
           371840301.985,
           182210592.5,
           53236999.035000004,
           163899866.525,
           457189131.76,
           130672633.99500002,
           27685143.110000003,
           180019203.20000002,
           134666013.32000002,
           9679454.370000001,
           4839727.1850000005,
           304902812.65500003,
           694870035.635,
           105021025.43,
           53157320.33999999,
           230969324.98000002,
           179070037.675,
           67756180.59,
           72595907.775,
           132653804.83500001,
           759647877.3799999,
           99999534.29500002,
           130233396.4,
           26955855.055,
           276044759.725,
           140245524.31,
           268138530.03000003,
           3717425485.155,
           199059591.66500002,
           185669985.405,
           286473255.045,
           120510448.82500002,
           4839727.1850000005,
           4872935.885000001,
           78663.95,
           1023156811.82,
           1888382969.3750002,
           764175063.91,
           33878090.295,
           240109272.32,
           261345267.99000004,
           142496661.195,
           96794543.70000003,
           1125860987.535,
           4000697985.4700007,
           463591344.485,
           246767253.755,
           138935834.245,
           854785359.18,
           202689769.82499996,
           19358908.740000002,
           38717817.480000004,
           24198635.92500001,
           18748224.42,
           33878090.295,
           72595907.775,
           2025926.49,
           261345267.99000004,
           168620817.50500003,
           106473998.07000001,
           207869341.995,
           91954816.51500002,
           4466198869.96,
           116153452.44000001,
           358693428.76,
           956588331.915,
           4050136772.2200003,
           1303372813.92,
           38717817.480000004,
           82159340.035,
           336732997.01,
           96489965.315,
           127873186.38000001,
           201672625.85000002,
           1066110522.86,
           457433506.21999997,
           145191815.55,
           38717817.480000004,
           271057895.98,
           1175456927.78,
           5643506926.55,
           207280642.66999996,
           208301813.835,
           145191815.55,
           290901673.675,
           58076726.220000006,
           346587577.47,
           142835191.48000002,
           1435815812.9299998,
           79416445.00999999,
           2181203699.89,
           3370602266.0949993,
           65558218.980000004,
           67756180.59,
           48062537.79,
           128470505.61000001,
           33322104.404999997,
           9679454.370000001,
           225175338.15000004,
           285557286.76500005,
           87115089.33000001,
           382757541.94,
           295223358.285,
           24198635.92500001,
           58076726.220000006,
           43557544.66500001,
           19358908.740000002,
           72595907.775,
           4839727.1850000005,
           62916453.40500001,
           239380441.14,
           869529947.81,
           127325627.195,
           132196073.11500001,
           447683312.14000005,
           441284975.07,
           5090770021.08,
           193589087.40000007,
           428844321.33,
           285543903.915,
           19358908.740000002,
           178031302.655,
           4110357880.21,
           62916453.40500001,
           9679454.370000001,
           1422006921.01,
           295223358.285,
           174793875.9,
           62916453.40500001,
           473284691.56000006,
           164108840.59,
           58076726.220000006,
           939344170.39,
           87115089.33000001,
           87115089.33000001,
           106473998.07000001,
           2391515675.09,
           43557544.66500001,
           778268590.4849999,
           58076726.220000006,
           719813.06,
           120982777.11,
           86039079.805,
           1696986833.48,
           19358908.740000002,
           235304931.35000002,
           632327754.09,
           33878090.295,
           174230178.66000003,
           304902812.65500003,
           198700504.34500003,
           247957215.31500006,
           294999659.51,
           275126397.70000005,
           396764303.05500007,
           354860344.185,
           2592950205.79,
           193589087.40000007,
           279476686.045,
           208134779.575,
           194240223.145,
           19358908.740000002,
           101634270.885,
           4839727.1850000005,
           111323709.96000002,
           33878090.295,
           4166639150.4,
           295223358.285,
           266184995.17500004,
           75015613.96000001,
           975219138.64,
           304902812.65500003,
           246826086.43500003,
           890986345.115,
           38717817.480000004,
           186267021.115,
           3824067096.0747976,
           20927260528.16809,
           59767430213.48082,
           3039842513.6237416,
           1182950372.3511913,
           4264766328.654486,
           48397271.85000002,
           161537309.25028306,
           11130843524.03766,
           8988641563.684067,
           8396073.151778053,
           306604247.62890726,
           2633553637.0611296,
           4926100748.512204,
           2526772111.1136136,
           6173022212.925692,
           1378237163.3667147,
           2279683496.582845,
           2050660322.6215177,
           1723269310.4627173,
           237276557.62701344,
           196118217.0756455
          ]
         },
         "name": "",
         "parents": [
          "CPB",
          "AMD",
          "COB",
          "CPB",
          "WRH",
          "CET",
          "CET",
          "CPB",
          "CPB",
          "CPB",
          "AMD",
          "NET",
          "AMD",
          "ASD",
          "SNS",
          "NET",
          "DPG",
          "NET",
          "SBG",
          "CET",
          "PHW",
          "COR",
          "PHW",
          "AMD",
          "SNS",
          "SBG",
          "SNS",
          "SBG",
          "NET",
          "AMD",
          "COB",
          "IDC",
          "NET",
          "PHW",
          "COB",
          "COB",
          "SWB",
          "NET",
          "COB",
          "SWB",
          "DPG",
          "PHW",
          "NET",
          "PHW",
          "PHW",
          "AMD",
          "ZDB",
          "PHW",
          "PHW",
          "PHW",
          "AMD",
          "AMD",
          "COB",
          "COB",
          "COB",
          "COB",
          "COB",
          "CPB",
          "CPB",
          "CPB",
          "CPB",
          "COB",
          "PHW",
          "COB",
          "CPB",
          "CPB",
          "COB",
          "CPB",
          "CPB",
          "AMD",
          "CPB",
          "CPB",
          "CPB",
          "SNS",
          "COB",
          "SWB",
          "PHW",
          "DPG",
          "PHW",
          "ASD",
          "AMD",
          "ASD",
          "CPB",
          "SBG",
          "ASD",
          "AMD",
          "DPG",
          "CET",
          "SNS",
          "LSB",
          "SBG",
          "NET",
          "ECM",
          "NET",
          "PHW",
          "ZDB",
          "SWB",
          "NET",
          "NET",
          "CET",
          "IDC",
          "ASD",
          "ASD",
          "CPB",
          "COB",
          "COB",
          "CET",
          "COB",
          "COB",
          "COB",
          "COB",
          "COB",
          "CPB",
          "COB",
          "CPB",
          "COB",
          "COB",
          "COB",
          "COB",
          "COB",
          "NET",
          "NET",
          "COB",
          "CMS",
          "AMD",
          "NET",
          "CET",
          "CET",
          "COB",
          "CPB",
          "NET",
          "NET",
          "DPG",
          "DPG",
          "DPG",
          "DPG",
          "DPG",
          "ASD",
          "CMS",
          "SNS",
          "IDC",
          "COB",
          "IDC",
          "PHW",
          "NET",
          "PHW",
          "PHW",
          "SWB",
          "PHW",
          "PHW",
          "PHW",
          "PHW",
          "PHW",
          "SWB",
          "PHW",
          "CMS",
          "CMS",
          "ZDB",
          "CMS",
          "CMS",
          "PHW",
          "PHW",
          "PHW",
          "ASD",
          "ZDB",
          "CMS",
          "SWB",
          "ZDB",
          "ASD",
          "SEC",
          "AMD",
          "CMS",
          "LSB",
          "ZDB",
          "SNS",
          "PHW",
          "SNS",
          "ZDB",
          "SWB",
          "SWB",
          "ECM",
          "PHW",
          "DPG",
          "SWB",
          "SBG",
          "SWB",
          "NET",
          "PHW",
          "PHW",
          "CET",
          "PHW",
          "CPB",
          "PHW",
          "CPB",
          "PHW",
          "PHW",
          "DPG",
          "COB",
          "SEC",
          "IDC",
          "SEC",
          "SEC",
          "SEC",
          "SEC",
          "IDC",
          "SNS",
          "SEC",
          "SEC",
          "SEC",
          "SEC",
          "SEC",
          "SWB",
          "SEC",
          "SEC",
          "SEC",
          "SEC",
          "LSB",
          "HME",
          "AMD",
          "SBG",
          "SNS",
          "IDC",
          "SNS",
          "SNS",
          "SNS",
          "SNS",
          "SNS",
          "SNS",
          "NET",
          "ZDB",
          "ZDB",
          "ZDB",
          "ZDB",
          "ZDB",
          "ZDB",
          "WRH",
          "SEC",
          "SEC",
          "SBG",
          "HME",
          "SBG",
          "IDC",
          "NET",
          "NET",
          "PHW",
          "SNS",
          "AMD",
          "NET",
          "SWB",
          "SBG",
          "DPG",
          "SNS",
          "PHW",
          "SNS",
          "NET",
          "NET",
          "CPB",
          "SBG",
          "ECM",
          "SWB",
          "SBG",
          "SBG",
          "SWB",
          "NET",
          "NET",
          "LSB",
          "AMD",
          "CET",
          "CET",
          "CET",
          "SWB",
          "CET",
          "CET",
          "CET",
          "CET",
          "CET",
          "CET",
          "CET",
          "CET",
          "CET",
          "CET",
          "CET",
          "CET",
          "CET",
          "CET",
          "WRH",
          "IDC",
          "AMD",
          "SNS",
          "NET",
          "PHW",
          "CPB",
          "NET",
          "SWB",
          "SNS",
          "PHW",
          "CET",
          "ZDB",
          "SBG",
          "PHW",
          "NET",
          "COB",
          "CET",
          "NET",
          "AMD",
          "NET",
          "PHW",
          "COB",
          "DPG",
          "PHW",
          "HME",
          "SNS",
          "NET",
          "SWB",
          "SNS",
          "NET",
          "NET",
          "NET",
          "NET",
          "SWB",
          "SEC",
          "PHW",
          "PHW",
          "SNS",
          "NET",
          "AMD",
          "SBG",
          "HME",
          "HME",
          "NET",
          "COB",
          "COB",
          "PHW",
          "SNS",
          "CPB",
          "CET",
          "CET",
          "NET",
          "SBG",
          "SNS",
          "CPB",
          "SBG",
          "SBG",
          "SWB",
          "NET",
          "NET",
          "HME",
          "SEC",
          "CPB",
          "PHW",
          "AMD",
          "PHW",
          "PHW",
          "HME",
          "ECM",
          "NET",
          "AMD",
          "PHW",
          "COB",
          "PHW",
          "ECM",
          "NET",
          "AMD",
          "ZDB",
          "COR",
          "PHW",
          "NET",
          "AMD",
          "SEC",
          "NET",
          "ECM",
          "ECM",
          "AMD",
          "SEC",
          "COB",
          "CPB",
          "HME",
          "COB",
          "CPB",
          "CPB",
          "CPB",
          "PHW",
          "ECM",
          "WRH",
          "ASD",
          "IDC",
          "COB",
          "AMD",
          "PHW",
          "COB",
          "SNS",
          "SNS",
          "SBG",
          "SBG",
          "SNS",
          "AMD",
          "AMD",
          "AMD",
          "SBG",
          "DPG",
          "SWB",
          "SWB",
          "SEC",
          "ASP",
          "NET",
          "SWB",
          "SEC",
          "ZDB",
          "SNS",
          "COB",
          "COB",
          "PHW",
          "DPG",
          "NET",
          "PHW",
          "AMD",
          "CET",
          "CPB",
          "ASD",
          "ZDB",
          "CET",
          "ASD",
          "NET",
          "AMD",
          "AMD",
          "AMD",
          "ASD",
          "AMD",
          "AMD",
          "AMD",
          "AMD",
          "AMD",
          "AMD",
          "ASP",
          "PHW",
          "AMD",
          "AMD",
          "AMD",
          "AMD",
          "AMD",
          "AMD",
          "NET",
          "SWB",
          "COB",
          "HME",
          "PHW",
          "CET",
          "PHW",
          "AMD",
          "AMD",
          "PHW",
          "PHW",
          "PHW",
          "PHW",
          "PHW",
          "PHW",
          "COB",
          "ASP",
          "PHW",
          "COB",
          "SNS",
          "SNS",
          "SNS",
          "SNS",
          "SNS",
          "SNS",
          "SNS",
          "COB",
          "SNS",
          "ZDB",
          "CET",
          "SNS",
          "SEC",
          "PHW",
          "IDC",
          "SBG",
          "NET",
          "SBG",
          "ECM",
          "PHW",
          "DPG",
          "IDC",
          "PHW",
          "COH",
          "PHW",
          "PHW",
          "SWB",
          "PHW",
          "PHW",
          "PHW",
          "PHW",
          "PHW",
          "SNS",
          "SBG",
          "SBG",
          "NET",
          "PHW",
          "NET",
          "ZDB",
          "ZDB",
          "SEC",
          "PHW",
          "SNS",
          "DPG",
          "PHW",
          "SNS",
          "SWB",
          "SWB",
          "CET",
          "CET",
          "SBG",
          "IDC",
          "SNS",
          "SNS",
          "CET",
          "COB",
          "CPB",
          "NET",
          "NET",
          "DPG",
          "SWB",
          "AMD",
          "SNS",
          "SNS",
          "IDC",
          "LSB",
          "SNS",
          "SNS",
          "CET",
          "PHW",
          "SEC",
          "SWB",
          "SEC",
          "DPG",
          "SNS",
          "SWB",
          "DPG",
          "SWB",
          "SWB",
          "SNS",
          "SEC",
          "DPG",
          "SBG",
          "SWB",
          "NET",
          "NET",
          "LSB",
          "CMS",
          "CET",
          "CMS",
          "CMS",
          "CMS",
          "SEC",
          "CET",
          "SBG",
          "COB",
          "ASD",
          "CMS",
          "CMS",
          "SNS",
          "SBG",
          "NET",
          "SWB",
          "COB",
          "SWB",
          "SEC",
          "PHW",
          "PHW",
          "ECM",
          "SWB",
          "SWB",
          "SWB",
          "NET",
          "LSB",
          "SWB",
          "SWB",
          "SWB",
          "IDC",
          "SWB",
          "SEC",
          "SWB",
          "SWB",
          "PHW",
          "NET",
          "SEC",
          "SNS",
          "SWB",
          "NET",
          "CET",
          "ZDB",
          "CET",
          "CET",
          "SWB",
          "SWB",
          "SWB",
          "CET",
          "SEC",
          "HME",
          "IDC",
          "COB",
          "COB",
          "SBG",
          "SBG",
          "NET",
          "NET",
          "PHW",
          "ECM",
          "ECM",
          "NET",
          "NET",
          "COB",
          "ZDB",
          "NET",
          "DPG",
          "IDC",
          "SNS",
          "NET",
          "NET",
          "NET",
          "NET",
          "NET",
          "SNS",
          "NET",
          "PHW",
          "NET",
          "PHW",
          "SBG",
          "ZDB",
          "COB",
          "AMD",
          "CPB",
          "NET",
          "SBG",
          "SEC",
          "AMD",
          "SEC",
          "CPB",
          "NET",
          "SEC",
          "NET",
          "SWB",
          "COB",
          "SEC",
          "SEC",
          "SEC",
          "SEC",
          "NET",
          "IDC",
          "IDC",
          "SEC",
          "SNS",
          "SWB",
          "SEC",
          "NET",
          "SNS",
          "ZDB",
          "SEC",
          "NET",
          "SWB",
          "SEC",
          "SWB",
          "SNS",
          "SEC",
          "SNS",
          "SNS",
          "SEC",
          "SNS",
          "SEC",
          "SEC",
          "SBG",
          "ZDB",
          "SNS",
          "SBG",
          "SBG",
          "NET",
          "SWB",
          "SBG",
          "SNS",
          "SEC",
          "PHW",
          "SNS",
          "PHW",
          "SWB",
          "SNS",
          "SNS",
          "ASD",
          "SNS",
          "SWB",
          "SNS",
          "SEC",
          "CET",
          "PHW",
          "SEC",
          "PHW",
          "SWB",
          "SWB",
          "SWB",
          "SWB",
          "SEC",
          "CET",
          "SWB",
          "SWB",
          "SWB",
          "SWB",
          "SWB",
          "SWB",
          "AMD",
          "CPB",
          "SWB",
          "SWB",
          "SWB",
          "SWB",
          "SWB",
          "SWB",
          "SWB",
          "SEC",
          "SEC",
          "PHW",
          "SWB",
          "SWB",
          "ZDB",
          "CET",
          "SWB",
          "SEC",
          "LSB",
          "SEC",
          "SWB",
          "SEC",
          "SEC",
          "ASD",
          "CET",
          "SWB",
          "NET",
          "SBG",
          "PHW",
          "SWB",
          "PHW",
          "SBG",
          "ZDB",
          "SWB",
          "SNS",
          "ASD",
          "SWB",
          "NET",
          "SEC",
          "HME",
          "CET",
          "COB",
          "SNS",
          "",
          "",
          "",
          "",
          "",
          "",
          "",
          "",
          "",
          "",
          "",
          "",
          "",
          "",
          "",
          "",
          "",
          "",
          "",
          "",
          "",
          ""
         ],
         "type": "sunburst",
         "values": [
          106473998.07000001,
          87115089.33000001,
          38717817.480000004,
          285543903.915,
          232306904.88000003,
          72595907.775,
          227875501.58,
          106473998.07000001,
          261345267.99000004,
          5449804603.39,
          106473998.07000001,
          217178035.11,
          72595907.775,
          296258842.595,
          203268541.77,
          4839727.1850000005,
          203268541.77,
          196060219.97000003,
          18687211.43,
          212947996.14000002,
          304902812.65500003,
          62916453.40500001,
          135512361.18,
          1026966696.22,
          304902812.65500003,
          118535508.44000001,
          923799338.1600001,
          24198635.925000004,
          226611270.34,
          91947150.055,
          111313725.25500001,
          3288310265.27,
          4839727.1850000005,
          125832906.81000002,
          67756180.59,
          58076726.220000006,
          282613854.01500005,
          45030302.19500001,
          58076726.220000006,
          1832701491.62,
          298838125.56000006,
          1405921567.55,
          15181750.48999999,
          9679454.370000001,
          19358908.740000002,
          106473998.07000001,
          9679454.370000001,
          24198635.925000004,
          4839727.1850000005,
          14519181.555000002,
          261345267.99000004,
          227467177.69500002,
          62916453.40500001,
          116153452.44000001,
          53236999.035000004,
          77435634.96000001,
          38717817.480000004,
          1660107296.975,
          1427221423.91,
          20458802023.82,
          2080120409.77,
          62916453.40500001,
          290493383.76000005,
          553920681.865,
          285543903.915,
          3136636086.42,
          62916453.40500001,
          275864449.545,
          246826086.43500003,
          91954816.51500002,
          101634270.885,
          251665813.62000003,
          208108268.955,
          290383631.1,
          295223358.285,
          66000620.810000025,
          648710925.6850001,
          167989234.31,
          19358908.740000002,
          261345267.99000004,
          87115089.33000001,
          227467177.69500002,
          87115089.33000001,
          96169962.61000001,
          5965797056.61,
          87115089.33000001,
          296434096.03000003,
          48905986.455000006,
          262493294.73000002,
          7227455937.11,
          106473998.07000001,
          144306564.75500003,
          14519181.555000002,
          53236999.035000004,
          229990678.53000003,
          38717817.480000004,
          291146181.55,
          140819509.84,
          102759277.72500001,
          148226370.81,
          245820798.24500003,
          30413636982.84,
          217393852.925,
          87115089.33000001,
          7201686227.88,
          2224680899.605,
          221494292.63,
          58076726.220000006,
          38717817.480000004,
          38717817.480000004,
          53236999.035000004,
          351671426.04,
          2864735801.46,
          1878940671.605,
          91954816.51500002,
          43557544.66500001,
          6968809606,
          154871269.92000002,
          497685153.07,
          38717817.480000004,
          241947253.09000003,
          147836574.13000003,
          44200359.14,
          1279185815.025,
          304902812.65500003,
          3268041364.12,
          6903099931.3,
          143200904.63,
          913094989.58,
          106473998.07000001,
          300007865.72,
          114027109.61500001,
          66380532.73500001,
          202551685.945,
          49400452.81,
          79548021.69500001,
          212947996.14000002,
          8213018752.98,
          149172943.82500002,
          395831486.13,
          105606506.805,
          2159139450.585,
          121476406.53500001,
          4839727.1850000005,
          232306904.88000003,
          251665813.62000003,
          33878090.295,
          91954816.51500002,
          4839727.1850000005,
          261345267.99000004,
          24198635.925000004,
          4839727.1850000005,
          290383631.1,
          255574981.70999998,
          205794286.89000002,
          67756180.59,
          68709663.865,
          9679454.370000001,
          83085968.86500001,
          59040809.160000004,
          125273050.01,
          188756716.175,
          304902812.65500003,
          120993179.62500001,
          304902812.65500003,
          67756180.59,
          157202650.64,
          271189540.41,
          300063085.47,
          293044652.85,
          72595907.775,
          101634270.885,
          1837229306.54,
          9679454.370000001,
          135512361.18,
          19358908.740000002,
          285543903.915,
          9679454.370000001,
          238790178.845,
          145056422.99,
          28544.9,
          4839727.1850000005,
          300852929.93,
          266663263.97500002,
          88097886.13,
          576781035.805,
          15369339.415000001,
          1396865715.145,
          457648457.58000004,
          304902812.65500003,
          19358908.740000002,
          53236999.035000004,
          24198635.925000004,
          106473998.07000001,
          19358908.740000002,
          304902812.65500003,
          2078888387.625,
          281146467.62,
          79819000.75,
          1022315767.64,
          61022211.29000001,
          70196072.99000001,
          87485131.18,
          116153452.44000001,
          593836464.215,
          4417419885.98,
          116153452.44000001,
          101848811.14500001,
          116729310.04,
          116153452.44000001,
          99033077.83000001,
          101699261.165,
          111308022.62500001,
          116918984.385,
          116153452.44000001,
          101634270.885,
          3554731127.88,
          239428226.05,
          53853753.4,
          111313725.25500001,
          208771220.595,
          134850318.43,
          456487297.71999997,
          169219441.75,
          93441356.75500001,
          112390262.03500001,
          822621940.98,
          499272179.32,
          246826086.43500003,
          43557544.66500001,
          9679454.370000001,
          9679454.370000001,
          82275362.14500001,
          9679454.370000001,
          304902812.65500003,
          241986359.25000003,
          40714219.04,
          241992428.18000004,
          274215093.33500004,
          188886144.46,
          30289150.46,
          153990980.59000003,
          48397271.85000001,
          8549719.64,
          24198635.925000004,
          63670075.235,
          106516318.15,
          1333618948.51,
          588737354.865,
          198484037.57500002,
          290570737.62,
          250490934.20500004,
          2419355615.43,
          237146632.06500003,
          4839727.1850000005,
          903729851.525,
          87115089.33000001,
          227250567.48000002,
          181108.94999999998,
          337283411.68,
          24198635.925000004,
          292529797.19500005,
          653809225.69,
          141878411.455,
          245283537.61,
          531268974.565,
          266184995.17500004,
          193589087.40000004,
          192103628.515,
          193589087.40000004,
          95921576.12500001,
          152183610.35500002,
          241981822.55,
          127108711.35500002,
          232452932.57500002,
          38810202.160000004,
          174978793.58,
          198428814.585,
          193589087.40000004,
          193589087.40000004,
          232855200.02,
          193589087.40000004,
          304902812.65500003,
          232874674.97000003,
          193589087.40000004,
          4839727.1850000005,
          261345267.99000004,
          87115089.33000001,
          41120960.205,
          193589087.40000004,
          72595907.775,
          87115089.33000001,
          258446957.72500002,
          201230350.75,
          3245424657.375,
          1586577334.565,
          108305172.26,
          43557544.66500001,
          304902812.65500003,
          304902812.65500003,
          256505540.80500004,
          18499212.630000003,
          285545685.035,
          216598654.91500002,
          9679454.370000001,
          242324526.32500002,
          4839727.1850000005,
          304902812.65500003,
          854843865.995,
          15673409.73,
          304902812.65500003,
          58076726.220000006,
          101370293.76500002,
          58076726.220000006,
          274606623.64000005,
          58076726.220000006,
          295090739.365,
          43557544.66500001,
          149980790.525,
          263588203.26000002,
          1371108899.69,
          29038363.110000003,
          24198635.925000004,
          551589571.24,
          38717817.480000004,
          271024722.36,
          31744577.405,
          480677937.72,
          183829477.39000005,
          255234746.67500004,
          846341719.425,
          295223358.285,
          19358908.740000002,
          3577365300.74,
          106473998.07000001,
          266184995.17500004,
          257181819.71500003,
          141263900.95000002,
          188873458.71500003,
          4839727.1850000005,
          87115089.33000001,
          616332545.585,
          2497370620.745,
          1134594951.9,
          270645812.24,
          62916453.40500001,
          41016717.95,
          92541787.10000001,
          87115089.33000001,
          304902812.65500003,
          40096086.10000001,
          227467177.69500002,
          19358908.740000002,
          235756530.73000002,
          4862416.275,
          101956285.26500002,
          18931787.77000002,
          19358908.740000002,
          77435634.96000001,
          970931666.785,
          4859694.515000001,
          1046501296.9899999,
          266184995.17500004,
          33878090.295,
          193589087.40000004,
          64526171.785000004,
          2174771861.57,
          87115089.33000001,
          120993179.62500001,
          680715139.51,
          49700.81,
          14640.82,
          91954816.51500002,
          239235479.98,
          38717817.480000004,
          295223358.285,
          371421280.555,
          198428814.585,
          96794543.70000002,
          290383631.1,
          962583936.535,
          19358908.740000002,
          12342.29,
          241986359.25000003,
          87115089.33000001,
          1948082304.24,
          6078704141.405001,
          427941008.52500004,
          4839727.1850000005,
          38717817.480000004,
          140352088.365,
          3030226273.56,
          2280886766.12,
          142603548.32000002,
          283716534.46500003,
          1732236456.715,
          281152148.87500006,
          87115089.33000001,
          37432626.77,
          785354744.805,
          173262758.72,
          58076726.220000006,
          560413815.8000001,
          798474167.89,
          881829657.3100002,
          273998040.46000004,
          297418435.77500004,
          183909633.03000003,
          38717817.480000004,
          400042797.15,
          994095499.915,
          24198635.925000004,
          297703863.14000005,
          38717817.480000004,
          81678972.69500001,
          183909633.03000003,
          169390451.47500002,
          280704176.73,
          46180102.96,
          9679454.370000001,
          261381925.02000004,
          16283509.045000004,
          87115089.33000001,
          266184995.17500004,
          289501820.8,
          237146632.06500003,
          87115089.33000001,
          87115089.33000001,
          266184995.17500004,
          295223358.285,
          2044127379.6750002,
          96794543.70000002,
          87115089.33000001,
          60839359318.14,
          4839727.1850000005,
          440200630.62,
          279179240.805,
          290383631.1,
          125832906.81000002,
          72595907.775,
          271024722.36,
          304902812.65500003,
          289135406.67,
          53236999.035000004,
          320479331.38,
          831022614.84,
          3025819018.35,
          24198635.925000004,
          275864449.545,
          8347353423.41,
          290383631.1,
          9679454.370000001,
          9673873536.05,
          125836335.30000001,
          47012256.87500001,
          29038363.110000003,
          5158665009.6,
          304902812.65500003,
          4839727.1850000005,
          2901616619.7200003,
          4839727.1850000005,
          304902812.65500003,
          245561199.64000002,
          42203068.615,
          43557544.66500001,
          1573640465.77,
          263674014.875,
          700580095.095,
          14519181.555000002,
          9679454.370000001,
          403548115.09000003,
          154871269.92000002,
          1028415333.6149999,
          290918669.69000006,
          1744163738.08,
          60962947.465,
          1675473485.61,
          101634270.885,
          4897360.775,
          322087605.965,
          13948609,
          752492766.59,
          200246477.63000003,
          48397271.85000001,
          285543903.915,
          290383631.1,
          101634270.885,
          1572051808.3,
          12230606428.55,
          59191142.830000006,
          261345267.99000004,
          4839727.1850000005,
          135000419.78,
          1674037793.92,
          4839727.1850000005,
          4405264530.83,
          4839727.1850000005,
          271766318.675,
          33878090.295,
          24198635.925000004,
          241986359.25000003,
          942671224.4100001,
          651160388.85,
          203268541.77,
          268929625.37,
          622970785.2099999,
          241986359.25000003,
          113012834.12,
          373580728.74,
          120993179.62500001,
          245952605.07000002,
          1246552695.26,
          237797827.00500003,
          288199901.69,
          52467563.29499999,
          43557544.66500001,
          304902812.65500003,
          274431446.84,
          290201880.23,
          13347658072.55,
          248591218.815,
          271024722.36,
          314557379.37,
          77435634.96000001,
          5232685231.42,
          55064627.54,
          61794527.805000044,
          333849639.58,
          30399689.880000003,
          744540383.06,
          87115089.33000001,
          75666055.04,
          72595907.775,
          101634270.885,
          261345267.99000004,
          77435634.96000001,
          340992647.62500006,
          67756180.59,
          62916453.40500001,
          279999584.295,
          28599840.17,
          91954816.51500002,
          154594.21499999892,
          126607168.97000001,
          89281107.23500001,
          285543903.915,
          130672633.99500002,
          460727628.25,
          232032137.67000002,
          20086567.995,
          129823967,
          1966792655.2,
          169405950.38500002,
          193589087.40000004,
          23962637.685000002,
          246826086.43500003,
          231029077.76500002,
          217787723.32500002,
          397454299.285,
          285607457.815,
          101634270.885,
          153214562.66,
          58076726.220000006,
          43059690.114999995,
          1643558018.435,
          196025360.645,
          19358908.740000002,
          159710997.10500002,
          4840873.1450000005,
          150129476.995,
          99059560.25,
          29067628.54000001,
          135512361.18,
          371840301.985,
          182210592.5,
          53236999.035000004,
          163899866.525,
          457189131.76,
          130672633.99500002,
          27685143.11,
          180019203.20000002,
          134666013.32000002,
          9679454.370000001,
          4839727.1850000005,
          304902812.65500003,
          694870035.635,
          105021025.43,
          53157320.33999999,
          230969324.98000002,
          179070037.675,
          67756180.59,
          72595907.775,
          132653804.83500001,
          759647877.38,
          99999534.29500002,
          130233396.4,
          26955855.055,
          276044759.725,
          140245524.31,
          268138530.03000003,
          3717425485.155,
          199059591.66500002,
          185669985.405,
          286473255.045,
          120510448.82500002,
          4839727.1850000005,
          4872935.885000001,
          78663.95,
          1023156811.82,
          1888382969.3750002,
          764175063.91,
          33878090.295,
          240109272.32,
          261345267.99000004,
          142496661.195,
          96794543.70000002,
          1125860987.535,
          4000697985.4700003,
          463591344.485,
          246767253.755,
          138935834.245,
          854785359.18,
          202689769.825,
          19358908.740000002,
          38717817.480000004,
          24198635.925000004,
          18748224.42,
          33878090.295,
          72595907.775,
          2025926.49,
          261345267.99000004,
          168620817.50500003,
          106473998.07000001,
          207869341.995,
          91954816.51500002,
          4466198869.96,
          116153452.44000001,
          358693428.76,
          956588331.9150001,
          4050136772.2200003,
          1303372813.92,
          38717817.480000004,
          82159340.035,
          336732997.01,
          96489965.315,
          127873186.38000001,
          201672625.85000002,
          1066110522.86,
          457433506.21999997,
          145191815.55,
          38717817.480000004,
          271057895.98,
          1175456927.78,
          5643506926.55,
          207280642.67,
          208301813.835,
          145191815.55,
          290901673.675,
          58076726.220000006,
          346587577.47,
          142835191.48000002,
          1435815812.9299998,
          79416445.00999999,
          2181203699.89,
          3370602266.095,
          65558218.980000004,
          67756180.59,
          48062537.79000001,
          128470505.61000001,
          33322104.404999997,
          9679454.370000001,
          225175338.15000004,
          285557286.76500005,
          87115089.33000001,
          382757541.94,
          295223358.285,
          24198635.925000004,
          58076726.220000006,
          43557544.66500001,
          19358908.740000002,
          72595907.775,
          4839727.1850000005,
          62916453.40500001,
          239380441.14000002,
          869529947.81,
          127325627.195,
          132196073.11500001,
          447683312.14,
          441284975.07,
          5090770021.08,
          193589087.40000004,
          428844321.33,
          285543903.915,
          19358908.740000002,
          178031302.655,
          4110357880.21,
          62916453.40500001,
          9679454.370000001,
          1422006921.01,
          295223358.285,
          174793875.9,
          62916453.40500001,
          473284691.56,
          164108840.59,
          58076726.220000006,
          939344170.39,
          87115089.33000001,
          87115089.33000001,
          106473998.07000001,
          2391515675.09,
          43557544.66500001,
          778268590.485,
          58076726.220000006,
          719813.06,
          120982777.11,
          86039079.805,
          1696986833.48,
          19358908.740000002,
          235304931.35000002,
          632327754.09,
          33878090.295,
          174230178.66000003,
          304902812.65500003,
          198700504.34500003,
          247957215.31500003,
          294999659.51,
          275126397.70000005,
          396764303.055,
          354860344.185,
          2592950205.79,
          193589087.40000004,
          279476686.045,
          208134779.575,
          194240223.145,
          19358908.740000002,
          101634270.885,
          4839727.1850000005,
          111323709.96000001,
          33878090.295,
          4166639150.4,
          295223358.285,
          266184995.17500004,
          75015613.96000001,
          975219138.64,
          304902812.65500003,
          246826086.43500003,
          890986345.115,
          38717817.480000004,
          186267021.115,
          20859029815.615,
          49470157895.32,
          61942736298.685,
          19603057867.030003,
          5069014673.860001,
          47942752015.915,
          48397271.85000001,
          256505540.80500004,
          42889418221.65,
          20546375442.445,
          39217463.870000005,
          2889269305.05,
          19115004857.655,
          13956220124.93,
          45998577001.175,
          42689956203.44,
          11169478862.545,
          25434739056.965,
          39043747122.835,
          31856122971.11,
          721119350.565,
          1984646640.6100001
         ]
        }
       ],
       "layout": {
        "coloraxis": {
         "colorbar": {
          "title": {
           "text": "C_Gross_Margin"
          }
         },
         "colorscale": [
          [
           0,
           "rgb(247,251,255)"
          ],
          [
           0.125,
           "rgb(222,235,247)"
          ],
          [
           0.25,
           "rgb(198,219,239)"
          ],
          [
           0.375,
           "rgb(158,202,225)"
          ],
          [
           0.5,
           "rgb(107,174,214)"
          ],
          [
           0.625,
           "rgb(66,146,198)"
          ],
          [
           0.75,
           "rgb(33,113,181)"
          ],
          [
           0.875,
           "rgb(8,81,156)"
          ],
          [
           1,
           "rgb(8,48,107)"
          ]
         ]
        },
        "font": {
         "color": "white"
        },
        "height": 700,
        "legend": {
         "tracegroupgap": 0
        },
        "paper_bgcolor": "black",
        "plot_bgcolor": "black",
        "template": {
         "data": {
          "bar": [
           {
            "error_x": {
             "color": "#f2f5fa"
            },
            "error_y": {
             "color": "#f2f5fa"
            },
            "marker": {
             "line": {
              "color": "rgb(17,17,17)",
              "width": 0.5
             },
             "pattern": {
              "fillmode": "overlay",
              "size": 10,
              "solidity": 0.2
             }
            },
            "type": "bar"
           }
          ],
          "barpolar": [
           {
            "marker": {
             "line": {
              "color": "rgb(17,17,17)",
              "width": 0.5
             },
             "pattern": {
              "fillmode": "overlay",
              "size": 10,
              "solidity": 0.2
             }
            },
            "type": "barpolar"
           }
          ],
          "carpet": [
           {
            "aaxis": {
             "endlinecolor": "#A2B1C6",
             "gridcolor": "#506784",
             "linecolor": "#506784",
             "minorgridcolor": "#506784",
             "startlinecolor": "#A2B1C6"
            },
            "baxis": {
             "endlinecolor": "#A2B1C6",
             "gridcolor": "#506784",
             "linecolor": "#506784",
             "minorgridcolor": "#506784",
             "startlinecolor": "#A2B1C6"
            },
            "type": "carpet"
           }
          ],
          "choropleth": [
           {
            "colorbar": {
             "outlinewidth": 0,
             "ticks": ""
            },
            "type": "choropleth"
           }
          ],
          "contour": [
           {
            "colorbar": {
             "outlinewidth": 0,
             "ticks": ""
            },
            "colorscale": [
             [
              0,
              "#0d0887"
             ],
             [
              0.1111111111111111,
              "#46039f"
             ],
             [
              0.2222222222222222,
              "#7201a8"
             ],
             [
              0.3333333333333333,
              "#9c179e"
             ],
             [
              0.4444444444444444,
              "#bd3786"
             ],
             [
              0.5555555555555556,
              "#d8576b"
             ],
             [
              0.6666666666666666,
              "#ed7953"
             ],
             [
              0.7777777777777778,
              "#fb9f3a"
             ],
             [
              0.8888888888888888,
              "#fdca26"
             ],
             [
              1,
              "#f0f921"
             ]
            ],
            "type": "contour"
           }
          ],
          "contourcarpet": [
           {
            "colorbar": {
             "outlinewidth": 0,
             "ticks": ""
            },
            "type": "contourcarpet"
           }
          ],
          "heatmap": [
           {
            "colorbar": {
             "outlinewidth": 0,
             "ticks": ""
            },
            "colorscale": [
             [
              0,
              "#0d0887"
             ],
             [
              0.1111111111111111,
              "#46039f"
             ],
             [
              0.2222222222222222,
              "#7201a8"
             ],
             [
              0.3333333333333333,
              "#9c179e"
             ],
             [
              0.4444444444444444,
              "#bd3786"
             ],
             [
              0.5555555555555556,
              "#d8576b"
             ],
             [
              0.6666666666666666,
              "#ed7953"
             ],
             [
              0.7777777777777778,
              "#fb9f3a"
             ],
             [
              0.8888888888888888,
              "#fdca26"
             ],
             [
              1,
              "#f0f921"
             ]
            ],
            "type": "heatmap"
           }
          ],
          "heatmapgl": [
           {
            "colorbar": {
             "outlinewidth": 0,
             "ticks": ""
            },
            "colorscale": [
             [
              0,
              "#0d0887"
             ],
             [
              0.1111111111111111,
              "#46039f"
             ],
             [
              0.2222222222222222,
              "#7201a8"
             ],
             [
              0.3333333333333333,
              "#9c179e"
             ],
             [
              0.4444444444444444,
              "#bd3786"
             ],
             [
              0.5555555555555556,
              "#d8576b"
             ],
             [
              0.6666666666666666,
              "#ed7953"
             ],
             [
              0.7777777777777778,
              "#fb9f3a"
             ],
             [
              0.8888888888888888,
              "#fdca26"
             ],
             [
              1,
              "#f0f921"
             ]
            ],
            "type": "heatmapgl"
           }
          ],
          "histogram": [
           {
            "marker": {
             "pattern": {
              "fillmode": "overlay",
              "size": 10,
              "solidity": 0.2
             }
            },
            "type": "histogram"
           }
          ],
          "histogram2d": [
           {
            "colorbar": {
             "outlinewidth": 0,
             "ticks": ""
            },
            "colorscale": [
             [
              0,
              "#0d0887"
             ],
             [
              0.1111111111111111,
              "#46039f"
             ],
             [
              0.2222222222222222,
              "#7201a8"
             ],
             [
              0.3333333333333333,
              "#9c179e"
             ],
             [
              0.4444444444444444,
              "#bd3786"
             ],
             [
              0.5555555555555556,
              "#d8576b"
             ],
             [
              0.6666666666666666,
              "#ed7953"
             ],
             [
              0.7777777777777778,
              "#fb9f3a"
             ],
             [
              0.8888888888888888,
              "#fdca26"
             ],
             [
              1,
              "#f0f921"
             ]
            ],
            "type": "histogram2d"
           }
          ],
          "histogram2dcontour": [
           {
            "colorbar": {
             "outlinewidth": 0,
             "ticks": ""
            },
            "colorscale": [
             [
              0,
              "#0d0887"
             ],
             [
              0.1111111111111111,
              "#46039f"
             ],
             [
              0.2222222222222222,
              "#7201a8"
             ],
             [
              0.3333333333333333,
              "#9c179e"
             ],
             [
              0.4444444444444444,
              "#bd3786"
             ],
             [
              0.5555555555555556,
              "#d8576b"
             ],
             [
              0.6666666666666666,
              "#ed7953"
             ],
             [
              0.7777777777777778,
              "#fb9f3a"
             ],
             [
              0.8888888888888888,
              "#fdca26"
             ],
             [
              1,
              "#f0f921"
             ]
            ],
            "type": "histogram2dcontour"
           }
          ],
          "mesh3d": [
           {
            "colorbar": {
             "outlinewidth": 0,
             "ticks": ""
            },
            "type": "mesh3d"
           }
          ],
          "parcoords": [
           {
            "line": {
             "colorbar": {
              "outlinewidth": 0,
              "ticks": ""
             }
            },
            "type": "parcoords"
           }
          ],
          "pie": [
           {
            "automargin": true,
            "type": "pie"
           }
          ],
          "scatter": [
           {
            "marker": {
             "line": {
              "color": "#283442"
             }
            },
            "type": "scatter"
           }
          ],
          "scatter3d": [
           {
            "line": {
             "colorbar": {
              "outlinewidth": 0,
              "ticks": ""
             }
            },
            "marker": {
             "colorbar": {
              "outlinewidth": 0,
              "ticks": ""
             }
            },
            "type": "scatter3d"
           }
          ],
          "scattercarpet": [
           {
            "marker": {
             "colorbar": {
              "outlinewidth": 0,
              "ticks": ""
             }
            },
            "type": "scattercarpet"
           }
          ],
          "scattergeo": [
           {
            "marker": {
             "colorbar": {
              "outlinewidth": 0,
              "ticks": ""
             }
            },
            "type": "scattergeo"
           }
          ],
          "scattergl": [
           {
            "marker": {
             "line": {
              "color": "#283442"
             }
            },
            "type": "scattergl"
           }
          ],
          "scattermapbox": [
           {
            "marker": {
             "colorbar": {
              "outlinewidth": 0,
              "ticks": ""
             }
            },
            "type": "scattermapbox"
           }
          ],
          "scatterpolar": [
           {
            "marker": {
             "colorbar": {
              "outlinewidth": 0,
              "ticks": ""
             }
            },
            "type": "scatterpolar"
           }
          ],
          "scatterpolargl": [
           {
            "marker": {
             "colorbar": {
              "outlinewidth": 0,
              "ticks": ""
             }
            },
            "type": "scatterpolargl"
           }
          ],
          "scatterternary": [
           {
            "marker": {
             "colorbar": {
              "outlinewidth": 0,
              "ticks": ""
             }
            },
            "type": "scatterternary"
           }
          ],
          "surface": [
           {
            "colorbar": {
             "outlinewidth": 0,
             "ticks": ""
            },
            "colorscale": [
             [
              0,
              "#0d0887"
             ],
             [
              0.1111111111111111,
              "#46039f"
             ],
             [
              0.2222222222222222,
              "#7201a8"
             ],
             [
              0.3333333333333333,
              "#9c179e"
             ],
             [
              0.4444444444444444,
              "#bd3786"
             ],
             [
              0.5555555555555556,
              "#d8576b"
             ],
             [
              0.6666666666666666,
              "#ed7953"
             ],
             [
              0.7777777777777778,
              "#fb9f3a"
             ],
             [
              0.8888888888888888,
              "#fdca26"
             ],
             [
              1,
              "#f0f921"
             ]
            ],
            "type": "surface"
           }
          ],
          "table": [
           {
            "cells": {
             "fill": {
              "color": "#506784"
             },
             "line": {
              "color": "rgb(17,17,17)"
             }
            },
            "header": {
             "fill": {
              "color": "#2a3f5f"
             },
             "line": {
              "color": "rgb(17,17,17)"
             }
            },
            "type": "table"
           }
          ]
         },
         "layout": {
          "annotationdefaults": {
           "arrowcolor": "#f2f5fa",
           "arrowhead": 0,
           "arrowwidth": 1
          },
          "autotypenumbers": "strict",
          "coloraxis": {
           "colorbar": {
            "outlinewidth": 0,
            "ticks": ""
           }
          },
          "colorscale": {
           "diverging": [
            [
             0,
             "#8e0152"
            ],
            [
             0.1,
             "#c51b7d"
            ],
            [
             0.2,
             "#de77ae"
            ],
            [
             0.3,
             "#f1b6da"
            ],
            [
             0.4,
             "#fde0ef"
            ],
            [
             0.5,
             "#f7f7f7"
            ],
            [
             0.6,
             "#e6f5d0"
            ],
            [
             0.7,
             "#b8e186"
            ],
            [
             0.8,
             "#7fbc41"
            ],
            [
             0.9,
             "#4d9221"
            ],
            [
             1,
             "#276419"
            ]
           ],
           "sequential": [
            [
             0,
             "#0d0887"
            ],
            [
             0.1111111111111111,
             "#46039f"
            ],
            [
             0.2222222222222222,
             "#7201a8"
            ],
            [
             0.3333333333333333,
             "#9c179e"
            ],
            [
             0.4444444444444444,
             "#bd3786"
            ],
            [
             0.5555555555555556,
             "#d8576b"
            ],
            [
             0.6666666666666666,
             "#ed7953"
            ],
            [
             0.7777777777777778,
             "#fb9f3a"
            ],
            [
             0.8888888888888888,
             "#fdca26"
            ],
            [
             1,
             "#f0f921"
            ]
           ],
           "sequentialminus": [
            [
             0,
             "#0d0887"
            ],
            [
             0.1111111111111111,
             "#46039f"
            ],
            [
             0.2222222222222222,
             "#7201a8"
            ],
            [
             0.3333333333333333,
             "#9c179e"
            ],
            [
             0.4444444444444444,
             "#bd3786"
            ],
            [
             0.5555555555555556,
             "#d8576b"
            ],
            [
             0.6666666666666666,
             "#ed7953"
            ],
            [
             0.7777777777777778,
             "#fb9f3a"
            ],
            [
             0.8888888888888888,
             "#fdca26"
            ],
            [
             1,
             "#f0f921"
            ]
           ]
          },
          "colorway": [
           "#636efa",
           "#EF553B",
           "#00cc96",
           "#ab63fa",
           "#FFA15A",
           "#19d3f3",
           "#FF6692",
           "#B6E880",
           "#FF97FF",
           "#FECB52"
          ],
          "font": {
           "color": "#f2f5fa"
          },
          "geo": {
           "bgcolor": "rgb(17,17,17)",
           "lakecolor": "rgb(17,17,17)",
           "landcolor": "rgb(17,17,17)",
           "showlakes": true,
           "showland": true,
           "subunitcolor": "#506784"
          },
          "hoverlabel": {
           "align": "left"
          },
          "hovermode": "closest",
          "mapbox": {
           "style": "dark"
          },
          "paper_bgcolor": "rgb(17,17,17)",
          "plot_bgcolor": "rgb(17,17,17)",
          "polar": {
           "angularaxis": {
            "gridcolor": "#506784",
            "linecolor": "#506784",
            "ticks": ""
           },
           "bgcolor": "rgb(17,17,17)",
           "radialaxis": {
            "gridcolor": "#506784",
            "linecolor": "#506784",
            "ticks": ""
           }
          },
          "scene": {
           "xaxis": {
            "backgroundcolor": "rgb(17,17,17)",
            "gridcolor": "#506784",
            "gridwidth": 2,
            "linecolor": "#506784",
            "showbackground": true,
            "ticks": "",
            "zerolinecolor": "#C8D4E3"
           },
           "yaxis": {
            "backgroundcolor": "rgb(17,17,17)",
            "gridcolor": "#506784",
            "gridwidth": 2,
            "linecolor": "#506784",
            "showbackground": true,
            "ticks": "",
            "zerolinecolor": "#C8D4E3"
           },
           "zaxis": {
            "backgroundcolor": "rgb(17,17,17)",
            "gridcolor": "#506784",
            "gridwidth": 2,
            "linecolor": "#506784",
            "showbackground": true,
            "ticks": "",
            "zerolinecolor": "#C8D4E3"
           }
          },
          "shapedefaults": {
           "line": {
            "color": "#f2f5fa"
           }
          },
          "sliderdefaults": {
           "bgcolor": "#C8D4E3",
           "bordercolor": "rgb(17,17,17)",
           "borderwidth": 1,
           "tickwidth": 0
          },
          "ternary": {
           "aaxis": {
            "gridcolor": "#506784",
            "linecolor": "#506784",
            "ticks": ""
           },
           "baxis": {
            "gridcolor": "#506784",
            "linecolor": "#506784",
            "ticks": ""
           },
           "bgcolor": "rgb(17,17,17)",
           "caxis": {
            "gridcolor": "#506784",
            "linecolor": "#506784",
            "ticks": ""
           }
          },
          "title": {
           "x": 0.05
          },
          "updatemenudefaults": {
           "bgcolor": "#506784",
           "borderwidth": 0
          },
          "xaxis": {
           "automargin": true,
           "gridcolor": "#283442",
           "linecolor": "#506784",
           "ticks": "",
           "title": {
            "standoff": 15
           },
           "zerolinecolor": "#283442",
           "zerolinewidth": 2
          },
          "yaxis": {
           "automargin": true,
           "gridcolor": "#283442",
           "linecolor": "#506784",
           "ticks": "",
           "title": {
            "standoff": 15
           },
           "zerolinecolor": "#283442",
           "zerolinewidth": 2
          }
         }
        },
        "title": {
         "text": "Sunburst Chart of Gross Margin by Business and Material Group"
        },
        "width": 800
       }
      }
     },
     "metadata": {},
     "output_type": "display_data"
    }
   ],
   "source": [
    "#Gross margin contribution of businesses and sub businesses \n",
    "\n",
    "pio.renderers.default = \"vscode\"\n",
    "sunburst_data = df.groupby(['BUSINESS GROUP', 'MATERIAL GROUP']).agg({'C_Gross_Margin': 'sum'}).reset_index()\n",
    "\n",
    "#Filter out rows with negative values\n",
    "sunburst_data = sunburst_data[sunburst_data['C_Gross_Margin'] > 0]\n",
    "\n",
    "fig = px.sunburst(\n",
    "    sunburst_data,\n",
    "    path=['BUSINESS GROUP', 'MATERIAL GROUP'],\n",
    "    values='C_Gross_Margin',\n",
    "    color='C_Gross_Margin',\n",
    "    color_continuous_scale=px.colors.sequential.Blues,\n",
    "    title='Sunburst Chart of Gross Margin by Business and Material Group',\n",
    "    template='plotly_dark'\n",
    ")\n",
    "fig.update_layout(\n",
    "    plot_bgcolor='black',\n",
    "    paper_bgcolor='black',\n",
    "    font=dict(color='white'),\n",
    "    height=700,\n",
    "    width=800\n",
    ")\n",
    "fig.show()"
   ]
  },
  {
   "cell_type": "markdown",
   "id": "18bc2306",
   "metadata": {},
   "source": [
    "ASP has the largest gross margin closely tailed by ASD and COB. Within ASP RI-PMPA is contributing the most value like RI-CMPA in ASD."
   ]
  }
 ],
 "metadata": {
  "kernelspec": {
   "display_name": ".venv",
   "language": "python",
   "name": "python3"
  },
  "language_info": {
   "codemirror_mode": {
    "name": "ipython",
    "version": 3
   },
   "file_extension": ".py",
   "mimetype": "text/x-python",
   "name": "python",
   "nbconvert_exporter": "python",
   "pygments_lexer": "ipython3",
   "version": "3.13.0"
  }
 },
 "nbformat": 4,
 "nbformat_minor": 5
}
