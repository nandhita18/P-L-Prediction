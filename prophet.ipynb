{
 "cells": [
  {
   "cell_type": "code",
   "execution_count": 1,
   "id": "d271c2ac",
   "metadata": {},
   "outputs": [],
   "source": [
    "%run preprocessing.py"
   ]
  },
  {
   "cell_type": "code",
   "execution_count": 2,
   "id": "c58eba70",
   "metadata": {},
   "outputs": [],
   "source": [
    "# Define proper month mapping\n",
    "month_mapping = {\n",
    "    'January': 1, 'February': 2, 'March': 3, 'April': 4, \n",
    "    'May': 5, 'June': 6, 'July': 7, 'August': 8, \n",
    "    'September': 9, 'October': 10, 'November': 11, 'December': 12\n",
    "}\n",
    "\n",
    "# Map the MONTH column to its index\n",
    "df['month_index'] = df['MONTH'].map(month_mapping)"
   ]
  },
  {
   "cell_type": "markdown",
   "id": "fbc10586",
   "metadata": {},
   "source": [
    "## Predicting Gross Margin"
   ]
  },
  {
   "cell_type": "code",
   "execution_count": 3,
   "id": "8c12c78c",
   "metadata": {},
   "outputs": [
    {
     "data": {
      "text/plain": [
       "Index(['BUSINESS GROUP', 'MATERIAL GROUP', 'YEAR', 'MONTH', ' SALES SERVICE ',\n",
       "       ' LESS ORC ', ' NET SALES ', ' COST OF GOODS SOLD ',\n",
       "       ' TRANSACTION MARGIN ', ' BACKEND INCOME ', ' ESTIMATE INCOME ',\n",
       "       ' TOTAL BACKEND INCOME ', ' DEPRECIATION INVENTORY ',\n",
       "       ' SALES COMMISSION ', ' GROSS MARGIN ', ' CASH DISCOUNT ',\n",
       "       ' GROSS MARGIN CD ', ' OTHER INCOME ', ' FREIGHT ', ' INSURANCE ',\n",
       "       ' COMMERCIAL TAX ', ' DRIECT EXPENSES ', ' COMPENSATION ',\n",
       "       ' STAFF WELFATE ', ' OUTSOURCED RESOURCE ', ' TRAVEL ', ' CONVEYANCE ',\n",
       "       ' COMMUNICATION ', ' UTILITIES ', ' REPAIRS MAINTENANCE ',\n",
       "       ' PRINTING STATIONERY ', ' RENT ', ' RENT WAREHOUSE ',\n",
       "       ' WAREHOUSE EXPENSES ', ' ENTERTAINMENT ', ' TRAINING ',\n",
       "       ' ADVERTISMENT EXPENSES ', ' BAD DEBTS ', ' BANK CHARGES ',\n",
       "       ' RATE TAXES ', ' CONSULTANCY BROKER ', ' AUDIT FEE ',\n",
       "       ' FALSE GAIN OR LOSS ', ' EXCHANGE GAIN OR LOSS ',\n",
       "       ' DIRECT SITTING FEE ', ' CSR ', ' FACTORING ', ' OTHER EXPENSES ',\n",
       "       ' TOTAL TRADING EXPENSES ', ' EBITDA ', ' WORKING CAPITAL INTEREST ',\n",
       "       ' DEPRECIATION ON ASSET ', ' PROFIT BEFORE TAX ', ' TAX EXPENSES ',\n",
       "       ' PROFIT AFTER TAX ', ' EBIT ', ' NON CASH ITEM ', ' INTEREST COVER ',\n",
       "       ' OPEN_WC ', ' CLOSE_WC ', ' AVG_WC ', ' ROCE ', ' WCTURNS ',\n",
       "       ' WCDAYS ', 'DATE', 'C_Revenue', 'C_Gross_Margin', 'Man_power_cost',\n",
       "       'Biz_trading_cost', 'A', 'B', 'Other_opex', 'C_EBITDA', 'C_EBIT',\n",
       "       'Intrest_cost', 'C_PBT', 'C_PAT', 'month_index'],\n",
       "      dtype='object')"
      ]
     },
     "execution_count": 3,
     "metadata": {},
     "output_type": "execute_result"
    }
   ],
   "source": [
    "df.columns"
   ]
  },
  {
   "cell_type": "code",
   "execution_count": null,
   "id": "e36058b8",
   "metadata": {},
   "outputs": [
    {
     "name": "stderr",
     "output_type": "stream",
     "text": [
      "10:27:07 - cmdstanpy - INFO - Chain [1] start processing\n",
      "10:27:10 - cmdstanpy - INFO - Chain [1] done processing\n"
     ]
    }
   ],
   "source": [
    "#prediction on historical data\n",
    "from prophet_forcast import Prophet\n",
    "# set 'ds' (datetime) and 'y' (target) column\n",
    "prophet_data = df[['YEAR', 'month_index', 'C_Gross_Margin', ' CASH DISCOUNT ', ' OTHER INCOME ']].copy()\n",
    "prophet_data['ds'] = pd.to_datetime(prophet_data['YEAR'].astype(str) + '-' + prophet_data['month_index'].astype(str).str.zfill(2) + '-01')\n",
    "prophet_data = prophet_data.rename(columns={'C_Gross_Margin': 'y'})\n",
    "\n",
    "# train and test split\n",
    "model = Prophet()\n",
    "model.add_regressor(' CASH DISCOUNT ')\n",
    "model.add_regressor(' OTHER INCOME ')\n",
    "model.fit(prophet_data[['ds', 'y', ' CASH DISCOUNT ', ' OTHER INCOME ']])\n",
    "\n",
    "forecast = model.predict(prophet_data[['ds', ' CASH DISCOUNT ', ' OTHER INCOME ']])\n",
    "results = pd.DataFrame({\n",
    "    'Date': prophet_data['ds'],\n",
    "    'Actual': prophet_data['y'],\n",
    "    'Predicted': forecast['yhat']\n",
    "})"
   ]
  },
  {
   "cell_type": "code",
   "execution_count": 5,
   "id": "f4ee360b",
   "metadata": {},
   "outputs": [
    {
     "name": "stderr",
     "output_type": "stream",
     "text": [
      "10:27:15 - cmdstanpy - INFO - Chain [1] start processing\n",
      "10:27:16 - cmdstanpy - INFO - Chain [1] done processing\n"
     ]
    }
   ],
   "source": [
    "#prediction for future dates\n",
    "gross_margin_df = df[['YEAR', 'month_index', 'C_Gross_Margin', ' CASH DISCOUNT ', ' OTHER INCOME ']].copy()\n",
    "gross_margin_df['ds'] = pd.to_datetime(gross_margin_df['YEAR'].astype(str) + '-' + gross_margin_df['month_index'].astype(str).str.zfill(2) + '-01')\n",
    "gross_margin_df = gross_margin_df.rename(columns={'C_Gross_Margin': 'y'})\n",
    "\n",
    "# Initialize the Prophet model\n",
    "model = Prophet()\n",
    "\n",
    "# Add regressors\n",
    "model.add_regressor(' CASH DISCOUNT ')\n",
    "model.add_regressor(' OTHER INCOME ')\n",
    "\n",
    "# Fit the model\n",
    "model.fit(gross_margin_df[['ds', 'y', ' CASH DISCOUNT ', ' OTHER INCOME ']])\n",
    "\n",
    "# Prepare the future dataframe\n",
    "future_dates = model.make_future_dataframe(periods=12, freq='MS')\n",
    "\n",
    "# Add regressor values for future dates\n",
    "future_monthly = df.groupby(['month_index'])[[' CASH DISCOUNT ', ' OTHER INCOME ']].mean().reset_index()\n",
    "future_dates['month_index'] = future_dates['ds'].dt.month\n",
    "future_dates = pd.merge(future_dates, future_monthly, on='month_index', how='left')\n",
    "\n",
    "# Predict\n",
    "future_forecast = model.predict(future_dates)\n",
    "\n",
    "# Extract the result\n",
    "future_results = pd.DataFrame({\n",
    "    'Date': future_forecast['ds'],\n",
    "    'Predicted': future_forecast['yhat']\n",
    "})"
   ]
  },
  {
   "cell_type": "code",
   "execution_count": 6,
   "id": "19a61f48",
   "metadata": {},
   "outputs": [],
   "source": [
    "#combining actuals and forcasted values\n",
    "combined_results = pd.concat([\n",
    "    results[['Date', 'Actual', 'Predicted']],\n",
    "    future_results[['Date', 'Predicted']]\n",
    "], ignore_index=True)\n",
    "\n",
    "#groupby month\n",
    "combined_results['Month-Year'] = combined_results['Date'].dt.to_period('M')\n",
    "monthly_combined_results = combined_results.groupby('Month-Year').mean().reset_index()\n",
    "monthly_combined_results['Date'] = monthly_combined_results['Month-Year'].dt.to_timestamp()\n"
   ]
  },
  {
   "cell_type": "code",
   "execution_count": 7,
   "id": "e5b644c5",
   "metadata": {},
   "outputs": [
    {
     "data": {
      "text/html": [
       "<div>\n",
       "<style scoped>\n",
       "    .dataframe tbody tr th:only-of-type {\n",
       "        vertical-align: middle;\n",
       "    }\n",
       "\n",
       "    .dataframe tbody tr th {\n",
       "        vertical-align: top;\n",
       "    }\n",
       "\n",
       "    .dataframe thead th {\n",
       "        text-align: right;\n",
       "    }\n",
       "</style>\n",
       "<table border=\"1\" class=\"dataframe\">\n",
       "  <thead>\n",
       "    <tr style=\"text-align: right;\">\n",
       "      <th></th>\n",
       "      <th>Month-Year</th>\n",
       "      <th>Date</th>\n",
       "      <th>Actual</th>\n",
       "      <th>Predicted</th>\n",
       "    </tr>\n",
       "  </thead>\n",
       "  <tbody>\n",
       "    <tr>\n",
       "      <th>0</th>\n",
       "      <td>2019-04</td>\n",
       "      <td>2019-04-01</td>\n",
       "      <td>4.253273e+05</td>\n",
       "      <td>2.226648e+07</td>\n",
       "    </tr>\n",
       "    <tr>\n",
       "      <th>1</th>\n",
       "      <td>2019-05</td>\n",
       "      <td>2019-05-01</td>\n",
       "      <td>8.103678e+06</td>\n",
       "      <td>2.184163e+07</td>\n",
       "    </tr>\n",
       "    <tr>\n",
       "      <th>2</th>\n",
       "      <td>2019-06</td>\n",
       "      <td>2019-06-01</td>\n",
       "      <td>2.524800e+07</td>\n",
       "      <td>1.814884e+07</td>\n",
       "    </tr>\n",
       "    <tr>\n",
       "      <th>3</th>\n",
       "      <td>2019-07</td>\n",
       "      <td>2019-07-01</td>\n",
       "      <td>2.120301e+07</td>\n",
       "      <td>1.319831e+07</td>\n",
       "    </tr>\n",
       "    <tr>\n",
       "      <th>4</th>\n",
       "      <td>2019-08</td>\n",
       "      <td>2019-08-01</td>\n",
       "      <td>1.420250e+07</td>\n",
       "      <td>1.229315e+07</td>\n",
       "    </tr>\n",
       "    <tr>\n",
       "      <th>...</th>\n",
       "      <td>...</td>\n",
       "      <td>...</td>\n",
       "      <td>...</td>\n",
       "      <td>...</td>\n",
       "    </tr>\n",
       "    <tr>\n",
       "      <th>70</th>\n",
       "      <td>2025-02</td>\n",
       "      <td>2025-02-01</td>\n",
       "      <td>NaN</td>\n",
       "      <td>1.955231e+07</td>\n",
       "    </tr>\n",
       "    <tr>\n",
       "      <th>71</th>\n",
       "      <td>2025-03</td>\n",
       "      <td>2025-03-01</td>\n",
       "      <td>NaN</td>\n",
       "      <td>3.632037e+07</td>\n",
       "    </tr>\n",
       "    <tr>\n",
       "      <th>72</th>\n",
       "      <td>2025-04</td>\n",
       "      <td>2025-04-01</td>\n",
       "      <td>NaN</td>\n",
       "      <td>1.733319e+07</td>\n",
       "    </tr>\n",
       "    <tr>\n",
       "      <th>73</th>\n",
       "      <td>2025-05</td>\n",
       "      <td>2025-05-01</td>\n",
       "      <td>NaN</td>\n",
       "      <td>1.952291e+07</td>\n",
       "    </tr>\n",
       "    <tr>\n",
       "      <th>74</th>\n",
       "      <td>2025-06</td>\n",
       "      <td>2025-06-01</td>\n",
       "      <td>NaN</td>\n",
       "      <td>3.303860e+07</td>\n",
       "    </tr>\n",
       "  </tbody>\n",
       "</table>\n",
       "<p>75 rows × 4 columns</p>\n",
       "</div>"
      ],
      "text/plain": [
       "   Month-Year       Date        Actual     Predicted\n",
       "0     2019-04 2019-04-01  4.253273e+05  2.226648e+07\n",
       "1     2019-05 2019-05-01  8.103678e+06  2.184163e+07\n",
       "2     2019-06 2019-06-01  2.524800e+07  1.814884e+07\n",
       "3     2019-07 2019-07-01  2.120301e+07  1.319831e+07\n",
       "4     2019-08 2019-08-01  1.420250e+07  1.229315e+07\n",
       "..        ...        ...           ...           ...\n",
       "70    2025-02 2025-02-01           NaN  1.955231e+07\n",
       "71    2025-03 2025-03-01           NaN  3.632037e+07\n",
       "72    2025-04 2025-04-01           NaN  1.733319e+07\n",
       "73    2025-05 2025-05-01           NaN  1.952291e+07\n",
       "74    2025-06 2025-06-01           NaN  3.303860e+07\n",
       "\n",
       "[75 rows x 4 columns]"
      ]
     },
     "execution_count": 7,
     "metadata": {},
     "output_type": "execute_result"
    }
   ],
   "source": [
    "monthly_combined_results"
   ]
  },
  {
   "cell_type": "code",
   "execution_count": 8,
   "id": "7544a67d",
   "metadata": {},
   "outputs": [
    {
     "data": {
      "application/vnd.plotly.v1+json": {
       "config": {
        "plotlyServerURL": "https://plot.ly"
       },
       "data": [
        {
         "line": {
          "color": "blue"
         },
         "mode": "lines+markers",
         "name": "Actual Values",
         "type": "scatter",
         "x": [
          "2019-04-01T00:00:00",
          "2019-05-01T00:00:00",
          "2019-06-01T00:00:00",
          "2019-07-01T00:00:00",
          "2019-08-01T00:00:00",
          "2019-09-01T00:00:00",
          "2019-10-01T00:00:00",
          "2019-11-01T00:00:00",
          "2019-12-01T00:00:00",
          "2020-01-01T00:00:00",
          "2020-02-01T00:00:00",
          "2020-03-01T00:00:00",
          "2020-04-01T00:00:00",
          "2020-05-01T00:00:00",
          "2020-06-01T00:00:00",
          "2020-07-01T00:00:00",
          "2020-08-01T00:00:00",
          "2020-09-01T00:00:00",
          "2020-10-01T00:00:00",
          "2020-11-01T00:00:00",
          "2020-12-01T00:00:00",
          "2021-01-01T00:00:00",
          "2021-02-01T00:00:00",
          "2021-03-01T00:00:00",
          "2021-04-01T00:00:00",
          "2021-05-01T00:00:00",
          "2021-06-01T00:00:00",
          "2021-07-01T00:00:00",
          "2021-08-01T00:00:00",
          "2021-09-01T00:00:00",
          "2021-10-01T00:00:00",
          "2021-11-01T00:00:00",
          "2021-12-01T00:00:00",
          "2022-01-01T00:00:00",
          "2022-02-01T00:00:00",
          "2022-03-01T00:00:00",
          "2022-04-01T00:00:00",
          "2022-05-01T00:00:00",
          "2022-06-01T00:00:00",
          "2022-07-01T00:00:00",
          "2022-08-01T00:00:00",
          "2022-09-01T00:00:00",
          "2022-10-01T00:00:00",
          "2022-11-01T00:00:00",
          "2022-12-01T00:00:00",
          "2023-01-01T00:00:00",
          "2023-02-01T00:00:00",
          "2023-03-01T00:00:00",
          "2023-04-01T00:00:00",
          "2023-05-01T00:00:00",
          "2023-06-01T00:00:00",
          "2023-07-01T00:00:00",
          "2023-08-01T00:00:00",
          "2023-09-01T00:00:00",
          "2023-10-01T00:00:00",
          "2023-11-01T00:00:00",
          "2023-12-01T00:00:00",
          "2024-01-01T00:00:00",
          "2024-02-01T00:00:00",
          "2024-03-01T00:00:00",
          "2024-04-01T00:00:00",
          "2024-05-01T00:00:00",
          "2024-06-01T00:00:00",
          "2024-07-01T00:00:00",
          "2024-08-01T00:00:00",
          "2024-09-01T00:00:00",
          "2024-10-01T00:00:00",
          "2024-11-01T00:00:00",
          "2024-12-01T00:00:00",
          "2025-01-01T00:00:00",
          "2025-02-01T00:00:00",
          "2025-03-01T00:00:00",
          "2025-04-01T00:00:00",
          "2025-05-01T00:00:00",
          "2025-06-01T00:00:00"
         ],
         "y": [
          425327.26332574064,
          8103678.281008773,
          25247997.219331138,
          21203005.94217548,
          14202499.069352333,
          2996820.036094147,
          985285.2528475941,
          22089783.30766043,
          20768067.00265499,
          649319.4408176945,
          9198896.636093333,
          33177021.29546174,
          1011299.388108108,
          7699264.595014044,
          27732614.08462963,
          13852543.528905405,
          11442940.151662199,
          16522288.306853784,
          16294760.58744032,
          13966598.038464569,
          26598353.912165355,
          14003968.820638297,
          17690186.433399998,
          21910834.372036554,
          16810395.72934295,
          12013381.749973118,
          21641063.116524063,
          18515289.40226902,
          15709712.19881579,
          22683983.376294874,
          17122812.92541985,
          17709250.473345865,
          25576675.82580247,
          13944744.396213941,
          16590380.815562347,
          25699392.344269138,
          17594233.549367815,
          16806036.821324203,
          26601253.03564394,
          12272010.218004486,
          15561144.830339704,
          28545109.757289417,
          15357241.384663159,
          11185534.89437807,
          23180525.59524564,
          7215428.779018839,
          10026175.855834646,
          32979147.6929257,
          14050454.113764046,
          15397757.6403125,
          26916892.27857671,
          17607197.692001812,
          13728408.967477314,
          27978150.452084836,
          14326903.951394053,
          12196118.614175364,
          34985544.68810707,
          9641043.630246406,
          14759819.286799591,
          37229872.674789675,
          15014452.591529176,
          16960519.13372277,
          29102503.85391473,
          null,
          null,
          null,
          null,
          null,
          null,
          null,
          null,
          null,
          null,
          null,
          null
         ]
        },
        {
         "line": {
          "color": "red",
          "dash": "dash"
         },
         "mode": "lines+markers",
         "name": "Predicted Values",
         "type": "scatter",
         "x": [
          "2019-04-01T00:00:00",
          "2019-05-01T00:00:00",
          "2019-06-01T00:00:00",
          "2019-07-01T00:00:00",
          "2019-08-01T00:00:00",
          "2019-09-01T00:00:00",
          "2019-10-01T00:00:00",
          "2019-11-01T00:00:00",
          "2019-12-01T00:00:00",
          "2020-01-01T00:00:00",
          "2020-02-01T00:00:00",
          "2020-03-01T00:00:00",
          "2020-04-01T00:00:00",
          "2020-05-01T00:00:00",
          "2020-06-01T00:00:00",
          "2020-07-01T00:00:00",
          "2020-08-01T00:00:00",
          "2020-09-01T00:00:00",
          "2020-10-01T00:00:00",
          "2020-11-01T00:00:00",
          "2020-12-01T00:00:00",
          "2021-01-01T00:00:00",
          "2021-02-01T00:00:00",
          "2021-03-01T00:00:00",
          "2021-04-01T00:00:00",
          "2021-05-01T00:00:00",
          "2021-06-01T00:00:00",
          "2021-07-01T00:00:00",
          "2021-08-01T00:00:00",
          "2021-09-01T00:00:00",
          "2021-10-01T00:00:00",
          "2021-11-01T00:00:00",
          "2021-12-01T00:00:00",
          "2022-01-01T00:00:00",
          "2022-02-01T00:00:00",
          "2022-03-01T00:00:00",
          "2022-04-01T00:00:00",
          "2022-05-01T00:00:00",
          "2022-06-01T00:00:00",
          "2022-07-01T00:00:00",
          "2022-08-01T00:00:00",
          "2022-09-01T00:00:00",
          "2022-10-01T00:00:00",
          "2022-11-01T00:00:00",
          "2022-12-01T00:00:00",
          "2023-01-01T00:00:00",
          "2023-02-01T00:00:00",
          "2023-03-01T00:00:00",
          "2023-04-01T00:00:00",
          "2023-05-01T00:00:00",
          "2023-06-01T00:00:00",
          "2023-07-01T00:00:00",
          "2023-08-01T00:00:00",
          "2023-09-01T00:00:00",
          "2023-10-01T00:00:00",
          "2023-11-01T00:00:00",
          "2023-12-01T00:00:00",
          "2024-01-01T00:00:00",
          "2024-02-01T00:00:00",
          "2024-03-01T00:00:00",
          "2024-04-01T00:00:00",
          "2024-05-01T00:00:00",
          "2024-06-01T00:00:00",
          "2024-07-01T00:00:00",
          "2024-08-01T00:00:00",
          "2024-09-01T00:00:00",
          "2024-10-01T00:00:00",
          "2024-11-01T00:00:00",
          "2024-12-01T00:00:00",
          "2025-01-01T00:00:00",
          "2025-02-01T00:00:00",
          "2025-03-01T00:00:00",
          "2025-04-01T00:00:00",
          "2025-05-01T00:00:00",
          "2025-06-01T00:00:00"
         ],
         "y": [
          22266475.422290314,
          21841628.334304664,
          18148844.466056526,
          13198312.312608575,
          12293145.622031618,
          13358232.638343586,
          15197624.512225011,
          16702147.67895044,
          24683600.811911833,
          21391927.53198494,
          12323874.58768377,
          16574823.497277945,
          17672799.513136063,
          19531718.642974246,
          19551997.348352812,
          16174762.540986454,
          18245172.715867206,
          18362502.405106995,
          18538647.486001067,
          13823107.2428686,
          15631208.8490595,
          13132203.96324306,
          22073539.849556055,
          24440409.673737828,
          27932019.904140815,
          18790672.88891869,
          14399742.136269389,
          16784703.580136143,
          16894078.302646946,
          21696136.743668232,
          17503397.270098012,
          22559746.578481264,
          18151613.871069122,
          21899473.875247426,
          14678157.418830551,
          19008186.723083943,
          9940650.055641554,
          23344413.38600594,
          13979430.97619715,
          15226443.332950467,
          18075193.603560254,
          20729581.853512514,
          16720971.120492073,
          17058012.865851387,
          12603346.872452447,
          16972835.81579088,
          16914883.096487742,
          18486444.43838274,
          12008360.926803282,
          14077677.322254382,
          17529845.037217338,
          21256648.987456847,
          23933150.316094227,
          13940624.056087714,
          20924572.214775268,
          16061487.757620003,
          16356602.176571848,
          14277548.69841137,
          19243389.804511297,
          13588750.803709907,
          18208496.86119845,
          14474442.020396488,
          18855332.769291203,
          20109429.24521337,
          18972885.647648126,
          25321500.112473212,
          22443844.07487496,
          17834053.3660725,
          26688753.51343159,
          17809945.066543546,
          19552309.393937256,
          36320372.43149381,
          17333191.56562104,
          19522914.309783403,
          33038600.78315779
         ]
        }
       ],
       "layout": {
        "legend": {
         "x": 0.02,
         "y": 0.98
        },
        "plot_bgcolor": "rgba(0, 0, 0, 0)",
        "template": {
         "data": {
          "bar": [
           {
            "error_x": {
             "color": "#2a3f5f"
            },
            "error_y": {
             "color": "#2a3f5f"
            },
            "marker": {
             "line": {
              "color": "white",
              "width": 0.5
             },
             "pattern": {
              "fillmode": "overlay",
              "size": 10,
              "solidity": 0.2
             }
            },
            "type": "bar"
           }
          ],
          "barpolar": [
           {
            "marker": {
             "line": {
              "color": "white",
              "width": 0.5
             },
             "pattern": {
              "fillmode": "overlay",
              "size": 10,
              "solidity": 0.2
             }
            },
            "type": "barpolar"
           }
          ],
          "carpet": [
           {
            "aaxis": {
             "endlinecolor": "#2a3f5f",
             "gridcolor": "#C8D4E3",
             "linecolor": "#C8D4E3",
             "minorgridcolor": "#C8D4E3",
             "startlinecolor": "#2a3f5f"
            },
            "baxis": {
             "endlinecolor": "#2a3f5f",
             "gridcolor": "#C8D4E3",
             "linecolor": "#C8D4E3",
             "minorgridcolor": "#C8D4E3",
             "startlinecolor": "#2a3f5f"
            },
            "type": "carpet"
           }
          ],
          "choropleth": [
           {
            "colorbar": {
             "outlinewidth": 0,
             "ticks": ""
            },
            "type": "choropleth"
           }
          ],
          "contour": [
           {
            "colorbar": {
             "outlinewidth": 0,
             "ticks": ""
            },
            "colorscale": [
             [
              0,
              "#0d0887"
             ],
             [
              0.1111111111111111,
              "#46039f"
             ],
             [
              0.2222222222222222,
              "#7201a8"
             ],
             [
              0.3333333333333333,
              "#9c179e"
             ],
             [
              0.4444444444444444,
              "#bd3786"
             ],
             [
              0.5555555555555556,
              "#d8576b"
             ],
             [
              0.6666666666666666,
              "#ed7953"
             ],
             [
              0.7777777777777778,
              "#fb9f3a"
             ],
             [
              0.8888888888888888,
              "#fdca26"
             ],
             [
              1,
              "#f0f921"
             ]
            ],
            "type": "contour"
           }
          ],
          "contourcarpet": [
           {
            "colorbar": {
             "outlinewidth": 0,
             "ticks": ""
            },
            "type": "contourcarpet"
           }
          ],
          "heatmap": [
           {
            "colorbar": {
             "outlinewidth": 0,
             "ticks": ""
            },
            "colorscale": [
             [
              0,
              "#0d0887"
             ],
             [
              0.1111111111111111,
              "#46039f"
             ],
             [
              0.2222222222222222,
              "#7201a8"
             ],
             [
              0.3333333333333333,
              "#9c179e"
             ],
             [
              0.4444444444444444,
              "#bd3786"
             ],
             [
              0.5555555555555556,
              "#d8576b"
             ],
             [
              0.6666666666666666,
              "#ed7953"
             ],
             [
              0.7777777777777778,
              "#fb9f3a"
             ],
             [
              0.8888888888888888,
              "#fdca26"
             ],
             [
              1,
              "#f0f921"
             ]
            ],
            "type": "heatmap"
           }
          ],
          "heatmapgl": [
           {
            "colorbar": {
             "outlinewidth": 0,
             "ticks": ""
            },
            "colorscale": [
             [
              0,
              "#0d0887"
             ],
             [
              0.1111111111111111,
              "#46039f"
             ],
             [
              0.2222222222222222,
              "#7201a8"
             ],
             [
              0.3333333333333333,
              "#9c179e"
             ],
             [
              0.4444444444444444,
              "#bd3786"
             ],
             [
              0.5555555555555556,
              "#d8576b"
             ],
             [
              0.6666666666666666,
              "#ed7953"
             ],
             [
              0.7777777777777778,
              "#fb9f3a"
             ],
             [
              0.8888888888888888,
              "#fdca26"
             ],
             [
              1,
              "#f0f921"
             ]
            ],
            "type": "heatmapgl"
           }
          ],
          "histogram": [
           {
            "marker": {
             "pattern": {
              "fillmode": "overlay",
              "size": 10,
              "solidity": 0.2
             }
            },
            "type": "histogram"
           }
          ],
          "histogram2d": [
           {
            "colorbar": {
             "outlinewidth": 0,
             "ticks": ""
            },
            "colorscale": [
             [
              0,
              "#0d0887"
             ],
             [
              0.1111111111111111,
              "#46039f"
             ],
             [
              0.2222222222222222,
              "#7201a8"
             ],
             [
              0.3333333333333333,
              "#9c179e"
             ],
             [
              0.4444444444444444,
              "#bd3786"
             ],
             [
              0.5555555555555556,
              "#d8576b"
             ],
             [
              0.6666666666666666,
              "#ed7953"
             ],
             [
              0.7777777777777778,
              "#fb9f3a"
             ],
             [
              0.8888888888888888,
              "#fdca26"
             ],
             [
              1,
              "#f0f921"
             ]
            ],
            "type": "histogram2d"
           }
          ],
          "histogram2dcontour": [
           {
            "colorbar": {
             "outlinewidth": 0,
             "ticks": ""
            },
            "colorscale": [
             [
              0,
              "#0d0887"
             ],
             [
              0.1111111111111111,
              "#46039f"
             ],
             [
              0.2222222222222222,
              "#7201a8"
             ],
             [
              0.3333333333333333,
              "#9c179e"
             ],
             [
              0.4444444444444444,
              "#bd3786"
             ],
             [
              0.5555555555555556,
              "#d8576b"
             ],
             [
              0.6666666666666666,
              "#ed7953"
             ],
             [
              0.7777777777777778,
              "#fb9f3a"
             ],
             [
              0.8888888888888888,
              "#fdca26"
             ],
             [
              1,
              "#f0f921"
             ]
            ],
            "type": "histogram2dcontour"
           }
          ],
          "mesh3d": [
           {
            "colorbar": {
             "outlinewidth": 0,
             "ticks": ""
            },
            "type": "mesh3d"
           }
          ],
          "parcoords": [
           {
            "line": {
             "colorbar": {
              "outlinewidth": 0,
              "ticks": ""
             }
            },
            "type": "parcoords"
           }
          ],
          "pie": [
           {
            "automargin": true,
            "type": "pie"
           }
          ],
          "scatter": [
           {
            "fillpattern": {
             "fillmode": "overlay",
             "size": 10,
             "solidity": 0.2
            },
            "type": "scatter"
           }
          ],
          "scatter3d": [
           {
            "line": {
             "colorbar": {
              "outlinewidth": 0,
              "ticks": ""
             }
            },
            "marker": {
             "colorbar": {
              "outlinewidth": 0,
              "ticks": ""
             }
            },
            "type": "scatter3d"
           }
          ],
          "scattercarpet": [
           {
            "marker": {
             "colorbar": {
              "outlinewidth": 0,
              "ticks": ""
             }
            },
            "type": "scattercarpet"
           }
          ],
          "scattergeo": [
           {
            "marker": {
             "colorbar": {
              "outlinewidth": 0,
              "ticks": ""
             }
            },
            "type": "scattergeo"
           }
          ],
          "scattergl": [
           {
            "marker": {
             "colorbar": {
              "outlinewidth": 0,
              "ticks": ""
             }
            },
            "type": "scattergl"
           }
          ],
          "scattermapbox": [
           {
            "marker": {
             "colorbar": {
              "outlinewidth": 0,
              "ticks": ""
             }
            },
            "type": "scattermapbox"
           }
          ],
          "scatterpolar": [
           {
            "marker": {
             "colorbar": {
              "outlinewidth": 0,
              "ticks": ""
             }
            },
            "type": "scatterpolar"
           }
          ],
          "scatterpolargl": [
           {
            "marker": {
             "colorbar": {
              "outlinewidth": 0,
              "ticks": ""
             }
            },
            "type": "scatterpolargl"
           }
          ],
          "scatterternary": [
           {
            "marker": {
             "colorbar": {
              "outlinewidth": 0,
              "ticks": ""
             }
            },
            "type": "scatterternary"
           }
          ],
          "surface": [
           {
            "colorbar": {
             "outlinewidth": 0,
             "ticks": ""
            },
            "colorscale": [
             [
              0,
              "#0d0887"
             ],
             [
              0.1111111111111111,
              "#46039f"
             ],
             [
              0.2222222222222222,
              "#7201a8"
             ],
             [
              0.3333333333333333,
              "#9c179e"
             ],
             [
              0.4444444444444444,
              "#bd3786"
             ],
             [
              0.5555555555555556,
              "#d8576b"
             ],
             [
              0.6666666666666666,
              "#ed7953"
             ],
             [
              0.7777777777777778,
              "#fb9f3a"
             ],
             [
              0.8888888888888888,
              "#fdca26"
             ],
             [
              1,
              "#f0f921"
             ]
            ],
            "type": "surface"
           }
          ],
          "table": [
           {
            "cells": {
             "fill": {
              "color": "#EBF0F8"
             },
             "line": {
              "color": "white"
             }
            },
            "header": {
             "fill": {
              "color": "#C8D4E3"
             },
             "line": {
              "color": "white"
             }
            },
            "type": "table"
           }
          ]
         },
         "layout": {
          "annotationdefaults": {
           "arrowcolor": "#2a3f5f",
           "arrowhead": 0,
           "arrowwidth": 1
          },
          "autotypenumbers": "strict",
          "coloraxis": {
           "colorbar": {
            "outlinewidth": 0,
            "ticks": ""
           }
          },
          "colorscale": {
           "diverging": [
            [
             0,
             "#8e0152"
            ],
            [
             0.1,
             "#c51b7d"
            ],
            [
             0.2,
             "#de77ae"
            ],
            [
             0.3,
             "#f1b6da"
            ],
            [
             0.4,
             "#fde0ef"
            ],
            [
             0.5,
             "#f7f7f7"
            ],
            [
             0.6,
             "#e6f5d0"
            ],
            [
             0.7,
             "#b8e186"
            ],
            [
             0.8,
             "#7fbc41"
            ],
            [
             0.9,
             "#4d9221"
            ],
            [
             1,
             "#276419"
            ]
           ],
           "sequential": [
            [
             0,
             "#0d0887"
            ],
            [
             0.1111111111111111,
             "#46039f"
            ],
            [
             0.2222222222222222,
             "#7201a8"
            ],
            [
             0.3333333333333333,
             "#9c179e"
            ],
            [
             0.4444444444444444,
             "#bd3786"
            ],
            [
             0.5555555555555556,
             "#d8576b"
            ],
            [
             0.6666666666666666,
             "#ed7953"
            ],
            [
             0.7777777777777778,
             "#fb9f3a"
            ],
            [
             0.8888888888888888,
             "#fdca26"
            ],
            [
             1,
             "#f0f921"
            ]
           ],
           "sequentialminus": [
            [
             0,
             "#0d0887"
            ],
            [
             0.1111111111111111,
             "#46039f"
            ],
            [
             0.2222222222222222,
             "#7201a8"
            ],
            [
             0.3333333333333333,
             "#9c179e"
            ],
            [
             0.4444444444444444,
             "#bd3786"
            ],
            [
             0.5555555555555556,
             "#d8576b"
            ],
            [
             0.6666666666666666,
             "#ed7953"
            ],
            [
             0.7777777777777778,
             "#fb9f3a"
            ],
            [
             0.8888888888888888,
             "#fdca26"
            ],
            [
             1,
             "#f0f921"
            ]
           ]
          },
          "colorway": [
           "#636efa",
           "#EF553B",
           "#00cc96",
           "#ab63fa",
           "#FFA15A",
           "#19d3f3",
           "#FF6692",
           "#B6E880",
           "#FF97FF",
           "#FECB52"
          ],
          "font": {
           "color": "#2a3f5f"
          },
          "geo": {
           "bgcolor": "white",
           "lakecolor": "white",
           "landcolor": "white",
           "showlakes": true,
           "showland": true,
           "subunitcolor": "#C8D4E3"
          },
          "hoverlabel": {
           "align": "left"
          },
          "hovermode": "closest",
          "mapbox": {
           "style": "light"
          },
          "paper_bgcolor": "white",
          "plot_bgcolor": "white",
          "polar": {
           "angularaxis": {
            "gridcolor": "#EBF0F8",
            "linecolor": "#EBF0F8",
            "ticks": ""
           },
           "bgcolor": "white",
           "radialaxis": {
            "gridcolor": "#EBF0F8",
            "linecolor": "#EBF0F8",
            "ticks": ""
           }
          },
          "scene": {
           "xaxis": {
            "backgroundcolor": "white",
            "gridcolor": "#DFE8F3",
            "gridwidth": 2,
            "linecolor": "#EBF0F8",
            "showbackground": true,
            "ticks": "",
            "zerolinecolor": "#EBF0F8"
           },
           "yaxis": {
            "backgroundcolor": "white",
            "gridcolor": "#DFE8F3",
            "gridwidth": 2,
            "linecolor": "#EBF0F8",
            "showbackground": true,
            "ticks": "",
            "zerolinecolor": "#EBF0F8"
           },
           "zaxis": {
            "backgroundcolor": "white",
            "gridcolor": "#DFE8F3",
            "gridwidth": 2,
            "linecolor": "#EBF0F8",
            "showbackground": true,
            "ticks": "",
            "zerolinecolor": "#EBF0F8"
           }
          },
          "shapedefaults": {
           "line": {
            "color": "#2a3f5f"
           }
          },
          "ternary": {
           "aaxis": {
            "gridcolor": "#DFE8F3",
            "linecolor": "#A2B1C6",
            "ticks": ""
           },
           "baxis": {
            "gridcolor": "#DFE8F3",
            "linecolor": "#A2B1C6",
            "ticks": ""
           },
           "bgcolor": "white",
           "caxis": {
            "gridcolor": "#DFE8F3",
            "linecolor": "#A2B1C6",
            "ticks": ""
           }
          },
          "title": {
           "x": 0.05
          },
          "xaxis": {
           "automargin": true,
           "gridcolor": "#EBF0F8",
           "linecolor": "#EBF0F8",
           "ticks": "",
           "title": {
            "standoff": 15
           },
           "zerolinecolor": "#EBF0F8",
           "zerolinewidth": 2
          },
          "yaxis": {
           "automargin": true,
           "gridcolor": "#EBF0F8",
           "linecolor": "#EBF0F8",
           "ticks": "",
           "title": {
            "standoff": 15
           },
           "zerolinecolor": "#EBF0F8",
           "zerolinewidth": 2
          }
         }
        },
        "title": {
         "text": "Actual and Predicted Gross Margin"
        },
        "xaxis": {
         "tickangle": -45,
         "title": {
          "text": "Date"
         }
        },
        "yaxis": {
         "title": {
          "text": "Gross Margin"
         }
        }
       }
      }
     },
     "metadata": {},
     "output_type": "display_data"
    }
   ],
   "source": [
    "fig = go.Figure()\n",
    "\n",
    "# Plot Actual Values\n",
    "fig.add_trace(go.Scatter(\n",
    "    x=monthly_combined_results['Date'],\n",
    "    y=monthly_combined_results['Actual'],\n",
    "    mode='lines+markers',\n",
    "    name='Actual Values',\n",
    "    line=dict(color='blue')\n",
    "))\n",
    "\n",
    "# Plot Predicted Values \n",
    "fig.add_trace(go.Scatter(\n",
    "    x=monthly_combined_results['Date'],\n",
    "    y=monthly_combined_results['Predicted'],\n",
    "    mode='lines+markers',\n",
    "    name='Predicted Values',\n",
    "    line=dict(color='red', dash='dash')\n",
    "))\n",
    "fig.update_layout(\n",
    "    title='Actual and Predicted Gross Margin',\n",
    "    xaxis_title='Date',\n",
    "    yaxis_title='Gross Margin',\n",
    "    template='plotly_white',\n",
    "    legend=dict(x=0.02, y=0.98),\n",
    "    plot_bgcolor='rgba(0, 0, 0, 0)',\n",
    "    xaxis_tickangle=-45\n",
    ")\n",
    "fig.show()"
   ]
  },
  {
   "cell_type": "code",
   "execution_count": 9,
   "id": "360fd81c",
   "metadata": {},
   "outputs": [
    {
     "name": "stdout",
     "output_type": "stream",
     "text": [
      "Mean Absolute Percentage Error (MAPE): 221.28%\n"
     ]
    }
   ],
   "source": [
    "mape = np.mean(np.abs((monthly_combined_results['Actual'] - monthly_combined_results['Predicted']) / monthly_combined_results['Actual'])) * 100\n",
    "print(f\"Mean Absolute Percentage Error (MAPE): {mape:.2f}%\")"
   ]
  },
  {
   "cell_type": "markdown",
   "id": "4e5e4e32",
   "metadata": {},
   "source": [
    "### Hyperparameter tuning for gross margin's Prophet model\n",
    "\n",
    "Grid search "
   ]
  },
  {
   "cell_type": "code",
   "execution_count": 10,
   "id": "3357abc1",
   "metadata": {},
   "outputs": [],
   "source": [
    "# from sklearn.metrics import mean_absolute_percentage_error as mape\n",
    "\n",
    "# # Define the hyperparameter grid\n",
    "# param_grid = {\n",
    "#     'changepoint_prior_scale': [0.001, 0.01, 0.1, 0.5, 1.0],\n",
    "#     'seasonality_prior_scale': [0.01, 0.1, 1.0, 10.0],\n",
    "#     'holidays_prior_scale': [0.01, 0.1, 1.0, 10.0],\n",
    "#     'seasonality_mode': ['additive', 'multiplicative']\n",
    "# }\n",
    "\n",
    "# # Create combinations of all parameters\n",
    "# from itertools import product\n",
    "# all_params = [dict(zip(param_grid.keys(), v)) for v in product(*param_grid.values())]\n",
    "\n",
    "# # Initialize lists to store results\n",
    "# mape_scores = []\n",
    "# best_model = None\n",
    "# best_params = None\n",
    "\n",
    "# # Train and evaluate each combination\n",
    "# for params in all_params:\n",
    "#     model = Prophet(\n",
    "#         changepoint_prior_scale=params['changepoint_prior_scale'],\n",
    "#         seasonality_prior_scale=params['seasonality_prior_scale'],\n",
    "#         holidays_prior_scale=params['holidays_prior_scale'],\n",
    "#         seasonality_mode=params['seasonality_mode']\n",
    "  #  )\n",
    "    \n",
    "    # Add regressors if necessary\n",
    "#     model.add_regressor(' CASH DISCOUNT ')\n",
    "#     model.add_regressor(' OTHER INCOME ')\n",
    "    \n",
    "#     # Fit the model\n",
    "#     model.fit(prophet_data)\n",
    "    \n",
    "#     # Predict on the test set\n",
    "#     test_forecast = model.predict(prophet_data[['ds', ' CASH DISCOUNT ', ' OTHER INCOME ']])\n",
    "#     y_true = prophet_data['y']\n",
    "#     y_pred = forecast['yhat']\n",
    "    \n",
    "#     # Compute MAPE\n",
    "#     current_mape = mape(y_true, y_pred)\n",
    "#     mape_scores.append(current_mape)\n",
    "    \n",
    "#     # Track the best model\n",
    "#     if best_model is None or current_mape < min(mape_scores):\n",
    "#         best_model = model\n",
    "#         best_params = params\n",
    "\n",
    "# # Print the best parameters and MAPE score\n",
    "# print(\"Best Parameters:\", best_params)\n",
    "# print(\"Best MAPE:\", min(mape_scores))\n"
   ]
  },
  {
   "cell_type": "code",
   "execution_count": 11,
   "id": "a5ae1720",
   "metadata": {},
   "outputs": [],
   "source": [
    "Best_Parameters = {'changepoint_prior_scale': 0.001, 'seasonality_prior_scale': 0.01, 'holidays_prior_scale': 0.01, 'seasonality_mode': 'additive'}\n",
    "Best_MAPE: 1222.1473286964786\n"
   ]
  },
  {
   "cell_type": "markdown",
   "id": "412ed82f",
   "metadata": {},
   "source": [
    "### Implementation of best features for Gross margin"
   ]
  },
  {
   "cell_type": "code",
   "execution_count": 12,
   "id": "f2080de5",
   "metadata": {},
   "outputs": [
    {
     "name": "stderr",
     "output_type": "stream",
     "text": [
      "10:27:19 - cmdstanpy - INFO - Chain [1] start processing\n",
      "10:27:21 - cmdstanpy - INFO - Chain [1] done processing\n"
     ]
    },
    {
     "data": {
      "text/plain": [
       "<prophet.forecaster.Prophet at 0x175a4a20690>"
      ]
     },
     "execution_count": 12,
     "metadata": {},
     "output_type": "execute_result"
    }
   ],
   "source": [
    "best_model = Prophet(\n",
    "    changepoint_prior_scale=Best_Parameters['changepoint_prior_scale'],\n",
    "    seasonality_prior_scale=Best_Parameters['seasonality_prior_scale'],\n",
    "    holidays_prior_scale=Best_Parameters['holidays_prior_scale'],\n",
    "    seasonality_mode=Best_Parameters['seasonality_mode']\n",
    ")\n",
    "best_model.add_regressor(' CASH DISCOUNT ')\n",
    "best_model.add_regressor(' OTHER INCOME ')\n",
    "best_model.fit(prophet_data)\n"
   ]
  },
  {
   "cell_type": "code",
   "execution_count": 13,
   "id": "989cc2bd",
   "metadata": {},
   "outputs": [],
   "source": [
    "test_forecast = best_model.predict(prophet_data[['ds', ' CASH DISCOUNT ', ' OTHER INCOME ']])\n",
    "test_forecast = pd.DataFrame({\n",
    "    'Date': test_forecast['ds'],\n",
    "    'Actual': prophet_data['y'],\n",
    "    'Predicted': test_forecast['yhat']\n",
    "})"
   ]
  },
  {
   "cell_type": "code",
   "execution_count": 14,
   "id": "b6da20d8",
   "metadata": {},
   "outputs": [
    {
     "name": "stderr",
     "output_type": "stream",
     "text": [
      "10:27:26 - cmdstanpy - INFO - Chain [1] start processing\n",
      "10:27:28 - cmdstanpy - INFO - Chain [1] done processing\n"
     ]
    }
   ],
   "source": [
    "#prediction for future dates\n",
    "gross_margin_df = df[['YEAR', 'month_index', 'C_Gross_Margin', ' CASH DISCOUNT ', ' OTHER INCOME ']].copy()\n",
    "gross_margin_df['ds'] = pd.to_datetime(gross_margin_df['YEAR'].astype(str) + '-' + gross_margin_df['month_index'].astype(str).str.zfill(2) + '-01')\n",
    "gross_margin_df = gross_margin_df.rename(columns={'C_Gross_Margin': 'y'})\n",
    "\n",
    "best_model = Prophet(\n",
    "    changepoint_prior_scale=Best_Parameters['changepoint_prior_scale'],\n",
    "    seasonality_prior_scale=Best_Parameters['seasonality_prior_scale'],\n",
    "    holidays_prior_scale=Best_Parameters['holidays_prior_scale'],\n",
    "    seasonality_mode=Best_Parameters['seasonality_mode']\n",
    ")\n",
    "best_model.add_regressor(' CASH DISCOUNT ')\n",
    "best_model.add_regressor(' OTHER INCOME ')\n",
    "\n",
    "# Fit the model\n",
    "best_model.fit(gross_margin_df[['ds', 'y', ' CASH DISCOUNT ', ' OTHER INCOME ']])\n",
    "\n",
    "# Prepare the future dataframe\n",
    "future_dates_g = best_model.make_future_dataframe(periods=12, freq='MS')\n",
    "\n",
    "# Add regressor values for future dates\n",
    "future_monthly_g = df.groupby(['month_index'])[[' CASH DISCOUNT ', ' OTHER INCOME ']].mean().reset_index()\n",
    "future_dates_g['month_index'] = future_dates_g['ds'].dt.month\n",
    "future_dates_g = pd.merge(future_dates_g, future_monthly_g, on='month_index', how='left')\n",
    "\n",
    "# Predict\n",
    "future_forecast_g = best_model.predict(future_dates)\n",
    "\n",
    "# Extract the result\n",
    "future_results_g = pd.DataFrame({\n",
    "    'Date': future_forecast_g['ds'],\n",
    "    'Predicted': future_forecast_g['yhat']\n",
    "})"
   ]
  },
  {
   "cell_type": "code",
   "execution_count": 15,
   "id": "58a99ede",
   "metadata": {},
   "outputs": [],
   "source": [
    "#combining actuals and forcasted values\n",
    "combined_results_g = pd.concat([\n",
    "    test_forecast[['Date','Actual', 'Predicted']],\n",
    "    future_results_g[['Date', 'Predicted']]\n",
    "], ignore_index=True)\n",
    "\n",
    "#groupby month\n",
    "combined_results_g['Month-Year'] = combined_results_g['Date'].dt.to_period('M')\n",
    "monthly_combined_results_g = combined_results_g.groupby('Month-Year').mean().reset_index()\n",
    "monthly_combined_results_g['Date'] = monthly_combined_results_g['Month-Year'].dt.to_timestamp()"
   ]
  },
  {
   "cell_type": "code",
   "execution_count": 16,
   "id": "a97a538b",
   "metadata": {},
   "outputs": [
    {
     "data": {
      "application/vnd.plotly.v1+json": {
       "config": {
        "plotlyServerURL": "https://plot.ly"
       },
       "data": [
        {
         "line": {
          "color": "blue"
         },
         "mode": "lines+markers",
         "name": "Actual Values",
         "type": "scatter",
         "x": [
          "2019-04-01T00:00:00",
          "2019-05-01T00:00:00",
          "2019-06-01T00:00:00",
          "2019-07-01T00:00:00",
          "2019-08-01T00:00:00",
          "2019-09-01T00:00:00",
          "2019-10-01T00:00:00",
          "2019-11-01T00:00:00",
          "2019-12-01T00:00:00",
          "2020-01-01T00:00:00",
          "2020-02-01T00:00:00",
          "2020-03-01T00:00:00",
          "2020-04-01T00:00:00",
          "2020-05-01T00:00:00",
          "2020-06-01T00:00:00",
          "2020-07-01T00:00:00",
          "2020-08-01T00:00:00",
          "2020-09-01T00:00:00",
          "2020-10-01T00:00:00",
          "2020-11-01T00:00:00",
          "2020-12-01T00:00:00",
          "2021-01-01T00:00:00",
          "2021-02-01T00:00:00",
          "2021-03-01T00:00:00",
          "2021-04-01T00:00:00",
          "2021-05-01T00:00:00",
          "2021-06-01T00:00:00",
          "2021-07-01T00:00:00",
          "2021-08-01T00:00:00",
          "2021-09-01T00:00:00",
          "2021-10-01T00:00:00",
          "2021-11-01T00:00:00",
          "2021-12-01T00:00:00",
          "2022-01-01T00:00:00",
          "2022-02-01T00:00:00",
          "2022-03-01T00:00:00",
          "2022-04-01T00:00:00",
          "2022-05-01T00:00:00",
          "2022-06-01T00:00:00",
          "2022-07-01T00:00:00",
          "2022-08-01T00:00:00",
          "2022-09-01T00:00:00",
          "2022-10-01T00:00:00",
          "2022-11-01T00:00:00",
          "2022-12-01T00:00:00",
          "2023-01-01T00:00:00",
          "2023-02-01T00:00:00",
          "2023-03-01T00:00:00",
          "2023-04-01T00:00:00",
          "2023-05-01T00:00:00",
          "2023-06-01T00:00:00",
          "2023-07-01T00:00:00",
          "2023-08-01T00:00:00",
          "2023-09-01T00:00:00",
          "2023-10-01T00:00:00",
          "2023-11-01T00:00:00",
          "2023-12-01T00:00:00",
          "2024-01-01T00:00:00",
          "2024-02-01T00:00:00",
          "2024-03-01T00:00:00",
          "2024-04-01T00:00:00",
          "2024-05-01T00:00:00",
          "2024-06-01T00:00:00",
          "2024-07-01T00:00:00",
          "2024-08-01T00:00:00",
          "2024-09-01T00:00:00",
          "2024-10-01T00:00:00",
          "2024-11-01T00:00:00",
          "2024-12-01T00:00:00",
          "2025-01-01T00:00:00",
          "2025-02-01T00:00:00",
          "2025-03-01T00:00:00",
          "2025-04-01T00:00:00",
          "2025-05-01T00:00:00",
          "2025-06-01T00:00:00"
         ],
         "y": [
          425327.26332574064,
          8103678.281008773,
          25247997.219331138,
          21203005.94217548,
          14202499.069352333,
          2996820.036094147,
          985285.2528475941,
          22089783.30766043,
          20768067.00265499,
          649319.4408176945,
          9198896.636093333,
          33177021.29546174,
          1011299.388108108,
          7699264.595014044,
          27732614.08462963,
          13852543.528905405,
          11442940.151662199,
          16522288.306853784,
          16294760.58744032,
          13966598.038464569,
          26598353.912165355,
          14003968.820638297,
          17690186.433399998,
          21910834.372036554,
          16810395.72934295,
          12013381.749973118,
          21641063.116524063,
          18515289.40226902,
          15709712.19881579,
          22683983.376294874,
          17122812.92541985,
          17709250.473345865,
          25576675.82580247,
          13944744.396213941,
          16590380.815562347,
          25699392.344269138,
          17594233.549367815,
          16806036.821324203,
          26601253.03564394,
          12272010.218004486,
          15561144.830339704,
          28545109.757289417,
          15357241.384663159,
          11185534.89437807,
          23180525.59524564,
          7215428.779018839,
          10026175.855834646,
          32979147.6929257,
          14050454.113764046,
          15397757.6403125,
          26916892.27857671,
          17607197.692001812,
          13728408.967477314,
          27978150.452084836,
          14326903.951394053,
          12196118.614175364,
          34985544.68810707,
          9641043.630246406,
          14759819.286799591,
          37229872.674789675,
          15014452.591529176,
          16960519.13372277,
          29102503.85391473,
          null,
          null,
          null,
          null,
          null,
          null,
          null,
          null,
          null,
          null,
          null,
          null
         ]
        },
        {
         "line": {
          "color": "red",
          "dash": "dash"
         },
         "mode": "lines+markers",
         "name": "Predicted Values",
         "type": "scatter",
         "x": [
          "2019-04-01T00:00:00",
          "2019-05-01T00:00:00",
          "2019-06-01T00:00:00",
          "2019-07-01T00:00:00",
          "2019-08-01T00:00:00",
          "2019-09-01T00:00:00",
          "2019-10-01T00:00:00",
          "2019-11-01T00:00:00",
          "2019-12-01T00:00:00",
          "2020-01-01T00:00:00",
          "2020-02-01T00:00:00",
          "2020-03-01T00:00:00",
          "2020-04-01T00:00:00",
          "2020-05-01T00:00:00",
          "2020-06-01T00:00:00",
          "2020-07-01T00:00:00",
          "2020-08-01T00:00:00",
          "2020-09-01T00:00:00",
          "2020-10-01T00:00:00",
          "2020-11-01T00:00:00",
          "2020-12-01T00:00:00",
          "2021-01-01T00:00:00",
          "2021-02-01T00:00:00",
          "2021-03-01T00:00:00",
          "2021-04-01T00:00:00",
          "2021-05-01T00:00:00",
          "2021-06-01T00:00:00",
          "2021-07-01T00:00:00",
          "2021-08-01T00:00:00",
          "2021-09-01T00:00:00",
          "2021-10-01T00:00:00",
          "2021-11-01T00:00:00",
          "2021-12-01T00:00:00",
          "2022-01-01T00:00:00",
          "2022-02-01T00:00:00",
          "2022-03-01T00:00:00",
          "2022-04-01T00:00:00",
          "2022-05-01T00:00:00",
          "2022-06-01T00:00:00",
          "2022-07-01T00:00:00",
          "2022-08-01T00:00:00",
          "2022-09-01T00:00:00",
          "2022-10-01T00:00:00",
          "2022-11-01T00:00:00",
          "2022-12-01T00:00:00",
          "2023-01-01T00:00:00",
          "2023-02-01T00:00:00",
          "2023-03-01T00:00:00",
          "2023-04-01T00:00:00",
          "2023-05-01T00:00:00",
          "2023-06-01T00:00:00",
          "2023-07-01T00:00:00",
          "2023-08-01T00:00:00",
          "2023-09-01T00:00:00",
          "2023-10-01T00:00:00",
          "2023-11-01T00:00:00",
          "2023-12-01T00:00:00",
          "2024-01-01T00:00:00",
          "2024-02-01T00:00:00",
          "2024-03-01T00:00:00",
          "2024-04-01T00:00:00",
          "2024-05-01T00:00:00",
          "2024-06-01T00:00:00",
          "2024-07-01T00:00:00",
          "2024-08-01T00:00:00",
          "2024-09-01T00:00:00",
          "2024-10-01T00:00:00",
          "2024-11-01T00:00:00",
          "2024-12-01T00:00:00",
          "2025-01-01T00:00:00",
          "2025-02-01T00:00:00",
          "2025-03-01T00:00:00",
          "2025-04-01T00:00:00",
          "2025-05-01T00:00:00",
          "2025-06-01T00:00:00"
         ],
         "y": [
          6646275.183974133,
          9733181.23930963,
          22335397.727338776,
          12681672.449255917,
          10916537.655289855,
          17298907.07244256,
          9707281.106767569,
          12301010.704627177,
          23997909.172746114,
          5628197.10541073,
          9775892.20666221,
          27336034.665054858,
          5435192.14101455,
          9301143.565300502,
          24554713.940741938,
          14767998.142595604,
          12415654.132444073,
          19609697.88376111,
          10678367.42033006,
          12816897.5091769,
          25422337.859097965,
          7158323.032875125,
          11822636.344045198,
          30316385.72727482,
          11139740.399295878,
          12389577.112362139,
          26672834.693952806,
          16478455.116669977,
          14709341.70223659,
          20545198.549059287,
          14194550.938842261,
          14821480.602151785,
          27069144.8841054,
          9021829.589455862,
          15083631.910242287,
          30900529.260975804,
          12897303.983798614,
          14232391.149108957,
          27796275.283345476,
          16513978.530216567,
          14873578.749795372,
          22449535.927670393,
          14734885.2983754,
          14708945.743088411,
          26495708.266244892,
          10470080.358570844,
          13278630.022518389,
          30963606.995208707,
          13170358.105921619,
          15201616.392685367,
          27866153.595667284,
          19762412.736059453,
          16816194.49534914,
          22482657.43653268,
          14889530.229037907,
          18568322.53388367,
          28546679.183898337,
          11221022.748227866,
          15917763.024190508,
          33627495.200393766,
          15136682.558902752,
          16737122.399534961,
          28577663.887879893,
          19622212.875868708,
          17468172.6860979,
          24013226.90541944,
          16599002.015487537,
          17932623.564382322,
          29619678.812226072,
          12639210.757220361,
          16559462.692602409,
          34133576.62415293,
          15041363.907931458,
          17106572.27382586,
          30363443.968842007
         ]
        }
       ],
       "layout": {
        "legend": {
         "x": 0.02,
         "y": 0.98
        },
        "plot_bgcolor": "rgba(0, 0, 0, 0)",
        "template": {
         "data": {
          "bar": [
           {
            "error_x": {
             "color": "#2a3f5f"
            },
            "error_y": {
             "color": "#2a3f5f"
            },
            "marker": {
             "line": {
              "color": "white",
              "width": 0.5
             },
             "pattern": {
              "fillmode": "overlay",
              "size": 10,
              "solidity": 0.2
             }
            },
            "type": "bar"
           }
          ],
          "barpolar": [
           {
            "marker": {
             "line": {
              "color": "white",
              "width": 0.5
             },
             "pattern": {
              "fillmode": "overlay",
              "size": 10,
              "solidity": 0.2
             }
            },
            "type": "barpolar"
           }
          ],
          "carpet": [
           {
            "aaxis": {
             "endlinecolor": "#2a3f5f",
             "gridcolor": "#C8D4E3",
             "linecolor": "#C8D4E3",
             "minorgridcolor": "#C8D4E3",
             "startlinecolor": "#2a3f5f"
            },
            "baxis": {
             "endlinecolor": "#2a3f5f",
             "gridcolor": "#C8D4E3",
             "linecolor": "#C8D4E3",
             "minorgridcolor": "#C8D4E3",
             "startlinecolor": "#2a3f5f"
            },
            "type": "carpet"
           }
          ],
          "choropleth": [
           {
            "colorbar": {
             "outlinewidth": 0,
             "ticks": ""
            },
            "type": "choropleth"
           }
          ],
          "contour": [
           {
            "colorbar": {
             "outlinewidth": 0,
             "ticks": ""
            },
            "colorscale": [
             [
              0,
              "#0d0887"
             ],
             [
              0.1111111111111111,
              "#46039f"
             ],
             [
              0.2222222222222222,
              "#7201a8"
             ],
             [
              0.3333333333333333,
              "#9c179e"
             ],
             [
              0.4444444444444444,
              "#bd3786"
             ],
             [
              0.5555555555555556,
              "#d8576b"
             ],
             [
              0.6666666666666666,
              "#ed7953"
             ],
             [
              0.7777777777777778,
              "#fb9f3a"
             ],
             [
              0.8888888888888888,
              "#fdca26"
             ],
             [
              1,
              "#f0f921"
             ]
            ],
            "type": "contour"
           }
          ],
          "contourcarpet": [
           {
            "colorbar": {
             "outlinewidth": 0,
             "ticks": ""
            },
            "type": "contourcarpet"
           }
          ],
          "heatmap": [
           {
            "colorbar": {
             "outlinewidth": 0,
             "ticks": ""
            },
            "colorscale": [
             [
              0,
              "#0d0887"
             ],
             [
              0.1111111111111111,
              "#46039f"
             ],
             [
              0.2222222222222222,
              "#7201a8"
             ],
             [
              0.3333333333333333,
              "#9c179e"
             ],
             [
              0.4444444444444444,
              "#bd3786"
             ],
             [
              0.5555555555555556,
              "#d8576b"
             ],
             [
              0.6666666666666666,
              "#ed7953"
             ],
             [
              0.7777777777777778,
              "#fb9f3a"
             ],
             [
              0.8888888888888888,
              "#fdca26"
             ],
             [
              1,
              "#f0f921"
             ]
            ],
            "type": "heatmap"
           }
          ],
          "heatmapgl": [
           {
            "colorbar": {
             "outlinewidth": 0,
             "ticks": ""
            },
            "colorscale": [
             [
              0,
              "#0d0887"
             ],
             [
              0.1111111111111111,
              "#46039f"
             ],
             [
              0.2222222222222222,
              "#7201a8"
             ],
             [
              0.3333333333333333,
              "#9c179e"
             ],
             [
              0.4444444444444444,
              "#bd3786"
             ],
             [
              0.5555555555555556,
              "#d8576b"
             ],
             [
              0.6666666666666666,
              "#ed7953"
             ],
             [
              0.7777777777777778,
              "#fb9f3a"
             ],
             [
              0.8888888888888888,
              "#fdca26"
             ],
             [
              1,
              "#f0f921"
             ]
            ],
            "type": "heatmapgl"
           }
          ],
          "histogram": [
           {
            "marker": {
             "pattern": {
              "fillmode": "overlay",
              "size": 10,
              "solidity": 0.2
             }
            },
            "type": "histogram"
           }
          ],
          "histogram2d": [
           {
            "colorbar": {
             "outlinewidth": 0,
             "ticks": ""
            },
            "colorscale": [
             [
              0,
              "#0d0887"
             ],
             [
              0.1111111111111111,
              "#46039f"
             ],
             [
              0.2222222222222222,
              "#7201a8"
             ],
             [
              0.3333333333333333,
              "#9c179e"
             ],
             [
              0.4444444444444444,
              "#bd3786"
             ],
             [
              0.5555555555555556,
              "#d8576b"
             ],
             [
              0.6666666666666666,
              "#ed7953"
             ],
             [
              0.7777777777777778,
              "#fb9f3a"
             ],
             [
              0.8888888888888888,
              "#fdca26"
             ],
             [
              1,
              "#f0f921"
             ]
            ],
            "type": "histogram2d"
           }
          ],
          "histogram2dcontour": [
           {
            "colorbar": {
             "outlinewidth": 0,
             "ticks": ""
            },
            "colorscale": [
             [
              0,
              "#0d0887"
             ],
             [
              0.1111111111111111,
              "#46039f"
             ],
             [
              0.2222222222222222,
              "#7201a8"
             ],
             [
              0.3333333333333333,
              "#9c179e"
             ],
             [
              0.4444444444444444,
              "#bd3786"
             ],
             [
              0.5555555555555556,
              "#d8576b"
             ],
             [
              0.6666666666666666,
              "#ed7953"
             ],
             [
              0.7777777777777778,
              "#fb9f3a"
             ],
             [
              0.8888888888888888,
              "#fdca26"
             ],
             [
              1,
              "#f0f921"
             ]
            ],
            "type": "histogram2dcontour"
           }
          ],
          "mesh3d": [
           {
            "colorbar": {
             "outlinewidth": 0,
             "ticks": ""
            },
            "type": "mesh3d"
           }
          ],
          "parcoords": [
           {
            "line": {
             "colorbar": {
              "outlinewidth": 0,
              "ticks": ""
             }
            },
            "type": "parcoords"
           }
          ],
          "pie": [
           {
            "automargin": true,
            "type": "pie"
           }
          ],
          "scatter": [
           {
            "fillpattern": {
             "fillmode": "overlay",
             "size": 10,
             "solidity": 0.2
            },
            "type": "scatter"
           }
          ],
          "scatter3d": [
           {
            "line": {
             "colorbar": {
              "outlinewidth": 0,
              "ticks": ""
             }
            },
            "marker": {
             "colorbar": {
              "outlinewidth": 0,
              "ticks": ""
             }
            },
            "type": "scatter3d"
           }
          ],
          "scattercarpet": [
           {
            "marker": {
             "colorbar": {
              "outlinewidth": 0,
              "ticks": ""
             }
            },
            "type": "scattercarpet"
           }
          ],
          "scattergeo": [
           {
            "marker": {
             "colorbar": {
              "outlinewidth": 0,
              "ticks": ""
             }
            },
            "type": "scattergeo"
           }
          ],
          "scattergl": [
           {
            "marker": {
             "colorbar": {
              "outlinewidth": 0,
              "ticks": ""
             }
            },
            "type": "scattergl"
           }
          ],
          "scattermapbox": [
           {
            "marker": {
             "colorbar": {
              "outlinewidth": 0,
              "ticks": ""
             }
            },
            "type": "scattermapbox"
           }
          ],
          "scatterpolar": [
           {
            "marker": {
             "colorbar": {
              "outlinewidth": 0,
              "ticks": ""
             }
            },
            "type": "scatterpolar"
           }
          ],
          "scatterpolargl": [
           {
            "marker": {
             "colorbar": {
              "outlinewidth": 0,
              "ticks": ""
             }
            },
            "type": "scatterpolargl"
           }
          ],
          "scatterternary": [
           {
            "marker": {
             "colorbar": {
              "outlinewidth": 0,
              "ticks": ""
             }
            },
            "type": "scatterternary"
           }
          ],
          "surface": [
           {
            "colorbar": {
             "outlinewidth": 0,
             "ticks": ""
            },
            "colorscale": [
             [
              0,
              "#0d0887"
             ],
             [
              0.1111111111111111,
              "#46039f"
             ],
             [
              0.2222222222222222,
              "#7201a8"
             ],
             [
              0.3333333333333333,
              "#9c179e"
             ],
             [
              0.4444444444444444,
              "#bd3786"
             ],
             [
              0.5555555555555556,
              "#d8576b"
             ],
             [
              0.6666666666666666,
              "#ed7953"
             ],
             [
              0.7777777777777778,
              "#fb9f3a"
             ],
             [
              0.8888888888888888,
              "#fdca26"
             ],
             [
              1,
              "#f0f921"
             ]
            ],
            "type": "surface"
           }
          ],
          "table": [
           {
            "cells": {
             "fill": {
              "color": "#EBF0F8"
             },
             "line": {
              "color": "white"
             }
            },
            "header": {
             "fill": {
              "color": "#C8D4E3"
             },
             "line": {
              "color": "white"
             }
            },
            "type": "table"
           }
          ]
         },
         "layout": {
          "annotationdefaults": {
           "arrowcolor": "#2a3f5f",
           "arrowhead": 0,
           "arrowwidth": 1
          },
          "autotypenumbers": "strict",
          "coloraxis": {
           "colorbar": {
            "outlinewidth": 0,
            "ticks": ""
           }
          },
          "colorscale": {
           "diverging": [
            [
             0,
             "#8e0152"
            ],
            [
             0.1,
             "#c51b7d"
            ],
            [
             0.2,
             "#de77ae"
            ],
            [
             0.3,
             "#f1b6da"
            ],
            [
             0.4,
             "#fde0ef"
            ],
            [
             0.5,
             "#f7f7f7"
            ],
            [
             0.6,
             "#e6f5d0"
            ],
            [
             0.7,
             "#b8e186"
            ],
            [
             0.8,
             "#7fbc41"
            ],
            [
             0.9,
             "#4d9221"
            ],
            [
             1,
             "#276419"
            ]
           ],
           "sequential": [
            [
             0,
             "#0d0887"
            ],
            [
             0.1111111111111111,
             "#46039f"
            ],
            [
             0.2222222222222222,
             "#7201a8"
            ],
            [
             0.3333333333333333,
             "#9c179e"
            ],
            [
             0.4444444444444444,
             "#bd3786"
            ],
            [
             0.5555555555555556,
             "#d8576b"
            ],
            [
             0.6666666666666666,
             "#ed7953"
            ],
            [
             0.7777777777777778,
             "#fb9f3a"
            ],
            [
             0.8888888888888888,
             "#fdca26"
            ],
            [
             1,
             "#f0f921"
            ]
           ],
           "sequentialminus": [
            [
             0,
             "#0d0887"
            ],
            [
             0.1111111111111111,
             "#46039f"
            ],
            [
             0.2222222222222222,
             "#7201a8"
            ],
            [
             0.3333333333333333,
             "#9c179e"
            ],
            [
             0.4444444444444444,
             "#bd3786"
            ],
            [
             0.5555555555555556,
             "#d8576b"
            ],
            [
             0.6666666666666666,
             "#ed7953"
            ],
            [
             0.7777777777777778,
             "#fb9f3a"
            ],
            [
             0.8888888888888888,
             "#fdca26"
            ],
            [
             1,
             "#f0f921"
            ]
           ]
          },
          "colorway": [
           "#636efa",
           "#EF553B",
           "#00cc96",
           "#ab63fa",
           "#FFA15A",
           "#19d3f3",
           "#FF6692",
           "#B6E880",
           "#FF97FF",
           "#FECB52"
          ],
          "font": {
           "color": "#2a3f5f"
          },
          "geo": {
           "bgcolor": "white",
           "lakecolor": "white",
           "landcolor": "white",
           "showlakes": true,
           "showland": true,
           "subunitcolor": "#C8D4E3"
          },
          "hoverlabel": {
           "align": "left"
          },
          "hovermode": "closest",
          "mapbox": {
           "style": "light"
          },
          "paper_bgcolor": "white",
          "plot_bgcolor": "white",
          "polar": {
           "angularaxis": {
            "gridcolor": "#EBF0F8",
            "linecolor": "#EBF0F8",
            "ticks": ""
           },
           "bgcolor": "white",
           "radialaxis": {
            "gridcolor": "#EBF0F8",
            "linecolor": "#EBF0F8",
            "ticks": ""
           }
          },
          "scene": {
           "xaxis": {
            "backgroundcolor": "white",
            "gridcolor": "#DFE8F3",
            "gridwidth": 2,
            "linecolor": "#EBF0F8",
            "showbackground": true,
            "ticks": "",
            "zerolinecolor": "#EBF0F8"
           },
           "yaxis": {
            "backgroundcolor": "white",
            "gridcolor": "#DFE8F3",
            "gridwidth": 2,
            "linecolor": "#EBF0F8",
            "showbackground": true,
            "ticks": "",
            "zerolinecolor": "#EBF0F8"
           },
           "zaxis": {
            "backgroundcolor": "white",
            "gridcolor": "#DFE8F3",
            "gridwidth": 2,
            "linecolor": "#EBF0F8",
            "showbackground": true,
            "ticks": "",
            "zerolinecolor": "#EBF0F8"
           }
          },
          "shapedefaults": {
           "line": {
            "color": "#2a3f5f"
           }
          },
          "ternary": {
           "aaxis": {
            "gridcolor": "#DFE8F3",
            "linecolor": "#A2B1C6",
            "ticks": ""
           },
           "baxis": {
            "gridcolor": "#DFE8F3",
            "linecolor": "#A2B1C6",
            "ticks": ""
           },
           "bgcolor": "white",
           "caxis": {
            "gridcolor": "#DFE8F3",
            "linecolor": "#A2B1C6",
            "ticks": ""
           }
          },
          "title": {
           "x": 0.05
          },
          "xaxis": {
           "automargin": true,
           "gridcolor": "#EBF0F8",
           "linecolor": "#EBF0F8",
           "ticks": "",
           "title": {
            "standoff": 15
           },
           "zerolinecolor": "#EBF0F8",
           "zerolinewidth": 2
          },
          "yaxis": {
           "automargin": true,
           "gridcolor": "#EBF0F8",
           "linecolor": "#EBF0F8",
           "ticks": "",
           "title": {
            "standoff": 15
           },
           "zerolinecolor": "#EBF0F8",
           "zerolinewidth": 2
          }
         }
        },
        "title": {
         "text": "Actual and Predicted Gross Margin"
        },
        "xaxis": {
         "tickangle": -45,
         "title": {
          "text": "Date"
         }
        },
        "yaxis": {
         "title": {
          "text": "Gross Margin"
         }
        }
       }
      }
     },
     "metadata": {},
     "output_type": "display_data"
    }
   ],
   "source": [
    "fig = go.Figure()\n",
    "\n",
    "# Plot Actual Values\n",
    "fig.add_trace(go.Scatter(\n",
    "    x=monthly_combined_results_g['Date'],\n",
    "    y=monthly_combined_results['Actual'],\n",
    "    mode='lines+markers',\n",
    "    name='Actual Values',\n",
    "    line=dict(color='blue')\n",
    "))\n",
    "\n",
    "# Plot Predicted Values \n",
    "fig.add_trace(go.Scatter(\n",
    "    x=monthly_combined_results_g['Date'],\n",
    "    y=monthly_combined_results_g['Predicted'],\n",
    "    mode='lines+markers',\n",
    "    name='Predicted Values',\n",
    "    line=dict(color='red', dash='dash')\n",
    "))\n",
    "fig.update_layout(\n",
    "    title='Actual and Predicted Gross Margin',\n",
    "    xaxis_title='Date',\n",
    "    yaxis_title='Gross Margin',\n",
    "    template='plotly_white',\n",
    "    legend=dict(x=0.02, y=0.98),\n",
    "    plot_bgcolor='rgba(0, 0, 0, 0)',\n",
    "    xaxis_tickangle=-45\n",
    ")\n",
    "fig.show()"
   ]
  },
  {
   "cell_type": "markdown",
   "id": "ab61c5d5",
   "metadata": {},
   "source": [
    "## Predicting Revenue"
   ]
  },
  {
   "cell_type": "code",
   "execution_count": null,
   "id": "5fef508d",
   "metadata": {},
   "outputs": [
    {
     "name": "stderr",
     "output_type": "stream",
     "text": [
      "10:27:30 - cmdstanpy - INFO - Chain [1] start processing\n",
      "10:27:34 - cmdstanpy - INFO - Chain [1] done processing\n"
     ]
    }
   ],
   "source": [
    "# revenue prediction\n",
    "\n",
    "#prediction on historical data\n",
    "from prophet_forcast import Prophet\n",
    "# set 'ds' (datetime) and 'y' (target) column\n",
    "prophet_data_r = df[['YEAR', 'month_index','C_Revenue', ' NET SALES ', ' SALES COMMISSION ', ' OTHER INCOME ']].copy()\n",
    "prophet_data_r['ds'] = pd.to_datetime(prophet_data_r['YEAR'].astype(str) + '-' + prophet_data_r['month_index'].astype(str).str.zfill(2) + '-01')\n",
    "prophet_data_r = prophet_data_r.rename(columns={'C_Revenue': 'y'})\n",
    "\n",
    "# initialize model\n",
    "model1 = Prophet()\n",
    "model1.add_regressor(' NET SALES ')\n",
    "model1.add_regressor(' OTHER INCOME ')\n",
    "model1.add_regressor(' SALES COMMISSION ')\n",
    "model1.fit(prophet_data_r[['ds', 'y', ' NET SALES ',' OTHER INCOME ', ' SALES COMMISSION ']])\n",
    "\n",
    "forecast_r = model1.predict(prophet_data_r[['ds', ' NET SALES ',' OTHER INCOME ', ' SALES COMMISSION ']])\n",
    "results_r = pd.DataFrame({\n",
    "    'Date': prophet_data_r['ds'],\n",
    "    'Actual': prophet_data_r['y'],\n",
    "    'Predicted': forecast_r['yhat']\n",
    "})"
   ]
  },
  {
   "cell_type": "code",
   "execution_count": 18,
   "id": "b9f79153",
   "metadata": {},
   "outputs": [
    {
     "name": "stderr",
     "output_type": "stream",
     "text": [
      "10:27:39 - cmdstanpy - INFO - Chain [1] start processing\n",
      "10:27:42 - cmdstanpy - INFO - Chain [1] done processing\n"
     ]
    }
   ],
   "source": [
    "#prediction for future dates\n",
    "revenue_df = df[['YEAR', 'month_index', ' NET SALES ', ' SALES COMMISSION ', ' OTHER INCOME ', 'C_Revenue']].copy()\n",
    "revenue_df['ds'] = pd.to_datetime(revenue_df['YEAR'].astype(str) + '-' + revenue_df['month_index'].astype(str).str.zfill(2) + '-01')\n",
    "revenue_df = revenue_df.rename(columns={'C_Revenue': 'y'})\n",
    "\n",
    "model1 = Prophet()\n",
    "# Add regressors\n",
    "model1.add_regressor(' NET SALES ')\n",
    "model1.add_regressor(' OTHER INCOME ')\n",
    "model1.add_regressor(' SALES COMMISSION ')\n",
    "\n",
    "# Fit the model\n",
    "model1.fit(revenue_df[['ds', 'y', ' NET SALES ', ' SALES COMMISSION ', ' OTHER INCOME ']])\n",
    "\n",
    "# Prepare the future dataframe\n",
    "future_dates_r = model1.make_future_dataframe(periods=12, freq='MS')\n",
    "\n",
    "# Add regressor values for future dates\n",
    "future_monthly_r = df.groupby(['month_index'])[[' NET SALES ', ' SALES COMMISSION ', ' OTHER INCOME ']].mean().reset_index()\n",
    "future_dates_r['month_index'] = future_dates_r['ds'].dt.month\n",
    "future_dates_r = pd.merge(future_dates_r, future_monthly_r, on='month_index', how='left')\n",
    "\n",
    "# Predict\n",
    "forecast_r = model1.predict(future_dates_r)\n",
    "\n",
    "# Extract the result\n",
    "future_results_r = pd.DataFrame({\n",
    "    'Date': forecast_r['ds'],\n",
    "    'Predicted': forecast_r['yhat']\n",
    "})"
   ]
  },
  {
   "cell_type": "code",
   "execution_count": 19,
   "id": "e46bebfa",
   "metadata": {},
   "outputs": [],
   "source": [
    "#combining actuals and forcasted values\n",
    "combined_results_r = pd.concat([\n",
    "    results_r[['Date', 'Actual', 'Predicted']],\n",
    "    future_results_r[['Date', 'Predicted']]\n",
    "], ignore_index=True)\n",
    "\n",
    "#groupby month\n",
    "combined_results_r['Month-Year'] = combined_results_r['Date'].dt.to_period('M')\n",
    "monthly_combined_results_r = combined_results_r.groupby('Month-Year').mean().reset_index()\n",
    "monthly_combined_results_r['Date'] = monthly_combined_results_r['Month-Year'].dt.to_timestamp()"
   ]
  },
  {
   "cell_type": "code",
   "execution_count": 20,
   "id": "db57d720",
   "metadata": {},
   "outputs": [
    {
     "data": {
      "application/vnd.plotly.v1+json": {
       "config": {
        "plotlyServerURL": "https://plot.ly"
       },
       "data": [
        {
         "line": {
          "color": "blue"
         },
         "mode": "lines+markers",
         "name": "Actual Values",
         "type": "scatter",
         "x": [
          "2019-04-01T00:00:00",
          "2019-05-01T00:00:00",
          "2019-06-01T00:00:00",
          "2019-07-01T00:00:00",
          "2019-08-01T00:00:00",
          "2019-09-01T00:00:00",
          "2019-10-01T00:00:00",
          "2019-11-01T00:00:00",
          "2019-12-01T00:00:00",
          "2020-01-01T00:00:00",
          "2020-02-01T00:00:00",
          "2020-03-01T00:00:00",
          "2020-04-01T00:00:00",
          "2020-05-01T00:00:00",
          "2020-06-01T00:00:00",
          "2020-07-01T00:00:00",
          "2020-08-01T00:00:00",
          "2020-09-01T00:00:00",
          "2020-10-01T00:00:00",
          "2020-11-01T00:00:00",
          "2020-12-01T00:00:00",
          "2021-01-01T00:00:00",
          "2021-02-01T00:00:00",
          "2021-03-01T00:00:00",
          "2021-04-01T00:00:00",
          "2021-05-01T00:00:00",
          "2021-06-01T00:00:00",
          "2021-07-01T00:00:00",
          "2021-08-01T00:00:00",
          "2021-09-01T00:00:00",
          "2021-10-01T00:00:00",
          "2021-11-01T00:00:00",
          "2021-12-01T00:00:00",
          "2022-01-01T00:00:00",
          "2022-02-01T00:00:00",
          "2022-03-01T00:00:00",
          "2022-04-01T00:00:00",
          "2022-05-01T00:00:00",
          "2022-06-01T00:00:00",
          "2022-07-01T00:00:00",
          "2022-08-01T00:00:00",
          "2022-09-01T00:00:00",
          "2022-10-01T00:00:00",
          "2022-11-01T00:00:00",
          "2022-12-01T00:00:00",
          "2023-01-01T00:00:00",
          "2023-02-01T00:00:00",
          "2023-03-01T00:00:00",
          "2023-04-01T00:00:00",
          "2023-05-01T00:00:00",
          "2023-06-01T00:00:00",
          "2023-07-01T00:00:00",
          "2023-08-01T00:00:00",
          "2023-09-01T00:00:00",
          "2023-10-01T00:00:00",
          "2023-11-01T00:00:00",
          "2023-12-01T00:00:00",
          "2024-01-01T00:00:00",
          "2024-02-01T00:00:00",
          "2024-03-01T00:00:00",
          "2024-04-01T00:00:00",
          "2024-05-01T00:00:00",
          "2024-06-01T00:00:00",
          "2024-07-01T00:00:00",
          "2024-08-01T00:00:00",
          "2024-09-01T00:00:00",
          "2024-10-01T00:00:00",
          "2024-11-01T00:00:00",
          "2024-12-01T00:00:00",
          "2025-01-01T00:00:00",
          "2025-02-01T00:00:00",
          "2025-03-01T00:00:00",
          "2025-04-01T00:00:00",
          "2025-05-01T00:00:00",
          "2025-06-01T00:00:00"
         ],
         "y": [
          350379967.3495672,
          403282670.81666666,
          357420880.94550437,
          425105574.6604327,
          408268634.82795334,
          505575639.04913485,
          515354248.3205615,
          392685988.8173262,
          415451569.39735854,
          474851796.0258713,
          410143120.46216,
          406603713.6973879,
          300474716.5794324,
          406316354.9559832,
          502017425.30777776,
          497022389.1666216,
          468075119.18731904,
          451684140.8763186,
          711144849.3370557,
          556106171.5659842,
          580315418.0915223,
          532575729.2098139,
          500740875.40429336,
          512812014.0274935,
          532722453.6721795,
          424943224.6953495,
          501120193.0211765,
          522578421.8415489,
          533863523.1246053,
          537894361.1748205,
          503776767.8521883,
          531123021.21546364,
          561082937.1507901,
          468985418.33557695,
          492044073.0070905,
          553487189.5606265,
          444598491.7643678,
          462246213.89671236,
          527484454.7146212,
          451160570.51594913,
          480030529.2446284,
          561367423.3009071,
          532356132.3222105,
          448620474.05379707,
          448976581.70944536,
          358012683.9714286,
          365969090.1082677,
          478517007.2763158,
          497667880.60203856,
          484636511.40599364,
          496465994.5266913,
          481449774.3232609,
          445951381.9434302,
          556290165.985704,
          741747761.9456692,
          638733075.4977453,
          521994628.09055454,
          635947902.20538,
          557481540.7047648,
          606595128.0787381,
          611438107.1830986,
          589361223.94,
          559088781.9867635,
          null,
          null,
          null,
          null,
          null,
          null,
          null,
          null,
          null,
          null,
          null,
          null
         ]
        },
        {
         "line": {
          "color": "red",
          "dash": "dash"
         },
         "mode": "lines+markers",
         "name": "Predicted Values",
         "type": "scatter",
         "x": [
          "2019-04-01T00:00:00",
          "2019-05-01T00:00:00",
          "2019-06-01T00:00:00",
          "2019-07-01T00:00:00",
          "2019-08-01T00:00:00",
          "2019-09-01T00:00:00",
          "2019-10-01T00:00:00",
          "2019-11-01T00:00:00",
          "2019-12-01T00:00:00",
          "2020-01-01T00:00:00",
          "2020-02-01T00:00:00",
          "2020-03-01T00:00:00",
          "2020-04-01T00:00:00",
          "2020-05-01T00:00:00",
          "2020-06-01T00:00:00",
          "2020-07-01T00:00:00",
          "2020-08-01T00:00:00",
          "2020-09-01T00:00:00",
          "2020-10-01T00:00:00",
          "2020-11-01T00:00:00",
          "2020-12-01T00:00:00",
          "2021-01-01T00:00:00",
          "2021-02-01T00:00:00",
          "2021-03-01T00:00:00",
          "2021-04-01T00:00:00",
          "2021-05-01T00:00:00",
          "2021-06-01T00:00:00",
          "2021-07-01T00:00:00",
          "2021-08-01T00:00:00",
          "2021-09-01T00:00:00",
          "2021-10-01T00:00:00",
          "2021-11-01T00:00:00",
          "2021-12-01T00:00:00",
          "2022-01-01T00:00:00",
          "2022-02-01T00:00:00",
          "2022-03-01T00:00:00",
          "2022-04-01T00:00:00",
          "2022-05-01T00:00:00",
          "2022-06-01T00:00:00",
          "2022-07-01T00:00:00",
          "2022-08-01T00:00:00",
          "2022-09-01T00:00:00",
          "2022-10-01T00:00:00",
          "2022-11-01T00:00:00",
          "2022-12-01T00:00:00",
          "2023-01-01T00:00:00",
          "2023-02-01T00:00:00",
          "2023-03-01T00:00:00",
          "2023-04-01T00:00:00",
          "2023-05-01T00:00:00",
          "2023-06-01T00:00:00",
          "2023-07-01T00:00:00",
          "2023-08-01T00:00:00",
          "2023-09-01T00:00:00",
          "2023-10-01T00:00:00",
          "2023-11-01T00:00:00",
          "2023-12-01T00:00:00",
          "2024-01-01T00:00:00",
          "2024-02-01T00:00:00",
          "2024-03-01T00:00:00",
          "2024-04-01T00:00:00",
          "2024-05-01T00:00:00",
          "2024-06-01T00:00:00",
          "2024-07-01T00:00:00",
          "2024-08-01T00:00:00",
          "2024-09-01T00:00:00",
          "2024-10-01T00:00:00",
          "2024-11-01T00:00:00",
          "2024-12-01T00:00:00",
          "2025-01-01T00:00:00",
          "2025-02-01T00:00:00",
          "2025-03-01T00:00:00",
          "2025-04-01T00:00:00",
          "2025-05-01T00:00:00",
          "2025-06-01T00:00:00"
         ],
         "y": [
          547151633.7677207,
          381539508.4555083,
          454309643.9762766,
          589126438.3197389,
          314803716.2614242,
          413581714.0920407,
          473564529.9805995,
          439264086.22323805,
          858138497.3484895,
          731922024.1696025,
          415736022.3694685,
          445086240.5927476,
          574656571.129339,
          899537967.6436757,
          315280134.01991946,
          338993572.67890036,
          429405142.60712385,
          885775144.4359245,
          717751059.6985106,
          316960485.919351,
          423346587.7206945,
          357682041.17835623,
          789750568.8307492,
          736294623.4882787,
          791919312.9977998,
          610761025.8441209,
          322551497.8057636,
          272899340.10415345,
          402467383.3763337,
          598921873.0713699,
          285616432.6400331,
          830058486.9655865,
          300324788.3351157,
          482013850.6319198,
          357352402.0570566,
          471516334.0715212,
          299691929.5872224,
          484825813.2135759,
          313982249.415456,
          398219830.6608762,
          537736256.5122283,
          670241814.9944092,
          530370125.3857491,
          402399296.5538745,
          414115161.6912076,
          450328478.50840163,
          314329290.7339573,
          468478442.93010145,
          333139649.47382253,
          603842566.5075812,
          661630163.4989868,
          848622638.6004903,
          473141562.54247755,
          341430451.83214027,
          779983873.0672148,
          476622870.8230428,
          235098477.75300103,
          312648972.8100363,
          813389900.557872,
          317538633.1367254,
          569480763.9037492,
          412285464.66748065,
          529883830.737851,
          503902278.070338,
          511443407.80545694,
          561559861.7031267,
          626509537.6417722,
          598540751.8731351,
          614150299.5812685,
          546569747.5226924,
          539975674.678359,
          582619734.3368841,
          527460280.5022748,
          531185866.73081654,
          546886769.6546775
         ]
        }
       ],
       "layout": {
        "legend": {
         "x": 0.02,
         "y": 0.98
        },
        "plot_bgcolor": "rgba(0, 0, 0, 0)",
        "template": {
         "data": {
          "bar": [
           {
            "error_x": {
             "color": "#2a3f5f"
            },
            "error_y": {
             "color": "#2a3f5f"
            },
            "marker": {
             "line": {
              "color": "white",
              "width": 0.5
             },
             "pattern": {
              "fillmode": "overlay",
              "size": 10,
              "solidity": 0.2
             }
            },
            "type": "bar"
           }
          ],
          "barpolar": [
           {
            "marker": {
             "line": {
              "color": "white",
              "width": 0.5
             },
             "pattern": {
              "fillmode": "overlay",
              "size": 10,
              "solidity": 0.2
             }
            },
            "type": "barpolar"
           }
          ],
          "carpet": [
           {
            "aaxis": {
             "endlinecolor": "#2a3f5f",
             "gridcolor": "#C8D4E3",
             "linecolor": "#C8D4E3",
             "minorgridcolor": "#C8D4E3",
             "startlinecolor": "#2a3f5f"
            },
            "baxis": {
             "endlinecolor": "#2a3f5f",
             "gridcolor": "#C8D4E3",
             "linecolor": "#C8D4E3",
             "minorgridcolor": "#C8D4E3",
             "startlinecolor": "#2a3f5f"
            },
            "type": "carpet"
           }
          ],
          "choropleth": [
           {
            "colorbar": {
             "outlinewidth": 0,
             "ticks": ""
            },
            "type": "choropleth"
           }
          ],
          "contour": [
           {
            "colorbar": {
             "outlinewidth": 0,
             "ticks": ""
            },
            "colorscale": [
             [
              0,
              "#0d0887"
             ],
             [
              0.1111111111111111,
              "#46039f"
             ],
             [
              0.2222222222222222,
              "#7201a8"
             ],
             [
              0.3333333333333333,
              "#9c179e"
             ],
             [
              0.4444444444444444,
              "#bd3786"
             ],
             [
              0.5555555555555556,
              "#d8576b"
             ],
             [
              0.6666666666666666,
              "#ed7953"
             ],
             [
              0.7777777777777778,
              "#fb9f3a"
             ],
             [
              0.8888888888888888,
              "#fdca26"
             ],
             [
              1,
              "#f0f921"
             ]
            ],
            "type": "contour"
           }
          ],
          "contourcarpet": [
           {
            "colorbar": {
             "outlinewidth": 0,
             "ticks": ""
            },
            "type": "contourcarpet"
           }
          ],
          "heatmap": [
           {
            "colorbar": {
             "outlinewidth": 0,
             "ticks": ""
            },
            "colorscale": [
             [
              0,
              "#0d0887"
             ],
             [
              0.1111111111111111,
              "#46039f"
             ],
             [
              0.2222222222222222,
              "#7201a8"
             ],
             [
              0.3333333333333333,
              "#9c179e"
             ],
             [
              0.4444444444444444,
              "#bd3786"
             ],
             [
              0.5555555555555556,
              "#d8576b"
             ],
             [
              0.6666666666666666,
              "#ed7953"
             ],
             [
              0.7777777777777778,
              "#fb9f3a"
             ],
             [
              0.8888888888888888,
              "#fdca26"
             ],
             [
              1,
              "#f0f921"
             ]
            ],
            "type": "heatmap"
           }
          ],
          "heatmapgl": [
           {
            "colorbar": {
             "outlinewidth": 0,
             "ticks": ""
            },
            "colorscale": [
             [
              0,
              "#0d0887"
             ],
             [
              0.1111111111111111,
              "#46039f"
             ],
             [
              0.2222222222222222,
              "#7201a8"
             ],
             [
              0.3333333333333333,
              "#9c179e"
             ],
             [
              0.4444444444444444,
              "#bd3786"
             ],
             [
              0.5555555555555556,
              "#d8576b"
             ],
             [
              0.6666666666666666,
              "#ed7953"
             ],
             [
              0.7777777777777778,
              "#fb9f3a"
             ],
             [
              0.8888888888888888,
              "#fdca26"
             ],
             [
              1,
              "#f0f921"
             ]
            ],
            "type": "heatmapgl"
           }
          ],
          "histogram": [
           {
            "marker": {
             "pattern": {
              "fillmode": "overlay",
              "size": 10,
              "solidity": 0.2
             }
            },
            "type": "histogram"
           }
          ],
          "histogram2d": [
           {
            "colorbar": {
             "outlinewidth": 0,
             "ticks": ""
            },
            "colorscale": [
             [
              0,
              "#0d0887"
             ],
             [
              0.1111111111111111,
              "#46039f"
             ],
             [
              0.2222222222222222,
              "#7201a8"
             ],
             [
              0.3333333333333333,
              "#9c179e"
             ],
             [
              0.4444444444444444,
              "#bd3786"
             ],
             [
              0.5555555555555556,
              "#d8576b"
             ],
             [
              0.6666666666666666,
              "#ed7953"
             ],
             [
              0.7777777777777778,
              "#fb9f3a"
             ],
             [
              0.8888888888888888,
              "#fdca26"
             ],
             [
              1,
              "#f0f921"
             ]
            ],
            "type": "histogram2d"
           }
          ],
          "histogram2dcontour": [
           {
            "colorbar": {
             "outlinewidth": 0,
             "ticks": ""
            },
            "colorscale": [
             [
              0,
              "#0d0887"
             ],
             [
              0.1111111111111111,
              "#46039f"
             ],
             [
              0.2222222222222222,
              "#7201a8"
             ],
             [
              0.3333333333333333,
              "#9c179e"
             ],
             [
              0.4444444444444444,
              "#bd3786"
             ],
             [
              0.5555555555555556,
              "#d8576b"
             ],
             [
              0.6666666666666666,
              "#ed7953"
             ],
             [
              0.7777777777777778,
              "#fb9f3a"
             ],
             [
              0.8888888888888888,
              "#fdca26"
             ],
             [
              1,
              "#f0f921"
             ]
            ],
            "type": "histogram2dcontour"
           }
          ],
          "mesh3d": [
           {
            "colorbar": {
             "outlinewidth": 0,
             "ticks": ""
            },
            "type": "mesh3d"
           }
          ],
          "parcoords": [
           {
            "line": {
             "colorbar": {
              "outlinewidth": 0,
              "ticks": ""
             }
            },
            "type": "parcoords"
           }
          ],
          "pie": [
           {
            "automargin": true,
            "type": "pie"
           }
          ],
          "scatter": [
           {
            "fillpattern": {
             "fillmode": "overlay",
             "size": 10,
             "solidity": 0.2
            },
            "type": "scatter"
           }
          ],
          "scatter3d": [
           {
            "line": {
             "colorbar": {
              "outlinewidth": 0,
              "ticks": ""
             }
            },
            "marker": {
             "colorbar": {
              "outlinewidth": 0,
              "ticks": ""
             }
            },
            "type": "scatter3d"
           }
          ],
          "scattercarpet": [
           {
            "marker": {
             "colorbar": {
              "outlinewidth": 0,
              "ticks": ""
             }
            },
            "type": "scattercarpet"
           }
          ],
          "scattergeo": [
           {
            "marker": {
             "colorbar": {
              "outlinewidth": 0,
              "ticks": ""
             }
            },
            "type": "scattergeo"
           }
          ],
          "scattergl": [
           {
            "marker": {
             "colorbar": {
              "outlinewidth": 0,
              "ticks": ""
             }
            },
            "type": "scattergl"
           }
          ],
          "scattermapbox": [
           {
            "marker": {
             "colorbar": {
              "outlinewidth": 0,
              "ticks": ""
             }
            },
            "type": "scattermapbox"
           }
          ],
          "scatterpolar": [
           {
            "marker": {
             "colorbar": {
              "outlinewidth": 0,
              "ticks": ""
             }
            },
            "type": "scatterpolar"
           }
          ],
          "scatterpolargl": [
           {
            "marker": {
             "colorbar": {
              "outlinewidth": 0,
              "ticks": ""
             }
            },
            "type": "scatterpolargl"
           }
          ],
          "scatterternary": [
           {
            "marker": {
             "colorbar": {
              "outlinewidth": 0,
              "ticks": ""
             }
            },
            "type": "scatterternary"
           }
          ],
          "surface": [
           {
            "colorbar": {
             "outlinewidth": 0,
             "ticks": ""
            },
            "colorscale": [
             [
              0,
              "#0d0887"
             ],
             [
              0.1111111111111111,
              "#46039f"
             ],
             [
              0.2222222222222222,
              "#7201a8"
             ],
             [
              0.3333333333333333,
              "#9c179e"
             ],
             [
              0.4444444444444444,
              "#bd3786"
             ],
             [
              0.5555555555555556,
              "#d8576b"
             ],
             [
              0.6666666666666666,
              "#ed7953"
             ],
             [
              0.7777777777777778,
              "#fb9f3a"
             ],
             [
              0.8888888888888888,
              "#fdca26"
             ],
             [
              1,
              "#f0f921"
             ]
            ],
            "type": "surface"
           }
          ],
          "table": [
           {
            "cells": {
             "fill": {
              "color": "#EBF0F8"
             },
             "line": {
              "color": "white"
             }
            },
            "header": {
             "fill": {
              "color": "#C8D4E3"
             },
             "line": {
              "color": "white"
             }
            },
            "type": "table"
           }
          ]
         },
         "layout": {
          "annotationdefaults": {
           "arrowcolor": "#2a3f5f",
           "arrowhead": 0,
           "arrowwidth": 1
          },
          "autotypenumbers": "strict",
          "coloraxis": {
           "colorbar": {
            "outlinewidth": 0,
            "ticks": ""
           }
          },
          "colorscale": {
           "diverging": [
            [
             0,
             "#8e0152"
            ],
            [
             0.1,
             "#c51b7d"
            ],
            [
             0.2,
             "#de77ae"
            ],
            [
             0.3,
             "#f1b6da"
            ],
            [
             0.4,
             "#fde0ef"
            ],
            [
             0.5,
             "#f7f7f7"
            ],
            [
             0.6,
             "#e6f5d0"
            ],
            [
             0.7,
             "#b8e186"
            ],
            [
             0.8,
             "#7fbc41"
            ],
            [
             0.9,
             "#4d9221"
            ],
            [
             1,
             "#276419"
            ]
           ],
           "sequential": [
            [
             0,
             "#0d0887"
            ],
            [
             0.1111111111111111,
             "#46039f"
            ],
            [
             0.2222222222222222,
             "#7201a8"
            ],
            [
             0.3333333333333333,
             "#9c179e"
            ],
            [
             0.4444444444444444,
             "#bd3786"
            ],
            [
             0.5555555555555556,
             "#d8576b"
            ],
            [
             0.6666666666666666,
             "#ed7953"
            ],
            [
             0.7777777777777778,
             "#fb9f3a"
            ],
            [
             0.8888888888888888,
             "#fdca26"
            ],
            [
             1,
             "#f0f921"
            ]
           ],
           "sequentialminus": [
            [
             0,
             "#0d0887"
            ],
            [
             0.1111111111111111,
             "#46039f"
            ],
            [
             0.2222222222222222,
             "#7201a8"
            ],
            [
             0.3333333333333333,
             "#9c179e"
            ],
            [
             0.4444444444444444,
             "#bd3786"
            ],
            [
             0.5555555555555556,
             "#d8576b"
            ],
            [
             0.6666666666666666,
             "#ed7953"
            ],
            [
             0.7777777777777778,
             "#fb9f3a"
            ],
            [
             0.8888888888888888,
             "#fdca26"
            ],
            [
             1,
             "#f0f921"
            ]
           ]
          },
          "colorway": [
           "#636efa",
           "#EF553B",
           "#00cc96",
           "#ab63fa",
           "#FFA15A",
           "#19d3f3",
           "#FF6692",
           "#B6E880",
           "#FF97FF",
           "#FECB52"
          ],
          "font": {
           "color": "#2a3f5f"
          },
          "geo": {
           "bgcolor": "white",
           "lakecolor": "white",
           "landcolor": "white",
           "showlakes": true,
           "showland": true,
           "subunitcolor": "#C8D4E3"
          },
          "hoverlabel": {
           "align": "left"
          },
          "hovermode": "closest",
          "mapbox": {
           "style": "light"
          },
          "paper_bgcolor": "white",
          "plot_bgcolor": "white",
          "polar": {
           "angularaxis": {
            "gridcolor": "#EBF0F8",
            "linecolor": "#EBF0F8",
            "ticks": ""
           },
           "bgcolor": "white",
           "radialaxis": {
            "gridcolor": "#EBF0F8",
            "linecolor": "#EBF0F8",
            "ticks": ""
           }
          },
          "scene": {
           "xaxis": {
            "backgroundcolor": "white",
            "gridcolor": "#DFE8F3",
            "gridwidth": 2,
            "linecolor": "#EBF0F8",
            "showbackground": true,
            "ticks": "",
            "zerolinecolor": "#EBF0F8"
           },
           "yaxis": {
            "backgroundcolor": "white",
            "gridcolor": "#DFE8F3",
            "gridwidth": 2,
            "linecolor": "#EBF0F8",
            "showbackground": true,
            "ticks": "",
            "zerolinecolor": "#EBF0F8"
           },
           "zaxis": {
            "backgroundcolor": "white",
            "gridcolor": "#DFE8F3",
            "gridwidth": 2,
            "linecolor": "#EBF0F8",
            "showbackground": true,
            "ticks": "",
            "zerolinecolor": "#EBF0F8"
           }
          },
          "shapedefaults": {
           "line": {
            "color": "#2a3f5f"
           }
          },
          "ternary": {
           "aaxis": {
            "gridcolor": "#DFE8F3",
            "linecolor": "#A2B1C6",
            "ticks": ""
           },
           "baxis": {
            "gridcolor": "#DFE8F3",
            "linecolor": "#A2B1C6",
            "ticks": ""
           },
           "bgcolor": "white",
           "caxis": {
            "gridcolor": "#DFE8F3",
            "linecolor": "#A2B1C6",
            "ticks": ""
           }
          },
          "title": {
           "x": 0.05
          },
          "xaxis": {
           "automargin": true,
           "gridcolor": "#EBF0F8",
           "linecolor": "#EBF0F8",
           "ticks": "",
           "title": {
            "standoff": 15
           },
           "zerolinecolor": "#EBF0F8",
           "zerolinewidth": 2
          },
          "yaxis": {
           "automargin": true,
           "gridcolor": "#EBF0F8",
           "linecolor": "#EBF0F8",
           "ticks": "",
           "title": {
            "standoff": 15
           },
           "zerolinecolor": "#EBF0F8",
           "zerolinewidth": 2
          }
         }
        },
        "title": {
         "text": "Actual and Predicted Revenue"
        },
        "xaxis": {
         "tickangle": -45,
         "title": {
          "text": "Date"
         }
        },
        "yaxis": {
         "title": {
          "text": "Revenue"
         }
        }
       }
      }
     },
     "metadata": {},
     "output_type": "display_data"
    }
   ],
   "source": [
    "fig = go.Figure()\n",
    "\n",
    "# Plot Actual Values\n",
    "fig.add_trace(go.Scatter(\n",
    "    x=monthly_combined_results_r['Date'],\n",
    "    y=monthly_combined_results_r['Actual'],\n",
    "    mode='lines+markers',\n",
    "    name='Actual Values',\n",
    "    line=dict(color='blue')\n",
    "))\n",
    "\n",
    "# Plot Predicted Values \n",
    "fig.add_trace(go.Scatter(\n",
    "    x=monthly_combined_results_r['Date'],\n",
    "    y=monthly_combined_results_r['Predicted'],\n",
    "    mode='lines+markers',\n",
    "    name='Predicted Values',\n",
    "    line=dict(color='red', dash='dash')\n",
    "))\n",
    "fig.update_layout(\n",
    "    title='Actual and Predicted Revenue',\n",
    "    xaxis_title='Date',\n",
    "    yaxis_title='Revenue',\n",
    "    template='plotly_white',\n",
    "    legend=dict(x=0.02, y=0.98),\n",
    "    plot_bgcolor='rgba(0, 0, 0, 0)',\n",
    "    xaxis_tickangle=-45\n",
    ")\n",
    "fig.show()"
   ]
  },
  {
   "cell_type": "code",
   "execution_count": 21,
   "id": "fc59ab89",
   "metadata": {},
   "outputs": [
    {
     "name": "stdout",
     "output_type": "stream",
     "text": [
      "Mean Absolute Percentage Error (MAPE): 32.05%\n"
     ]
    }
   ],
   "source": [
    "mape = np.mean(np.abs((monthly_combined_results_r['Actual'] - monthly_combined_results_r['Predicted']) / monthly_combined_results_r['Actual'])) * 100\n",
    "print(f\"Mean Absolute Percentage Error (MAPE): {mape:.2f}%\")"
   ]
  },
  {
   "cell_type": "markdown",
   "id": "554acdc9",
   "metadata": {},
   "source": [
    "## Predicting EBITDA"
   ]
  },
  {
   "cell_type": "code",
   "execution_count": null,
   "id": "0bab83f6",
   "metadata": {},
   "outputs": [
    {
     "name": "stderr",
     "output_type": "stream",
     "text": [
      "10:27:44 - cmdstanpy - INFO - Chain [1] start processing\n",
      "10:27:48 - cmdstanpy - INFO - Chain [1] done processing\n"
     ]
    }
   ],
   "source": [
    "# ebitda prediction\n",
    "\n",
    "#prediction on historical data\n",
    "from prophet_forcast import Prophet\n",
    "# set 'ds' (datetime) and 'y' (target) column\n",
    "prophet_data_e = df[['YEAR', 'month_index','C_EBITDA', 'C_Revenue', 'C_Gross_Margin', 'Man_power_cost','Biz_trading_cost','Other_opex']].copy()\n",
    "prophet_data_e['ds'] = pd.to_datetime(prophet_data_e['YEAR'].astype(str) + '-' + prophet_data_e['month_index'].astype(str).str.zfill(2) + '-01')\n",
    "prophet_data_e = prophet_data_e.rename(columns={'C_EBITDA': 'y'})\n",
    "\n",
    "# initialize model\n",
    "model2 = Prophet()\n",
    "model2.add_regressor('C_Gross_Margin')\n",
    "model2.add_regressor('Man_power_cost')\n",
    "model2.add_regressor('C_Revenue')\n",
    "model2.add_regressor('Biz_trading_cost')\n",
    "model2.add_regressor('Other_opex')\n",
    "model2.fit(prophet_data_e[['ds', 'y', 'C_Revenue', 'C_Gross_Margin', 'Man_power_cost','Biz_trading_cost','Other_opex']])\n",
    "\n",
    "forecast_e = model2.predict(prophet_data_e[['ds', 'C_Revenue', 'C_Gross_Margin', 'Man_power_cost','Biz_trading_cost','Other_opex']])\n",
    "results_e = pd.DataFrame({\n",
    "    'Date': prophet_data_e['ds'],\n",
    "    'Actual': prophet_data_e['y'],\n",
    "    'Predicted': forecast_e['yhat']\n",
    "})"
   ]
  },
  {
   "cell_type": "code",
   "execution_count": 23,
   "id": "62572d5c",
   "metadata": {},
   "outputs": [
    {
     "name": "stderr",
     "output_type": "stream",
     "text": [
      "10:27:53 - cmdstanpy - INFO - Chain [1] start processing\n",
      "10:27:57 - cmdstanpy - INFO - Chain [1] done processing\n"
     ]
    }
   ],
   "source": [
    "#prediction for future dates\n",
    "ebitda_df = df[['YEAR', 'month_index', 'C_Revenue', 'C_Gross_Margin', 'Man_power_cost','Biz_trading_cost','Other_opex','C_EBITDA']].copy()\n",
    "ebitda_df['ds'] = pd.to_datetime(ebitda_df['YEAR'].astype(str) + '-' + ebitda_df['month_index'].astype(str).str.zfill(2) + '-01')\n",
    "ebitda_df = ebitda_df.rename(columns={'C_EBITDA': 'y'})\n",
    "\n",
    "model2 = Prophet()\n",
    "# Add regressors\n",
    "model2.add_regressor('C_Gross_Margin')\n",
    "model2.add_regressor('Man_power_cost')\n",
    "model2.add_regressor('C_Revenue')\n",
    "model2.add_regressor('Biz_trading_cost')\n",
    "model2.add_regressor('Other_opex')\n",
    "\n",
    "# Fit the model\n",
    "model2.fit(ebitda_df[['ds', 'y', 'C_Revenue', 'C_Gross_Margin', 'Man_power_cost','Biz_trading_cost','Other_opex']])\n",
    "\n",
    "# Prepare the future dataframe\n",
    "future_dates_e = model2.make_future_dataframe(periods=12, freq='MS')\n",
    "\n",
    "# Add regressor values for future dates\n",
    "future_monthly_e = df.groupby(['month_index'])[['C_Revenue', 'C_Gross_Margin', 'Man_power_cost','Biz_trading_cost','Other_opex']].mean().reset_index()\n",
    "future_dates_e['month_index'] = future_dates_e['ds'].dt.month\n",
    "future_dates_e = pd.merge(future_dates_e, future_monthly_e, on='month_index', how='left')\n",
    "\n",
    "# Predict\n",
    "forecast_e = model2.predict(future_dates_e)\n",
    "\n",
    "# Extract the result\n",
    "future_results_e = pd.DataFrame({\n",
    "    'Date': forecast_e['ds'],\n",
    "    'Predicted': forecast_e['yhat']\n",
    "})"
   ]
  },
  {
   "cell_type": "code",
   "execution_count": 24,
   "id": "7b855522",
   "metadata": {},
   "outputs": [],
   "source": [
    "#combining actuals and forcasted values\n",
    "combined_results_e = pd.concat([\n",
    "    results_e[['Date', 'Actual', 'Predicted']],\n",
    "    future_results_e[['Date', 'Predicted']]\n",
    "], ignore_index=True)\n",
    "\n",
    "#groupby month\n",
    "combined_results_e['Month-Year'] = combined_results_e['Date'].dt.to_period('M')\n",
    "monthly_combined_results_e = combined_results_e.groupby('Month-Year').mean().reset_index()\n",
    "monthly_combined_results_e['Date'] = monthly_combined_results_e['Month-Year'].dt.to_timestamp()"
   ]
  },
  {
   "cell_type": "code",
   "execution_count": 25,
   "id": "5120991d",
   "metadata": {},
   "outputs": [
    {
     "data": {
      "application/vnd.plotly.v1+json": {
       "config": {
        "plotlyServerURL": "https://plot.ly"
       },
       "data": [
        {
         "line": {
          "color": "blue"
         },
         "mode": "lines+markers",
         "name": "Actual Values",
         "type": "scatter",
         "x": [
          "2019-04-01T00:00:00",
          "2019-05-01T00:00:00",
          "2019-06-01T00:00:00",
          "2019-07-01T00:00:00",
          "2019-08-01T00:00:00",
          "2019-09-01T00:00:00",
          "2019-10-01T00:00:00",
          "2019-11-01T00:00:00",
          "2019-12-01T00:00:00",
          "2020-01-01T00:00:00",
          "2020-02-01T00:00:00",
          "2020-03-01T00:00:00",
          "2020-04-01T00:00:00",
          "2020-05-01T00:00:00",
          "2020-06-01T00:00:00",
          "2020-07-01T00:00:00",
          "2020-08-01T00:00:00",
          "2020-09-01T00:00:00",
          "2020-10-01T00:00:00",
          "2020-11-01T00:00:00",
          "2020-12-01T00:00:00",
          "2021-01-01T00:00:00",
          "2021-02-01T00:00:00",
          "2021-03-01T00:00:00",
          "2021-04-01T00:00:00",
          "2021-05-01T00:00:00",
          "2021-06-01T00:00:00",
          "2021-07-01T00:00:00",
          "2021-08-01T00:00:00",
          "2021-09-01T00:00:00",
          "2021-10-01T00:00:00",
          "2021-11-01T00:00:00",
          "2021-12-01T00:00:00",
          "2022-01-01T00:00:00",
          "2022-02-01T00:00:00",
          "2022-03-01T00:00:00",
          "2022-04-01T00:00:00",
          "2022-05-01T00:00:00",
          "2022-06-01T00:00:00",
          "2022-07-01T00:00:00",
          "2022-08-01T00:00:00",
          "2022-09-01T00:00:00",
          "2022-10-01T00:00:00",
          "2022-11-01T00:00:00",
          "2022-12-01T00:00:00",
          "2023-01-01T00:00:00",
          "2023-02-01T00:00:00",
          "2023-03-01T00:00:00",
          "2023-04-01T00:00:00",
          "2023-05-01T00:00:00",
          "2023-06-01T00:00:00",
          "2023-07-01T00:00:00",
          "2023-08-01T00:00:00",
          "2023-09-01T00:00:00",
          "2023-10-01T00:00:00",
          "2023-11-01T00:00:00",
          "2023-12-01T00:00:00",
          "2024-01-01T00:00:00",
          "2024-02-01T00:00:00",
          "2024-03-01T00:00:00",
          "2024-04-01T00:00:00",
          "2024-05-01T00:00:00",
          "2024-06-01T00:00:00",
          "2024-07-01T00:00:00",
          "2024-08-01T00:00:00",
          "2024-09-01T00:00:00",
          "2024-10-01T00:00:00",
          "2024-11-01T00:00:00",
          "2024-12-01T00:00:00",
          "2025-01-01T00:00:00",
          "2025-02-01T00:00:00",
          "2025-03-01T00:00:00",
          "2025-04-01T00:00:00",
          "2025-05-01T00:00:00",
          "2025-06-01T00:00:00"
         ],
         "y": [
          2963020.5300000003,
          2963020.5300000003,
          2963020.5300000003,
          2963020.5300000003,
          2963020.5300000003,
          3676430.7949363864,
          2963020.5300000003,
          3347459.8747326205,
          14580336.991401618,
          2963020.5300000003,
          4160188.4404266668,
          25585802.48870712,
          2963020.5300000003,
          2963020.5300000003,
          20259680.407486774,
          2963020.5300000003,
          5937500.166702412,
          5402734.968537859,
          2963020.5300000003,
          3207015.3265091865,
          11188862.62367454,
          2963020.5300000007,
          2963020.53,
          13337780.169582248,
          3064077.7880128208,
          2819876.0720161293,
          4677827.280828877,
          13074264.823858697,
          4122579.150578948,
          5379746.135641026,
          3316682.0890076337,
          10600558.676541353,
          13526944.818938272,
          7876660.311081731,
          4641937.945892421,
          12949807.676009282,
          10722188.078022987,
          12171156.576940639,
          15638579.2925,
          7700778.810657698,
          8271383.309405521,
          18040979.558423325,
          8883419.120042106,
          4704468.071800327,
          15455208.816640252,
          2963020.5300000003,
          3536084.8723149616,
          22431164.67634675,
          11025537.037512038,
          8868369.073653847,
          15109783.339593345,
          10914225.226630436,
          9579633.848838476,
          20604748.641805053,
          7169493.932676581,
          3951629.33908142,
          29446536.373040155,
          1483909.4130595482,
          6806922.585357873,
          33188108.243518166,
          8090340.130905434,
          9156489.419742575,
          22167332.92401163,
          null,
          null,
          null,
          null,
          null,
          null,
          null,
          null,
          null,
          null,
          null,
          null
         ]
        },
        {
         "line": {
          "color": "red",
          "dash": "dash"
         },
         "mode": "lines+markers",
         "name": "Predicted Values",
         "type": "scatter",
         "x": [
          "2019-04-01T00:00:00",
          "2019-05-01T00:00:00",
          "2019-06-01T00:00:00",
          "2019-07-01T00:00:00",
          "2019-08-01T00:00:00",
          "2019-09-01T00:00:00",
          "2019-10-01T00:00:00",
          "2019-11-01T00:00:00",
          "2019-12-01T00:00:00",
          "2020-01-01T00:00:00",
          "2020-02-01T00:00:00",
          "2020-03-01T00:00:00",
          "2020-04-01T00:00:00",
          "2020-05-01T00:00:00",
          "2020-06-01T00:00:00",
          "2020-07-01T00:00:00",
          "2020-08-01T00:00:00",
          "2020-09-01T00:00:00",
          "2020-10-01T00:00:00",
          "2020-11-01T00:00:00",
          "2020-12-01T00:00:00",
          "2021-01-01T00:00:00",
          "2021-02-01T00:00:00",
          "2021-03-01T00:00:00",
          "2021-04-01T00:00:00",
          "2021-05-01T00:00:00",
          "2021-06-01T00:00:00",
          "2021-07-01T00:00:00",
          "2021-08-01T00:00:00",
          "2021-09-01T00:00:00",
          "2021-10-01T00:00:00",
          "2021-11-01T00:00:00",
          "2021-12-01T00:00:00",
          "2022-01-01T00:00:00",
          "2022-02-01T00:00:00",
          "2022-03-01T00:00:00",
          "2022-04-01T00:00:00",
          "2022-05-01T00:00:00",
          "2022-06-01T00:00:00",
          "2022-07-01T00:00:00",
          "2022-08-01T00:00:00",
          "2022-09-01T00:00:00",
          "2022-10-01T00:00:00",
          "2022-11-01T00:00:00",
          "2022-12-01T00:00:00",
          "2023-01-01T00:00:00",
          "2023-02-01T00:00:00",
          "2023-03-01T00:00:00",
          "2023-04-01T00:00:00",
          "2023-05-01T00:00:00",
          "2023-06-01T00:00:00",
          "2023-07-01T00:00:00",
          "2023-08-01T00:00:00",
          "2023-09-01T00:00:00",
          "2023-10-01T00:00:00",
          "2023-11-01T00:00:00",
          "2023-12-01T00:00:00",
          "2024-01-01T00:00:00",
          "2024-02-01T00:00:00",
          "2024-03-01T00:00:00",
          "2024-04-01T00:00:00",
          "2024-05-01T00:00:00",
          "2024-06-01T00:00:00",
          "2024-07-01T00:00:00",
          "2024-08-01T00:00:00",
          "2024-09-01T00:00:00",
          "2024-10-01T00:00:00",
          "2024-11-01T00:00:00",
          "2024-12-01T00:00:00",
          "2025-01-01T00:00:00",
          "2025-02-01T00:00:00",
          "2025-03-01T00:00:00",
          "2025-04-01T00:00:00",
          "2025-05-01T00:00:00",
          "2025-06-01T00:00:00"
         ],
         "y": [
          14160683.21535453,
          14394284.98937608,
          6888381.647503388,
          8762960.804434462,
          4775139.704732343,
          -8741.358576578543,
          8630502.006975573,
          7659213.703332259,
          26956764.244488895,
          11172425.61519763,
          4668054.728420472,
          8750647.440961273,
          17000704.381602284,
          10871515.306138055,
          2243920.2960255267,
          7853475.04444107,
          6647327.832388433,
          12088622.764816126,
          14728790.363197064,
          4150142.032969532,
          5400439.181509288,
          3902917.462030123,
          7509901.55591612,
          13505827.320932329,
          22956572.569640864,
          14968222.452358522,
          3937642.5595364333,
          5787639.734611565,
          5932935.073691263,
          14364613.549933502,
          6333676.663864108,
          27148032.365927853,
          2265072.7992660254,
          13943437.99577916,
          7356012.423523487,
          8510222.871123455,
          1846236.6157737214,
          16187533.228518352,
          4029436.0763664073,
          6503002.913909573,
          8439093.655857937,
          9739772.29044468,
          13621718.589295838,
          11678673.874102438,
          5379402.683082889,
          12292472.095358925,
          5350221.694404457,
          10166640.933497405,
          2120370.909176079,
          8708540.77160947,
          11263868.215882892,
          18606069.993200965,
          11396839.681216976,
          4865441.201302024,
          11803369.920510044,
          7845496.444256899,
          5134447.571752171,
          5117961.927000233,
          17203639.42596867,
          4329016.933793275,
          7977865.437553725,
          9649422.4736775,
          9200780.389418008,
          12075558.7739745,
          10990596.182992596,
          11081219.448147083,
          7118269.550456193,
          13012871.559283158,
          16848812.682760715,
          8606388.851985604,
          6936169.198733807,
          25398844.018152148,
          9255711.483260185,
          9604613.565048285,
          18426411.070529252
         ]
        }
       ],
       "layout": {
        "legend": {
         "x": 0.02,
         "y": 0.98
        },
        "plot_bgcolor": "rgba(0, 0, 0, 0)",
        "template": {
         "data": {
          "bar": [
           {
            "error_x": {
             "color": "#2a3f5f"
            },
            "error_y": {
             "color": "#2a3f5f"
            },
            "marker": {
             "line": {
              "color": "white",
              "width": 0.5
             },
             "pattern": {
              "fillmode": "overlay",
              "size": 10,
              "solidity": 0.2
             }
            },
            "type": "bar"
           }
          ],
          "barpolar": [
           {
            "marker": {
             "line": {
              "color": "white",
              "width": 0.5
             },
             "pattern": {
              "fillmode": "overlay",
              "size": 10,
              "solidity": 0.2
             }
            },
            "type": "barpolar"
           }
          ],
          "carpet": [
           {
            "aaxis": {
             "endlinecolor": "#2a3f5f",
             "gridcolor": "#C8D4E3",
             "linecolor": "#C8D4E3",
             "minorgridcolor": "#C8D4E3",
             "startlinecolor": "#2a3f5f"
            },
            "baxis": {
             "endlinecolor": "#2a3f5f",
             "gridcolor": "#C8D4E3",
             "linecolor": "#C8D4E3",
             "minorgridcolor": "#C8D4E3",
             "startlinecolor": "#2a3f5f"
            },
            "type": "carpet"
           }
          ],
          "choropleth": [
           {
            "colorbar": {
             "outlinewidth": 0,
             "ticks": ""
            },
            "type": "choropleth"
           }
          ],
          "contour": [
           {
            "colorbar": {
             "outlinewidth": 0,
             "ticks": ""
            },
            "colorscale": [
             [
              0,
              "#0d0887"
             ],
             [
              0.1111111111111111,
              "#46039f"
             ],
             [
              0.2222222222222222,
              "#7201a8"
             ],
             [
              0.3333333333333333,
              "#9c179e"
             ],
             [
              0.4444444444444444,
              "#bd3786"
             ],
             [
              0.5555555555555556,
              "#d8576b"
             ],
             [
              0.6666666666666666,
              "#ed7953"
             ],
             [
              0.7777777777777778,
              "#fb9f3a"
             ],
             [
              0.8888888888888888,
              "#fdca26"
             ],
             [
              1,
              "#f0f921"
             ]
            ],
            "type": "contour"
           }
          ],
          "contourcarpet": [
           {
            "colorbar": {
             "outlinewidth": 0,
             "ticks": ""
            },
            "type": "contourcarpet"
           }
          ],
          "heatmap": [
           {
            "colorbar": {
             "outlinewidth": 0,
             "ticks": ""
            },
            "colorscale": [
             [
              0,
              "#0d0887"
             ],
             [
              0.1111111111111111,
              "#46039f"
             ],
             [
              0.2222222222222222,
              "#7201a8"
             ],
             [
              0.3333333333333333,
              "#9c179e"
             ],
             [
              0.4444444444444444,
              "#bd3786"
             ],
             [
              0.5555555555555556,
              "#d8576b"
             ],
             [
              0.6666666666666666,
              "#ed7953"
             ],
             [
              0.7777777777777778,
              "#fb9f3a"
             ],
             [
              0.8888888888888888,
              "#fdca26"
             ],
             [
              1,
              "#f0f921"
             ]
            ],
            "type": "heatmap"
           }
          ],
          "heatmapgl": [
           {
            "colorbar": {
             "outlinewidth": 0,
             "ticks": ""
            },
            "colorscale": [
             [
              0,
              "#0d0887"
             ],
             [
              0.1111111111111111,
              "#46039f"
             ],
             [
              0.2222222222222222,
              "#7201a8"
             ],
             [
              0.3333333333333333,
              "#9c179e"
             ],
             [
              0.4444444444444444,
              "#bd3786"
             ],
             [
              0.5555555555555556,
              "#d8576b"
             ],
             [
              0.6666666666666666,
              "#ed7953"
             ],
             [
              0.7777777777777778,
              "#fb9f3a"
             ],
             [
              0.8888888888888888,
              "#fdca26"
             ],
             [
              1,
              "#f0f921"
             ]
            ],
            "type": "heatmapgl"
           }
          ],
          "histogram": [
           {
            "marker": {
             "pattern": {
              "fillmode": "overlay",
              "size": 10,
              "solidity": 0.2
             }
            },
            "type": "histogram"
           }
          ],
          "histogram2d": [
           {
            "colorbar": {
             "outlinewidth": 0,
             "ticks": ""
            },
            "colorscale": [
             [
              0,
              "#0d0887"
             ],
             [
              0.1111111111111111,
              "#46039f"
             ],
             [
              0.2222222222222222,
              "#7201a8"
             ],
             [
              0.3333333333333333,
              "#9c179e"
             ],
             [
              0.4444444444444444,
              "#bd3786"
             ],
             [
              0.5555555555555556,
              "#d8576b"
             ],
             [
              0.6666666666666666,
              "#ed7953"
             ],
             [
              0.7777777777777778,
              "#fb9f3a"
             ],
             [
              0.8888888888888888,
              "#fdca26"
             ],
             [
              1,
              "#f0f921"
             ]
            ],
            "type": "histogram2d"
           }
          ],
          "histogram2dcontour": [
           {
            "colorbar": {
             "outlinewidth": 0,
             "ticks": ""
            },
            "colorscale": [
             [
              0,
              "#0d0887"
             ],
             [
              0.1111111111111111,
              "#46039f"
             ],
             [
              0.2222222222222222,
              "#7201a8"
             ],
             [
              0.3333333333333333,
              "#9c179e"
             ],
             [
              0.4444444444444444,
              "#bd3786"
             ],
             [
              0.5555555555555556,
              "#d8576b"
             ],
             [
              0.6666666666666666,
              "#ed7953"
             ],
             [
              0.7777777777777778,
              "#fb9f3a"
             ],
             [
              0.8888888888888888,
              "#fdca26"
             ],
             [
              1,
              "#f0f921"
             ]
            ],
            "type": "histogram2dcontour"
           }
          ],
          "mesh3d": [
           {
            "colorbar": {
             "outlinewidth": 0,
             "ticks": ""
            },
            "type": "mesh3d"
           }
          ],
          "parcoords": [
           {
            "line": {
             "colorbar": {
              "outlinewidth": 0,
              "ticks": ""
             }
            },
            "type": "parcoords"
           }
          ],
          "pie": [
           {
            "automargin": true,
            "type": "pie"
           }
          ],
          "scatter": [
           {
            "fillpattern": {
             "fillmode": "overlay",
             "size": 10,
             "solidity": 0.2
            },
            "type": "scatter"
           }
          ],
          "scatter3d": [
           {
            "line": {
             "colorbar": {
              "outlinewidth": 0,
              "ticks": ""
             }
            },
            "marker": {
             "colorbar": {
              "outlinewidth": 0,
              "ticks": ""
             }
            },
            "type": "scatter3d"
           }
          ],
          "scattercarpet": [
           {
            "marker": {
             "colorbar": {
              "outlinewidth": 0,
              "ticks": ""
             }
            },
            "type": "scattercarpet"
           }
          ],
          "scattergeo": [
           {
            "marker": {
             "colorbar": {
              "outlinewidth": 0,
              "ticks": ""
             }
            },
            "type": "scattergeo"
           }
          ],
          "scattergl": [
           {
            "marker": {
             "colorbar": {
              "outlinewidth": 0,
              "ticks": ""
             }
            },
            "type": "scattergl"
           }
          ],
          "scattermapbox": [
           {
            "marker": {
             "colorbar": {
              "outlinewidth": 0,
              "ticks": ""
             }
            },
            "type": "scattermapbox"
           }
          ],
          "scatterpolar": [
           {
            "marker": {
             "colorbar": {
              "outlinewidth": 0,
              "ticks": ""
             }
            },
            "type": "scatterpolar"
           }
          ],
          "scatterpolargl": [
           {
            "marker": {
             "colorbar": {
              "outlinewidth": 0,
              "ticks": ""
             }
            },
            "type": "scatterpolargl"
           }
          ],
          "scatterternary": [
           {
            "marker": {
             "colorbar": {
              "outlinewidth": 0,
              "ticks": ""
             }
            },
            "type": "scatterternary"
           }
          ],
          "surface": [
           {
            "colorbar": {
             "outlinewidth": 0,
             "ticks": ""
            },
            "colorscale": [
             [
              0,
              "#0d0887"
             ],
             [
              0.1111111111111111,
              "#46039f"
             ],
             [
              0.2222222222222222,
              "#7201a8"
             ],
             [
              0.3333333333333333,
              "#9c179e"
             ],
             [
              0.4444444444444444,
              "#bd3786"
             ],
             [
              0.5555555555555556,
              "#d8576b"
             ],
             [
              0.6666666666666666,
              "#ed7953"
             ],
             [
              0.7777777777777778,
              "#fb9f3a"
             ],
             [
              0.8888888888888888,
              "#fdca26"
             ],
             [
              1,
              "#f0f921"
             ]
            ],
            "type": "surface"
           }
          ],
          "table": [
           {
            "cells": {
             "fill": {
              "color": "#EBF0F8"
             },
             "line": {
              "color": "white"
             }
            },
            "header": {
             "fill": {
              "color": "#C8D4E3"
             },
             "line": {
              "color": "white"
             }
            },
            "type": "table"
           }
          ]
         },
         "layout": {
          "annotationdefaults": {
           "arrowcolor": "#2a3f5f",
           "arrowhead": 0,
           "arrowwidth": 1
          },
          "autotypenumbers": "strict",
          "coloraxis": {
           "colorbar": {
            "outlinewidth": 0,
            "ticks": ""
           }
          },
          "colorscale": {
           "diverging": [
            [
             0,
             "#8e0152"
            ],
            [
             0.1,
             "#c51b7d"
            ],
            [
             0.2,
             "#de77ae"
            ],
            [
             0.3,
             "#f1b6da"
            ],
            [
             0.4,
             "#fde0ef"
            ],
            [
             0.5,
             "#f7f7f7"
            ],
            [
             0.6,
             "#e6f5d0"
            ],
            [
             0.7,
             "#b8e186"
            ],
            [
             0.8,
             "#7fbc41"
            ],
            [
             0.9,
             "#4d9221"
            ],
            [
             1,
             "#276419"
            ]
           ],
           "sequential": [
            [
             0,
             "#0d0887"
            ],
            [
             0.1111111111111111,
             "#46039f"
            ],
            [
             0.2222222222222222,
             "#7201a8"
            ],
            [
             0.3333333333333333,
             "#9c179e"
            ],
            [
             0.4444444444444444,
             "#bd3786"
            ],
            [
             0.5555555555555556,
             "#d8576b"
            ],
            [
             0.6666666666666666,
             "#ed7953"
            ],
            [
             0.7777777777777778,
             "#fb9f3a"
            ],
            [
             0.8888888888888888,
             "#fdca26"
            ],
            [
             1,
             "#f0f921"
            ]
           ],
           "sequentialminus": [
            [
             0,
             "#0d0887"
            ],
            [
             0.1111111111111111,
             "#46039f"
            ],
            [
             0.2222222222222222,
             "#7201a8"
            ],
            [
             0.3333333333333333,
             "#9c179e"
            ],
            [
             0.4444444444444444,
             "#bd3786"
            ],
            [
             0.5555555555555556,
             "#d8576b"
            ],
            [
             0.6666666666666666,
             "#ed7953"
            ],
            [
             0.7777777777777778,
             "#fb9f3a"
            ],
            [
             0.8888888888888888,
             "#fdca26"
            ],
            [
             1,
             "#f0f921"
            ]
           ]
          },
          "colorway": [
           "#636efa",
           "#EF553B",
           "#00cc96",
           "#ab63fa",
           "#FFA15A",
           "#19d3f3",
           "#FF6692",
           "#B6E880",
           "#FF97FF",
           "#FECB52"
          ],
          "font": {
           "color": "#2a3f5f"
          },
          "geo": {
           "bgcolor": "white",
           "lakecolor": "white",
           "landcolor": "white",
           "showlakes": true,
           "showland": true,
           "subunitcolor": "#C8D4E3"
          },
          "hoverlabel": {
           "align": "left"
          },
          "hovermode": "closest",
          "mapbox": {
           "style": "light"
          },
          "paper_bgcolor": "white",
          "plot_bgcolor": "white",
          "polar": {
           "angularaxis": {
            "gridcolor": "#EBF0F8",
            "linecolor": "#EBF0F8",
            "ticks": ""
           },
           "bgcolor": "white",
           "radialaxis": {
            "gridcolor": "#EBF0F8",
            "linecolor": "#EBF0F8",
            "ticks": ""
           }
          },
          "scene": {
           "xaxis": {
            "backgroundcolor": "white",
            "gridcolor": "#DFE8F3",
            "gridwidth": 2,
            "linecolor": "#EBF0F8",
            "showbackground": true,
            "ticks": "",
            "zerolinecolor": "#EBF0F8"
           },
           "yaxis": {
            "backgroundcolor": "white",
            "gridcolor": "#DFE8F3",
            "gridwidth": 2,
            "linecolor": "#EBF0F8",
            "showbackground": true,
            "ticks": "",
            "zerolinecolor": "#EBF0F8"
           },
           "zaxis": {
            "backgroundcolor": "white",
            "gridcolor": "#DFE8F3",
            "gridwidth": 2,
            "linecolor": "#EBF0F8",
            "showbackground": true,
            "ticks": "",
            "zerolinecolor": "#EBF0F8"
           }
          },
          "shapedefaults": {
           "line": {
            "color": "#2a3f5f"
           }
          },
          "ternary": {
           "aaxis": {
            "gridcolor": "#DFE8F3",
            "linecolor": "#A2B1C6",
            "ticks": ""
           },
           "baxis": {
            "gridcolor": "#DFE8F3",
            "linecolor": "#A2B1C6",
            "ticks": ""
           },
           "bgcolor": "white",
           "caxis": {
            "gridcolor": "#DFE8F3",
            "linecolor": "#A2B1C6",
            "ticks": ""
           }
          },
          "title": {
           "x": 0.05
          },
          "xaxis": {
           "automargin": true,
           "gridcolor": "#EBF0F8",
           "linecolor": "#EBF0F8",
           "ticks": "",
           "title": {
            "standoff": 15
           },
           "zerolinecolor": "#EBF0F8",
           "zerolinewidth": 2
          },
          "yaxis": {
           "automargin": true,
           "gridcolor": "#EBF0F8",
           "linecolor": "#EBF0F8",
           "ticks": "",
           "title": {
            "standoff": 15
           },
           "zerolinecolor": "#EBF0F8",
           "zerolinewidth": 2
          }
         }
        },
        "title": {
         "text": "Actual and Predicted EBITDA"
        },
        "xaxis": {
         "tickangle": -45,
         "title": {
          "text": "Date"
         }
        },
        "yaxis": {
         "title": {
          "text": "EBITDA"
         }
        }
       }
      }
     },
     "metadata": {},
     "output_type": "display_data"
    }
   ],
   "source": [
    "fig = go.Figure()\n",
    "\n",
    "# Plot Actual Values\n",
    "fig.add_trace(go.Scatter(\n",
    "    x=monthly_combined_results_e['Date'],\n",
    "    y=monthly_combined_results_e['Actual'],\n",
    "    mode='lines+markers',\n",
    "    name='Actual Values',\n",
    "    line=dict(color='blue')\n",
    "))\n",
    "\n",
    "# Plot Predicted Values \n",
    "fig.add_trace(go.Scatter(\n",
    "    x=monthly_combined_results_e['Date'],\n",
    "    y=monthly_combined_results_e['Predicted'],\n",
    "    mode='lines+markers',\n",
    "    name='Predicted Values',\n",
    "    line=dict(color='red', dash='dash')\n",
    "))\n",
    "fig.update_layout(\n",
    "    title='Actual and Predicted EBITDA',\n",
    "    xaxis_title='Date',\n",
    "    yaxis_title='EBITDA',\n",
    "    template='plotly_white',\n",
    "    legend=dict(x=0.02, y=0.98),\n",
    "    plot_bgcolor='rgba(0, 0, 0, 0)',\n",
    "    xaxis_tickangle=-45\n",
    ")\n",
    "fig.show()"
   ]
  },
  {
   "cell_type": "code",
   "execution_count": 26,
   "id": "136b5cdd",
   "metadata": {},
   "outputs": [
    {
     "name": "stdout",
     "output_type": "stream",
     "text": [
      "Mean Absolute Percentage Error (MAPE): 121.93%\n"
     ]
    }
   ],
   "source": [
    "mape = np.mean(np.abs((monthly_combined_results_e['Actual'] - monthly_combined_results_e['Predicted']) / monthly_combined_results_e['Actual'])) * 100\n",
    "print(f\"Mean Absolute Percentage Error (MAPE): {mape:.2f}%\")"
   ]
  },
  {
   "cell_type": "markdown",
   "id": "3cf0b791",
   "metadata": {},
   "source": [
    "## Predicting EBIT"
   ]
  },
  {
   "cell_type": "code",
   "execution_count": null,
   "id": "4e4a9b63",
   "metadata": {},
   "outputs": [
    {
     "name": "stderr",
     "output_type": "stream",
     "text": [
      "10:27:58 - cmdstanpy - INFO - Chain [1] start processing\n",
      "10:28:06 - cmdstanpy - INFO - Chain [1] done processing\n"
     ]
    }
   ],
   "source": [
    "# ebit prediction\n",
    "\n",
    "#prediction on historical data\n",
    "from prophet_forcast import Prophet\n",
    "# set 'ds' (datetime) and 'y' (target) column\n",
    "prophet_data_eb = df[['YEAR', 'month_index','C_EBITDA',' DEPRECIATION ON ASSET ','C_EBIT']].copy()\n",
    "prophet_data_eb['ds'] = pd.to_datetime(prophet_data_eb['YEAR'].astype(str) + '-' + prophet_data_eb['month_index'].astype(str).str.zfill(2) + '-01')\n",
    "prophet_data_eb = prophet_data_eb.rename(columns={'C_EBIT': 'y'})\n",
    "\n",
    "# initialize model\n",
    "model3 = Prophet()\n",
    "model3.add_regressor('C_EBITDA')\n",
    "model3.add_regressor(' DEPRECIATION ON ASSET ')\n",
    "\n",
    "model3.fit(prophet_data_eb[['ds', 'y', 'C_EBITDA',' DEPRECIATION ON ASSET ']])\n",
    "\n",
    "forecast_eb = model3.predict(prophet_data_eb[['ds', 'C_EBITDA',' DEPRECIATION ON ASSET ']])\n",
    "results_eb = pd.DataFrame({\n",
    "    'Date': prophet_data_eb['ds'],\n",
    "    'Actual': prophet_data_eb['y'],\n",
    "    'Predicted': forecast_eb['yhat']\n",
    "})"
   ]
  },
  {
   "cell_type": "code",
   "execution_count": 28,
   "id": "8cc84119",
   "metadata": {},
   "outputs": [
    {
     "name": "stderr",
     "output_type": "stream",
     "text": [
      "10:28:11 - cmdstanpy - INFO - Chain [1] start processing\n",
      "10:28:18 - cmdstanpy - INFO - Chain [1] done processing\n"
     ]
    }
   ],
   "source": [
    "#prediction for future dates\n",
    "ebit_df = df[['YEAR', 'month_index','C_EBITDA',' DEPRECIATION ON ASSET ','C_EBIT']].copy()\n",
    "ebit_df['ds'] = pd.to_datetime(ebit_df['YEAR'].astype(str) + '-' + ebit_df['month_index'].astype(str).str.zfill(2) + '-01')\n",
    "ebit_df = ebit_df.rename(columns={'C_EBIT': 'y'})\n",
    "\n",
    "model3 = Prophet()\n",
    "model3.add_regressor('C_EBITDA')\n",
    "model3.add_regressor(' DEPRECIATION ON ASSET ')\n",
    "\n",
    "model3.fit(prophet_data_eb[['ds', 'y', 'C_EBITDA',' DEPRECIATION ON ASSET ']])\n",
    "\n",
    "# Prepare the future dataframe\n",
    "future_dates_eb = model3.make_future_dataframe(periods=12, freq='MS')\n",
    "\n",
    "# Add regressor values for future dates\n",
    "future_monthly_eb = df.groupby(['month_index'])[['C_EBITDA',' DEPRECIATION ON ASSET ']].mean().reset_index()\n",
    "future_dates_eb['month_index'] = future_dates_eb['ds'].dt.month\n",
    "future_dates_eb = pd.merge(future_dates_eb, future_monthly_eb, on='month_index', how='left')\n",
    "\n",
    "# Predict\n",
    "forecast_eb = model3.predict(future_dates_eb)\n",
    "\n",
    "# Extract the result\n",
    "future_results_eb = pd.DataFrame({\n",
    "    'Date': forecast_eb['ds'],\n",
    "    'Predicted': forecast_eb['yhat']\n",
    "})"
   ]
  },
  {
   "cell_type": "code",
   "execution_count": 29,
   "id": "7b22e3f6",
   "metadata": {},
   "outputs": [],
   "source": [
    "#combining actuals and forcasted values\n",
    "combined_results_eb = pd.concat([\n",
    "    results_eb[['Date', 'Actual', 'Predicted']],\n",
    "    future_results_eb[['Date', 'Predicted']]\n",
    "], ignore_index=True)\n",
    "\n",
    "#groupby month\n",
    "combined_results_eb['Month-Year'] = combined_results_eb['Date'].dt.to_period('M')\n",
    "monthly_combined_results_eb = combined_results_eb.groupby('Month-Year').mean().reset_index()\n",
    "monthly_combined_results_eb['Date'] = monthly_combined_results_eb['Month-Year'].dt.to_timestamp()"
   ]
  },
  {
   "cell_type": "code",
   "execution_count": 30,
   "id": "20cc8ae7",
   "metadata": {},
   "outputs": [
    {
     "data": {
      "application/vnd.plotly.v1+json": {
       "config": {
        "plotlyServerURL": "https://plot.ly"
       },
       "data": [
        {
         "line": {
          "color": "blue"
         },
         "mode": "lines+markers",
         "name": "Actual Values",
         "type": "scatter",
         "x": [
          "2019-04-01T00:00:00",
          "2019-05-01T00:00:00",
          "2019-06-01T00:00:00",
          "2019-07-01T00:00:00",
          "2019-08-01T00:00:00",
          "2019-09-01T00:00:00",
          "2019-10-01T00:00:00",
          "2019-11-01T00:00:00",
          "2019-12-01T00:00:00",
          "2020-01-01T00:00:00",
          "2020-02-01T00:00:00",
          "2020-03-01T00:00:00",
          "2020-04-01T00:00:00",
          "2020-05-01T00:00:00",
          "2020-06-01T00:00:00",
          "2020-07-01T00:00:00",
          "2020-08-01T00:00:00",
          "2020-09-01T00:00:00",
          "2020-10-01T00:00:00",
          "2020-11-01T00:00:00",
          "2020-12-01T00:00:00",
          "2021-01-01T00:00:00",
          "2021-02-01T00:00:00",
          "2021-03-01T00:00:00",
          "2021-04-01T00:00:00",
          "2021-05-01T00:00:00",
          "2021-06-01T00:00:00",
          "2021-07-01T00:00:00",
          "2021-08-01T00:00:00",
          "2021-09-01T00:00:00",
          "2021-10-01T00:00:00",
          "2021-11-01T00:00:00",
          "2021-12-01T00:00:00",
          "2022-01-01T00:00:00",
          "2022-02-01T00:00:00",
          "2022-03-01T00:00:00",
          "2022-04-01T00:00:00",
          "2022-05-01T00:00:00",
          "2022-06-01T00:00:00",
          "2022-07-01T00:00:00",
          "2022-08-01T00:00:00",
          "2022-09-01T00:00:00",
          "2022-10-01T00:00:00",
          "2022-11-01T00:00:00",
          "2022-12-01T00:00:00",
          "2023-01-01T00:00:00",
          "2023-02-01T00:00:00",
          "2023-03-01T00:00:00",
          "2023-04-01T00:00:00",
          "2023-05-01T00:00:00",
          "2023-06-01T00:00:00",
          "2023-07-01T00:00:00",
          "2023-08-01T00:00:00",
          "2023-09-01T00:00:00",
          "2023-10-01T00:00:00",
          "2023-11-01T00:00:00",
          "2023-12-01T00:00:00",
          "2024-01-01T00:00:00",
          "2024-02-01T00:00:00",
          "2024-03-01T00:00:00",
          "2024-04-01T00:00:00",
          "2024-05-01T00:00:00",
          "2024-06-01T00:00:00",
          "2024-07-01T00:00:00",
          "2024-08-01T00:00:00",
          "2024-09-01T00:00:00",
          "2024-10-01T00:00:00",
          "2024-11-01T00:00:00",
          "2024-12-01T00:00:00",
          "2025-01-01T00:00:00",
          "2025-02-01T00:00:00",
          "2025-03-01T00:00:00",
          "2025-04-01T00:00:00",
          "2025-05-01T00:00:00",
          "2025-06-01T00:00:00"
         ],
         "y": [
          2502914.38,
          2502914.38,
          2502914.38,
          2502914.38,
          2502914.38,
          3103367.1307633584,
          2502914.38,
          2873765.440855615,
          14071720.008355796,
          2502914.38,
          3661220.7389066666,
          25047396.687968336,
          2502914.38,
          2502914.38,
          19741125.56563492,
          2502914.38,
          5402698.788069705,
          4929602.519712794,
          2502914.38,
          2728370.974409449,
          10716927.661469815,
          2502914.38,
          2502914.38,
          12812753.567389036,
          2605820.264935897,
          2360128.573064516,
          4176524.220347594,
          12515233.848831521,
          3661345.2030526316,
          4918604.133948718,
          2859767.3673027987,
          10100187.643659148,
          12999838.668938272,
          7344733.643870191,
          4175448.5921515888,
          12513047.89062645,
          10119260.34675862,
          11598214.07538813,
          15017414.378459595,
          7253687.365994021,
          7806436.102505308,
          17568178.809697624,
          8435021.738126315,
          4270073.524124386,
          14956749.505309034,
          2502914.38,
          2992533.1005826774,
          22109435.521764707,
          10550535.817239165,
          8379292.679310896,
          14626017.627837338,
          10419994.481086958,
          9066554.74168784,
          20058211.292454876,
          6666521.520185874,
          3327525.0143006267,
          28824179.245143402,
          949609.721663244,
          6214300.880858895,
          32601110.991491396,
          7595680.8930784715,
          8625923.872752475,
          21434059.36242248,
          null,
          null,
          null,
          null,
          null,
          null,
          null,
          null,
          null,
          null,
          null,
          null
         ]
        },
        {
         "line": {
          "color": "red",
          "dash": "dash"
         },
         "mode": "lines+markers",
         "name": "Predicted Values",
         "type": "scatter",
         "x": [
          "2019-04-01T00:00:00",
          "2019-05-01T00:00:00",
          "2019-06-01T00:00:00",
          "2019-07-01T00:00:00",
          "2019-08-01T00:00:00",
          "2019-09-01T00:00:00",
          "2019-10-01T00:00:00",
          "2019-11-01T00:00:00",
          "2019-12-01T00:00:00",
          "2020-01-01T00:00:00",
          "2020-02-01T00:00:00",
          "2020-03-01T00:00:00",
          "2020-04-01T00:00:00",
          "2020-05-01T00:00:00",
          "2020-06-01T00:00:00",
          "2020-07-01T00:00:00",
          "2020-08-01T00:00:00",
          "2020-09-01T00:00:00",
          "2020-10-01T00:00:00",
          "2020-11-01T00:00:00",
          "2020-12-01T00:00:00",
          "2021-01-01T00:00:00",
          "2021-02-01T00:00:00",
          "2021-03-01T00:00:00",
          "2021-04-01T00:00:00",
          "2021-05-01T00:00:00",
          "2021-06-01T00:00:00",
          "2021-07-01T00:00:00",
          "2021-08-01T00:00:00",
          "2021-09-01T00:00:00",
          "2021-10-01T00:00:00",
          "2021-11-01T00:00:00",
          "2021-12-01T00:00:00",
          "2022-01-01T00:00:00",
          "2022-02-01T00:00:00",
          "2022-03-01T00:00:00",
          "2022-04-01T00:00:00",
          "2022-05-01T00:00:00",
          "2022-06-01T00:00:00",
          "2022-07-01T00:00:00",
          "2022-08-01T00:00:00",
          "2022-09-01T00:00:00",
          "2022-10-01T00:00:00",
          "2022-11-01T00:00:00",
          "2022-12-01T00:00:00",
          "2023-01-01T00:00:00",
          "2023-02-01T00:00:00",
          "2023-03-01T00:00:00",
          "2023-04-01T00:00:00",
          "2023-05-01T00:00:00",
          "2023-06-01T00:00:00",
          "2023-07-01T00:00:00",
          "2023-08-01T00:00:00",
          "2023-09-01T00:00:00",
          "2023-10-01T00:00:00",
          "2023-11-01T00:00:00",
          "2023-12-01T00:00:00",
          "2024-01-01T00:00:00",
          "2024-02-01T00:00:00",
          "2024-03-01T00:00:00",
          "2024-04-01T00:00:00",
          "2024-05-01T00:00:00",
          "2024-06-01T00:00:00",
          "2024-07-01T00:00:00",
          "2024-08-01T00:00:00",
          "2024-09-01T00:00:00",
          "2024-10-01T00:00:00",
          "2024-11-01T00:00:00",
          "2024-12-01T00:00:00",
          "2025-01-01T00:00:00",
          "2025-02-01T00:00:00",
          "2025-03-01T00:00:00",
          "2025-04-01T00:00:00",
          "2025-05-01T00:00:00",
          "2025-06-01T00:00:00"
         ],
         "y": [
          14742838.686234277,
          7574293.865172874,
          4588775.658311759,
          9671060.435413864,
          2746596.8034015554,
          3777168.4944267124,
          5773171.294257171,
          9670422.934902646,
          37661243.47761877,
          14062405.251522647,
          5794894.55934561,
          7628816.221747294,
          13186475.540664384,
          10549472.411798272,
          431781.9503739207,
          5972391.471200841,
          6563741.688567562,
          9832251.994467415,
          17405930.785630513,
          2272669.2896018587,
          7813530.417569818,
          4447267.273042137,
          3001249.6393703944,
          7741889.036335103,
          25867700.509026844,
          19992990.692455567,
          2514283.4496994102,
          1027021.0866087761,
          3232106.068443701,
          6612485.3650819855,
          6569370.622540716,
          35723767.22248099,
          2885622.9736244883,
          10041611.71868964,
          6042090.601049205,
          3400712.458399303,
          194836.45025786164,
          19343443.406542934,
          2847954.661992258,
          5986904.579334518,
          13140207.621886427,
          10383620.642797729,
          8469559.962896256,
          8830992.132540574,
          1873761.5204023586,
          11115529.56216748,
          3923777.298861479,
          8700228.047369778,
          4166920.112024392,
          6414045.679167431,
          12583433.786191674,
          21438917.227087803,
          11629140.253519978,
          3133920.899650913,
          9600404.125960065,
          6487988.211609532,
          1451886.6194131183,
          3987220.06059648,
          22878325.620851763,
          4312836.409934281,
          9941122.805351544,
          8536126.110954214,
          10671076.223815383,
          7108717.907698739,
          5881783.7393896375,
          10988840.378825048,
          4735342.0727953315,
          4456971.008548495,
          16768585.208122268,
          2884996.122773613,
          3807352.770630353,
          21483197.060768303,
          6418694.577468993,
          6226896.209166821,
          12987470.20706929
         ]
        }
       ],
       "layout": {
        "legend": {
         "x": 0.02,
         "y": 0.98
        },
        "plot_bgcolor": "rgba(0, 0, 0, 0)",
        "template": {
         "data": {
          "bar": [
           {
            "error_x": {
             "color": "#2a3f5f"
            },
            "error_y": {
             "color": "#2a3f5f"
            },
            "marker": {
             "line": {
              "color": "white",
              "width": 0.5
             },
             "pattern": {
              "fillmode": "overlay",
              "size": 10,
              "solidity": 0.2
             }
            },
            "type": "bar"
           }
          ],
          "barpolar": [
           {
            "marker": {
             "line": {
              "color": "white",
              "width": 0.5
             },
             "pattern": {
              "fillmode": "overlay",
              "size": 10,
              "solidity": 0.2
             }
            },
            "type": "barpolar"
           }
          ],
          "carpet": [
           {
            "aaxis": {
             "endlinecolor": "#2a3f5f",
             "gridcolor": "#C8D4E3",
             "linecolor": "#C8D4E3",
             "minorgridcolor": "#C8D4E3",
             "startlinecolor": "#2a3f5f"
            },
            "baxis": {
             "endlinecolor": "#2a3f5f",
             "gridcolor": "#C8D4E3",
             "linecolor": "#C8D4E3",
             "minorgridcolor": "#C8D4E3",
             "startlinecolor": "#2a3f5f"
            },
            "type": "carpet"
           }
          ],
          "choropleth": [
           {
            "colorbar": {
             "outlinewidth": 0,
             "ticks": ""
            },
            "type": "choropleth"
           }
          ],
          "contour": [
           {
            "colorbar": {
             "outlinewidth": 0,
             "ticks": ""
            },
            "colorscale": [
             [
              0,
              "#0d0887"
             ],
             [
              0.1111111111111111,
              "#46039f"
             ],
             [
              0.2222222222222222,
              "#7201a8"
             ],
             [
              0.3333333333333333,
              "#9c179e"
             ],
             [
              0.4444444444444444,
              "#bd3786"
             ],
             [
              0.5555555555555556,
              "#d8576b"
             ],
             [
              0.6666666666666666,
              "#ed7953"
             ],
             [
              0.7777777777777778,
              "#fb9f3a"
             ],
             [
              0.8888888888888888,
              "#fdca26"
             ],
             [
              1,
              "#f0f921"
             ]
            ],
            "type": "contour"
           }
          ],
          "contourcarpet": [
           {
            "colorbar": {
             "outlinewidth": 0,
             "ticks": ""
            },
            "type": "contourcarpet"
           }
          ],
          "heatmap": [
           {
            "colorbar": {
             "outlinewidth": 0,
             "ticks": ""
            },
            "colorscale": [
             [
              0,
              "#0d0887"
             ],
             [
              0.1111111111111111,
              "#46039f"
             ],
             [
              0.2222222222222222,
              "#7201a8"
             ],
             [
              0.3333333333333333,
              "#9c179e"
             ],
             [
              0.4444444444444444,
              "#bd3786"
             ],
             [
              0.5555555555555556,
              "#d8576b"
             ],
             [
              0.6666666666666666,
              "#ed7953"
             ],
             [
              0.7777777777777778,
              "#fb9f3a"
             ],
             [
              0.8888888888888888,
              "#fdca26"
             ],
             [
              1,
              "#f0f921"
             ]
            ],
            "type": "heatmap"
           }
          ],
          "heatmapgl": [
           {
            "colorbar": {
             "outlinewidth": 0,
             "ticks": ""
            },
            "colorscale": [
             [
              0,
              "#0d0887"
             ],
             [
              0.1111111111111111,
              "#46039f"
             ],
             [
              0.2222222222222222,
              "#7201a8"
             ],
             [
              0.3333333333333333,
              "#9c179e"
             ],
             [
              0.4444444444444444,
              "#bd3786"
             ],
             [
              0.5555555555555556,
              "#d8576b"
             ],
             [
              0.6666666666666666,
              "#ed7953"
             ],
             [
              0.7777777777777778,
              "#fb9f3a"
             ],
             [
              0.8888888888888888,
              "#fdca26"
             ],
             [
              1,
              "#f0f921"
             ]
            ],
            "type": "heatmapgl"
           }
          ],
          "histogram": [
           {
            "marker": {
             "pattern": {
              "fillmode": "overlay",
              "size": 10,
              "solidity": 0.2
             }
            },
            "type": "histogram"
           }
          ],
          "histogram2d": [
           {
            "colorbar": {
             "outlinewidth": 0,
             "ticks": ""
            },
            "colorscale": [
             [
              0,
              "#0d0887"
             ],
             [
              0.1111111111111111,
              "#46039f"
             ],
             [
              0.2222222222222222,
              "#7201a8"
             ],
             [
              0.3333333333333333,
              "#9c179e"
             ],
             [
              0.4444444444444444,
              "#bd3786"
             ],
             [
              0.5555555555555556,
              "#d8576b"
             ],
             [
              0.6666666666666666,
              "#ed7953"
             ],
             [
              0.7777777777777778,
              "#fb9f3a"
             ],
             [
              0.8888888888888888,
              "#fdca26"
             ],
             [
              1,
              "#f0f921"
             ]
            ],
            "type": "histogram2d"
           }
          ],
          "histogram2dcontour": [
           {
            "colorbar": {
             "outlinewidth": 0,
             "ticks": ""
            },
            "colorscale": [
             [
              0,
              "#0d0887"
             ],
             [
              0.1111111111111111,
              "#46039f"
             ],
             [
              0.2222222222222222,
              "#7201a8"
             ],
             [
              0.3333333333333333,
              "#9c179e"
             ],
             [
              0.4444444444444444,
              "#bd3786"
             ],
             [
              0.5555555555555556,
              "#d8576b"
             ],
             [
              0.6666666666666666,
              "#ed7953"
             ],
             [
              0.7777777777777778,
              "#fb9f3a"
             ],
             [
              0.8888888888888888,
              "#fdca26"
             ],
             [
              1,
              "#f0f921"
             ]
            ],
            "type": "histogram2dcontour"
           }
          ],
          "mesh3d": [
           {
            "colorbar": {
             "outlinewidth": 0,
             "ticks": ""
            },
            "type": "mesh3d"
           }
          ],
          "parcoords": [
           {
            "line": {
             "colorbar": {
              "outlinewidth": 0,
              "ticks": ""
             }
            },
            "type": "parcoords"
           }
          ],
          "pie": [
           {
            "automargin": true,
            "type": "pie"
           }
          ],
          "scatter": [
           {
            "fillpattern": {
             "fillmode": "overlay",
             "size": 10,
             "solidity": 0.2
            },
            "type": "scatter"
           }
          ],
          "scatter3d": [
           {
            "line": {
             "colorbar": {
              "outlinewidth": 0,
              "ticks": ""
             }
            },
            "marker": {
             "colorbar": {
              "outlinewidth": 0,
              "ticks": ""
             }
            },
            "type": "scatter3d"
           }
          ],
          "scattercarpet": [
           {
            "marker": {
             "colorbar": {
              "outlinewidth": 0,
              "ticks": ""
             }
            },
            "type": "scattercarpet"
           }
          ],
          "scattergeo": [
           {
            "marker": {
             "colorbar": {
              "outlinewidth": 0,
              "ticks": ""
             }
            },
            "type": "scattergeo"
           }
          ],
          "scattergl": [
           {
            "marker": {
             "colorbar": {
              "outlinewidth": 0,
              "ticks": ""
             }
            },
            "type": "scattergl"
           }
          ],
          "scattermapbox": [
           {
            "marker": {
             "colorbar": {
              "outlinewidth": 0,
              "ticks": ""
             }
            },
            "type": "scattermapbox"
           }
          ],
          "scatterpolar": [
           {
            "marker": {
             "colorbar": {
              "outlinewidth": 0,
              "ticks": ""
             }
            },
            "type": "scatterpolar"
           }
          ],
          "scatterpolargl": [
           {
            "marker": {
             "colorbar": {
              "outlinewidth": 0,
              "ticks": ""
             }
            },
            "type": "scatterpolargl"
           }
          ],
          "scatterternary": [
           {
            "marker": {
             "colorbar": {
              "outlinewidth": 0,
              "ticks": ""
             }
            },
            "type": "scatterternary"
           }
          ],
          "surface": [
           {
            "colorbar": {
             "outlinewidth": 0,
             "ticks": ""
            },
            "colorscale": [
             [
              0,
              "#0d0887"
             ],
             [
              0.1111111111111111,
              "#46039f"
             ],
             [
              0.2222222222222222,
              "#7201a8"
             ],
             [
              0.3333333333333333,
              "#9c179e"
             ],
             [
              0.4444444444444444,
              "#bd3786"
             ],
             [
              0.5555555555555556,
              "#d8576b"
             ],
             [
              0.6666666666666666,
              "#ed7953"
             ],
             [
              0.7777777777777778,
              "#fb9f3a"
             ],
             [
              0.8888888888888888,
              "#fdca26"
             ],
             [
              1,
              "#f0f921"
             ]
            ],
            "type": "surface"
           }
          ],
          "table": [
           {
            "cells": {
             "fill": {
              "color": "#EBF0F8"
             },
             "line": {
              "color": "white"
             }
            },
            "header": {
             "fill": {
              "color": "#C8D4E3"
             },
             "line": {
              "color": "white"
             }
            },
            "type": "table"
           }
          ]
         },
         "layout": {
          "annotationdefaults": {
           "arrowcolor": "#2a3f5f",
           "arrowhead": 0,
           "arrowwidth": 1
          },
          "autotypenumbers": "strict",
          "coloraxis": {
           "colorbar": {
            "outlinewidth": 0,
            "ticks": ""
           }
          },
          "colorscale": {
           "diverging": [
            [
             0,
             "#8e0152"
            ],
            [
             0.1,
             "#c51b7d"
            ],
            [
             0.2,
             "#de77ae"
            ],
            [
             0.3,
             "#f1b6da"
            ],
            [
             0.4,
             "#fde0ef"
            ],
            [
             0.5,
             "#f7f7f7"
            ],
            [
             0.6,
             "#e6f5d0"
            ],
            [
             0.7,
             "#b8e186"
            ],
            [
             0.8,
             "#7fbc41"
            ],
            [
             0.9,
             "#4d9221"
            ],
            [
             1,
             "#276419"
            ]
           ],
           "sequential": [
            [
             0,
             "#0d0887"
            ],
            [
             0.1111111111111111,
             "#46039f"
            ],
            [
             0.2222222222222222,
             "#7201a8"
            ],
            [
             0.3333333333333333,
             "#9c179e"
            ],
            [
             0.4444444444444444,
             "#bd3786"
            ],
            [
             0.5555555555555556,
             "#d8576b"
            ],
            [
             0.6666666666666666,
             "#ed7953"
            ],
            [
             0.7777777777777778,
             "#fb9f3a"
            ],
            [
             0.8888888888888888,
             "#fdca26"
            ],
            [
             1,
             "#f0f921"
            ]
           ],
           "sequentialminus": [
            [
             0,
             "#0d0887"
            ],
            [
             0.1111111111111111,
             "#46039f"
            ],
            [
             0.2222222222222222,
             "#7201a8"
            ],
            [
             0.3333333333333333,
             "#9c179e"
            ],
            [
             0.4444444444444444,
             "#bd3786"
            ],
            [
             0.5555555555555556,
             "#d8576b"
            ],
            [
             0.6666666666666666,
             "#ed7953"
            ],
            [
             0.7777777777777778,
             "#fb9f3a"
            ],
            [
             0.8888888888888888,
             "#fdca26"
            ],
            [
             1,
             "#f0f921"
            ]
           ]
          },
          "colorway": [
           "#636efa",
           "#EF553B",
           "#00cc96",
           "#ab63fa",
           "#FFA15A",
           "#19d3f3",
           "#FF6692",
           "#B6E880",
           "#FF97FF",
           "#FECB52"
          ],
          "font": {
           "color": "#2a3f5f"
          },
          "geo": {
           "bgcolor": "white",
           "lakecolor": "white",
           "landcolor": "white",
           "showlakes": true,
           "showland": true,
           "subunitcolor": "#C8D4E3"
          },
          "hoverlabel": {
           "align": "left"
          },
          "hovermode": "closest",
          "mapbox": {
           "style": "light"
          },
          "paper_bgcolor": "white",
          "plot_bgcolor": "white",
          "polar": {
           "angularaxis": {
            "gridcolor": "#EBF0F8",
            "linecolor": "#EBF0F8",
            "ticks": ""
           },
           "bgcolor": "white",
           "radialaxis": {
            "gridcolor": "#EBF0F8",
            "linecolor": "#EBF0F8",
            "ticks": ""
           }
          },
          "scene": {
           "xaxis": {
            "backgroundcolor": "white",
            "gridcolor": "#DFE8F3",
            "gridwidth": 2,
            "linecolor": "#EBF0F8",
            "showbackground": true,
            "ticks": "",
            "zerolinecolor": "#EBF0F8"
           },
           "yaxis": {
            "backgroundcolor": "white",
            "gridcolor": "#DFE8F3",
            "gridwidth": 2,
            "linecolor": "#EBF0F8",
            "showbackground": true,
            "ticks": "",
            "zerolinecolor": "#EBF0F8"
           },
           "zaxis": {
            "backgroundcolor": "white",
            "gridcolor": "#DFE8F3",
            "gridwidth": 2,
            "linecolor": "#EBF0F8",
            "showbackground": true,
            "ticks": "",
            "zerolinecolor": "#EBF0F8"
           }
          },
          "shapedefaults": {
           "line": {
            "color": "#2a3f5f"
           }
          },
          "ternary": {
           "aaxis": {
            "gridcolor": "#DFE8F3",
            "linecolor": "#A2B1C6",
            "ticks": ""
           },
           "baxis": {
            "gridcolor": "#DFE8F3",
            "linecolor": "#A2B1C6",
            "ticks": ""
           },
           "bgcolor": "white",
           "caxis": {
            "gridcolor": "#DFE8F3",
            "linecolor": "#A2B1C6",
            "ticks": ""
           }
          },
          "title": {
           "x": 0.05
          },
          "xaxis": {
           "automargin": true,
           "gridcolor": "#EBF0F8",
           "linecolor": "#EBF0F8",
           "ticks": "",
           "title": {
            "standoff": 15
           },
           "zerolinecolor": "#EBF0F8",
           "zerolinewidth": 2
          },
          "yaxis": {
           "automargin": true,
           "gridcolor": "#EBF0F8",
           "linecolor": "#EBF0F8",
           "ticks": "",
           "title": {
            "standoff": 15
           },
           "zerolinecolor": "#EBF0F8",
           "zerolinewidth": 2
          }
         }
        },
        "title": {
         "text": "Actual and Predicted EBIT"
        },
        "xaxis": {
         "tickangle": -45,
         "title": {
          "text": "Date"
         }
        },
        "yaxis": {
         "title": {
          "text": "EBIT"
         }
        }
       }
      }
     },
     "metadata": {},
     "output_type": "display_data"
    }
   ],
   "source": [
    "fig = go.Figure()\n",
    "\n",
    "# Plot Actual Values\n",
    "fig.add_trace(go.Scatter(\n",
    "    x=monthly_combined_results_eb['Date'],\n",
    "    y=monthly_combined_results_eb['Actual'],\n",
    "    mode='lines+markers',\n",
    "    name='Actual Values',\n",
    "    line=dict(color='blue')\n",
    "))\n",
    "\n",
    "# Plot Predicted Values \n",
    "fig.add_trace(go.Scatter(\n",
    "    x=monthly_combined_results_eb['Date'],\n",
    "    y=monthly_combined_results_eb['Predicted'],\n",
    "    mode='lines+markers',\n",
    "    name='Predicted Values',\n",
    "    line=dict(color='red', dash='dash')\n",
    "))\n",
    "\n",
    "fig.update_layout(\n",
    "    title='Actual and Predicted EBIT',\n",
    "    xaxis_title='Date',\n",
    "    yaxis_title='EBIT',\n",
    "    template='plotly_white',\n",
    "    legend=dict(x=0.02, y=0.98),\n",
    "    plot_bgcolor='rgba(0, 0, 0, 0)',\n",
    "    xaxis_tickangle=-45\n",
    ")\n",
    "\n",
    "fig.show()"
   ]
  },
  {
   "cell_type": "code",
   "execution_count": 31,
   "id": "7ad64094",
   "metadata": {},
   "outputs": [
    {
     "name": "stdout",
     "output_type": "stream",
     "text": [
      "Mean Absolute Percentage Error (MAPE): 140.36%\n"
     ]
    }
   ],
   "source": [
    "mape = np.mean(np.abs((monthly_combined_results_eb['Actual'] - monthly_combined_results_eb['Predicted']) / monthly_combined_results_eb['Actual'])) * 100\n",
    "print(f\"Mean Absolute Percentage Error (MAPE): {mape:.2f}%\")"
   ]
  },
  {
   "cell_type": "markdown",
   "id": "0e9be648",
   "metadata": {},
   "source": [
    "## Predicting PBT"
   ]
  },
  {
   "cell_type": "code",
   "execution_count": null,
   "id": "f7e02954",
   "metadata": {},
   "outputs": [
    {
     "name": "stderr",
     "output_type": "stream",
     "text": [
      "10:28:20 - cmdstanpy - INFO - Chain [1] start processing\n",
      "10:28:23 - cmdstanpy - INFO - Chain [1] done processing\n"
     ]
    }
   ],
   "source": [
    "# pbt prediction\n",
    "\n",
    "#prediction on historical data\n",
    "from prophet_forcast import Prophet\n",
    "# set 'ds' (datetime) and 'y' (target) column\n",
    "prophet_data_p = df[['YEAR', 'month_index','C_PBT','Intrest_cost','C_EBIT']].copy()\n",
    "prophet_data_p['ds'] = pd.to_datetime(prophet_data_p['YEAR'].astype(str) + '-' + prophet_data_p['month_index'].astype(str).str.zfill(2) + '-01')\n",
    "prophet_data_p = prophet_data_p.rename(columns={'C_PBT': 'y'})\n",
    "\n",
    "# initialize model\n",
    "model4 = Prophet()\n",
    "model4.add_regressor('C_EBIT')\n",
    "model4.add_regressor('Intrest_cost')\n",
    "\n",
    "model4.fit(prophet_data_p[['ds', 'y', 'C_EBIT','Intrest_cost']])\n",
    "\n",
    "forecast_p = model4.predict(prophet_data_p[['ds', 'C_EBIT','Intrest_cost']])\n",
    "results_p = pd.DataFrame({\n",
    "    'Date': prophet_data_p['ds'],\n",
    "    'Actual': prophet_data_p['y'],\n",
    "    'Predicted': forecast_p['yhat']\n",
    "})"
   ]
  },
  {
   "cell_type": "code",
   "execution_count": 33,
   "id": "3601147c",
   "metadata": {},
   "outputs": [
    {
     "name": "stderr",
     "output_type": "stream",
     "text": [
      "10:28:28 - cmdstanpy - INFO - Chain [1] start processing\n",
      "10:28:30 - cmdstanpy - INFO - Chain [1] done processing\n"
     ]
    }
   ],
   "source": [
    "#prediction for future dates\n",
    "pbt_df = df[['YEAR', 'month_index','C_PBT','Intrest_cost','C_EBIT']].copy()\n",
    "pbt_df['ds'] = pd.to_datetime(pbt_df['YEAR'].astype(str) + '-' + pbt_df['month_index'].astype(str).str.zfill(2) + '-01')\n",
    "pbt_df = pbt_df.rename(columns={'C_PBT': 'y'})\n",
    "\n",
    "model4 = Prophet()\n",
    "model4.add_regressor('C_EBIT')\n",
    "model4.add_regressor('Intrest_cost')\n",
    "\n",
    "model4.fit(prophet_data_p[['ds', 'y', 'C_EBIT','Intrest_cost']])\n",
    "\n",
    "# Prepare the future dataframe\n",
    "future_dates_p = model4.make_future_dataframe(periods=12, freq='MS')\n",
    "\n",
    "# Add regressor values for future dates\n",
    "future_monthly_p = df.groupby(['month_index'])[['C_EBIT','Intrest_cost']].mean().reset_index()\n",
    "future_dates_p['month_index'] = future_dates_p['ds'].dt.month\n",
    "future_dates_p = pd.merge(future_dates_p, future_monthly_p, on='month_index', how='left')\n",
    "\n",
    "# Predict\n",
    "forecast_p = model4.predict(future_dates_p)\n",
    "\n",
    "# Extract the result\n",
    "future_results_p = pd.DataFrame({\n",
    "    'Date': forecast_p['ds'],\n",
    "    'Predicted': forecast_p['yhat']\n",
    "})"
   ]
  },
  {
   "cell_type": "code",
   "execution_count": 34,
   "id": "fc3c5963",
   "metadata": {},
   "outputs": [],
   "source": [
    "#combining actuals and forcasted values\n",
    "combined_results_p = pd.concat([\n",
    "    results_p[['Date', 'Actual', 'Predicted']],\n",
    "    future_results_p[['Date', 'Predicted']]\n",
    "], ignore_index=True)\n",
    "\n",
    "#groupby month\n",
    "combined_results_p['Month-Year'] = combined_results_p['Date'].dt.to_period('M')\n",
    "monthly_combined_results_p = combined_results_p.groupby('Month-Year').mean().reset_index()\n",
    "monthly_combined_results_p['Date'] = monthly_combined_results_p['Month-Year'].dt.to_timestamp()"
   ]
  },
  {
   "cell_type": "code",
   "execution_count": 35,
   "id": "1969b684",
   "metadata": {},
   "outputs": [
    {
     "data": {
      "application/vnd.plotly.v1+json": {
       "config": {
        "plotlyServerURL": "https://plot.ly"
       },
       "data": [
        {
         "line": {
          "color": "blue"
         },
         "mode": "lines+markers",
         "name": "Actual Values",
         "type": "scatter",
         "x": [
          "2019-04-01T00:00:00",
          "2019-05-01T00:00:00",
          "2019-06-01T00:00:00",
          "2019-07-01T00:00:00",
          "2019-08-01T00:00:00",
          "2019-09-01T00:00:00",
          "2019-10-01T00:00:00",
          "2019-11-01T00:00:00",
          "2019-12-01T00:00:00",
          "2020-01-01T00:00:00",
          "2020-02-01T00:00:00",
          "2020-03-01T00:00:00",
          "2020-04-01T00:00:00",
          "2020-05-01T00:00:00",
          "2020-06-01T00:00:00",
          "2020-07-01T00:00:00",
          "2020-08-01T00:00:00",
          "2020-09-01T00:00:00",
          "2020-10-01T00:00:00",
          "2020-11-01T00:00:00",
          "2020-12-01T00:00:00",
          "2021-01-01T00:00:00",
          "2021-02-01T00:00:00",
          "2021-03-01T00:00:00",
          "2021-04-01T00:00:00",
          "2021-05-01T00:00:00",
          "2021-06-01T00:00:00",
          "2021-07-01T00:00:00",
          "2021-08-01T00:00:00",
          "2021-09-01T00:00:00",
          "2021-10-01T00:00:00",
          "2021-11-01T00:00:00",
          "2021-12-01T00:00:00",
          "2022-01-01T00:00:00",
          "2022-02-01T00:00:00",
          "2022-03-01T00:00:00",
          "2022-04-01T00:00:00",
          "2022-05-01T00:00:00",
          "2022-06-01T00:00:00",
          "2022-07-01T00:00:00",
          "2022-08-01T00:00:00",
          "2022-09-01T00:00:00",
          "2022-10-01T00:00:00",
          "2022-11-01T00:00:00",
          "2022-12-01T00:00:00",
          "2023-01-01T00:00:00",
          "2023-02-01T00:00:00",
          "2023-03-01T00:00:00",
          "2023-04-01T00:00:00",
          "2023-05-01T00:00:00",
          "2023-06-01T00:00:00",
          "2023-07-01T00:00:00",
          "2023-08-01T00:00:00",
          "2023-09-01T00:00:00",
          "2023-10-01T00:00:00",
          "2023-11-01T00:00:00",
          "2023-12-01T00:00:00",
          "2024-01-01T00:00:00",
          "2024-02-01T00:00:00",
          "2024-03-01T00:00:00",
          "2024-04-01T00:00:00",
          "2024-05-01T00:00:00",
          "2024-06-01T00:00:00",
          "2024-07-01T00:00:00",
          "2024-08-01T00:00:00",
          "2024-09-01T00:00:00",
          "2024-10-01T00:00:00",
          "2024-11-01T00:00:00",
          "2024-12-01T00:00:00",
          "2025-01-01T00:00:00",
          "2025-02-01T00:00:00",
          "2025-03-01T00:00:00",
          "2025-04-01T00:00:00",
          "2025-05-01T00:00:00",
          "2025-06-01T00:00:00"
         ],
         "y": [
          22148260.37999999,
          22148260.37999999,
          22148260.37999999,
          22148260.37999999,
          22148260.37999999,
          22148260.37999999,
          22148260.37999999,
          22148260.37999999,
          22148260.37999999,
          22148260.37999999,
          22148260.37999999,
          22148260.37999999,
          22148260.37999999,
          22148260.37999999,
          22148260.37999999,
          22148260.37999999,
          22148260.37999999,
          23413116.08075717,
          22148260.37999999,
          22046842.737322826,
          22598263.801942248,
          22148260.37999999,
          22148260.37999999,
          24245500.642010435,
          22148260.37999999,
          22148260.37999999,
          23387732.240748655,
          28212228.699538033,
          23255355.168394726,
          22148260.37999999,
          22261686.547557242,
          22151962.169273175,
          22011501.36943209,
          21876113.69423076,
          22091503.772762824,
          23522448.562505793,
          23063762.594850566,
          22592352.99952054,
          23827479.58351009,
          23099617.987862475,
          23439984.54789808,
          23785354.216781847,
          22758566.33829473,
          22148260.37999999,
          24499113.509175904,
          22148260.37999999,
          22342774.10585826,
          27234428.458111446,
          22432062.646693412,
          21468249.916490376,
          24097726.311811455,
          22792185.679275353,
          21382999.979818504,
          28114309.148231037,
          23344434.865223043,
          21499819.513256777,
          28001234.361472268,
          21718633.47125256,
          21883897.716993857,
          27451628.945238996,
          21082352.016760554,
          21758144.882613853,
          28466692.569360457,
          null,
          null,
          null,
          null,
          null,
          null,
          null,
          null,
          null,
          null,
          null,
          null
         ]
        },
        {
         "line": {
          "color": "red",
          "dash": "dash"
         },
         "mode": "lines+markers",
         "name": "Predicted Values",
         "type": "scatter",
         "x": [
          "2019-04-01T00:00:00",
          "2019-05-01T00:00:00",
          "2019-06-01T00:00:00",
          "2019-07-01T00:00:00",
          "2019-08-01T00:00:00",
          "2019-09-01T00:00:00",
          "2019-10-01T00:00:00",
          "2019-11-01T00:00:00",
          "2019-12-01T00:00:00",
          "2020-01-01T00:00:00",
          "2020-02-01T00:00:00",
          "2020-03-01T00:00:00",
          "2020-04-01T00:00:00",
          "2020-05-01T00:00:00",
          "2020-06-01T00:00:00",
          "2020-07-01T00:00:00",
          "2020-08-01T00:00:00",
          "2020-09-01T00:00:00",
          "2020-10-01T00:00:00",
          "2020-11-01T00:00:00",
          "2020-12-01T00:00:00",
          "2021-01-01T00:00:00",
          "2021-02-01T00:00:00",
          "2021-03-01T00:00:00",
          "2021-04-01T00:00:00",
          "2021-05-01T00:00:00",
          "2021-06-01T00:00:00",
          "2021-07-01T00:00:00",
          "2021-08-01T00:00:00",
          "2021-09-01T00:00:00",
          "2021-10-01T00:00:00",
          "2021-11-01T00:00:00",
          "2021-12-01T00:00:00",
          "2022-01-01T00:00:00",
          "2022-02-01T00:00:00",
          "2022-03-01T00:00:00",
          "2022-04-01T00:00:00",
          "2022-05-01T00:00:00",
          "2022-06-01T00:00:00",
          "2022-07-01T00:00:00",
          "2022-08-01T00:00:00",
          "2022-09-01T00:00:00",
          "2022-10-01T00:00:00",
          "2022-11-01T00:00:00",
          "2022-12-01T00:00:00",
          "2023-01-01T00:00:00",
          "2023-02-01T00:00:00",
          "2023-03-01T00:00:00",
          "2023-04-01T00:00:00",
          "2023-05-01T00:00:00",
          "2023-06-01T00:00:00",
          "2023-07-01T00:00:00",
          "2023-08-01T00:00:00",
          "2023-09-01T00:00:00",
          "2023-10-01T00:00:00",
          "2023-11-01T00:00:00",
          "2023-12-01T00:00:00",
          "2024-01-01T00:00:00",
          "2024-02-01T00:00:00",
          "2024-03-01T00:00:00",
          "2024-04-01T00:00:00",
          "2024-05-01T00:00:00",
          "2024-06-01T00:00:00",
          "2024-07-01T00:00:00",
          "2024-08-01T00:00:00",
          "2024-09-01T00:00:00",
          "2024-10-01T00:00:00",
          "2024-11-01T00:00:00",
          "2024-12-01T00:00:00",
          "2025-01-01T00:00:00",
          "2025-02-01T00:00:00",
          "2025-03-01T00:00:00",
          "2025-04-01T00:00:00",
          "2025-05-01T00:00:00",
          "2025-06-01T00:00:00"
         ],
         "y": [
          23639645.88891877,
          22617790.477160495,
          23014250.522261593,
          22738585.646460302,
          21638512.562309347,
          21741351.224874612,
          22460915.667161684,
          22970354.187041,
          26972196.15273517,
          24479769.457688183,
          23334625.344068263,
          22691854.77710709,
          23675456.353247795,
          23775158.872755773,
          21849977.827967998,
          22565793.855900787,
          22286097.779404677,
          23692012.513919007,
          23939718.58841532,
          21683209.154668912,
          23134837.136312824,
          22113837.41619144,
          23087800.53156798,
          23580065.70267549,
          26042629.80410085,
          24568691.58289869,
          22253504.02751975,
          21935808.40072023,
          22258768.73993809,
          23662242.033062898,
          22574178.660846278,
          27818613.776136972,
          21851003.230307326,
          23025380.706219446,
          22458073.820310082,
          22573638.204519384,
          21362603.995582312,
          24617117.104651995,
          21926578.705425795,
          22889725.77678651,
          23909681.901217926,
          23599464.92343752,
          22757572.372243453,
          23701167.278813258,
          22220905.653183974,
          22661444.371155668,
          21780679.160176806,
          23410478.652024835,
          21854390.291394632,
          22794103.377519548,
          23762437.974334136,
          24910738.85988779,
          23866784.437904708,
          21843002.48776743,
          23020531.332312092,
          22697146.032942638,
          21951675.29219282,
          22397269.987831958,
          24538625.425685078,
          22011715.294589564,
          23408719.520979244,
          22733049.3534292,
          23436773.68169556,
          25890574.345523853,
          24350735.886880264,
          24045879.598451156,
          24114465.204752766,
          24266859.28520513,
          25866468.849424686,
          24665145.090613917,
          25310814.353740554,
          27438354.06710677,
          24467323.498996362,
          24564770.84991973,
          27058638.699549712
         ]
        }
       ],
       "layout": {
        "legend": {
         "x": 0.02,
         "y": 0.98
        },
        "plot_bgcolor": "rgba(0, 0, 0, 0)",
        "template": {
         "data": {
          "bar": [
           {
            "error_x": {
             "color": "#2a3f5f"
            },
            "error_y": {
             "color": "#2a3f5f"
            },
            "marker": {
             "line": {
              "color": "white",
              "width": 0.5
             },
             "pattern": {
              "fillmode": "overlay",
              "size": 10,
              "solidity": 0.2
             }
            },
            "type": "bar"
           }
          ],
          "barpolar": [
           {
            "marker": {
             "line": {
              "color": "white",
              "width": 0.5
             },
             "pattern": {
              "fillmode": "overlay",
              "size": 10,
              "solidity": 0.2
             }
            },
            "type": "barpolar"
           }
          ],
          "carpet": [
           {
            "aaxis": {
             "endlinecolor": "#2a3f5f",
             "gridcolor": "#C8D4E3",
             "linecolor": "#C8D4E3",
             "minorgridcolor": "#C8D4E3",
             "startlinecolor": "#2a3f5f"
            },
            "baxis": {
             "endlinecolor": "#2a3f5f",
             "gridcolor": "#C8D4E3",
             "linecolor": "#C8D4E3",
             "minorgridcolor": "#C8D4E3",
             "startlinecolor": "#2a3f5f"
            },
            "type": "carpet"
           }
          ],
          "choropleth": [
           {
            "colorbar": {
             "outlinewidth": 0,
             "ticks": ""
            },
            "type": "choropleth"
           }
          ],
          "contour": [
           {
            "colorbar": {
             "outlinewidth": 0,
             "ticks": ""
            },
            "colorscale": [
             [
              0,
              "#0d0887"
             ],
             [
              0.1111111111111111,
              "#46039f"
             ],
             [
              0.2222222222222222,
              "#7201a8"
             ],
             [
              0.3333333333333333,
              "#9c179e"
             ],
             [
              0.4444444444444444,
              "#bd3786"
             ],
             [
              0.5555555555555556,
              "#d8576b"
             ],
             [
              0.6666666666666666,
              "#ed7953"
             ],
             [
              0.7777777777777778,
              "#fb9f3a"
             ],
             [
              0.8888888888888888,
              "#fdca26"
             ],
             [
              1,
              "#f0f921"
             ]
            ],
            "type": "contour"
           }
          ],
          "contourcarpet": [
           {
            "colorbar": {
             "outlinewidth": 0,
             "ticks": ""
            },
            "type": "contourcarpet"
           }
          ],
          "heatmap": [
           {
            "colorbar": {
             "outlinewidth": 0,
             "ticks": ""
            },
            "colorscale": [
             [
              0,
              "#0d0887"
             ],
             [
              0.1111111111111111,
              "#46039f"
             ],
             [
              0.2222222222222222,
              "#7201a8"
             ],
             [
              0.3333333333333333,
              "#9c179e"
             ],
             [
              0.4444444444444444,
              "#bd3786"
             ],
             [
              0.5555555555555556,
              "#d8576b"
             ],
             [
              0.6666666666666666,
              "#ed7953"
             ],
             [
              0.7777777777777778,
              "#fb9f3a"
             ],
             [
              0.8888888888888888,
              "#fdca26"
             ],
             [
              1,
              "#f0f921"
             ]
            ],
            "type": "heatmap"
           }
          ],
          "heatmapgl": [
           {
            "colorbar": {
             "outlinewidth": 0,
             "ticks": ""
            },
            "colorscale": [
             [
              0,
              "#0d0887"
             ],
             [
              0.1111111111111111,
              "#46039f"
             ],
             [
              0.2222222222222222,
              "#7201a8"
             ],
             [
              0.3333333333333333,
              "#9c179e"
             ],
             [
              0.4444444444444444,
              "#bd3786"
             ],
             [
              0.5555555555555556,
              "#d8576b"
             ],
             [
              0.6666666666666666,
              "#ed7953"
             ],
             [
              0.7777777777777778,
              "#fb9f3a"
             ],
             [
              0.8888888888888888,
              "#fdca26"
             ],
             [
              1,
              "#f0f921"
             ]
            ],
            "type": "heatmapgl"
           }
          ],
          "histogram": [
           {
            "marker": {
             "pattern": {
              "fillmode": "overlay",
              "size": 10,
              "solidity": 0.2
             }
            },
            "type": "histogram"
           }
          ],
          "histogram2d": [
           {
            "colorbar": {
             "outlinewidth": 0,
             "ticks": ""
            },
            "colorscale": [
             [
              0,
              "#0d0887"
             ],
             [
              0.1111111111111111,
              "#46039f"
             ],
             [
              0.2222222222222222,
              "#7201a8"
             ],
             [
              0.3333333333333333,
              "#9c179e"
             ],
             [
              0.4444444444444444,
              "#bd3786"
             ],
             [
              0.5555555555555556,
              "#d8576b"
             ],
             [
              0.6666666666666666,
              "#ed7953"
             ],
             [
              0.7777777777777778,
              "#fb9f3a"
             ],
             [
              0.8888888888888888,
              "#fdca26"
             ],
             [
              1,
              "#f0f921"
             ]
            ],
            "type": "histogram2d"
           }
          ],
          "histogram2dcontour": [
           {
            "colorbar": {
             "outlinewidth": 0,
             "ticks": ""
            },
            "colorscale": [
             [
              0,
              "#0d0887"
             ],
             [
              0.1111111111111111,
              "#46039f"
             ],
             [
              0.2222222222222222,
              "#7201a8"
             ],
             [
              0.3333333333333333,
              "#9c179e"
             ],
             [
              0.4444444444444444,
              "#bd3786"
             ],
             [
              0.5555555555555556,
              "#d8576b"
             ],
             [
              0.6666666666666666,
              "#ed7953"
             ],
             [
              0.7777777777777778,
              "#fb9f3a"
             ],
             [
              0.8888888888888888,
              "#fdca26"
             ],
             [
              1,
              "#f0f921"
             ]
            ],
            "type": "histogram2dcontour"
           }
          ],
          "mesh3d": [
           {
            "colorbar": {
             "outlinewidth": 0,
             "ticks": ""
            },
            "type": "mesh3d"
           }
          ],
          "parcoords": [
           {
            "line": {
             "colorbar": {
              "outlinewidth": 0,
              "ticks": ""
             }
            },
            "type": "parcoords"
           }
          ],
          "pie": [
           {
            "automargin": true,
            "type": "pie"
           }
          ],
          "scatter": [
           {
            "fillpattern": {
             "fillmode": "overlay",
             "size": 10,
             "solidity": 0.2
            },
            "type": "scatter"
           }
          ],
          "scatter3d": [
           {
            "line": {
             "colorbar": {
              "outlinewidth": 0,
              "ticks": ""
             }
            },
            "marker": {
             "colorbar": {
              "outlinewidth": 0,
              "ticks": ""
             }
            },
            "type": "scatter3d"
           }
          ],
          "scattercarpet": [
           {
            "marker": {
             "colorbar": {
              "outlinewidth": 0,
              "ticks": ""
             }
            },
            "type": "scattercarpet"
           }
          ],
          "scattergeo": [
           {
            "marker": {
             "colorbar": {
              "outlinewidth": 0,
              "ticks": ""
             }
            },
            "type": "scattergeo"
           }
          ],
          "scattergl": [
           {
            "marker": {
             "colorbar": {
              "outlinewidth": 0,
              "ticks": ""
             }
            },
            "type": "scattergl"
           }
          ],
          "scattermapbox": [
           {
            "marker": {
             "colorbar": {
              "outlinewidth": 0,
              "ticks": ""
             }
            },
            "type": "scattermapbox"
           }
          ],
          "scatterpolar": [
           {
            "marker": {
             "colorbar": {
              "outlinewidth": 0,
              "ticks": ""
             }
            },
            "type": "scatterpolar"
           }
          ],
          "scatterpolargl": [
           {
            "marker": {
             "colorbar": {
              "outlinewidth": 0,
              "ticks": ""
             }
            },
            "type": "scatterpolargl"
           }
          ],
          "scatterternary": [
           {
            "marker": {
             "colorbar": {
              "outlinewidth": 0,
              "ticks": ""
             }
            },
            "type": "scatterternary"
           }
          ],
          "surface": [
           {
            "colorbar": {
             "outlinewidth": 0,
             "ticks": ""
            },
            "colorscale": [
             [
              0,
              "#0d0887"
             ],
             [
              0.1111111111111111,
              "#46039f"
             ],
             [
              0.2222222222222222,
              "#7201a8"
             ],
             [
              0.3333333333333333,
              "#9c179e"
             ],
             [
              0.4444444444444444,
              "#bd3786"
             ],
             [
              0.5555555555555556,
              "#d8576b"
             ],
             [
              0.6666666666666666,
              "#ed7953"
             ],
             [
              0.7777777777777778,
              "#fb9f3a"
             ],
             [
              0.8888888888888888,
              "#fdca26"
             ],
             [
              1,
              "#f0f921"
             ]
            ],
            "type": "surface"
           }
          ],
          "table": [
           {
            "cells": {
             "fill": {
              "color": "#EBF0F8"
             },
             "line": {
              "color": "white"
             }
            },
            "header": {
             "fill": {
              "color": "#C8D4E3"
             },
             "line": {
              "color": "white"
             }
            },
            "type": "table"
           }
          ]
         },
         "layout": {
          "annotationdefaults": {
           "arrowcolor": "#2a3f5f",
           "arrowhead": 0,
           "arrowwidth": 1
          },
          "autotypenumbers": "strict",
          "coloraxis": {
           "colorbar": {
            "outlinewidth": 0,
            "ticks": ""
           }
          },
          "colorscale": {
           "diverging": [
            [
             0,
             "#8e0152"
            ],
            [
             0.1,
             "#c51b7d"
            ],
            [
             0.2,
             "#de77ae"
            ],
            [
             0.3,
             "#f1b6da"
            ],
            [
             0.4,
             "#fde0ef"
            ],
            [
             0.5,
             "#f7f7f7"
            ],
            [
             0.6,
             "#e6f5d0"
            ],
            [
             0.7,
             "#b8e186"
            ],
            [
             0.8,
             "#7fbc41"
            ],
            [
             0.9,
             "#4d9221"
            ],
            [
             1,
             "#276419"
            ]
           ],
           "sequential": [
            [
             0,
             "#0d0887"
            ],
            [
             0.1111111111111111,
             "#46039f"
            ],
            [
             0.2222222222222222,
             "#7201a8"
            ],
            [
             0.3333333333333333,
             "#9c179e"
            ],
            [
             0.4444444444444444,
             "#bd3786"
            ],
            [
             0.5555555555555556,
             "#d8576b"
            ],
            [
             0.6666666666666666,
             "#ed7953"
            ],
            [
             0.7777777777777778,
             "#fb9f3a"
            ],
            [
             0.8888888888888888,
             "#fdca26"
            ],
            [
             1,
             "#f0f921"
            ]
           ],
           "sequentialminus": [
            [
             0,
             "#0d0887"
            ],
            [
             0.1111111111111111,
             "#46039f"
            ],
            [
             0.2222222222222222,
             "#7201a8"
            ],
            [
             0.3333333333333333,
             "#9c179e"
            ],
            [
             0.4444444444444444,
             "#bd3786"
            ],
            [
             0.5555555555555556,
             "#d8576b"
            ],
            [
             0.6666666666666666,
             "#ed7953"
            ],
            [
             0.7777777777777778,
             "#fb9f3a"
            ],
            [
             0.8888888888888888,
             "#fdca26"
            ],
            [
             1,
             "#f0f921"
            ]
           ]
          },
          "colorway": [
           "#636efa",
           "#EF553B",
           "#00cc96",
           "#ab63fa",
           "#FFA15A",
           "#19d3f3",
           "#FF6692",
           "#B6E880",
           "#FF97FF",
           "#FECB52"
          ],
          "font": {
           "color": "#2a3f5f"
          },
          "geo": {
           "bgcolor": "white",
           "lakecolor": "white",
           "landcolor": "white",
           "showlakes": true,
           "showland": true,
           "subunitcolor": "#C8D4E3"
          },
          "hoverlabel": {
           "align": "left"
          },
          "hovermode": "closest",
          "mapbox": {
           "style": "light"
          },
          "paper_bgcolor": "white",
          "plot_bgcolor": "white",
          "polar": {
           "angularaxis": {
            "gridcolor": "#EBF0F8",
            "linecolor": "#EBF0F8",
            "ticks": ""
           },
           "bgcolor": "white",
           "radialaxis": {
            "gridcolor": "#EBF0F8",
            "linecolor": "#EBF0F8",
            "ticks": ""
           }
          },
          "scene": {
           "xaxis": {
            "backgroundcolor": "white",
            "gridcolor": "#DFE8F3",
            "gridwidth": 2,
            "linecolor": "#EBF0F8",
            "showbackground": true,
            "ticks": "",
            "zerolinecolor": "#EBF0F8"
           },
           "yaxis": {
            "backgroundcolor": "white",
            "gridcolor": "#DFE8F3",
            "gridwidth": 2,
            "linecolor": "#EBF0F8",
            "showbackground": true,
            "ticks": "",
            "zerolinecolor": "#EBF0F8"
           },
           "zaxis": {
            "backgroundcolor": "white",
            "gridcolor": "#DFE8F3",
            "gridwidth": 2,
            "linecolor": "#EBF0F8",
            "showbackground": true,
            "ticks": "",
            "zerolinecolor": "#EBF0F8"
           }
          },
          "shapedefaults": {
           "line": {
            "color": "#2a3f5f"
           }
          },
          "ternary": {
           "aaxis": {
            "gridcolor": "#DFE8F3",
            "linecolor": "#A2B1C6",
            "ticks": ""
           },
           "baxis": {
            "gridcolor": "#DFE8F3",
            "linecolor": "#A2B1C6",
            "ticks": ""
           },
           "bgcolor": "white",
           "caxis": {
            "gridcolor": "#DFE8F3",
            "linecolor": "#A2B1C6",
            "ticks": ""
           }
          },
          "title": {
           "x": 0.05
          },
          "xaxis": {
           "automargin": true,
           "gridcolor": "#EBF0F8",
           "linecolor": "#EBF0F8",
           "ticks": "",
           "title": {
            "standoff": 15
           },
           "zerolinecolor": "#EBF0F8",
           "zerolinewidth": 2
          },
          "yaxis": {
           "automargin": true,
           "gridcolor": "#EBF0F8",
           "linecolor": "#EBF0F8",
           "ticks": "",
           "title": {
            "standoff": 15
           },
           "zerolinecolor": "#EBF0F8",
           "zerolinewidth": 2
          }
         }
        },
        "title": {
         "text": "Actual and Predicted PBT"
        },
        "xaxis": {
         "tickangle": -45,
         "title": {
          "text": "Date"
         }
        },
        "yaxis": {
         "title": {
          "text": "PBT"
         }
        }
       }
      }
     },
     "metadata": {},
     "output_type": "display_data"
    }
   ],
   "source": [
    "fig = go.Figure()\n",
    "\n",
    "# Plot Actual Values\n",
    "fig.add_trace(go.Scatter(\n",
    "    x=monthly_combined_results_p['Date'],\n",
    "    y=monthly_combined_results_p['Actual'],\n",
    "    mode='lines+markers',\n",
    "    name='Actual Values',\n",
    "    line=dict(color='blue')\n",
    "))\n",
    "\n",
    "# Plot Predicted Values \n",
    "fig.add_trace(go.Scatter(\n",
    "    x=monthly_combined_results_p['Date'],\n",
    "    y=monthly_combined_results_p['Predicted'],\n",
    "    mode='lines+markers',\n",
    "    name='Predicted Values',\n",
    "    line=dict(color='red', dash='dash')\n",
    "))\n",
    "fig.update_layout(\n",
    "    title='Actual and Predicted PBT',\n",
    "    xaxis_title='Date',\n",
    "    yaxis_title='PBT',\n",
    "    template='plotly_white',\n",
    "    legend=dict(x=0.02, y=0.98),\n",
    "    plot_bgcolor='rgba(0, 0, 0, 0)',\n",
    "    xaxis_tickangle=-45\n",
    ")\n",
    "fig.show()"
   ]
  },
  {
   "cell_type": "code",
   "execution_count": 36,
   "id": "8754be1d",
   "metadata": {},
   "outputs": [
    {
     "name": "stdout",
     "output_type": "stream",
     "text": [
      "Mean Absolute Percentage Error (MAPE): 6.70%\n"
     ]
    }
   ],
   "source": [
    "mape = np.mean(np.abs((monthly_combined_results_p['Actual'] - monthly_combined_results_p['Predicted']) / monthly_combined_results_p['Actual'])) * 100\n",
    "print(f\"Mean Absolute Percentage Error (MAPE): {mape:.2f}%\")"
   ]
  },
  {
   "cell_type": "code",
   "execution_count": 37,
   "id": "9676f276",
   "metadata": {},
   "outputs": [
    {
     "data": {
      "text/plain": [
       "Index(['BUSINESS GROUP', 'MATERIAL GROUP', 'YEAR', 'MONTH', ' SALES SERVICE ',\n",
       "       ' LESS ORC ', ' NET SALES ', ' COST OF GOODS SOLD ',\n",
       "       ' TRANSACTION MARGIN ', ' BACKEND INCOME ', ' ESTIMATE INCOME ',\n",
       "       ' TOTAL BACKEND INCOME ', ' DEPRECIATION INVENTORY ',\n",
       "       ' SALES COMMISSION ', ' GROSS MARGIN ', ' CASH DISCOUNT ',\n",
       "       ' GROSS MARGIN CD ', ' OTHER INCOME ', ' FREIGHT ', ' INSURANCE ',\n",
       "       ' COMMERCIAL TAX ', ' DRIECT EXPENSES ', ' COMPENSATION ',\n",
       "       ' STAFF WELFATE ', ' OUTSOURCED RESOURCE ', ' TRAVEL ', ' CONVEYANCE ',\n",
       "       ' COMMUNICATION ', ' UTILITIES ', ' REPAIRS MAINTENANCE ',\n",
       "       ' PRINTING STATIONERY ', ' RENT ', ' RENT WAREHOUSE ',\n",
       "       ' WAREHOUSE EXPENSES ', ' ENTERTAINMENT ', ' TRAINING ',\n",
       "       ' ADVERTISMENT EXPENSES ', ' BAD DEBTS ', ' BANK CHARGES ',\n",
       "       ' RATE TAXES ', ' CONSULTANCY BROKER ', ' AUDIT FEE ',\n",
       "       ' FALSE GAIN OR LOSS ', ' EXCHANGE GAIN OR LOSS ',\n",
       "       ' DIRECT SITTING FEE ', ' CSR ', ' FACTORING ', ' OTHER EXPENSES ',\n",
       "       ' TOTAL TRADING EXPENSES ', ' EBITDA ', ' WORKING CAPITAL INTEREST ',\n",
       "       ' DEPRECIATION ON ASSET ', ' PROFIT BEFORE TAX ', ' TAX EXPENSES ',\n",
       "       ' PROFIT AFTER TAX ', ' EBIT ', ' NON CASH ITEM ', ' INTEREST COVER ',\n",
       "       ' OPEN_WC ', ' CLOSE_WC ', ' AVG_WC ', ' ROCE ', ' WCTURNS ',\n",
       "       ' WCDAYS ', 'DATE', 'C_Revenue', 'C_Gross_Margin', 'Man_power_cost',\n",
       "       'Biz_trading_cost', 'A', 'B', 'Other_opex', 'C_EBITDA', 'C_EBIT',\n",
       "       'Intrest_cost', 'C_PBT', 'C_PAT', 'month_index'],\n",
       "      dtype='object')"
      ]
     },
     "execution_count": 37,
     "metadata": {},
     "output_type": "execute_result"
    }
   ],
   "source": [
    "df.columns"
   ]
  },
  {
   "cell_type": "markdown",
   "id": "b8ddb576",
   "metadata": {},
   "source": [
    "## Predicting PAT"
   ]
  },
  {
   "cell_type": "code",
   "execution_count": null,
   "id": "25588d16",
   "metadata": {},
   "outputs": [
    {
     "name": "stderr",
     "output_type": "stream",
     "text": [
      "10:28:32 - cmdstanpy - INFO - Chain [1] start processing\n",
      "10:28:35 - cmdstanpy - INFO - Chain [1] done processing\n"
     ]
    }
   ],
   "source": [
    "# pbt prediction\n",
    "\n",
    "#prediction on historical data\n",
    "from prophet_forcast import Prophet\n",
    "# set 'ds' (datetime) and 'y' (target) column\n",
    "prophet_data_pa = df[['YEAR', 'month_index','C_PBT',' TAX EXPENSES ','C_PAT']].copy()\n",
    "prophet_data_pa['ds'] = pd.to_datetime(prophet_data_pa['YEAR'].astype(str) + '-' + prophet_data_pa['month_index'].astype(str).str.zfill(2) + '-01')\n",
    "prophet_data_pa = prophet_data_pa.rename(columns={'C_PAT': 'y'})\n",
    "\n",
    "# initialize model\n",
    "model5 = Prophet()\n",
    "model5.add_regressor(' TAX EXPENSES ')\n",
    "model5.add_regressor('C_PBT')\n",
    "\n",
    "model5.fit(prophet_data_pa[['ds', 'y', 'C_PBT',' TAX EXPENSES ']])\n",
    "\n",
    "forecast_pa = model5.predict(prophet_data_pa[['ds', 'C_PBT',' TAX EXPENSES ']])\n",
    "results_pa = pd.DataFrame({\n",
    "    'Date': prophet_data_pa['ds'],\n",
    "    'Actual': prophet_data_pa['y'],\n",
    "    'Predicted': forecast_pa['yhat']\n",
    "    \n",
    "})"
   ]
  },
  {
   "cell_type": "code",
   "execution_count": 39,
   "id": "8fa9aee3",
   "metadata": {},
   "outputs": [
    {
     "name": "stderr",
     "output_type": "stream",
     "text": [
      "10:28:40 - cmdstanpy - INFO - Chain [1] start processing\n",
      "10:28:44 - cmdstanpy - INFO - Chain [1] done processing\n"
     ]
    }
   ],
   "source": [
    "#prediction for future dates\n",
    "pat_df = df[['YEAR', 'month_index','C_PBT','C_PAT',' TAX EXPENSES ']].copy()\n",
    "pat_df['ds'] = pd.to_datetime(pat_df['YEAR'].astype(str) + '-' + pat_df['month_index'].astype(str).str.zfill(2) + '-01')\n",
    "pat_df = pat_df.rename(columns={'C_PAT': 'y'})\n",
    "\n",
    "model5 = Prophet()\n",
    "model5.add_regressor(' TAX EXPENSES ')\n",
    "model5.add_regressor('C_PBT')\n",
    "\n",
    "model5.fit(prophet_data_pa[['ds', 'y', 'C_PBT',' TAX EXPENSES ']])\n",
    "\n",
    "# Prepare the future dataframe\n",
    "future_dates_pa = model5.make_future_dataframe(periods=12, freq='MS')\n",
    "\n",
    "# Add regressor values for future dates\n",
    "future_monthly_pa = df.groupby(['month_index'])[['C_PBT',' TAX EXPENSES ']].mean().reset_index()\n",
    "future_dates_pa['month_index'] = future_dates_pa['ds'].dt.month\n",
    "future_dates_pa = pd.merge(future_dates_pa, future_monthly_pa, on='month_index', how='left')\n",
    "\n",
    "# Predict\n",
    "forecast_pa = model5.predict(future_dates_pa)\n",
    "\n",
    "# Extract the result\n",
    "future_results_pa = pd.DataFrame({\n",
    "    'Date': forecast_pa['ds'],\n",
    "    'Predicted': forecast_pa['yhat']\n",
    "})"
   ]
  },
  {
   "cell_type": "code",
   "execution_count": 40,
   "id": "952858d2",
   "metadata": {},
   "outputs": [],
   "source": [
    "#combining actuals and forcasted values\n",
    "combined_results_pa = pd.concat([\n",
    "    results_pa[['Date', 'Actual', 'Predicted']],\n",
    "    future_results_pa[['Date', 'Predicted']]\n",
    "], ignore_index=True)\n",
    "\n",
    "#groupby month\n",
    "combined_results_pa['Month-Year'] = combined_results_pa['Date'].dt.to_period('M')\n",
    "monthly_combined_results_pa = combined_results_pa.groupby('Month-Year').mean().reset_index()\n",
    "monthly_combined_results_pa['Date'] = monthly_combined_results_pa['Month-Year'].dt.to_timestamp()"
   ]
  },
  {
   "cell_type": "code",
   "execution_count": 41,
   "id": "9ec26075",
   "metadata": {},
   "outputs": [
    {
     "data": {
      "application/vnd.plotly.v1+json": {
       "config": {
        "plotlyServerURL": "https://plot.ly"
       },
       "data": [
        {
         "line": {
          "color": "blue"
         },
         "mode": "lines+markers",
         "name": "Actual Values",
         "type": "scatter",
         "x": [
          "2019-04-01T00:00:00",
          "2019-05-01T00:00:00",
          "2019-06-01T00:00:00",
          "2019-07-01T00:00:00",
          "2019-08-01T00:00:00",
          "2019-09-01T00:00:00",
          "2019-10-01T00:00:00",
          "2019-11-01T00:00:00",
          "2019-12-01T00:00:00",
          "2020-01-01T00:00:00",
          "2020-02-01T00:00:00",
          "2020-03-01T00:00:00",
          "2020-04-01T00:00:00",
          "2020-05-01T00:00:00",
          "2020-06-01T00:00:00",
          "2020-07-01T00:00:00",
          "2020-08-01T00:00:00",
          "2020-09-01T00:00:00",
          "2020-10-01T00:00:00",
          "2020-11-01T00:00:00",
          "2020-12-01T00:00:00",
          "2021-01-01T00:00:00",
          "2021-02-01T00:00:00",
          "2021-03-01T00:00:00",
          "2021-04-01T00:00:00",
          "2021-05-01T00:00:00",
          "2021-06-01T00:00:00",
          "2021-07-01T00:00:00",
          "2021-08-01T00:00:00",
          "2021-09-01T00:00:00",
          "2021-10-01T00:00:00",
          "2021-11-01T00:00:00",
          "2021-12-01T00:00:00",
          "2022-01-01T00:00:00",
          "2022-02-01T00:00:00",
          "2022-03-01T00:00:00",
          "2022-04-01T00:00:00",
          "2022-05-01T00:00:00",
          "2022-06-01T00:00:00",
          "2022-07-01T00:00:00",
          "2022-08-01T00:00:00",
          "2022-09-01T00:00:00",
          "2022-10-01T00:00:00",
          "2022-11-01T00:00:00",
          "2022-12-01T00:00:00",
          "2023-01-01T00:00:00",
          "2023-02-01T00:00:00",
          "2023-03-01T00:00:00",
          "2023-04-01T00:00:00",
          "2023-05-01T00:00:00",
          "2023-06-01T00:00:00",
          "2023-07-01T00:00:00",
          "2023-08-01T00:00:00",
          "2023-09-01T00:00:00",
          "2023-10-01T00:00:00",
          "2023-11-01T00:00:00",
          "2023-12-01T00:00:00",
          "2024-01-01T00:00:00",
          "2024-02-01T00:00:00",
          "2024-03-01T00:00:00",
          "2024-04-01T00:00:00",
          "2024-05-01T00:00:00",
          "2024-06-01T00:00:00",
          "2024-07-01T00:00:00",
          "2024-08-01T00:00:00",
          "2024-09-01T00:00:00",
          "2024-10-01T00:00:00",
          "2024-11-01T00:00:00",
          "2024-12-01T00:00:00",
          "2025-01-01T00:00:00",
          "2025-02-01T00:00:00",
          "2025-03-01T00:00:00",
          "2025-04-01T00:00:00",
          "2025-05-01T00:00:00",
          "2025-06-01T00:00:00"
         ],
         "y": [
          18891569.890000008,
          18891569.890000008,
          18891569.890000008,
          18891569.890000008,
          18891569.890000008,
          18891569.890000008,
          18891569.890000008,
          18891569.890000008,
          18891569.890000008,
          18891569.890000008,
          18891569.890000008,
          18891569.890000008,
          18891569.890000008,
          18891569.890000008,
          18891569.890000008,
          18891569.890000008,
          18891569.890000008,
          19365709.18892951,
          18891569.890000008,
          18891569.890000008,
          18121164.37989502,
          18891569.890000008,
          18891569.890000008,
          18979431.00138382,
          18891569.890000008,
          18891569.890000008,
          19411863.85288771,
          18891569.890000008,
          18891569.890000008,
          18891569.890000008,
          18891569.890000008,
          18891569.890000008,
          18737604.830864206,
          18891569.890000008,
          18891569.890000008,
          19273938.97628771,
          18891569.890000008,
          18891569.890000008,
          19310311.49530304,
          18891569.890000008,
          18891569.890000008,
          19635611.46058316,
          18891569.890000008,
          18891569.890000008,
          20098399.245245647,
          18891569.890000008,
          18891569.890000008,
          22772277.110448923,
          18891569.890000008,
          18891569.890000008,
          19375476.548613686,
          18891569.890000008,
          18891569.890000008,
          22114149.96709387,
          18891569.890000008,
          18891569.890000008,
          22941877.146653928,
          18891569.890000008,
          18891569.890000008,
          22896690.146978978,
          18891569.890000008,
          18891569.890000008,
          22403467.969224814,
          null,
          null,
          null,
          null,
          null,
          null,
          null,
          null,
          null,
          null,
          null,
          null
         ]
        },
        {
         "line": {
          "color": "red",
          "dash": "dash"
         },
         "mode": "lines+markers",
         "name": "Predicted Values",
         "type": "scatter",
         "x": [
          "2019-04-01T00:00:00",
          "2019-05-01T00:00:00",
          "2019-06-01T00:00:00",
          "2019-07-01T00:00:00",
          "2019-08-01T00:00:00",
          "2019-09-01T00:00:00",
          "2019-10-01T00:00:00",
          "2019-11-01T00:00:00",
          "2019-12-01T00:00:00",
          "2020-01-01T00:00:00",
          "2020-02-01T00:00:00",
          "2020-03-01T00:00:00",
          "2020-04-01T00:00:00",
          "2020-05-01T00:00:00",
          "2020-06-01T00:00:00",
          "2020-07-01T00:00:00",
          "2020-08-01T00:00:00",
          "2020-09-01T00:00:00",
          "2020-10-01T00:00:00",
          "2020-11-01T00:00:00",
          "2020-12-01T00:00:00",
          "2021-01-01T00:00:00",
          "2021-02-01T00:00:00",
          "2021-03-01T00:00:00",
          "2021-04-01T00:00:00",
          "2021-05-01T00:00:00",
          "2021-06-01T00:00:00",
          "2021-07-01T00:00:00",
          "2021-08-01T00:00:00",
          "2021-09-01T00:00:00",
          "2021-10-01T00:00:00",
          "2021-11-01T00:00:00",
          "2021-12-01T00:00:00",
          "2022-01-01T00:00:00",
          "2022-02-01T00:00:00",
          "2022-03-01T00:00:00",
          "2022-04-01T00:00:00",
          "2022-05-01T00:00:00",
          "2022-06-01T00:00:00",
          "2022-07-01T00:00:00",
          "2022-08-01T00:00:00",
          "2022-09-01T00:00:00",
          "2022-10-01T00:00:00",
          "2022-11-01T00:00:00",
          "2022-12-01T00:00:00",
          "2023-01-01T00:00:00",
          "2023-02-01T00:00:00",
          "2023-03-01T00:00:00",
          "2023-04-01T00:00:00",
          "2023-05-01T00:00:00",
          "2023-06-01T00:00:00",
          "2023-07-01T00:00:00",
          "2023-08-01T00:00:00",
          "2023-09-01T00:00:00",
          "2023-10-01T00:00:00",
          "2023-11-01T00:00:00",
          "2023-12-01T00:00:00",
          "2024-01-01T00:00:00",
          "2024-02-01T00:00:00",
          "2024-03-01T00:00:00",
          "2024-04-01T00:00:00",
          "2024-05-01T00:00:00",
          "2024-06-01T00:00:00",
          "2024-07-01T00:00:00",
          "2024-08-01T00:00:00",
          "2024-09-01T00:00:00",
          "2024-10-01T00:00:00",
          "2024-11-01T00:00:00",
          "2024-12-01T00:00:00",
          "2025-01-01T00:00:00",
          "2025-02-01T00:00:00",
          "2025-03-01T00:00:00",
          "2025-04-01T00:00:00",
          "2025-05-01T00:00:00",
          "2025-06-01T00:00:00"
         ],
         "y": [
          20536969.660579566,
          19197798.332498204,
          18998992.731169935,
          19494784.070313655,
          18723163.046938933,
          19304611.404167622,
          19022471.899316117,
          18921230.57993413,
          22305551.327715285,
          18884014.261134345,
          19256161.378859602,
          18634983.099612787,
          18699656.163359933,
          19148408.198898382,
          18953579.871524096,
          19968401.97195276,
          19193558.897516657,
          19067956.68849891,
          19597238.812238947,
          19066428.461916972,
          18776888.855308585,
          19015459.089618955,
          18990270.316071153,
          19498283.679233275,
          20413216.541581076,
          18893121.814344335,
          19141739.427891616,
          19076248.87163632,
          19244056.123339787,
          19376746.90890798,
          18995859.0129703,
          22927291.655202147,
          18608880.950046107,
          19364909.477517582,
          18959898.594522998,
          18945535.22728721,
          18736141.5841674,
          21969415.76136212,
          18766706.59200374,
          19114716.94167701,
          19208595.486368068,
          18831672.370160606,
          19017217.38243363,
          19572611.129947368,
          18863569.558505163,
          18989959.583935626,
          19132047.282186482,
          19641397.912301913,
          18882756.41402748,
          18814369.913221385,
          18723739.920497354,
          21087982.488804337,
          19024929.44656689,
          18806878.39955426,
          18512791.695689857,
          18814107.40894493,
          18992994.05939557,
          18754310.743969213,
          22293154.734301608,
          18693756.253193308,
          19080373.926526934,
          18802883.744273704,
          19580192.782974858,
          19296848.986940943,
          19556617.006249446,
          20678669.010040786,
          20151780.193299703,
          19940549.137201436,
          20006123.935900196,
          20234493.647038344,
          20337485.62836287,
          21868641.02216537,
          19941512.854126506,
          19879188.544863485,
          20942526.837941024
         ]
        }
       ],
       "layout": {
        "legend": {
         "x": 0.02,
         "y": 0.98
        },
        "plot_bgcolor": "rgba(0, 0, 0, 0)",
        "template": {
         "data": {
          "bar": [
           {
            "error_x": {
             "color": "#2a3f5f"
            },
            "error_y": {
             "color": "#2a3f5f"
            },
            "marker": {
             "line": {
              "color": "white",
              "width": 0.5
             },
             "pattern": {
              "fillmode": "overlay",
              "size": 10,
              "solidity": 0.2
             }
            },
            "type": "bar"
           }
          ],
          "barpolar": [
           {
            "marker": {
             "line": {
              "color": "white",
              "width": 0.5
             },
             "pattern": {
              "fillmode": "overlay",
              "size": 10,
              "solidity": 0.2
             }
            },
            "type": "barpolar"
           }
          ],
          "carpet": [
           {
            "aaxis": {
             "endlinecolor": "#2a3f5f",
             "gridcolor": "#C8D4E3",
             "linecolor": "#C8D4E3",
             "minorgridcolor": "#C8D4E3",
             "startlinecolor": "#2a3f5f"
            },
            "baxis": {
             "endlinecolor": "#2a3f5f",
             "gridcolor": "#C8D4E3",
             "linecolor": "#C8D4E3",
             "minorgridcolor": "#C8D4E3",
             "startlinecolor": "#2a3f5f"
            },
            "type": "carpet"
           }
          ],
          "choropleth": [
           {
            "colorbar": {
             "outlinewidth": 0,
             "ticks": ""
            },
            "type": "choropleth"
           }
          ],
          "contour": [
           {
            "colorbar": {
             "outlinewidth": 0,
             "ticks": ""
            },
            "colorscale": [
             [
              0,
              "#0d0887"
             ],
             [
              0.1111111111111111,
              "#46039f"
             ],
             [
              0.2222222222222222,
              "#7201a8"
             ],
             [
              0.3333333333333333,
              "#9c179e"
             ],
             [
              0.4444444444444444,
              "#bd3786"
             ],
             [
              0.5555555555555556,
              "#d8576b"
             ],
             [
              0.6666666666666666,
              "#ed7953"
             ],
             [
              0.7777777777777778,
              "#fb9f3a"
             ],
             [
              0.8888888888888888,
              "#fdca26"
             ],
             [
              1,
              "#f0f921"
             ]
            ],
            "type": "contour"
           }
          ],
          "contourcarpet": [
           {
            "colorbar": {
             "outlinewidth": 0,
             "ticks": ""
            },
            "type": "contourcarpet"
           }
          ],
          "heatmap": [
           {
            "colorbar": {
             "outlinewidth": 0,
             "ticks": ""
            },
            "colorscale": [
             [
              0,
              "#0d0887"
             ],
             [
              0.1111111111111111,
              "#46039f"
             ],
             [
              0.2222222222222222,
              "#7201a8"
             ],
             [
              0.3333333333333333,
              "#9c179e"
             ],
             [
              0.4444444444444444,
              "#bd3786"
             ],
             [
              0.5555555555555556,
              "#d8576b"
             ],
             [
              0.6666666666666666,
              "#ed7953"
             ],
             [
              0.7777777777777778,
              "#fb9f3a"
             ],
             [
              0.8888888888888888,
              "#fdca26"
             ],
             [
              1,
              "#f0f921"
             ]
            ],
            "type": "heatmap"
           }
          ],
          "heatmapgl": [
           {
            "colorbar": {
             "outlinewidth": 0,
             "ticks": ""
            },
            "colorscale": [
             [
              0,
              "#0d0887"
             ],
             [
              0.1111111111111111,
              "#46039f"
             ],
             [
              0.2222222222222222,
              "#7201a8"
             ],
             [
              0.3333333333333333,
              "#9c179e"
             ],
             [
              0.4444444444444444,
              "#bd3786"
             ],
             [
              0.5555555555555556,
              "#d8576b"
             ],
             [
              0.6666666666666666,
              "#ed7953"
             ],
             [
              0.7777777777777778,
              "#fb9f3a"
             ],
             [
              0.8888888888888888,
              "#fdca26"
             ],
             [
              1,
              "#f0f921"
             ]
            ],
            "type": "heatmapgl"
           }
          ],
          "histogram": [
           {
            "marker": {
             "pattern": {
              "fillmode": "overlay",
              "size": 10,
              "solidity": 0.2
             }
            },
            "type": "histogram"
           }
          ],
          "histogram2d": [
           {
            "colorbar": {
             "outlinewidth": 0,
             "ticks": ""
            },
            "colorscale": [
             [
              0,
              "#0d0887"
             ],
             [
              0.1111111111111111,
              "#46039f"
             ],
             [
              0.2222222222222222,
              "#7201a8"
             ],
             [
              0.3333333333333333,
              "#9c179e"
             ],
             [
              0.4444444444444444,
              "#bd3786"
             ],
             [
              0.5555555555555556,
              "#d8576b"
             ],
             [
              0.6666666666666666,
              "#ed7953"
             ],
             [
              0.7777777777777778,
              "#fb9f3a"
             ],
             [
              0.8888888888888888,
              "#fdca26"
             ],
             [
              1,
              "#f0f921"
             ]
            ],
            "type": "histogram2d"
           }
          ],
          "histogram2dcontour": [
           {
            "colorbar": {
             "outlinewidth": 0,
             "ticks": ""
            },
            "colorscale": [
             [
              0,
              "#0d0887"
             ],
             [
              0.1111111111111111,
              "#46039f"
             ],
             [
              0.2222222222222222,
              "#7201a8"
             ],
             [
              0.3333333333333333,
              "#9c179e"
             ],
             [
              0.4444444444444444,
              "#bd3786"
             ],
             [
              0.5555555555555556,
              "#d8576b"
             ],
             [
              0.6666666666666666,
              "#ed7953"
             ],
             [
              0.7777777777777778,
              "#fb9f3a"
             ],
             [
              0.8888888888888888,
              "#fdca26"
             ],
             [
              1,
              "#f0f921"
             ]
            ],
            "type": "histogram2dcontour"
           }
          ],
          "mesh3d": [
           {
            "colorbar": {
             "outlinewidth": 0,
             "ticks": ""
            },
            "type": "mesh3d"
           }
          ],
          "parcoords": [
           {
            "line": {
             "colorbar": {
              "outlinewidth": 0,
              "ticks": ""
             }
            },
            "type": "parcoords"
           }
          ],
          "pie": [
           {
            "automargin": true,
            "type": "pie"
           }
          ],
          "scatter": [
           {
            "fillpattern": {
             "fillmode": "overlay",
             "size": 10,
             "solidity": 0.2
            },
            "type": "scatter"
           }
          ],
          "scatter3d": [
           {
            "line": {
             "colorbar": {
              "outlinewidth": 0,
              "ticks": ""
             }
            },
            "marker": {
             "colorbar": {
              "outlinewidth": 0,
              "ticks": ""
             }
            },
            "type": "scatter3d"
           }
          ],
          "scattercarpet": [
           {
            "marker": {
             "colorbar": {
              "outlinewidth": 0,
              "ticks": ""
             }
            },
            "type": "scattercarpet"
           }
          ],
          "scattergeo": [
           {
            "marker": {
             "colorbar": {
              "outlinewidth": 0,
              "ticks": ""
             }
            },
            "type": "scattergeo"
           }
          ],
          "scattergl": [
           {
            "marker": {
             "colorbar": {
              "outlinewidth": 0,
              "ticks": ""
             }
            },
            "type": "scattergl"
           }
          ],
          "scattermapbox": [
           {
            "marker": {
             "colorbar": {
              "outlinewidth": 0,
              "ticks": ""
             }
            },
            "type": "scattermapbox"
           }
          ],
          "scatterpolar": [
           {
            "marker": {
             "colorbar": {
              "outlinewidth": 0,
              "ticks": ""
             }
            },
            "type": "scatterpolar"
           }
          ],
          "scatterpolargl": [
           {
            "marker": {
             "colorbar": {
              "outlinewidth": 0,
              "ticks": ""
             }
            },
            "type": "scatterpolargl"
           }
          ],
          "scatterternary": [
           {
            "marker": {
             "colorbar": {
              "outlinewidth": 0,
              "ticks": ""
             }
            },
            "type": "scatterternary"
           }
          ],
          "surface": [
           {
            "colorbar": {
             "outlinewidth": 0,
             "ticks": ""
            },
            "colorscale": [
             [
              0,
              "#0d0887"
             ],
             [
              0.1111111111111111,
              "#46039f"
             ],
             [
              0.2222222222222222,
              "#7201a8"
             ],
             [
              0.3333333333333333,
              "#9c179e"
             ],
             [
              0.4444444444444444,
              "#bd3786"
             ],
             [
              0.5555555555555556,
              "#d8576b"
             ],
             [
              0.6666666666666666,
              "#ed7953"
             ],
             [
              0.7777777777777778,
              "#fb9f3a"
             ],
             [
              0.8888888888888888,
              "#fdca26"
             ],
             [
              1,
              "#f0f921"
             ]
            ],
            "type": "surface"
           }
          ],
          "table": [
           {
            "cells": {
             "fill": {
              "color": "#EBF0F8"
             },
             "line": {
              "color": "white"
             }
            },
            "header": {
             "fill": {
              "color": "#C8D4E3"
             },
             "line": {
              "color": "white"
             }
            },
            "type": "table"
           }
          ]
         },
         "layout": {
          "annotationdefaults": {
           "arrowcolor": "#2a3f5f",
           "arrowhead": 0,
           "arrowwidth": 1
          },
          "autotypenumbers": "strict",
          "coloraxis": {
           "colorbar": {
            "outlinewidth": 0,
            "ticks": ""
           }
          },
          "colorscale": {
           "diverging": [
            [
             0,
             "#8e0152"
            ],
            [
             0.1,
             "#c51b7d"
            ],
            [
             0.2,
             "#de77ae"
            ],
            [
             0.3,
             "#f1b6da"
            ],
            [
             0.4,
             "#fde0ef"
            ],
            [
             0.5,
             "#f7f7f7"
            ],
            [
             0.6,
             "#e6f5d0"
            ],
            [
             0.7,
             "#b8e186"
            ],
            [
             0.8,
             "#7fbc41"
            ],
            [
             0.9,
             "#4d9221"
            ],
            [
             1,
             "#276419"
            ]
           ],
           "sequential": [
            [
             0,
             "#0d0887"
            ],
            [
             0.1111111111111111,
             "#46039f"
            ],
            [
             0.2222222222222222,
             "#7201a8"
            ],
            [
             0.3333333333333333,
             "#9c179e"
            ],
            [
             0.4444444444444444,
             "#bd3786"
            ],
            [
             0.5555555555555556,
             "#d8576b"
            ],
            [
             0.6666666666666666,
             "#ed7953"
            ],
            [
             0.7777777777777778,
             "#fb9f3a"
            ],
            [
             0.8888888888888888,
             "#fdca26"
            ],
            [
             1,
             "#f0f921"
            ]
           ],
           "sequentialminus": [
            [
             0,
             "#0d0887"
            ],
            [
             0.1111111111111111,
             "#46039f"
            ],
            [
             0.2222222222222222,
             "#7201a8"
            ],
            [
             0.3333333333333333,
             "#9c179e"
            ],
            [
             0.4444444444444444,
             "#bd3786"
            ],
            [
             0.5555555555555556,
             "#d8576b"
            ],
            [
             0.6666666666666666,
             "#ed7953"
            ],
            [
             0.7777777777777778,
             "#fb9f3a"
            ],
            [
             0.8888888888888888,
             "#fdca26"
            ],
            [
             1,
             "#f0f921"
            ]
           ]
          },
          "colorway": [
           "#636efa",
           "#EF553B",
           "#00cc96",
           "#ab63fa",
           "#FFA15A",
           "#19d3f3",
           "#FF6692",
           "#B6E880",
           "#FF97FF",
           "#FECB52"
          ],
          "font": {
           "color": "#2a3f5f"
          },
          "geo": {
           "bgcolor": "white",
           "lakecolor": "white",
           "landcolor": "white",
           "showlakes": true,
           "showland": true,
           "subunitcolor": "#C8D4E3"
          },
          "hoverlabel": {
           "align": "left"
          },
          "hovermode": "closest",
          "mapbox": {
           "style": "light"
          },
          "paper_bgcolor": "white",
          "plot_bgcolor": "white",
          "polar": {
           "angularaxis": {
            "gridcolor": "#EBF0F8",
            "linecolor": "#EBF0F8",
            "ticks": ""
           },
           "bgcolor": "white",
           "radialaxis": {
            "gridcolor": "#EBF0F8",
            "linecolor": "#EBF0F8",
            "ticks": ""
           }
          },
          "scene": {
           "xaxis": {
            "backgroundcolor": "white",
            "gridcolor": "#DFE8F3",
            "gridwidth": 2,
            "linecolor": "#EBF0F8",
            "showbackground": true,
            "ticks": "",
            "zerolinecolor": "#EBF0F8"
           },
           "yaxis": {
            "backgroundcolor": "white",
            "gridcolor": "#DFE8F3",
            "gridwidth": 2,
            "linecolor": "#EBF0F8",
            "showbackground": true,
            "ticks": "",
            "zerolinecolor": "#EBF0F8"
           },
           "zaxis": {
            "backgroundcolor": "white",
            "gridcolor": "#DFE8F3",
            "gridwidth": 2,
            "linecolor": "#EBF0F8",
            "showbackground": true,
            "ticks": "",
            "zerolinecolor": "#EBF0F8"
           }
          },
          "shapedefaults": {
           "line": {
            "color": "#2a3f5f"
           }
          },
          "ternary": {
           "aaxis": {
            "gridcolor": "#DFE8F3",
            "linecolor": "#A2B1C6",
            "ticks": ""
           },
           "baxis": {
            "gridcolor": "#DFE8F3",
            "linecolor": "#A2B1C6",
            "ticks": ""
           },
           "bgcolor": "white",
           "caxis": {
            "gridcolor": "#DFE8F3",
            "linecolor": "#A2B1C6",
            "ticks": ""
           }
          },
          "title": {
           "x": 0.05
          },
          "xaxis": {
           "automargin": true,
           "gridcolor": "#EBF0F8",
           "linecolor": "#EBF0F8",
           "ticks": "",
           "title": {
            "standoff": 15
           },
           "zerolinecolor": "#EBF0F8",
           "zerolinewidth": 2
          },
          "yaxis": {
           "automargin": true,
           "gridcolor": "#EBF0F8",
           "linecolor": "#EBF0F8",
           "ticks": "",
           "title": {
            "standoff": 15
           },
           "zerolinecolor": "#EBF0F8",
           "zerolinewidth": 2
          }
         }
        },
        "title": {
         "text": "Actual and Predicted PAT"
        },
        "xaxis": {
         "tickangle": -45,
         "title": {
          "text": "Date"
         }
        },
        "yaxis": {
         "title": {
          "text": "PAT"
         }
        }
       }
      }
     },
     "metadata": {},
     "output_type": "display_data"
    }
   ],
   "source": [
    "fig = go.Figure()\n",
    "\n",
    "# Plot Actual Values\n",
    "fig.add_trace(go.Scatter(\n",
    "    x=monthly_combined_results_pa['Date'],\n",
    "    y=monthly_combined_results_pa['Actual'],\n",
    "    mode='lines+markers',\n",
    "    name='Actual Values',\n",
    "    line=dict(color='blue')\n",
    "))\n",
    "\n",
    "# Plot Predicted Values \n",
    "fig.add_trace(go.Scatter(\n",
    "    x=monthly_combined_results_pa['Date'],\n",
    "    y=monthly_combined_results_pa['Predicted'],\n",
    "    mode='lines+markers',\n",
    "    name='Predicted Values',\n",
    "    line=dict(color='red', dash='dash')\n",
    "))\n",
    "fig.update_layout(\n",
    "    title='Actual and Predicted PAT',\n",
    "    xaxis_title='Date',\n",
    "    yaxis_title='PAT',\n",
    "    template='plotly_white',\n",
    "    legend=dict(x=0.02, y=0.98),\n",
    "    plot_bgcolor='rgba(0, 0, 0, 0)',\n",
    "    xaxis_tickangle=-45\n",
    ")\n",
    "fig.show()"
   ]
  },
  {
   "cell_type": "code",
   "execution_count": 42,
   "id": "943dbf1d",
   "metadata": {},
   "outputs": [
    {
     "name": "stdout",
     "output_type": "stream",
     "text": [
      "Mean Absolute Percentage Error (MAPE): 4.13%\n"
     ]
    }
   ],
   "source": [
    "mape = np.mean(np.abs((monthly_combined_results_pa['Actual'] - monthly_combined_results_pa['Predicted']) / monthly_combined_results_pa['Actual'])) * 100\n",
    "print(f\"Mean Absolute Percentage Error (MAPE): {mape:.2f}%\")"
   ]
  },
  {
   "cell_type": "code",
   "execution_count": null,
   "metadata": {},
   "outputs": [],
   "source": []
  },
  {
   "cell_type": "code",
   "execution_count": null,
   "id": "e555eb98",
   "metadata": {},
   "outputs": [],
   "source": []
  },
  {
   "cell_type": "code",
   "execution_count": null,
   "id": "21c05f44",
   "metadata": {},
   "outputs": [],
   "source": []
  }
 ],
 "metadata": {
  "kernelspec": {
   "display_name": ".venv",
   "language": "python",
   "name": "python3"
  },
  "language_info": {
   "codemirror_mode": {
    "name": "ipython",
    "version": 3
   },
   "file_extension": ".py",
   "mimetype": "text/x-python",
   "name": "python",
   "nbconvert_exporter": "python",
   "pygments_lexer": "ipython3",
   "version": "3.13.0"
  }
 },
 "nbformat": 4,
 "nbformat_minor": 5
}
